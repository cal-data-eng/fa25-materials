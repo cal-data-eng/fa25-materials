{
 "cells": [
  {
   "cell_type": "markdown",
   "id": "5f0e3ab0-616f-4b24-a355-9896d3014d7d",
   "metadata": {},
   "source": [
    "# Discussion 07 Notebook\n",
    "\n",
    "This notebook is an accompaniment to the associated discussion worksheet handout."
   ]
  },
  {
   "cell_type": "markdown",
   "id": "f2f3e6b0-dee8-4484-97bb-c2563fa77a92",
   "metadata": {},
   "source": [
    "# Section I: Entity Resolution"
   ]
  },
  {
   "cell_type": "markdown",
   "id": "f0e8a2a2-3c64-4ec0-997b-417bade541dd",
   "metadata": {},
   "source": [
    "## Database Setup"
   ]
  },
  {
   "cell_type": "code",
   "execution_count": null,
   "id": "1d7ff9cb-0822-4247-92ed-dd3745f2ed03",
   "metadata": {},
   "outputs": [],
   "source": [
    "!psql -h localhost -c 'DROP DATABASE IF EXISTS disc07'\n",
    "!psql -h localhost -c 'CREATE DATABASE disc07'\n",
    "\n",
    "%reload_ext sql\n",
    "%sql postgresql://127.0.0.1:5432/disc07"
   ]
  },
  {
   "cell_type": "code",
   "execution_count": null,
   "id": "e4af60c7-1874-4577-8019-ffc909d2e6fb",
   "metadata": {},
   "outputs": [],
   "source": [
    "!psql -h localhost -d disc07 -f disc07.sql"
   ]
  },
  {
   "cell_type": "code",
   "execution_count": null,
   "id": "57fd6aa1-48a7-41b3-ba54-425d6d7d1969",
   "metadata": {},
   "outputs": [],
   "source": [
    "!psql postgresql://127.0.0.1:5432/disc07 <disc07.sql"
   ]
  },
  {
   "cell_type": "markdown",
   "id": "ef3542f7-54f8-456f-ab8f-b09618ab3568",
   "metadata": {},
   "source": [
    "## Initial Exploration\n",
    "\n",
    "Let us first take a look at the content of the database."
   ]
  },
  {
   "cell_type": "code",
   "execution_count": null,
   "id": "8b94e810-2e2a-4c5c-9ffa-3e04af136ec9",
   "metadata": {},
   "outputs": [],
   "source": [
    "%sql SELECT * FROM albums;"
   ]
  },
  {
   "cell_type": "code",
   "execution_count": null,
   "id": "2a9c6576-3e37-48a4-907d-41c5c3239557",
   "metadata": {},
   "outputs": [],
   "source": [
    "%sql SELECT * FROM sales;"
   ]
  },
  {
   "cell_type": "markdown",
   "id": "82600402-92bb-4546-89c5-f66f8c34c73d",
   "metadata": {},
   "source": [
    "There is one significant barrier to performing data analysis: joins. Although we have cleaned data locally, within each table, we have not cleaned up the connections between these tables such as the strings we may want to join on.\n",
    "\n",
    "In our dataset, we'll notice that simply joining on equality of names will result in missing data.\n",
    "\n",
    "## Question 1. \n",
    "Let's try it out: write a query to join the tables using strict equality"
   ]
  },
  {
   "cell_type": "code",
   "execution_count": null,
   "id": "3fa2e407-68e1-43d0-be4b-dc150397e476",
   "metadata": {},
   "outputs": [],
   "source": [
    "%config SqlMagic.displaylimit = None"
   ]
  },
  {
   "cell_type": "code",
   "execution_count": null,
   "id": "8b181fc4-7443-48f3-9267-508e6c80166d",
   "metadata": {},
   "outputs": [],
   "source": [
    "%%sql\n",
    "-- your code here\n"
   ]
  },
  {
   "cell_type": "markdown",
   "id": "1fd73881-7fd1-405a-a98d-ce5202f0eb45",
   "metadata": {},
   "source": [
    "By performing a left join, we can see how many rows that should have matched but did not when using a strict equality condition."
   ]
  },
  {
   "cell_type": "code",
   "execution_count": null,
   "id": "0359fd43-2c75-4be3-8892-0a7908ee1fdb",
   "metadata": {},
   "outputs": [],
   "source": [
    "%%sql\n",
    "-- your code here\n",
    "SELECT *\n",
    "FROM sales s\n",
    "LEFT JOIN albums a\n",
    "ON s.name = a.name;"
   ]
  },
  {
   "cell_type": "markdown",
   "id": "c4f41052-dc1f-4917-b752-d11ea4830fee",
   "metadata": {},
   "source": [
    "We see that we are missing a lot of data, which could cause trouble in computations later on."
   ]
  },
  {
   "cell_type": "markdown",
   "id": "822063af-e238-4147-ac24-f83cc5dab586",
   "metadata": {},
   "source": [
    "### Distance Functions on Strings\n",
    "The Levenshtein distance function can be helpful to find strings that are _similar_ but not identical. This algorithm computes the minimal number of insertions, deletions, and mutations. We can apply this to our dataset.\n",
    "\n",
    "## Question 2. \n",
    "First, let's compute the Levenshtein distance between every pair of names in the two tables, sorted by this distance in ascending order.\n",
    "\n",
    "Hint: levenshtein(text1, text2)\n",
    "\n",
    "https://www.postgresql.org/docs/current/fuzzystrmatch.html#FUZZYSTRMATCH-LEVENSHTEIN"
   ]
  },
  {
   "cell_type": "code",
   "execution_count": null,
   "id": "45933004-bf6e-451d-8d17-1e30676de060",
   "metadata": {},
   "outputs": [],
   "source": [
    "%%sql\n",
    "-- your code here\n"
   ]
  },
  {
   "cell_type": "markdown",
   "id": "743b1b6c-e0cd-499e-80d0-52ed994a2ff5",
   "metadata": {},
   "source": [
    "You'll notice that it's a very close boundary between the strings we want to match and those we don't. In reality, a clustering-based approach would be better suited for this scenario, but let's keep going with distance since that's a lot easier to implement.\n",
    "\n",
    "We can use `< 10` as our threshold for matching strings.\n",
    "\n",
    "## Question 3\n",
    "Write a query that joins the tables on the condition that two entries match if their Levenshtein distance is less than 10\n",
    "\n",
    "Make sure to have the following columns in the result:\n",
    "- `name`: name of the album\n",
    "- `artist`: name of the artist\n",
    "- `day`: day of sales\n",
    "- `count`: number of sale"
   ]
  },
  {
   "cell_type": "code",
   "execution_count": null,
   "id": "9263de53-958e-4fcd-a92f-22a538aa9769",
   "metadata": {},
   "outputs": [],
   "source": [
    "%%sql\n",
    "-- your code here\n"
   ]
  },
  {
   "cell_type": "markdown",
   "id": "a2f53fc7-115c-410d-a095-90519edc313b",
   "metadata": {},
   "source": [
    "# Section IV [Optional]: Hampel X84"
   ]
  },
  {
   "cell_type": "markdown",
   "id": "b03a613f-4802-4884-85c1-190f89330baa",
   "metadata": {},
   "source": [
    "## Question 9: Deriving the Magic Number 1.4826\n",
    "\n",
    "#### Goal: prove that selecting outliers 1.4826 MAD away from the median is equivalent to selecting outliers 1 standard deviation away from the mean, if the data follows a normal distribution.\n",
    "First, let us find the **MAD** (Median Absolute Deviation) of a standard normal distribution.\n",
    "\n",
    "Let **Z** be a random variable following a **standard normal distribution** with mean **μ = 0** and standard deviation **σ = 1**. We want to find **z\\*** such that:\n",
    "\n",
    "\n",
    "$$P(Z < z^*) = 0.75$$\n",
    "\n",
    "Is z\\* the MAD?\n",
    "\n",
    "Hint:\n",
    "Use `scipy.stats.norm` to compute the value of z\\*.\n"
   ]
  },
  {
   "cell_type": "code",
   "execution_count": null,
   "id": "59f6d14b-7985-46a5-b8ff-0112e95d0dbe",
   "metadata": {},
   "outputs": [],
   "source": [
    "from scipy.stats import norm\n"
   ]
  }
 ],
 "metadata": {
  "kernelspec": {
   "display_name": "Python 3 (ipykernel)",
   "language": "python",
   "name": "python3"
  },
  "language_info": {
   "codemirror_mode": {
    "name": "ipython",
    "version": 3
   },
   "file_extension": ".py",
   "mimetype": "text/x-python",
   "name": "python",
   "nbconvert_exporter": "python",
   "pygments_lexer": "ipython3",
   "version": "3.11.13"
  }
 },
 "nbformat": 4,
 "nbformat_minor": 5
}
