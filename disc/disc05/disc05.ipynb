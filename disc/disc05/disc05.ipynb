{
 "cells": [
  {
   "cell_type": "markdown",
   "id": "83984490-f05e-4a23-bcba-8f4ee21e524d",
   "metadata": {},
   "source": [
    "# Discussion 05 Notebook\n",
    "\n",
    "This notebook is an accompaniment to the associated discussion worksheet handout."
   ]
  },
  {
   "cell_type": "markdown",
   "id": "8616230a-be62-4272-91af-3e394dc43b50",
   "metadata": {},
   "source": [
    "# Section II. Data Model Concepts"
   ]
  },
  {
   "cell_type": "markdown",
   "id": "cbc4eeba-206a-4181-8bb6-e140329845e9",
   "metadata": {},
   "source": [
    "## Question 9"
   ]
  },
  {
   "cell_type": "markdown",
   "id": "f5da5277-9a57-4e5e-9d60-cc47781ddf6a",
   "metadata": {},
   "source": [
    "Consider the following dataframe. "
   ]
  },
  {
   "cell_type": "code",
   "execution_count": 1,
   "id": "01b33e3a-395e-4602-beb5-57f498141eb8",
   "metadata": {},
   "outputs": [
    {
     "data": {
      "text/html": [
       "<div>\n",
       "<style scoped>\n",
       "    .dataframe tbody tr th:only-of-type {\n",
       "        vertical-align: middle;\n",
       "    }\n",
       "\n",
       "    .dataframe tbody tr th {\n",
       "        vertical-align: top;\n",
       "    }\n",
       "\n",
       "    .dataframe thead th {\n",
       "        text-align: right;\n",
       "    }\n",
       "</style>\n",
       "<table border=\"1\" class=\"dataframe\">\n",
       "  <thead>\n",
       "    <tr style=\"text-align: right;\">\n",
       "      <th></th>\n",
       "      <th>Student</th>\n",
       "      <th>Course ID</th>\n",
       "      <th>Score</th>\n",
       "    </tr>\n",
       "  </thead>\n",
       "  <tbody>\n",
       "    <tr>\n",
       "      <th>0</th>\n",
       "      <td>Ariel</td>\n",
       "      <td>101</td>\n",
       "      <td>79.2</td>\n",
       "    </tr>\n",
       "    <tr>\n",
       "      <th>1</th>\n",
       "      <td>Ariel</td>\n",
       "      <td>102</td>\n",
       "      <td>92.1</td>\n",
       "    </tr>\n",
       "    <tr>\n",
       "      <th>2</th>\n",
       "      <td>Devin</td>\n",
       "      <td>101</td>\n",
       "      <td>85.0</td>\n",
       "    </tr>\n",
       "    <tr>\n",
       "      <th>3</th>\n",
       "      <td>Mary</td>\n",
       "      <td>103</td>\n",
       "      <td>90.0</td>\n",
       "    </tr>\n",
       "  </tbody>\n",
       "</table>\n",
       "</div>"
      ],
      "text/plain": [
       "  Student  Course ID  Score\n",
       "0   Ariel        101   79.2\n",
       "1   Ariel        102   92.1\n",
       "2   Devin        101   85.0\n",
       "3    Mary        103   90.0"
      ]
     },
     "metadata": {},
     "output_type": "display_data"
    },
    {
     "data": {
      "text/plain": [
       "Student      string[python]\n",
       "Course ID             int64\n",
       "Score               float64\n",
       "dtype: object"
      ]
     },
     "metadata": {},
     "output_type": "display_data"
    }
   ],
   "source": [
    "import pandas as pd\n",
    "data_q9 = {\n",
    "    \"Student\": [\"Ariel\", \"Ariel\", \"Devin\", \"Mary\"],\n",
    "    \"Course ID\": [101, 102, 101, 103],\n",
    "    \"Score\": [79.2, 92.1, 85.0, 90.0]\n",
    "}\n",
    "df_q9 = pd.DataFrame(data_q9)\n",
    "df_q9[\"Student\"] = df_q9[\"Student\"].astype(\"string\")\n",
    "\n",
    "display(df_q9)\n",
    "display(df_q9.dtypes)"
   ]
  },
  {
   "cell_type": "markdown",
   "id": "c6cbbcec-1f9e-4d73-b273-0bd6e78b8f27",
   "metadata": {},
   "source": [
    "Transpose the dataframe. What are the dtypes of each transposed column? "
   ]
  },
  {
   "cell_type": "code",
   "execution_count": 2,
   "id": "0290ae40-f74c-4ebf-83be-d9b8fe954b80",
   "metadata": {},
   "outputs": [
    {
     "data": {
      "text/html": [
       "<div>\n",
       "<style scoped>\n",
       "    .dataframe tbody tr th:only-of-type {\n",
       "        vertical-align: middle;\n",
       "    }\n",
       "\n",
       "    .dataframe tbody tr th {\n",
       "        vertical-align: top;\n",
       "    }\n",
       "\n",
       "    .dataframe thead th {\n",
       "        text-align: right;\n",
       "    }\n",
       "</style>\n",
       "<table border=\"1\" class=\"dataframe\">\n",
       "  <thead>\n",
       "    <tr style=\"text-align: right;\">\n",
       "      <th></th>\n",
       "      <th>0</th>\n",
       "      <th>1</th>\n",
       "      <th>2</th>\n",
       "      <th>3</th>\n",
       "    </tr>\n",
       "  </thead>\n",
       "  <tbody>\n",
       "    <tr>\n",
       "      <th>Student</th>\n",
       "      <td>Ariel</td>\n",
       "      <td>Ariel</td>\n",
       "      <td>Devin</td>\n",
       "      <td>Mary</td>\n",
       "    </tr>\n",
       "    <tr>\n",
       "      <th>Course ID</th>\n",
       "      <td>101</td>\n",
       "      <td>102</td>\n",
       "      <td>101</td>\n",
       "      <td>103</td>\n",
       "    </tr>\n",
       "    <tr>\n",
       "      <th>Score</th>\n",
       "      <td>79.2</td>\n",
       "      <td>92.1</td>\n",
       "      <td>85.0</td>\n",
       "      <td>90.0</td>\n",
       "    </tr>\n",
       "  </tbody>\n",
       "</table>\n",
       "</div>"
      ],
      "text/plain": [
       "               0      1      2     3\n",
       "Student    Ariel  Ariel  Devin  Mary\n",
       "Course ID    101    102    101   103\n",
       "Score       79.2   92.1   85.0  90.0"
      ]
     },
     "metadata": {},
     "output_type": "display_data"
    },
    {
     "data": {
      "text/plain": [
       "0    object\n",
       "1    object\n",
       "2    object\n",
       "3    object\n",
       "dtype: object"
      ]
     },
     "metadata": {},
     "output_type": "display_data"
    }
   ],
   "source": [
    "dft_q9 = df_q9.transpose()\n",
    "display(dft_q9)\n",
    "display(dft_q9.dtypes)"
   ]
  },
  {
   "cell_type": "markdown",
   "id": "6fad4cae-f05e-4c49-a616-36777fbfd331",
   "metadata": {},
   "source": [
    "If we transpose the dataframe again, would we get back the original dataframe? Explain."
   ]
  },
  {
   "cell_type": "code",
   "execution_count": 3,
   "id": "f727a946-946a-42bd-8dc7-f2efb989d8b9",
   "metadata": {},
   "outputs": [
    {
     "data": {
      "text/html": [
       "<div>\n",
       "<style scoped>\n",
       "    .dataframe tbody tr th:only-of-type {\n",
       "        vertical-align: middle;\n",
       "    }\n",
       "\n",
       "    .dataframe tbody tr th {\n",
       "        vertical-align: top;\n",
       "    }\n",
       "\n",
       "    .dataframe thead th {\n",
       "        text-align: right;\n",
       "    }\n",
       "</style>\n",
       "<table border=\"1\" class=\"dataframe\">\n",
       "  <thead>\n",
       "    <tr style=\"text-align: right;\">\n",
       "      <th></th>\n",
       "      <th>Student</th>\n",
       "      <th>Course ID</th>\n",
       "      <th>Score</th>\n",
       "    </tr>\n",
       "  </thead>\n",
       "  <tbody>\n",
       "    <tr>\n",
       "      <th>0</th>\n",
       "      <td>Ariel</td>\n",
       "      <td>101</td>\n",
       "      <td>79.2</td>\n",
       "    </tr>\n",
       "    <tr>\n",
       "      <th>1</th>\n",
       "      <td>Ariel</td>\n",
       "      <td>102</td>\n",
       "      <td>92.1</td>\n",
       "    </tr>\n",
       "    <tr>\n",
       "      <th>2</th>\n",
       "      <td>Devin</td>\n",
       "      <td>101</td>\n",
       "      <td>85.0</td>\n",
       "    </tr>\n",
       "    <tr>\n",
       "      <th>3</th>\n",
       "      <td>Mary</td>\n",
       "      <td>103</td>\n",
       "      <td>90.0</td>\n",
       "    </tr>\n",
       "  </tbody>\n",
       "</table>\n",
       "</div>"
      ],
      "text/plain": [
       "  Student Course ID Score\n",
       "0   Ariel       101  79.2\n",
       "1   Ariel       102  92.1\n",
       "2   Devin       101  85.0\n",
       "3    Mary       103  90.0"
      ]
     },
     "metadata": {},
     "output_type": "display_data"
    },
    {
     "data": {
      "text/plain": [
       "Student      object\n",
       "Course ID    object\n",
       "Score        object\n",
       "dtype: object"
      ]
     },
     "metadata": {},
     "output_type": "display_data"
    }
   ],
   "source": [
    "dftt_q9 = df_q9.transpose().transpose()\n",
    "display(dftt_q9)\n",
    "display(dftt_q9.dtypes)"
   ]
  },
  {
   "cell_type": "markdown",
   "id": "c8c77d3b-edec-46dd-8557-26e104c8f48e",
   "metadata": {},
   "source": [
    "# Section III. Pivoting and Unpivoting"
   ]
  },
  {
   "cell_type": "markdown",
   "id": "8136602a-f33d-4b55-a576-13e54ff5caff",
   "metadata": {},
   "source": [
    "## Question 11"
   ]
  },
  {
   "cell_type": "markdown",
   "id": "41e6f8fd-5ec6-4259-9381-8f0795fc9faa",
   "metadata": {},
   "source": [
    "**_Pivoting._** Write a Pandas expression to reshape the following table such that its columns are the 3\n",
    "types of metals in the `CType` column, and whose values are taken from the `USD` column. Also write the\n",
    "resulting table."
   ]
  },
  {
   "cell_type": "code",
   "execution_count": 5,
   "id": "a64d753a-32e2-475c-b8a7-d28306279e08",
   "metadata": {},
   "outputs": [
    {
     "data": {
      "text/html": [
       "<div>\n",
       "<style scoped>\n",
       "    .dataframe tbody tr th:only-of-type {\n",
       "        vertical-align: middle;\n",
       "    }\n",
       "\n",
       "    .dataframe tbody tr th {\n",
       "        vertical-align: top;\n",
       "    }\n",
       "\n",
       "    .dataframe thead th {\n",
       "        text-align: right;\n",
       "    }\n",
       "</style>\n",
       "<table border=\"1\" class=\"dataframe\">\n",
       "  <thead>\n",
       "    <tr style=\"text-align: right;\">\n",
       "      <th></th>\n",
       "      <th>Item</th>\n",
       "      <th>CType</th>\n",
       "      <th>USD</th>\n",
       "      <th>EUR</th>\n",
       "    </tr>\n",
       "  </thead>\n",
       "  <tbody>\n",
       "    <tr>\n",
       "      <th>0</th>\n",
       "      <td>Item0</td>\n",
       "      <td>Gold</td>\n",
       "      <td>$1</td>\n",
       "      <td>€1</td>\n",
       "    </tr>\n",
       "    <tr>\n",
       "      <th>1</th>\n",
       "      <td>Item0</td>\n",
       "      <td>Bronze</td>\n",
       "      <td>$2</td>\n",
       "      <td>€2</td>\n",
       "    </tr>\n",
       "    <tr>\n",
       "      <th>2</th>\n",
       "      <td>Item1</td>\n",
       "      <td>Gold</td>\n",
       "      <td>$3</td>\n",
       "      <td>€3</td>\n",
       "    </tr>\n",
       "    <tr>\n",
       "      <th>3</th>\n",
       "      <td>Item1</td>\n",
       "      <td>Silver</td>\n",
       "      <td>$4</td>\n",
       "      <td>€4</td>\n",
       "    </tr>\n",
       "  </tbody>\n",
       "</table>\n",
       "</div>"
      ],
      "text/plain": [
       "    Item   CType USD EUR\n",
       "0  Item0    Gold  $1  €1\n",
       "1  Item0  Bronze  $2  €2\n",
       "2  Item1    Gold  $3  €3\n",
       "3  Item1  Silver  $4  €4"
      ]
     },
     "execution_count": 5,
     "metadata": {},
     "output_type": "execute_result"
    }
   ],
   "source": [
    "data_q11 = {\n",
    "    'Item': ['Item0', 'Item0', 'Item1', 'Item1'],\n",
    "    'CType': ['Gold', 'Bronze', 'Gold', 'Silver'],\n",
    "    'USD': ['$1', '$2', '$3', '$4'],\n",
    "    'EUR': ['€1', '€2', '€3', '€4']\n",
    "}\n",
    "df_q11  = pd.DataFrame(data_q11)\n",
    "df_q11"
   ]
  },
  {
   "cell_type": "code",
   "execution_count": 7,
   "id": "f1ac4fed-8f59-4212-b9ab-13790d0bf291",
   "metadata": {},
   "outputs": [
    {
     "data": {
      "text/html": [
       "<div>\n",
       "<style scoped>\n",
       "    .dataframe tbody tr th:only-of-type {\n",
       "        vertical-align: middle;\n",
       "    }\n",
       "\n",
       "    .dataframe tbody tr th {\n",
       "        vertical-align: top;\n",
       "    }\n",
       "\n",
       "    .dataframe thead th {\n",
       "        text-align: right;\n",
       "    }\n",
       "</style>\n",
       "<table border=\"1\" class=\"dataframe\">\n",
       "  <thead>\n",
       "    <tr style=\"text-align: right;\">\n",
       "      <th>CType</th>\n",
       "      <th>Bronze</th>\n",
       "      <th>Gold</th>\n",
       "      <th>Silver</th>\n",
       "    </tr>\n",
       "    <tr>\n",
       "      <th>Item</th>\n",
       "      <th></th>\n",
       "      <th></th>\n",
       "      <th></th>\n",
       "    </tr>\n",
       "  </thead>\n",
       "  <tbody>\n",
       "    <tr>\n",
       "      <th>Item0</th>\n",
       "      <td>$2</td>\n",
       "      <td>$1</td>\n",
       "      <td>NaN</td>\n",
       "    </tr>\n",
       "    <tr>\n",
       "      <th>Item1</th>\n",
       "      <td>NaN</td>\n",
       "      <td>$3</td>\n",
       "      <td>$4</td>\n",
       "    </tr>\n",
       "  </tbody>\n",
       "</table>\n",
       "</div>"
      ],
      "text/plain": [
       "CType Bronze Gold Silver\n",
       "Item                    \n",
       "Item0     $2   $1    NaN\n",
       "Item1    NaN   $3     $4"
      ]
     },
     "execution_count": 7,
     "metadata": {},
     "output_type": "execute_result"
    }
   ],
   "source": [
    "df_q11.pivot(columns = 'CType', values = 'USD', index = 'Item')"
   ]
  },
  {
   "cell_type": "markdown",
   "id": "4d71f4b4-37a0-4ac9-a53d-d25c4afaaa66",
   "metadata": {},
   "source": [
    "## Question 12"
   ]
  },
  {
   "cell_type": "markdown",
   "id": "301315ab-42ce-47d0-8c99-c5db3bb93765",
   "metadata": {},
   "source": [
    "**_Unpivoting._** Write a Pandas expression to reshape the following table from a _wide_ shape into a long shape, using the student and school columns as identifiers, and the rest of the subjects as variables.\n",
    "Also write the resulting table. Hint: `use df.melt()`."
   ]
  },
  {
   "cell_type": "code",
   "execution_count": 8,
   "id": "fb7392cd-368c-48ed-bebc-11f403d584bb",
   "metadata": {},
   "outputs": [
    {
     "data": {
      "text/html": [
       "<div>\n",
       "<style scoped>\n",
       "    .dataframe tbody tr th:only-of-type {\n",
       "        vertical-align: middle;\n",
       "    }\n",
       "\n",
       "    .dataframe tbody tr th {\n",
       "        vertical-align: top;\n",
       "    }\n",
       "\n",
       "    .dataframe thead th {\n",
       "        text-align: right;\n",
       "    }\n",
       "</style>\n",
       "<table border=\"1\" class=\"dataframe\">\n",
       "  <thead>\n",
       "    <tr style=\"text-align: right;\">\n",
       "      <th></th>\n",
       "      <th>student</th>\n",
       "      <th>school</th>\n",
       "      <th>english</th>\n",
       "      <th>math</th>\n",
       "      <th>physics</th>\n",
       "    </tr>\n",
       "  </thead>\n",
       "  <tbody>\n",
       "    <tr>\n",
       "      <th>0</th>\n",
       "      <td>Andy</td>\n",
       "      <td>Z</td>\n",
       "      <td>90</td>\n",
       "      <td>60</td>\n",
       "      <td>80</td>\n",
       "    </tr>\n",
       "    <tr>\n",
       "      <th>1</th>\n",
       "      <td>Bernie</td>\n",
       "      <td>Y</td>\n",
       "      <td>100</td>\n",
       "      <td>5</td>\n",
       "      <td>4</td>\n",
       "    </tr>\n",
       "    <tr>\n",
       "      <th>2</th>\n",
       "      <td>Cindy</td>\n",
       "      <td>Z</td>\n",
       "      <td>60</td>\n",
       "      <td>99</td>\n",
       "      <td>100</td>\n",
       "    </tr>\n",
       "    <tr>\n",
       "      <th>3</th>\n",
       "      <td>Deb</td>\n",
       "      <td>Y</td>\n",
       "      <td>150</td>\n",
       "      <td>4</td>\n",
       "      <td>5</td>\n",
       "    </tr>\n",
       "  </tbody>\n",
       "</table>\n",
       "</div>"
      ],
      "text/plain": [
       "  student school  english  math  physics\n",
       "0    Andy      Z       90    60       80\n",
       "1  Bernie      Y      100     5        4\n",
       "2   Cindy      Z       60    99      100\n",
       "3     Deb      Y      150     4        5"
      ]
     },
     "execution_count": 8,
     "metadata": {},
     "output_type": "execute_result"
    }
   ],
   "source": [
    "data_q12 = {\n",
    "    'student': ['Andy', 'Bernie', 'Cindy', 'Deb'],\n",
    "    'school': ['Z', 'Y', 'Z', 'Y'],\n",
    "    'english': [90, 100, 60, 150],\n",
    "    'math': [60, 5, 99, 4],\n",
    "    'physics': [80, 4, 100, 5]\n",
    "}\n",
    "\n",
    "df_q12 = pd.DataFrame(data_q12)\n",
    "df_q12"
   ]
  },
  {
   "cell_type": "code",
   "execution_count": 12,
   "id": "be76e4ef-1a7c-4507-9246-2cf5335441ef",
   "metadata": {
    "scrolled": true
   },
   "outputs": [
    {
     "data": {
      "text/html": [
       "<div>\n",
       "<style scoped>\n",
       "    .dataframe tbody tr th:only-of-type {\n",
       "        vertical-align: middle;\n",
       "    }\n",
       "\n",
       "    .dataframe tbody tr th {\n",
       "        vertical-align: top;\n",
       "    }\n",
       "\n",
       "    .dataframe thead th {\n",
       "        text-align: right;\n",
       "    }\n",
       "</style>\n",
       "<table border=\"1\" class=\"dataframe\">\n",
       "  <thead>\n",
       "    <tr style=\"text-align: right;\">\n",
       "      <th></th>\n",
       "      <th>student</th>\n",
       "      <th>school</th>\n",
       "      <th>variable</th>\n",
       "      <th>value</th>\n",
       "    </tr>\n",
       "  </thead>\n",
       "  <tbody>\n",
       "    <tr>\n",
       "      <th>0</th>\n",
       "      <td>Andy</td>\n",
       "      <td>Z</td>\n",
       "      <td>english</td>\n",
       "      <td>90</td>\n",
       "    </tr>\n",
       "    <tr>\n",
       "      <th>1</th>\n",
       "      <td>Bernie</td>\n",
       "      <td>Y</td>\n",
       "      <td>english</td>\n",
       "      <td>100</td>\n",
       "    </tr>\n",
       "    <tr>\n",
       "      <th>2</th>\n",
       "      <td>Cindy</td>\n",
       "      <td>Z</td>\n",
       "      <td>english</td>\n",
       "      <td>60</td>\n",
       "    </tr>\n",
       "    <tr>\n",
       "      <th>3</th>\n",
       "      <td>Deb</td>\n",
       "      <td>Y</td>\n",
       "      <td>english</td>\n",
       "      <td>150</td>\n",
       "    </tr>\n",
       "    <tr>\n",
       "      <th>4</th>\n",
       "      <td>Andy</td>\n",
       "      <td>Z</td>\n",
       "      <td>math</td>\n",
       "      <td>60</td>\n",
       "    </tr>\n",
       "    <tr>\n",
       "      <th>5</th>\n",
       "      <td>Bernie</td>\n",
       "      <td>Y</td>\n",
       "      <td>math</td>\n",
       "      <td>5</td>\n",
       "    </tr>\n",
       "    <tr>\n",
       "      <th>6</th>\n",
       "      <td>Cindy</td>\n",
       "      <td>Z</td>\n",
       "      <td>math</td>\n",
       "      <td>99</td>\n",
       "    </tr>\n",
       "    <tr>\n",
       "      <th>7</th>\n",
       "      <td>Deb</td>\n",
       "      <td>Y</td>\n",
       "      <td>math</td>\n",
       "      <td>4</td>\n",
       "    </tr>\n",
       "    <tr>\n",
       "      <th>8</th>\n",
       "      <td>Andy</td>\n",
       "      <td>Z</td>\n",
       "      <td>physics</td>\n",
       "      <td>80</td>\n",
       "    </tr>\n",
       "    <tr>\n",
       "      <th>9</th>\n",
       "      <td>Bernie</td>\n",
       "      <td>Y</td>\n",
       "      <td>physics</td>\n",
       "      <td>4</td>\n",
       "    </tr>\n",
       "    <tr>\n",
       "      <th>10</th>\n",
       "      <td>Cindy</td>\n",
       "      <td>Z</td>\n",
       "      <td>physics</td>\n",
       "      <td>100</td>\n",
       "    </tr>\n",
       "    <tr>\n",
       "      <th>11</th>\n",
       "      <td>Deb</td>\n",
       "      <td>Y</td>\n",
       "      <td>physics</td>\n",
       "      <td>5</td>\n",
       "    </tr>\n",
       "  </tbody>\n",
       "</table>\n",
       "</div>"
      ],
      "text/plain": [
       "   student school variable  value\n",
       "0     Andy      Z  english     90\n",
       "1   Bernie      Y  english    100\n",
       "2    Cindy      Z  english     60\n",
       "3      Deb      Y  english    150\n",
       "4     Andy      Z     math     60\n",
       "5   Bernie      Y     math      5\n",
       "6    Cindy      Z     math     99\n",
       "7      Deb      Y     math      4\n",
       "8     Andy      Z  physics     80\n",
       "9   Bernie      Y  physics      4\n",
       "10   Cindy      Z  physics    100\n",
       "11     Deb      Y  physics      5"
      ]
     },
     "execution_count": 12,
     "metadata": {},
     "output_type": "execute_result"
    }
   ],
   "source": [
    "# Write your code here\n",
    "df_q12.melt(id_vars= ['student', 'school']) #Same thing as staff solution just not w/ relabeled columns"
   ]
  },
  {
   "cell_type": "code",
   "execution_count": 14,
   "id": "266b4153-17bb-462e-be7c-520689461047",
   "metadata": {},
   "outputs": [
    {
     "data": {
      "text/html": [
       "<div>\n",
       "<style scoped>\n",
       "    .dataframe tbody tr th:only-of-type {\n",
       "        vertical-align: middle;\n",
       "    }\n",
       "\n",
       "    .dataframe tbody tr th {\n",
       "        vertical-align: top;\n",
       "    }\n",
       "\n",
       "    .dataframe thead th {\n",
       "        text-align: right;\n",
       "    }\n",
       "</style>\n",
       "<table border=\"1\" class=\"dataframe\">\n",
       "  <thead>\n",
       "    <tr style=\"text-align: right;\">\n",
       "      <th></th>\n",
       "      <th>student</th>\n",
       "      <th>school</th>\n",
       "      <th>Subject</th>\n",
       "      <th>Score</th>\n",
       "    </tr>\n",
       "  </thead>\n",
       "  <tbody>\n",
       "    <tr>\n",
       "      <th>0</th>\n",
       "      <td>Andy</td>\n",
       "      <td>Z</td>\n",
       "      <td>english</td>\n",
       "      <td>90</td>\n",
       "    </tr>\n",
       "    <tr>\n",
       "      <th>1</th>\n",
       "      <td>Bernie</td>\n",
       "      <td>Y</td>\n",
       "      <td>english</td>\n",
       "      <td>100</td>\n",
       "    </tr>\n",
       "    <tr>\n",
       "      <th>2</th>\n",
       "      <td>Cindy</td>\n",
       "      <td>Z</td>\n",
       "      <td>english</td>\n",
       "      <td>60</td>\n",
       "    </tr>\n",
       "    <tr>\n",
       "      <th>3</th>\n",
       "      <td>Deb</td>\n",
       "      <td>Y</td>\n",
       "      <td>english</td>\n",
       "      <td>150</td>\n",
       "    </tr>\n",
       "    <tr>\n",
       "      <th>4</th>\n",
       "      <td>Andy</td>\n",
       "      <td>Z</td>\n",
       "      <td>math</td>\n",
       "      <td>60</td>\n",
       "    </tr>\n",
       "    <tr>\n",
       "      <th>5</th>\n",
       "      <td>Bernie</td>\n",
       "      <td>Y</td>\n",
       "      <td>math</td>\n",
       "      <td>5</td>\n",
       "    </tr>\n",
       "    <tr>\n",
       "      <th>6</th>\n",
       "      <td>Cindy</td>\n",
       "      <td>Z</td>\n",
       "      <td>math</td>\n",
       "      <td>99</td>\n",
       "    </tr>\n",
       "    <tr>\n",
       "      <th>7</th>\n",
       "      <td>Deb</td>\n",
       "      <td>Y</td>\n",
       "      <td>math</td>\n",
       "      <td>4</td>\n",
       "    </tr>\n",
       "    <tr>\n",
       "      <th>8</th>\n",
       "      <td>Andy</td>\n",
       "      <td>Z</td>\n",
       "      <td>physics</td>\n",
       "      <td>80</td>\n",
       "    </tr>\n",
       "    <tr>\n",
       "      <th>9</th>\n",
       "      <td>Bernie</td>\n",
       "      <td>Y</td>\n",
       "      <td>physics</td>\n",
       "      <td>4</td>\n",
       "    </tr>\n",
       "    <tr>\n",
       "      <th>10</th>\n",
       "      <td>Cindy</td>\n",
       "      <td>Z</td>\n",
       "      <td>physics</td>\n",
       "      <td>100</td>\n",
       "    </tr>\n",
       "    <tr>\n",
       "      <th>11</th>\n",
       "      <td>Deb</td>\n",
       "      <td>Y</td>\n",
       "      <td>physics</td>\n",
       "      <td>5</td>\n",
       "    </tr>\n",
       "  </tbody>\n",
       "</table>\n",
       "</div>"
      ],
      "text/plain": [
       "   student school  Subject  Score\n",
       "0     Andy      Z  english     90\n",
       "1   Bernie      Y  english    100\n",
       "2    Cindy      Z  english     60\n",
       "3      Deb      Y  english    150\n",
       "4     Andy      Z     math     60\n",
       "5   Bernie      Y     math      5\n",
       "6    Cindy      Z     math     99\n",
       "7      Deb      Y     math      4\n",
       "8     Andy      Z  physics     80\n",
       "9   Bernie      Y  physics      4\n",
       "10   Cindy      Z  physics    100\n",
       "11     Deb      Y  physics      5"
      ]
     },
     "execution_count": 14,
     "metadata": {},
     "output_type": "execute_result"
    }
   ],
   "source": [
    "#Staff Solution\n",
    "df_q12.melt(id_vars=[\"student\", \"school\"], value_vars=[\"english\", \"math\", \"physics\"], var_name = \"Subject\", value_name=\"Score\")"
   ]
  },
  {
   "cell_type": "code",
   "execution_count": 8,
   "id": "50b6940d-9ad0-4550-b2da-411578ba0e56",
   "metadata": {},
   "outputs": [
    {
     "name": "stdout",
     "output_type": "stream",
     "text": [
      "28K\tdisc05.ipynb\n",
      "-rw-r--r-- 1 jovyan jovyan 26K Oct  3 00:49 disc05.ipynb\n",
      "{\n",
      " \"cells\": [\n",
      "  {\n",
      "   \"cell_type\": \"markdown\",\n",
      "   \"id\": \"83984490-f05e-4a23-bcba-8f4ee21e524d\",\n",
      "   \"metadata\": {},\n",
      "   \"source\": [\n",
      "    \"# Discussion 05 Notebook\\n\",\n",
      "    \"\\n\",\n",
      "    \"This notebook is an accompaniment to the associated discussion worksheet handout.\"\n"
     ]
    }
   ],
   "source": [
    "#Command line tools from lecture\n",
    "\n",
    "!du -h disc05.ipynb #disk size of fname in human-readable format\n",
    "!ls -lh disc05.ipynb # list with details (owner, size, date mod.)\n",
    "!head disc05.ipynb #show the first 10 lines of file"
   ]
  },
  {
   "cell_type": "code",
   "execution_count": null,
   "id": "cd740aae-d0cc-42bc-b93d-aa791ee283f4",
   "metadata": {},
   "outputs": [],
   "source": []
  }
 ],
 "metadata": {
  "kernelspec": {
   "display_name": "Python 3 (ipykernel)",
   "language": "python",
   "name": "python3"
  },
  "language_info": {
   "codemirror_mode": {
    "name": "ipython",
    "version": 3
   },
   "file_extension": ".py",
   "mimetype": "text/x-python",
   "name": "python",
   "nbconvert_exporter": "python",
   "pygments_lexer": "ipython3",
   "version": "3.11.13"
  }
 },
 "nbformat": 4,
 "nbformat_minor": 5
}
