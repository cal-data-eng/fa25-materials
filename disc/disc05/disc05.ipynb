{
 "cells": [
  {
   "cell_type": "markdown",
   "id": "83984490-f05e-4a23-bcba-8f4ee21e524d",
   "metadata": {},
   "source": [
    "# Discussion 05 Notebook\n",
    "\n",
    "This notebook is an accompaniment to the associated discussion worksheet handout."
   ]
  },
  {
   "cell_type": "markdown",
   "id": "8616230a-be62-4272-91af-3e394dc43b50",
   "metadata": {},
   "source": [
    "# Section II. Data Model Concepts"
   ]
  },
  {
   "cell_type": "markdown",
   "id": "cbc4eeba-206a-4181-8bb6-e140329845e9",
   "metadata": {},
   "source": [
    "## Question 9"
   ]
  },
  {
   "cell_type": "markdown",
   "id": "f5da5277-9a57-4e5e-9d60-cc47781ddf6a",
   "metadata": {},
   "source": [
    "Consider the following matrix. "
   ]
  },
  {
   "cell_type": "code",
   "execution_count": null,
   "id": "01b33e3a-395e-4602-beb5-57f498141eb8",
   "metadata": {},
   "outputs": [],
   "source": [
    "import pandas as pd\n",
    "data_q9 = {\n",
    "    \"Student\": [\"Ariel\", \"Ariel\", \"Devin\", \"Mary\"],\n",
    "    \"Course ID\": [101, 102, 101, 103],\n",
    "    \"Score\": [79.2, 92.1, 85.0, 90.0]\n",
    "}\n",
    "df_q9 = pd.DataFrame(data_q9)\n",
    "df_q9[\"Student\"] = df_q9[\"Student\"].astype(\"string\")\n",
    "\n",
    "display(df_q9)\n",
    "display(df_q9.dtypes)"
   ]
  },
  {
   "cell_type": "markdown",
   "id": "c6cbbcec-1f9e-4d73-b273-0bd6e78b8f27",
   "metadata": {},
   "source": [
    "Transpose the matrix. What are the dtypes of each transposed column? "
   ]
  },
  {
   "cell_type": "code",
   "execution_count": null,
   "id": "0290ae40-f74c-4ebf-83be-d9b8fe954b80",
   "metadata": {},
   "outputs": [],
   "source": [
    "dft_q9 = df_q9.transpose()\n",
    "display(dft_q9)\n",
    "display(dft_q9.dtypes)"
   ]
  },
  {
   "cell_type": "markdown",
   "id": "6fad4cae-f05e-4c49-a616-36777fbfd331",
   "metadata": {},
   "source": [
    "If we transpose the dataframe again, would we get back the original dataframe? Explain."
   ]
  },
  {
   "cell_type": "code",
   "execution_count": null,
   "id": "f727a946-946a-42bd-8dc7-f2efb989d8b9",
   "metadata": {},
   "outputs": [],
   "source": [
    "dftt_q9 = df_q9.transpose().transpose()\n",
    "display(dftt_q9)\n",
    "display(dftt_q9.dtypes)"
   ]
  },
  {
   "cell_type": "markdown",
   "id": "c8c77d3b-edec-46dd-8557-26e104c8f48e",
   "metadata": {},
   "source": [
    "# Section III. Pivoting and Unpivoting"
   ]
  },
  {
   "cell_type": "markdown",
   "id": "8136602a-f33d-4b55-a576-13e54ff5caff",
   "metadata": {},
   "source": [
    "## Question 11"
   ]
  },
  {
   "cell_type": "markdown",
   "id": "41e6f8fd-5ec6-4259-9381-8f0795fc9faa",
   "metadata": {},
   "source": [
    "**_Pivoting._** Write a Pandas expression to reshape the following table such that its columns are the 3\n",
    "types of metals in the `CType` column, and whose values are taken from the `USD` column. Also write the\n",
    "resulting table."
   ]
  },
  {
   "cell_type": "code",
   "execution_count": null,
   "id": "a64d753a-32e2-475c-b8a7-d28306279e08",
   "metadata": {},
   "outputs": [],
   "source": [
    "data_q11 = {\n",
    "    'Item': ['Item0', 'Item0', 'Item1', 'Item1'],\n",
    "    'CType': ['Gold', 'Bronze', 'Gold', 'Silver'],\n",
    "    'USD': ['$1', '$2', '$3', '$4'],\n",
    "    'EUR': ['€1', '€2', '€3', '€4']\n",
    "}\n",
    "df_q11  = pd.DataFrame(data_q11)\n",
    "df_q11"
   ]
  },
  {
   "cell_type": "code",
   "execution_count": null,
   "id": "f1ac4fed-8f59-4212-b9ab-13790d0bf291",
   "metadata": {},
   "outputs": [],
   "source": [
    "# Write your code here\n"
   ]
  },
  {
   "cell_type": "markdown",
   "id": "4d71f4b4-37a0-4ac9-a53d-d25c4afaaa66",
   "metadata": {},
   "source": [
    "## Question 12"
   ]
  },
  {
   "cell_type": "markdown",
   "id": "301315ab-42ce-47d0-8c99-c5db3bb93765",
   "metadata": {},
   "source": [
    "**_Unpivoting._** Write a Pandas expression to reshape the following table from a _wide_ shape into a long shape, using the student and school columns as identifiers, and the rest of the subjects as variables.\n",
    "Also write the resulting table. Hint: `use df.melt()`."
   ]
  },
  {
   "cell_type": "code",
   "execution_count": null,
   "id": "fb7392cd-368c-48ed-bebc-11f403d584bb",
   "metadata": {},
   "outputs": [],
   "source": [
    "data_q12 = {\n",
    "    'student': ['Andy', 'Bernie', 'Cindy', 'Deb'],\n",
    "    'school': ['Z', 'Y', 'Z', 'Y'],\n",
    "    'english': [90, 100, 60, 150],\n",
    "    'math': [60, 5, 99, 4],\n",
    "    'physics': [80, 4, 100, 5]\n",
    "}\n",
    "\n",
    "df_q12 = pd.DataFrame(data_q12)\n",
    "df_q12"
   ]
  },
  {
   "cell_type": "code",
   "execution_count": null,
   "id": "be76e4ef-1a7c-4507-9246-2cf5335441ef",
   "metadata": {
    "scrolled": true
   },
   "outputs": [],
   "source": [
    "# Write your code here"
   ]
  }
 ],
 "metadata": {
  "kernelspec": {
   "display_name": "Python 3 (ipykernel)",
   "language": "python",
   "name": "python3"
  },
  "language_info": {
   "codemirror_mode": {
    "name": "ipython",
    "version": 3
   },
   "file_extension": ".py",
   "mimetype": "text/x-python",
   "name": "python",
   "nbconvert_exporter": "python",
   "pygments_lexer": "ipython3",
   "version": "3.11.13"
  }
 },
 "nbformat": 4,
 "nbformat_minor": 5
}
