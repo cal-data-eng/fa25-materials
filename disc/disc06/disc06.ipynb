{
 "cells": [
  {
   "cell_type": "markdown",
   "id": "bc501253",
   "metadata": {},
   "source": [
    "# Discussion 06 Notebook\n",
    "\n",
    "This notebook is an accompaniment to the associated discussion worksheet handout."
   ]
  },
  {
   "cell_type": "markdown",
   "id": "850240c1-e5d7-49bf-a318-898301bbc222",
   "metadata": {},
   "source": [
    "# Section I Window Functions"
   ]
  },
  {
   "cell_type": "markdown",
   "id": "52b53b9f-653b-4df1-9951-8cfbec9f3cdb",
   "metadata": {},
   "source": [
    "## Load in the IMDB Performance database\n",
    "\n",
    "This is a variation of the IMDB database with keys defined. Note that this is a pretty big database! So if you run the below lines, please also remember to delete the `imdb_perf_lecture` afterwards to save space on your limited postgreSQL server."
   ]
  },
  {
   "cell_type": "markdown",
   "id": "7522a486-a450-4288-a94d-4eb3a38b5c4d",
   "metadata": {},
   "source": [
    "If you didn't load it in with a previous lecture, load in the `imdb_perf_lecture` database."
   ]
  },
  {
   "cell_type": "code",
   "execution_count": null,
   "id": "fd0ed619-1999-4d6c-b82c-dcaf1de16188",
   "metadata": {},
   "outputs": [],
   "source": [
    "!ln -sf ../../proj/proj1/data .\n",
    "!unzip -u data/imdbdb.zip -d data/"
   ]
  },
  {
   "cell_type": "code",
   "execution_count": null,
   "id": "3acb1cfd-09cc-4659-9d8b-c6c8dc75a954",
   "metadata": {},
   "outputs": [],
   "source": [
    "!psql postgresql://jovyan@127.0.0.1:5432/imdb -c 'SELECT pg_terminate_backend(pg_stat_activity.pid) FROM pg_stat_activity WHERE datname = current_database()  AND pid <> pg_backend_pid();'\n",
    "!psql postgresql://jovyan@127.0.0.1:5432/postgres -c 'DROP DATABASE IF EXISTS imdb'\n",
    "!psql postgresql://jovyan@127.0.0.1:5432/postgres -c 'CREATE DATABASE imdb'\n",
    "!psql postgresql://jovyan@127.0.0.1:5432/imdb -f data/imdbdb.sql -q"
   ]
  },
  {
   "cell_type": "code",
   "execution_count": null,
   "id": "a3fda3be-dbcf-4e37-a647-c454b46d8280",
   "metadata": {},
   "outputs": [],
   "source": [
    "%reload_ext sql"
   ]
  },
  {
   "cell_type": "code",
   "execution_count": null,
   "id": "ffac0ec7-f379-4f1d-a36f-268ca1d34adf",
   "metadata": {},
   "outputs": [],
   "source": [
    "%sql postgresql://jovyan@127.0.0.1:5432/imdb"
   ]
  },
  {
   "cell_type": "markdown",
   "id": "958c2408-3e70-4b6a-95ac-9bf1aad781e6",
   "metadata": {},
   "source": [
    "## Question 4\n",
    "In Project 1, we worked with a movie sample table to explore gross earnings for each movie and stored\n",
    "the results in a view called `movie_gross`. Let’s explore how to leverage **window functions to compute\n",
    "the average earnings per genre** across movies, as well as the movie's rank within its genre based on gross earnings. Following the view definition, write a `SELECT` query to return the rows for the movie \"Mr. & Mrs. Smith\" ordered by genre alphabetically."
   ]
  },
  {
   "cell_type": "markdown",
   "id": "f02f7a69-f796-4588-95f0-1525b6cef020",
   "metadata": {},
   "source": [
    "Create a new view called `movie_avg_genre` with the following columns: `movie_id`, `title`, `gross`, `genre`, `avg_gross_genre`, `genre_rank`.\n",
    "- `gross`: The gross earnings of the given movie\n",
    "- `avg_gross_genre`: The average gross earnings of movies with the same genre as the given movie. If a movie belongs to multiple genres, it should appear in multiple rows, with each row corresponding to a different genre. <br/>\n",
    "- `genre_rank`: The rank of each movies within its genre based on gross earnings (higest gross = 1). If two movies have the same gross earnings, they should share the same rank, and skip the next rank. \n",
    "\n",
    "Hint: Check out the movie genre info type, with `info_type_id = 3` from `movie_info_sample`."
   ]
  },
  {
   "cell_type": "code",
   "execution_count": null,
   "id": "1d4434cd-4908-4806-95a7-5c2b7977cbce",
   "metadata": {},
   "outputs": [],
   "source": [
    "%%sql\n",
    "-- Check out the movie genre info type -- \n",
    "SELECT * \n",
    "FROM movie_info_sample\n",
    "WHERE info_type_id = 3\n",
    "ORDER BY RANDOM()\n",
    "LIMIT 5;"
   ]
  },
  {
   "cell_type": "code",
   "execution_count": null,
   "id": "4b735eb2-ec15-460e-8c79-37a5c51ec93a",
   "metadata": {},
   "outputs": [],
   "source": [
    "%%sql\n",
    "-- Check out movie_sample -- \n",
    "SELECT * \n",
    "FROM movie_sample\n",
    "ORDER BY RANDOM()\n",
    "LIMIT 5;"
   ]
  },
  {
   "cell_type": "code",
   "execution_count": null,
   "id": "e8d7295c-9d26-401a-ba3e-ad94dac7a1b4",
   "metadata": {},
   "outputs": [],
   "source": [
    "%%sql\n",
    "-- How we created movie_gross in Project 1, Question 3a --\n",
    "DROP VIEW IF EXISTS movie_gross CASCADE;\n",
    "CREATE VIEW movie_gross AS\n",
    "\n",
    "WITH cleaned as (\n",
    "    SELECT\n",
    "        CAST(REGEXP_REPLACE(SUBSTRING(info, '[0-9,]+'), ',', '', 'g') AS float) AS gross,\n",
    "        movie_id,\n",
    "        title,\n",
    "        production_year\n",
    "    FROM\n",
    "        movie_info_sample,\n",
    "        movie_sample\n",
    "    WHERE\n",
    "        movie_id = movie_sample.id AND\n",
    "        info_type_id = 107 AND\n",
    "        info LIKE '%(USA)%' and info LIKE '$%'\n",
    ")\n",
    "\n",
    "SELECT\n",
    "    max(gross) AS gross,\n",
    "    movie_id,\n",
    "    title,\n",
    "    production_year\n",
    "FROM\n",
    "    cleaned\n",
    "GROUP BY\n",
    "    movie_id,\n",
    "    title,\n",
    "    production_year\n",
    "ORDER BY gross DESC;\n",
    "\n",
    "SELECT * FROM movie_gross\n",
    "LIMIT 5"
   ]
  },
  {
   "cell_type": "code",
   "execution_count": null,
   "id": "d2243de8-117c-49f3-a300-0c2bd3f0823b",
   "metadata": {},
   "outputs": [],
   "source": [
    "%%sql\n",
    "DROP VIEW IF EXISTS movie_avg_genre;\n",
    "CREATE VIEW movie_avg_genre AS \n",
    "\n",
    "-- create a CTE here, which gets the genre(s) and gross of each movie --\n",
    "WITH movie_genre AS (\n",
    "    SELECT mg.movie_id, ____, ____ AS genre, ____\n",
    "    FROM movie_gross mg\n",
    "    INNER JOIN  movie_info_sample mis\n",
    "    ON ____.movie_id = ____.movie_id\n",
    "    WHERE ____.info_type_id = 3\n",
    ")\n",
    "\n",
    "-- for each movie, get its gross and average gross for its genre(s) using window function --\n",
    "SELECT ____, ____, ____, ____, \n",
    "    ____(____) OVER (____) AS ____\n",
    "    ____() OVER (____) AS ____\n",
    "FROM movie_genre; \n",
    "\n",
    "SELECT * FROM movie_avg_genre\n",
    "WHERE title = 'Mr. & Mrs. Smith'\n",
    "ORDER BY genre;"
   ]
  },
  {
   "cell_type": "markdown",
   "id": "2f8c9417-7e48-4c2d-a40e-cb32ad58790a",
   "metadata": {},
   "source": [
    "## Question 5\n",
    "Expanding on the previous question, besides finding the average gross for movies in each genre but **also finding the total gross** for each genre. \n",
    "Create a view called `movie_avg_total_genre` with the following columns: `movie_id`, `title`, `gross`, `genre`, `avg_gross`, `total_gross`.\n",
    "- `gross`: The gross earnings of the given movie\n",
    "- `avg_gross`: The average gross earnings of movies with the same genre as the given movie. If a movie belongs to multiple genres, it should appear in multiple rows, with each row corresponding to a different genre. <br/>\n",
    "- `total_gross`: The total gross earning of movies with the same genre as the given movie.\n",
    "    \n",
    "**Bonus**: Instead of writing out two separate windows, is it possible to simplify?\n",
    "    \n",
    "Documentation: https://www.postgresql.org/docs/current/tutorial-window.html"
   ]
  },
  {
   "cell_type": "code",
   "execution_count": null,
   "id": "97a4d9bc-ddb3-4856-962f-eb806d0173f2",
   "metadata": {},
   "outputs": [],
   "source": [
    "%%sql\n",
    "DROP VIEW IF EXISTS movie_avg_total_genre;\n",
    "CREATE VIEW movie_avg_total_genre AS \n",
    "\n",
    "-- create a CTE here, which gets the genre(s) and gross of each movie --\n",
    "WITH movie_genre AS (\n",
    "-- The CTE here is the same as that of Q4 --\n",
    ")\n",
    "\n",
    "-- for each movie, get its gross and average gross for its genre(s) --\n",
    "SELECT movie_id, title, genre, gross, \n",
    "____(____) OVER (____) AS ____,\n",
    "____(____) OVER (____) AS ____\n",
    "FROM movie_genre;\n",
    "\n",
    "SELECT * FROM movie_avg_total_genre\n",
    "WHERE title = 'Mr. & Mrs. Smith'\n",
    "ORDER BY genre;"
   ]
  },
  {
   "cell_type": "markdown",
   "id": "7cac4b99-03a3-4500-94a1-a672e4637c4e",
   "metadata": {},
   "source": [
    "**Bonus solution** by referencing the documentation here: https://www.postgresql.org/docs/current/tutorial-window.html"
   ]
  },
  {
   "cell_type": "code",
   "execution_count": null,
   "id": "0af58e49-7f5a-43b1-ba85-d3c540e64050",
   "metadata": {},
   "outputs": [],
   "source": [
    "%%sql\n",
    "DROP VIEW IF EXISTS movie_avg_total_genre;\n",
    "CREATE VIEW movie_avg_total_genre AS \n",
    "\n",
    "-- create a CTE here, which gets the genre(s) and gross of each movie --\n",
    "WITH movie_genre AS (\n",
    "-- The CTE here is the same as that of Q4 --\n",
    ")\n",
    "\n",
    "-- for each movie, get its gross and average gross for its genre(s) --\n",
    "SELECT movie_id, title, genre, gross, \n",
    "____(____) OVER ____ AS ____,\n",
    "____(____) OVER ____ AS ____\n",
    "FROM movie_genre\n",
    "____ AS (____);\n",
    "\n",
    "SELECT * FROM movie_avg_total_genre\n",
    "WHERE title = 'Mr. & Mrs. Smith'\n",
    "ORDER BY genre;"
   ]
  },
  {
   "cell_type": "markdown",
   "id": "0c064288-667a-4a5c-a9ad-b3ee42a20f84",
   "metadata": {},
   "source": [
    "# Section II \n",
    "## Data Granularity: Walking a Hierarchy of Arbitrary Depth"
   ]
  },
  {
   "cell_type": "markdown",
   "id": "4a27ac44-b913-4ad9-a76c-b630e9556b45",
   "metadata": {},
   "source": [
    "## Database Setup"
   ]
  },
  {
   "cell_type": "code",
   "execution_count": null,
   "id": "1d7ff9cb-0822-4247-92ed-dd3745f2ed03",
   "metadata": {},
   "outputs": [],
   "source": [
    "!psql -h localhost -c 'DROP DATABASE IF EXISTS disc07'\n",
    "!psql -h localhost -c 'CREATE DATABASE disc07'\n",
    "\n",
    "%reload_ext sql\n",
    "%sql postgresql://127.0.0.1:5432/disc07"
   ]
  },
  {
   "cell_type": "code",
   "execution_count": null,
   "id": "57fd6aa1-48a7-41b3-ba54-425d6d7d1969",
   "metadata": {},
   "outputs": [],
   "source": [
    "!psql postgresql://127.0.0.1:5432/disc07 <disc07.sql"
   ]
  },
  {
   "cell_type": "markdown",
   "id": "f9bb591e-78f3-4c67-88a6-d868b5c01a05",
   "metadata": {},
   "source": [
    "### Initial Exploration"
   ]
  },
  {
   "cell_type": "code",
   "execution_count": null,
   "id": "1eba1117-1bed-4fa9-9062-6ca16f6ca34a",
   "metadata": {},
   "outputs": [],
   "source": [
    "%sql SELECT * FROM nodes ORDER BY tax_id LIMIT 5;"
   ]
  },
  {
   "cell_type": "code",
   "execution_count": null,
   "id": "c5fbd605-da35-429a-9d4a-9e73c06376ed",
   "metadata": {},
   "outputs": [],
   "source": [
    "%%sql\n",
    "SELECT tax_id, COUNT(DISTINCT(rank)) FROM nodes GROUP BY tax_id;"
   ]
  },
  {
   "cell_type": "code",
   "execution_count": null,
   "id": "98701c63-d7af-472f-88c9-de61474e77f4",
   "metadata": {},
   "outputs": [],
   "source": [
    "%sql SELECT * FROM names ORDER BY tax_id LIMIT 5;"
   ]
  },
  {
   "cell_type": "markdown",
   "id": "d29b4bfc-56c5-432e-89ff-37e4aee21510",
   "metadata": {},
   "source": [
    "## Question 6\n",
    "Write a SQL query to find the node representing the `Animalia` kingdom. Your query should return\n",
    "the kingdom name and its corresponding node information."
   ]
  },
  {
   "cell_type": "code",
   "execution_count": null,
   "id": "38f23678-af09-4bd5-a058-52aa0de901cf",
   "metadata": {},
   "outputs": [],
   "source": [
    "%%sql\n",
    "-- your code here\n"
   ]
  },
  {
   "cell_type": "markdown",
   "id": "897fce73-16a6-4f30-988b-9d20918b5084",
   "metadata": {},
   "source": [
    "## Question 7\n",
    "Let us drill down into the _Animalia_ kingdom. First, find all children nodes of the Animalia kingdom\n",
    "(ID 33208). Your query should return the `tax_id` and `rank` of each child node and their parent `Animalia`. Hint: use self-join."
   ]
  },
  {
   "cell_type": "code",
   "execution_count": null,
   "id": "7d9b7ade-4a9c-416b-84b0-c6b61f1ac239",
   "metadata": {},
   "outputs": [],
   "source": [
    "%%sql\n",
    "-- your code here\n",
    "SELECT child.tax_id cid, child.rank crank, parent.tax_id pid, parent.rank prank\n",
    "FROM ____ AS parent, ____ AS child -- do a self-join here\n",
    "WHERE parent.____ = child.____ -- only want pairs of nodes that represent a direct parent/child relationship\n",
    "AND ____; "
   ]
  },
  {
   "cell_type": "markdown",
   "id": "cc9f443c-bc99-45cd-9151-64e3f9c3535c",
   "metadata": {},
   "source": [
    "## Question 8\n",
    "Next, find the names of these children nodes of the `Animalia` Kingdom, along with the names of their parents. Your query should\n",
    "return the `tax_id`, `rank`, and `name_txt` of each child and parent node."
   ]
  },
  {
   "cell_type": "code",
   "execution_count": null,
   "id": "ed507e74-b57a-4673-b145-43dc688d9e3f",
   "metadata": {},
   "outputs": [],
   "source": [
    "%config SqlMagic.displaylimit = 10;"
   ]
  },
  {
   "cell_type": "code",
   "execution_count": null,
   "id": "920dd493-208d-4f4b-9bb4-1c4e4b77815e",
   "metadata": {},
   "outputs": [],
   "source": [
    "%%sql\n",
    "-- write a CTE to store the relationship between parent and children --\n",
    "WITH parent_child AS (\n",
    "  -- hint: Q7 --\n",
    ")\n",
    "\n",
    "SELECT pid, prank, parent.name_txt ptext, cid, crank, child.name_txt\n",
    "FROM ____ AS parent, ____ AS child, parent_child\n",
    "WHERE parent.____ = parent_child.____\n",
    "    AND child.____ = parent_child.____\n",
    "    AND ____\n",
    "LIMIT 10;"
   ]
  },
  {
   "cell_type": "markdown",
   "id": "153f2ebc-5c20-4644-9834-d4b207c603e3",
   "metadata": {},
   "source": [
    "## Question 9\n",
    "In the biological taxonomy data, it is common for the same rank to have multiple synonym names,\n",
    "all sharing the same `tax_id`. Write a SQL query to return the parent node (Animalia) and its direct\n",
    "child nodes. For each phylum (child node), aggregate all its synonym names (for each group of parent names and for each group of children names) into a single JSON array, using the `json_agg(column)` function."
   ]
  },
  {
   "cell_type": "code",
   "execution_count": null,
   "id": "8baded99-6344-402c-9e78-06def9a84dea",
   "metadata": {},
   "outputs": [],
   "source": [
    "%%sql\n",
    "-- your code here\n",
    "WITH parent_child AS (\n",
    " -- finish your CTE here --\n",
    ")\n",
    "\n",
    "SELECT pid, prank, json_agg(____), cid, crank, json_agg(____)\n",
    "FROM ____, ____, ____\n",
    "WHERE \n",
    "    ____\n",
    "    AND ____\n",
    "GROUP BY ____, ____, ____, ____;"
   ]
  },
  {
   "cell_type": "markdown",
   "id": "5425cef7-64cb-4b9d-a4f0-e0863e66bb2c",
   "metadata": {},
   "source": [
    "## **Optional, Challenge:** Question 10  \n",
    "How can we drill down one more layer? What if we want to get the names of all the classes under the Animalia kingdom?"
   ]
  },
  {
   "cell_type": "code",
   "execution_count": null,
   "id": "f57d6536-f6fa-4a15-8337-856f5930e71f",
   "metadata": {},
   "outputs": [],
   "source": [
    "%%sql\n",
    "-- your code here\n"
   ]
  }
 ],
 "metadata": {
  "kernelspec": {
   "display_name": "Python 3 (ipykernel)",
   "language": "python",
   "name": "python3"
  },
  "language_info": {
   "codemirror_mode": {
    "name": "ipython",
    "version": 3
   },
   "file_extension": ".py",
   "mimetype": "text/x-python",
   "name": "python",
   "nbconvert_exporter": "python",
   "pygments_lexer": "ipython3",
   "version": "3.11.13"
  }
 },
 "nbformat": 4,
 "nbformat_minor": 5
}
