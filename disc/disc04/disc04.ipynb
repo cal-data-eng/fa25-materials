{
 "cells": [
  {
   "cell_type": "markdown",
   "id": "665b78b2-89e5-42a7-8456-8420bfa0a5b5",
   "metadata": {},
   "source": [
    "# Discussion 04 Notebook\n",
    "\n",
    "This notebook is an accompaniment to the associated discussion worksheet handout."
   ]
  },
  {
   "cell_type": "markdown",
   "id": "5806e221-5f2b-4764-979a-32500a32d5ab",
   "metadata": {},
   "source": [
    "## Load in the IMDB Performance database\n",
    "\n",
    "This is a variation of the IMDB database with keys defined. Note that this is a pretty big database! So if you run the below lines, please also remember to delete the `imdb_perf_lecture` afterwards to save space on your limited postgreSQL server."
   ]
  },
  {
   "cell_type": "markdown",
   "id": "b5e5de78-740e-4e4d-9640-f769e7ec0cab",
   "metadata": {},
   "source": [
    "If you didn't load it in with a previous lecture (lecture 6), load in the `imdb_perf_lecture` database."
   ]
  },
  {
   "cell_type": "code",
   "execution_count": 4,
   "id": "8ea61b1d-de1e-455e-b294-31945f9bf983",
   "metadata": {},
   "outputs": [],
   "source": [
    "# !ln -sf ../../lec/lec06/data .\n",
    "# !unzip -u data/imdb_perf_lecture.zip -d data/"
   ]
  },
  {
   "cell_type": "code",
   "execution_count": 5,
   "id": "5ac137db-23a2-4e89-a48e-aa4dff35c28b",
   "metadata": {},
   "outputs": [
    {
     "name": "stdout",
     "output_type": "stream",
     "text": [
      "DROP DATABASE\n",
      "CREATE DATABASE\n",
      "psql: error: imdb_perf_lecture.sql: No such file or directory\n"
     ]
    }
   ],
   "source": [
    "!psql -h localhost -c 'DROP DATABASE IF EXISTS imdb_perf_lecture'\n",
    "!psql -h localhost -c 'CREATE DATABASE imdb_perf_lecture' \n",
    "!psql -h localhost -d imdb_perf_lecture -f imdb_perf_lecture.sql"
   ]
  },
  {
   "cell_type": "code",
   "execution_count": 14,
   "id": "42d6cf6a",
   "metadata": {},
   "outputs": [],
   "source": [
    "# !psql -h localhost -c 'DROP DATABASE IF EXISTS imdb_perf_lecture'\n",
    "# !psql -h localhost -c 'CREATE DATABASE imdb_perf_lecture' \n",
    "# !psql -h localhost -d imdb_perf_lecture -f data/imdb_perf_lecture.sql"
   ]
  },
  {
   "cell_type": "code",
   "execution_count": 4,
   "id": "addb4b4a-9ca7-4474-bc5f-88c670bbb50f",
   "metadata": {},
   "outputs": [
    {
     "data": {
      "text/html": [
       "<span style=\"None\">Connecting to &#x27;postgresql://127.0.0.1:5432/imdb_perf_lecture&#x27;</span>"
      ],
      "text/plain": [
       "Connecting to 'postgresql://127.0.0.1:5432/imdb_perf_lecture'"
      ]
     },
     "metadata": {},
     "output_type": "display_data"
    }
   ],
   "source": [
    "%reload_ext sql\n",
    "%sql postgresql://127.0.0.1:5432/imdb_perf_lecture\n",
    "import pandas as pd"
   ]
  },
  {
   "cell_type": "markdown",
   "id": "ac50b45c-5826-4938-8234-a3f74cdfad0c",
   "metadata": {},
   "source": [
    "Before starting this part, review the schema of the relations in the `imdb_perf_lecture` database. Here's the printout from `psql`:\n",
    "\n",
    "```\n",
    "imdb_perf_lecture=# \\d actor\n",
    "               Table \"public.actor\"\n",
    " Column |  Type   | Collation | Nullable | Default \n",
    "--------+---------+-----------+----------+---------\n",
    " id     | integer |           | not null | \n",
    " name   | text    |           |          | \n",
    "Indexes:\n",
    "    \"actor_pkey\" PRIMARY KEY, btree (id)\n",
    "Referenced by:\n",
    "    TABLE \"cast_info\" CONSTRAINT \"cast_info_person_id_fkey\" FOREIGN KEY (person_id) REFERENCES actor(id)\n",
    "\n",
    "imdb_perf_lecture=# \\d cast_info\n",
    "               Table \"public.cast_info\"\n",
    "  Column   |  Type   | Collation | Nullable | Default \n",
    "-----------+---------+-----------+----------+---------\n",
    " person_id | integer |           |          | \n",
    " movie_id  | integer |           |          | \n",
    "Foreign-key constraints:\n",
    "    \"cast_info_movie_id_fkey\" FOREIGN KEY (movie_id) REFERENCES movie(id)\n",
    "    \"cast_info_person_id_fkey\" FOREIGN KEY (person_id) REFERENCES actor(id)\n",
    "\n",
    "imdb_perf_lecture=# \\d movie\n",
    "                    Table \"public.movie\"\n",
    "     Column      |  Type   | Collation | Nullable | Default \n",
    "-----------------+---------+-----------+----------+---------\n",
    " id              | integer |           | not null | \n",
    " title           | text    |           |          | \n",
    " year            | integer |           |          | \n",
    " runtime_minutes | integer |           |          | \n",
    "Indexes:\n",
    "    \"movie_pkey\" PRIMARY KEY, btree (id)\n",
    "Referenced by:\n",
    "    TABLE \"cast_info\" CONSTRAINT \"cast_info_movie_id_fkey\" FOREIGN KEY (movie_id) REFERENCES movie(id)\n",
    "```"
   ]
  },
  {
   "cell_type": "markdown",
   "id": "c10749a9",
   "metadata": {},
   "source": [
    "# Section V \n",
    "## `EXPLAIN ANALYZE` with Joins"
   ]
  },
  {
   "cell_type": "markdown",
   "id": "645eb9eb-2fc6-4395-b01d-36d6ff9623c5",
   "metadata": {},
   "source": [
    "Consider the following schema:\n",
    "- `actors(id, name)`\n",
    "- `cast_info(person_id, movie_id)`"
   ]
  },
  {
   "cell_type": "markdown",
   "id": "c69c481b-1997-4370-ac7d-38fce4848bbf",
   "metadata": {},
   "source": [
    "## Question 10"
   ]
  },
  {
   "cell_type": "markdown",
   "id": "daf00940-df5f-4cca-8237-2339d286671b",
   "metadata": {},
   "source": [
    "Write a query that computes an inner join on `actors` and `cast_info` on the actor ID. Your query should return all attributes."
   ]
  },
  {
   "cell_type": "code",
   "execution_count": 3,
   "id": "3189f696",
   "metadata": {},
   "outputs": [
    {
     "data": {
      "text/html": [
       "<span style=\"None\">Running query in &#x27;postgresql://127.0.0.1:5432/imdb_perf_lecture&#x27;</span>"
      ],
      "text/plain": [
       "Running query in 'postgresql://127.0.0.1:5432/imdb_perf_lecture'"
      ]
     },
     "metadata": {},
     "output_type": "display_data"
    },
    {
     "data": {
      "text/html": [
       "<span style=\"color: green\">2211936 rows affected.</span>"
      ],
      "text/plain": [
       "2211936 rows affected."
      ]
     },
     "metadata": {},
     "output_type": "display_data"
    },
    {
     "data": {
      "text/html": [
       "<table>\n",
       "    <thead>\n",
       "        <tr>\n",
       "            <th>id</th>\n",
       "            <th>name</th>\n",
       "            <th>person_id</th>\n",
       "            <th>movie_id</th>\n",
       "        </tr>\n",
       "    </thead>\n",
       "    <tbody>\n",
       "        <tr>\n",
       "            <td>299757</td>\n",
       "            <td>Aage Fønss</td>\n",
       "            <td>299757</td>\n",
       "            <td>1115</td>\n",
       "        </tr>\n",
       "        <tr>\n",
       "            <td>736379</td>\n",
       "            <td>Jenny Roelsgaard</td>\n",
       "            <td>736379</td>\n",
       "            <td>1116</td>\n",
       "        </tr>\n",
       "        <tr>\n",
       "            <td>299757</td>\n",
       "            <td>Aage Fønss</td>\n",
       "            <td>299757</td>\n",
       "            <td>1116</td>\n",
       "        </tr>\n",
       "        <tr>\n",
       "            <td>735618</td>\n",
       "            <td>Cecilio Rodríguez de la Vega</td>\n",
       "            <td>735618</td>\n",
       "            <td>1184</td>\n",
       "        </tr>\n",
       "        <tr>\n",
       "            <td>381005</td>\n",
       "            <td>Aage Hertel</td>\n",
       "            <td>381005</td>\n",
       "            <td>1240</td>\n",
       "        </tr>\n",
       "        <tr>\n",
       "            <td>299757</td>\n",
       "            <td>Aage Fønss</td>\n",
       "            <td>299757</td>\n",
       "            <td>1277</td>\n",
       "        </tr>\n",
       "        <tr>\n",
       "            <td>736379</td>\n",
       "            <td>Jenny Roelsgaard</td>\n",
       "            <td>736379</td>\n",
       "            <td>1277</td>\n",
       "        </tr>\n",
       "        <tr>\n",
       "            <td>299757</td>\n",
       "            <td>Aage Fønss</td>\n",
       "            <td>299757</td>\n",
       "            <td>1440</td>\n",
       "        </tr>\n",
       "        <tr>\n",
       "            <td>254852</td>\n",
       "            <td>George D. Ellis</td>\n",
       "            <td>254852</td>\n",
       "            <td>1604</td>\n",
       "        </tr>\n",
       "        <tr>\n",
       "            <td>54884</td>\n",
       "            <td>Florence Barker</td>\n",
       "            <td>54884</td>\n",
       "            <td>1712</td>\n",
       "        </tr>\n",
       "    </tbody>\n",
       "</table>\n",
       "<span style=\"font-style:italic;text-align:center;\">Truncated to <a href=\"https://jupysql.ploomber.io/en/latest/api/configuration.html#displaylimit\">displaylimit</a> of 10.</span>"
      ],
      "text/plain": [
       "+--------+------------------------------+-----------+----------+\n",
       "|   id   |             name             | person_id | movie_id |\n",
       "+--------+------------------------------+-----------+----------+\n",
       "| 299757 |          Aage Fønss          |   299757  |   1115   |\n",
       "| 736379 |       Jenny Roelsgaard       |   736379  |   1116   |\n",
       "| 299757 |          Aage Fønss          |   299757  |   1116   |\n",
       "| 735618 | Cecilio Rodríguez de la Vega |   735618  |   1184   |\n",
       "| 381005 |         Aage Hertel          |   381005  |   1240   |\n",
       "| 299757 |          Aage Fønss          |   299757  |   1277   |\n",
       "| 736379 |       Jenny Roelsgaard       |   736379  |   1277   |\n",
       "| 299757 |          Aage Fønss          |   299757  |   1440   |\n",
       "| 254852 |       George D. Ellis        |   254852  |   1604   |\n",
       "| 54884  |       Florence Barker        |   54884   |   1712   |\n",
       "+--------+------------------------------+-----------+----------+\n",
       "Truncated to displaylimit of 10."
      ]
     },
     "execution_count": 3,
     "metadata": {},
     "output_type": "execute_result"
    }
   ],
   "source": [
    "%%sql\n",
    "SELECT *\n",
    "FROM actors AS a\n",
    "INNER JOIN cast_info AS c\n",
    "ON a.id = c.person_id;\n"
   ]
  },
  {
   "cell_type": "markdown",
   "id": "cf997785",
   "metadata": {},
   "source": [
    "Once you're comfortable that the query is working as expected, run it through `EXPLAIN ANALYZE`. **Discuss**: What kind of join is the query optimizer performing? Why might this be the case?"
   ]
  },
  {
   "cell_type": "code",
   "execution_count": 4,
   "id": "7358130c-71a5-45da-a817-5fcea54726f6",
   "metadata": {},
   "outputs": [
    {
     "data": {
      "text/html": [
       "<span style=\"None\">Running query in &#x27;postgresql://127.0.0.1:5432/imdb_perf_lecture&#x27;</span>"
      ],
      "text/plain": [
       "Running query in 'postgresql://127.0.0.1:5432/imdb_perf_lecture'"
      ]
     },
     "metadata": {},
     "output_type": "display_data"
    },
    {
     "data": {
      "text/html": [
       "<span style=\"color: green\">20 rows affected.</span>"
      ],
      "text/plain": [
       "20 rows affected."
      ]
     },
     "metadata": {},
     "output_type": "display_data"
    },
    {
     "data": {
      "text/html": [
       "<table>\n",
       "    <thead>\n",
       "        <tr>\n",
       "            <th>QUERY PLAN</th>\n",
       "        </tr>\n",
       "    </thead>\n",
       "    <tbody>\n",
       "        <tr>\n",
       "            <td>Gather Merge  (cost=160273.59..375337.94 rows=1843280 width=26) (actual time=2576.845..3580.578 rows=2211936 loops=1)</td>\n",
       "        </tr>\n",
       "        <tr>\n",
       "            <td>&nbsp;&nbsp;Workers Planned: 2</td>\n",
       "        </tr>\n",
       "        <tr>\n",
       "            <td>&nbsp;&nbsp;Workers Launched: 2</td>\n",
       "        </tr>\n",
       "        <tr>\n",
       "            <td>&nbsp;&nbsp;->  Sort  (cost=159273.57..161577.67 rows=921640 width=26) (actual time=2524.434..2699.209 rows=737312 loops=3)</td>\n",
       "        </tr>\n",
       "        <tr>\n",
       "            <td>&nbsp;&nbsp;&nbsp;&nbsp;&nbsp;&nbsp;&nbsp;&nbsp;Sort Key: actors.id</td>\n",
       "        </tr>\n",
       "        <tr>\n",
       "            <td>&nbsp;&nbsp;&nbsp;&nbsp;&nbsp;&nbsp;&nbsp;&nbsp;Sort Method: external merge  Disk: 27384kB</td>\n",
       "        </tr>\n",
       "        <tr>\n",
       "            <td>&nbsp;&nbsp;&nbsp;&nbsp;&nbsp;&nbsp;&nbsp;&nbsp;Worker 0:  Sort Method: external merge  Disk: 27336kB</td>\n",
       "        </tr>\n",
       "        <tr>\n",
       "            <td>&nbsp;&nbsp;&nbsp;&nbsp;&nbsp;&nbsp;&nbsp;&nbsp;Worker 1:  Sort Method: external merge  Disk: 27360kB</td>\n",
       "        </tr>\n",
       "        <tr>\n",
       "            <td>&nbsp;&nbsp;&nbsp;&nbsp;&nbsp;&nbsp;&nbsp;&nbsp;->  Parallel Hash Join  (cost=15222.20..45913.91 rows=921640 width=26) (actual time=684.880..1545.001 rows=737312 loops=3)</td>\n",
       "        </tr>\n",
       "        <tr>\n",
       "            <td>&nbsp;&nbsp;&nbsp;&nbsp;&nbsp;&nbsp;&nbsp;&nbsp;&nbsp;&nbsp;&nbsp;&nbsp;&nbsp;&nbsp;Hash Cond: (cast_info.person_id = actors.id)</td>\n",
       "        </tr>\n",
       "    </tbody>\n",
       "</table>\n",
       "<span style=\"font-style:italic;text-align:center;\">Truncated to <a href=\"https://jupysql.ploomber.io/en/latest/api/configuration.html#displaylimit\">displaylimit</a> of 10.</span>"
      ],
      "text/plain": [
       "+------------------------------------------------------------------------------------------------------------------------------------+\n",
       "|                                                             QUERY PLAN                                                             |\n",
       "+------------------------------------------------------------------------------------------------------------------------------------+\n",
       "|       Gather Merge  (cost=160273.59..375337.94 rows=1843280 width=26) (actual time=2576.845..3580.578 rows=2211936 loops=1)        |\n",
       "|                                                          Workers Planned: 2                                                        |\n",
       "|                                                         Workers Launched: 2                                                        |\n",
       "|           ->  Sort  (cost=159273.57..161577.67 rows=921640 width=26) (actual time=2524.434..2699.209 rows=737312 loops=3)          |\n",
       "|                                                            Sort Key: actors.id                                                     |\n",
       "|                                                 Sort Method: external merge  Disk: 27384kB                                         |\n",
       "|                                           Worker 0:  Sort Method: external merge  Disk: 27336kB                                    |\n",
       "|                                           Worker 1:  Sort Method: external merge  Disk: 27360kB                                    |\n",
       "|         ->  Parallel Hash Join  (cost=15222.20..45913.91 rows=921640 width=26) (actual time=684.880..1545.001 rows=737312 loops=3) |\n",
       "|                                                   Hash Cond: (cast_info.person_id = actors.id)                                     |\n",
       "+------------------------------------------------------------------------------------------------------------------------------------+\n",
       "Truncated to displaylimit of 10."
      ]
     },
     "execution_count": 4,
     "metadata": {},
     "output_type": "execute_result"
    }
   ],
   "source": [
    "%%sql\n",
    "EXPLAIN ANALYZE \n",
    "SELECT *\n",
    "FROM actors AS a\n",
    "INNER JOIN cast_info AS c\n",
    "ON a.id = c.person_id;\n"
   ]
  },
  {
   "cell_type": "markdown",
   "id": "170a64fa-acc5-4e58-8a7f-aad442703b50",
   "metadata": {},
   "source": [
    "<br/>\n",
    "\n",
    "---\n",
    "\n",
    "Sometimes you may prefer to adjust the PostgreSQL settings to force a specific performance of a query. \n",
    "In the remainder of this question we will explore how to specify these settings. Note that settings tweaking for a single query is **not recommended** in practice, as it affects all of your queries! However, if you know specific characteristics of how your database will be queried in general, then by all means, dive in to adjust these knobs."
   ]
  },
  {
   "cell_type": "markdown",
   "id": "7d1e879c-d7bb-4945-b7da-9d5825a50f49",
   "metadata": {},
   "source": [
    "* All runtime parameters for PostgreSQL are in one view, called `pg_settings` (Documentation 54.24 [link](https://www.postgresql.org/docs/current/view-pg-settings.html)).\n",
    "* In particular, the Planner Method Configuration (Documentation 20.7.1 [link](https://www.postgresql.org/docs/current/runtime-config-query.html#GUC-SEQ-PAGE-COST)) includes the parameter descriptions for the query optimizer.\n",
    "\n",
    "We encourage you to keep these pages up as you explore the next activity."
   ]
  },
  {
   "cell_type": "markdown",
   "id": "f274df09-1b9c-4652-8b08-25005c2f96d2",
   "metadata": {},
   "source": [
    "## Question 11"
   ]
  },
  {
   "cell_type": "markdown",
   "id": "208513a6-e1f3-4d4d-a68e-38573e5ee2b1",
   "metadata": {},
   "source": [
    "Run the below query. Which settings are related to selecting the type of join that the query optimizer can select?"
   ]
  },
  {
   "cell_type": "code",
   "execution_count": 9,
   "id": "1efb6c05-31f1-4c0b-aa55-eaf38b4cf65d",
   "metadata": {},
   "outputs": [
    {
     "data": {
      "text/html": [
       "<span style=\"None\">displaylimit: Value None will be treated as 0 (no limit)</span>"
      ],
      "text/plain": [
       "displaylimit: Value None will be treated as 0 (no limit)"
      ]
     },
     "metadata": {},
     "output_type": "display_data"
    }
   ],
   "source": [
    "%config SqlMagic.displaylimit = None"
   ]
  },
  {
   "cell_type": "code",
   "execution_count": 10,
   "id": "09778108-7606-4ba6-b4d5-5a63bdff369a",
   "metadata": {},
   "outputs": [
    {
     "data": {
      "text/html": [
       "<span style=\"None\">Running query in &#x27;postgresql://127.0.0.1:5432/imdb_perf_lecture&#x27;</span>"
      ],
      "text/plain": [
       "Running query in 'postgresql://127.0.0.1:5432/imdb_perf_lecture'"
      ]
     },
     "metadata": {},
     "output_type": "display_data"
    },
    {
     "data": {
      "text/html": [
       "<span style=\"color: green\">20 rows affected.</span>"
      ],
      "text/plain": [
       "20 rows affected."
      ]
     },
     "metadata": {},
     "output_type": "display_data"
    },
    {
     "data": {
      "text/html": [
       "<table>\n",
       "    <thead>\n",
       "        <tr>\n",
       "            <th>name</th>\n",
       "        </tr>\n",
       "    </thead>\n",
       "    <tbody>\n",
       "        <tr>\n",
       "            <td>enable_async_append</td>\n",
       "        </tr>\n",
       "        <tr>\n",
       "            <td>enable_bitmapscan</td>\n",
       "        </tr>\n",
       "        <tr>\n",
       "            <td>enable_gathermerge</td>\n",
       "        </tr>\n",
       "        <tr>\n",
       "            <td>enable_hashagg</td>\n",
       "        </tr>\n",
       "        <tr>\n",
       "            <td>enable_hashjoin</td>\n",
       "        </tr>\n",
       "        <tr>\n",
       "            <td>enable_incremental_sort</td>\n",
       "        </tr>\n",
       "        <tr>\n",
       "            <td>enable_indexonlyscan</td>\n",
       "        </tr>\n",
       "        <tr>\n",
       "            <td>enable_indexscan</td>\n",
       "        </tr>\n",
       "        <tr>\n",
       "            <td>enable_material</td>\n",
       "        </tr>\n",
       "        <tr>\n",
       "            <td>enable_memoize</td>\n",
       "        </tr>\n",
       "        <tr>\n",
       "            <td>enable_mergejoin</td>\n",
       "        </tr>\n",
       "        <tr>\n",
       "            <td>enable_nestloop</td>\n",
       "        </tr>\n",
       "        <tr>\n",
       "            <td>enable_parallel_append</td>\n",
       "        </tr>\n",
       "        <tr>\n",
       "            <td>enable_parallel_hash</td>\n",
       "        </tr>\n",
       "        <tr>\n",
       "            <td>enable_partition_pruning</td>\n",
       "        </tr>\n",
       "        <tr>\n",
       "            <td>enable_partitionwise_aggregate</td>\n",
       "        </tr>\n",
       "        <tr>\n",
       "            <td>enable_partitionwise_join</td>\n",
       "        </tr>\n",
       "        <tr>\n",
       "            <td>enable_seqscan</td>\n",
       "        </tr>\n",
       "        <tr>\n",
       "            <td>enable_sort</td>\n",
       "        </tr>\n",
       "        <tr>\n",
       "            <td>enable_tidscan</td>\n",
       "        </tr>\n",
       "    </tbody>\n",
       "</table>"
      ],
      "text/plain": [
       "+--------------------------------+\n",
       "|              name              |\n",
       "+--------------------------------+\n",
       "|      enable_async_append       |\n",
       "|       enable_bitmapscan        |\n",
       "|       enable_gathermerge       |\n",
       "|         enable_hashagg         |\n",
       "|        enable_hashjoin         |\n",
       "|    enable_incremental_sort     |\n",
       "|      enable_indexonlyscan      |\n",
       "|        enable_indexscan        |\n",
       "|        enable_material         |\n",
       "|         enable_memoize         |\n",
       "|        enable_mergejoin        |\n",
       "|        enable_nestloop         |\n",
       "|     enable_parallel_append     |\n",
       "|      enable_parallel_hash      |\n",
       "|    enable_partition_pruning    |\n",
       "| enable_partitionwise_aggregate |\n",
       "|   enable_partitionwise_join    |\n",
       "|         enable_seqscan         |\n",
       "|          enable_sort           |\n",
       "|         enable_tidscan         |\n",
       "+--------------------------------+"
      ]
     },
     "execution_count": 10,
     "metadata": {},
     "output_type": "execute_result"
    }
   ],
   "source": [
    "%%sql\n",
    "SELECT name\n",
    "FROM pg_settings\n",
    "WHERE name LIKE 'enable_%';"
   ]
  },
  {
   "cell_type": "markdown",
   "id": "c2bc3c4c-69bc-4dae-b114-e593ce4e854f",
   "metadata": {},
   "source": [
    "## Question 12"
   ]
  },
  {
   "cell_type": "markdown",
   "id": "a359e3ce-0117-455c-ba0e-b6c9c88394f3",
   "metadata": {},
   "source": [
    "Let's suppose we turn off hash join as an option for the query optimizer. The syntax is included for you below."
   ]
  },
  {
   "cell_type": "code",
   "execution_count": 11,
   "id": "6b3c41be-9ffe-4a6d-ac68-c961af371e4e",
   "metadata": {},
   "outputs": [
    {
     "data": {
      "text/html": [
       "<span style=\"None\">Running query in &#x27;postgresql://127.0.0.1:5432/imdb_perf_lecture&#x27;</span>"
      ],
      "text/plain": [
       "Running query in 'postgresql://127.0.0.1:5432/imdb_perf_lecture'"
      ]
     },
     "metadata": {},
     "output_type": "display_data"
    },
    {
     "data": {
      "text/html": [
       "<table>\n",
       "    <thead>\n",
       "        <tr>\n",
       "        </tr>\n",
       "    </thead>\n",
       "    <tbody>\n",
       "    </tbody>\n",
       "</table>"
      ],
      "text/plain": [
       "++\n",
       "||\n",
       "++\n",
       "++"
      ]
     },
     "execution_count": 11,
     "metadata": {},
     "output_type": "execute_result"
    }
   ],
   "source": [
    "# just run this cell\n",
    "%sql set enable_hashjoin=false;"
   ]
  },
  {
   "cell_type": "markdown",
   "id": "0d0e0829-edc9-4d6c-8a1d-3e89b83a4691",
   "metadata": {},
   "source": [
    "Copy your `EXPLAIN ANALYZE` command from Question 10 and rerun it below.\n",
    "\n",
    "**Discuss**: Recall that our intial query was performed using hash joins; what is the join the query optimizer picks below? Why might this be preferred over the remaining alternatives?"
   ]
  },
  {
   "cell_type": "code",
   "execution_count": 12,
   "id": "9fab9810-dce0-481c-bdda-0b861d97c971",
   "metadata": {},
   "outputs": [
    {
     "data": {
      "text/html": [
       "<span style=\"None\">Running query in &#x27;postgresql://127.0.0.1:5432/imdb_perf_lecture&#x27;</span>"
      ],
      "text/plain": [
       "Running query in 'postgresql://127.0.0.1:5432/imdb_perf_lecture'"
      ]
     },
     "metadata": {},
     "output_type": "display_data"
    },
    {
     "data": {
      "text/html": [
       "<span style=\"color: green\">14 rows affected.</span>"
      ],
      "text/plain": [
       "14 rows affected."
      ]
     },
     "metadata": {},
     "output_type": "display_data"
    },
    {
     "data": {
      "text/html": [
       "<table>\n",
       "    <thead>\n",
       "        <tr>\n",
       "            <th>QUERY PLAN</th>\n",
       "        </tr>\n",
       "    </thead>\n",
       "    <tbody>\n",
       "        <tr>\n",
       "            <td>Merge Join  (cost=325499.41..405308.26 rows=2211936 width=26) (actual time=860.594..1934.699 rows=2211936 loops=1)</td>\n",
       "        </tr>\n",
       "        <tr>\n",
       "            <td>&nbsp;&nbsp;Merge Cond: (actors.id = cast_info.person_id)</td>\n",
       "        </tr>\n",
       "        <tr>\n",
       "            <td>&nbsp;&nbsp;->  Index Scan using actor_pkey on actors  (cost=0.42..38992.95 rows=845888 width=18) (actual time=0.056..168.143 rows=845888 loops=1)</td>\n",
       "        </tr>\n",
       "        <tr>\n",
       "            <td>&nbsp;&nbsp;->  Materialize  (cost=325497.89..336557.57 rows=2211936 width=8) (actual time=855.408..1341.910 rows=2211936 loops=1)</td>\n",
       "        </tr>\n",
       "        <tr>\n",
       "            <td>&nbsp;&nbsp;&nbsp;&nbsp;&nbsp;&nbsp;&nbsp;&nbsp;->  Sort  (cost=325497.89..331027.73 rows=2211936 width=8) (actual time=855.401..1129.626 rows=2211936 loops=1)</td>\n",
       "        </tr>\n",
       "        <tr>\n",
       "            <td>&nbsp;&nbsp;&nbsp;&nbsp;&nbsp;&nbsp;&nbsp;&nbsp;&nbsp;&nbsp;&nbsp;&nbsp;&nbsp;&nbsp;Sort Key: cast_info.person_id</td>\n",
       "        </tr>\n",
       "        <tr>\n",
       "            <td>&nbsp;&nbsp;&nbsp;&nbsp;&nbsp;&nbsp;&nbsp;&nbsp;&nbsp;&nbsp;&nbsp;&nbsp;&nbsp;&nbsp;Sort Method: external merge  Disk: 39000kB</td>\n",
       "        </tr>\n",
       "        <tr>\n",
       "            <td>&nbsp;&nbsp;&nbsp;&nbsp;&nbsp;&nbsp;&nbsp;&nbsp;&nbsp;&nbsp;&nbsp;&nbsp;&nbsp;&nbsp;->  Seq Scan on cast_info  (cost=0.00..31907.36 rows=2211936 width=8) (actual time=0.027..147.011 rows=2211936 loops=1)</td>\n",
       "        </tr>\n",
       "        <tr>\n",
       "            <td>Planning Time: 0.136 ms</td>\n",
       "        </tr>\n",
       "        <tr>\n",
       "            <td>JIT:</td>\n",
       "        </tr>\n",
       "        <tr>\n",
       "            <td>&nbsp;&nbsp;Functions: 7</td>\n",
       "        </tr>\n",
       "        <tr>\n",
       "            <td>&nbsp;&nbsp;Options: Inlining false, Optimization false, Expressions true, Deforming true</td>\n",
       "        </tr>\n",
       "        <tr>\n",
       "            <td>&nbsp;&nbsp;Timing: Generation 0.517 ms, Inlining 0.000 ms, Optimization 0.396 ms, Emission 4.513 ms, Total 5.425 ms</td>\n",
       "        </tr>\n",
       "        <tr>\n",
       "            <td>Execution Time: 2037.610 ms</td>\n",
       "        </tr>\n",
       "    </tbody>\n",
       "</table>"
      ],
      "text/plain": [
       "+------------------------------------------------------------------------------------------------------------------------------------------+\n",
       "|                                                                QUERY PLAN                                                                |\n",
       "+------------------------------------------------------------------------------------------------------------------------------------------+\n",
       "|            Merge Join  (cost=325499.41..405308.26 rows=2211936 width=26) (actual time=860.594..1934.699 rows=2211936 loops=1)            |\n",
       "|                                               Merge Cond: (actors.id = cast_info.person_id)                                              |\n",
       "|   ->  Index Scan using actor_pkey on actors  (cost=0.42..38992.95 rows=845888 width=18) (actual time=0.056..168.143 rows=845888 loops=1) |\n",
       "|           ->  Materialize  (cost=325497.89..336557.57 rows=2211936 width=8) (actual time=855.408..1341.910 rows=2211936 loops=1)         |\n",
       "|                 ->  Sort  (cost=325497.89..331027.73 rows=2211936 width=8) (actual time=855.401..1129.626 rows=2211936 loops=1)          |\n",
       "|                                                             Sort Key: cast_info.person_id                                                |\n",
       "|                                                       Sort Method: external merge  Disk: 39000kB                                         |\n",
       "|                ->  Seq Scan on cast_info  (cost=0.00..31907.36 rows=2211936 width=8) (actual time=0.027..147.011 rows=2211936 loops=1)   |\n",
       "|                                                         Planning Time: 0.136 ms                                                          |\n",
       "|                                                                   JIT:                                                                   |\n",
       "|                                                                Functions: 7                                                              |\n",
       "|                               Options: Inlining false, Optimization false, Expressions true, Deforming true                              |\n",
       "|                  Timing: Generation 0.517 ms, Inlining 0.000 ms, Optimization 0.396 ms, Emission 4.513 ms, Total 5.425 ms                |\n",
       "|                                                       Execution Time: 2037.610 ms                                                        |\n",
       "+------------------------------------------------------------------------------------------------------------------------------------------+"
      ]
     },
     "execution_count": 12,
     "metadata": {},
     "output_type": "execute_result"
    }
   ],
   "source": [
    "%%sql\n",
    "EXPLAIN ANALYZE \n",
    "SELECT *\n",
    "FROM actors AS a\n",
    "INNER JOIN cast_info AS c\n",
    "ON a.id = c.person_id;\n"
   ]
  },
  {
   "cell_type": "markdown",
   "id": "ad4c3725-4ebc-4a54-a947-bda16a0484b1",
   "metadata": {},
   "source": [
    "## Question 13"
   ]
  },
  {
   "cell_type": "markdown",
   "id": "27084c39-ec60-4947-8fc7-1e44eb005f3b",
   "metadata": {},
   "source": [
    "Next, what if we turn off the option for using the join in Question 10? In the cell below, replace `# YOUR CODE HERE` with the one-line SQL magic that will set the corresponding `pg_settings` entry to `false`."
   ]
  },
  {
   "cell_type": "code",
   "execution_count": 13,
   "id": "5d350548-d8ff-40dd-b7a9-4409d72305be",
   "metadata": {},
   "outputs": [
    {
     "data": {
      "text/html": [
       "<span style=\"None\">Running query in &#x27;postgresql://127.0.0.1:5432/imdb_perf_lecture&#x27;</span>"
      ],
      "text/plain": [
       "Running query in 'postgresql://127.0.0.1:5432/imdb_perf_lecture'"
      ]
     },
     "metadata": {},
     "output_type": "display_data"
    },
    {
     "data": {
      "text/html": [
       "<table>\n",
       "    <thead>\n",
       "        <tr>\n",
       "        </tr>\n",
       "    </thead>\n",
       "    <tbody>\n",
       "    </tbody>\n",
       "</table>"
      ],
      "text/plain": [
       "++\n",
       "||\n",
       "++\n",
       "++"
      ]
     },
     "execution_count": 13,
     "metadata": {},
     "output_type": "execute_result"
    }
   ],
   "source": [
    "# YOUR SQL line MAGIC HERE\n",
    "%sql set enable_mergejoin=false;"
   ]
  },
  {
   "cell_type": "markdown",
   "id": "bbea0d2a-6b37-4489-9557-14970ca9d1aa",
   "metadata": {},
   "source": [
    "Copy your `EXPLAIN ANALYZE` command from the previous parts and rerun it below. Note the selected join, as well as the significnatly longer execution time!"
   ]
  },
  {
   "cell_type": "code",
   "execution_count": 14,
   "id": "98fab354-64d8-4ba8-82b1-fd9f45a32aeb",
   "metadata": {},
   "outputs": [
    {
     "data": {
      "text/html": [
       "<span style=\"None\">Running query in &#x27;postgresql://127.0.0.1:5432/imdb_perf_lecture&#x27;</span>"
      ],
      "text/plain": [
       "Running query in 'postgresql://127.0.0.1:5432/imdb_perf_lecture'"
      ]
     },
     "metadata": {},
     "output_type": "display_data"
    },
    {
     "data": {
      "text/html": [
       "<span style=\"color: green\">19 rows affected.</span>"
      ],
      "text/plain": [
       "19 rows affected."
      ]
     },
     "metadata": {},
     "output_type": "display_data"
    },
    {
     "data": {
      "text/html": [
       "<table>\n",
       "    <thead>\n",
       "        <tr>\n",
       "            <th>QUERY PLAN</th>\n",
       "        </tr>\n",
       "    </thead>\n",
       "    <tbody>\n",
       "        <tr>\n",
       "            <td>Gather  (cost=1000.43..633539.36 rows=2211936 width=26) (actual time=241.271..6354.512 rows=2211936 loops=1)</td>\n",
       "        </tr>\n",
       "        <tr>\n",
       "            <td>&nbsp;&nbsp;Workers Planned: 2</td>\n",
       "        </tr>\n",
       "        <tr>\n",
       "            <td>&nbsp;&nbsp;Workers Launched: 2</td>\n",
       "        </tr>\n",
       "        <tr>\n",
       "            <td>&nbsp;&nbsp;->  Nested Loop  (cost=0.43..411345.76 rows=921640 width=26) (actual time=280.761..5121.940 rows=737312 loops=3)</td>\n",
       "        </tr>\n",
       "        <tr>\n",
       "            <td>&nbsp;&nbsp;&nbsp;&nbsp;&nbsp;&nbsp;&nbsp;&nbsp;->  Parallel Seq Scan on cast_info  (cost=0.00..19004.40 rows=921640 width=8) (actual time=0.039..216.512 rows=737312 loops=3)</td>\n",
       "        </tr>\n",
       "        <tr>\n",
       "            <td>&nbsp;&nbsp;&nbsp;&nbsp;&nbsp;&nbsp;&nbsp;&nbsp;->  Memoize  (cost=0.43..0.47 rows=1 width=18) (actual time=0.006..0.006 rows=1 loops=2211936)</td>\n",
       "        </tr>\n",
       "        <tr>\n",
       "            <td>&nbsp;&nbsp;&nbsp;&nbsp;&nbsp;&nbsp;&nbsp;&nbsp;&nbsp;&nbsp;&nbsp;&nbsp;&nbsp;&nbsp;Cache Key: cast_info.person_id</td>\n",
       "        </tr>\n",
       "        <tr>\n",
       "            <td>&nbsp;&nbsp;&nbsp;&nbsp;&nbsp;&nbsp;&nbsp;&nbsp;&nbsp;&nbsp;&nbsp;&nbsp;&nbsp;&nbsp;Cache Mode: logical</td>\n",
       "        </tr>\n",
       "        <tr>\n",
       "            <td>&nbsp;&nbsp;&nbsp;&nbsp;&nbsp;&nbsp;&nbsp;&nbsp;&nbsp;&nbsp;&nbsp;&nbsp;&nbsp;&nbsp;Hits: 353079  Misses: 360703  Evictions: 325310  Overflows: 0  Memory Usage: 4097kB</td>\n",
       "        </tr>\n",
       "        <tr>\n",
       "            <td>&nbsp;&nbsp;&nbsp;&nbsp;&nbsp;&nbsp;&nbsp;&nbsp;&nbsp;&nbsp;&nbsp;&nbsp;&nbsp;&nbsp;Worker 0:  Hits: 370101  Misses: 384513  Evictions: 349123  Overflows: 0  Memory Usage: 4097kB</td>\n",
       "        </tr>\n",
       "        <tr>\n",
       "            <td>&nbsp;&nbsp;&nbsp;&nbsp;&nbsp;&nbsp;&nbsp;&nbsp;&nbsp;&nbsp;&nbsp;&nbsp;&nbsp;&nbsp;Worker 1:  Hits: 364012  Misses: 379528  Evictions: 344140  Overflows: 0  Memory Usage: 4097kB</td>\n",
       "        </tr>\n",
       "        <tr>\n",
       "            <td>&nbsp;&nbsp;&nbsp;&nbsp;&nbsp;&nbsp;&nbsp;&nbsp;&nbsp;&nbsp;&nbsp;&nbsp;&nbsp;&nbsp;->  Index Scan using actor_pkey on actors  (cost=0.42..0.46 rows=1 width=18) (actual time=0.008..0.008 rows=1 loops=1124744)</td>\n",
       "        </tr>\n",
       "        <tr>\n",
       "            <td>&nbsp;&nbsp;&nbsp;&nbsp;&nbsp;&nbsp;&nbsp;&nbsp;&nbsp;&nbsp;&nbsp;&nbsp;&nbsp;&nbsp;&nbsp;&nbsp;&nbsp;&nbsp;&nbsp;&nbsp;Index Cond: (id = cast_info.person_id)</td>\n",
       "        </tr>\n",
       "        <tr>\n",
       "            <td>Planning Time: 0.128 ms</td>\n",
       "        </tr>\n",
       "        <tr>\n",
       "            <td>JIT:</td>\n",
       "        </tr>\n",
       "        <tr>\n",
       "            <td>&nbsp;&nbsp;Functions: 27</td>\n",
       "        </tr>\n",
       "        <tr>\n",
       "            <td>&nbsp;&nbsp;Options: Inlining true, Optimization true, Expressions true, Deforming true</td>\n",
       "        </tr>\n",
       "        <tr>\n",
       "            <td>&nbsp;&nbsp;Timing: Generation 2.972 ms, Inlining 361.519 ms, Optimization 220.472 ms, Emission 259.416 ms, Total 844.379 ms</td>\n",
       "        </tr>\n",
       "        <tr>\n",
       "            <td>Execution Time: 6432.109 ms</td>\n",
       "        </tr>\n",
       "    </tbody>\n",
       "</table>"
      ],
      "text/plain": [
       "+--------------------------------------------------------------------------------------------------------------------------------------------+\n",
       "|                                                                 QUERY PLAN                                                                 |\n",
       "+--------------------------------------------------------------------------------------------------------------------------------------------+\n",
       "|                Gather  (cost=1000.43..633539.36 rows=2211936 width=26) (actual time=241.271..6354.512 rows=2211936 loops=1)                |\n",
       "|                                                              Workers Planned: 2                                                            |\n",
       "|                                                             Workers Launched: 2                                                            |\n",
       "|               ->  Nested Loop  (cost=0.43..411345.76 rows=921640 width=26) (actual time=280.761..5121.940 rows=737312 loops=3)             |\n",
       "|           ->  Parallel Seq Scan on cast_info  (cost=0.00..19004.40 rows=921640 width=8) (actual time=0.039..216.512 rows=737312 loops=3)   |\n",
       "|                           ->  Memoize  (cost=0.43..0.47 rows=1 width=18) (actual time=0.006..0.006 rows=1 loops=2211936)                   |\n",
       "|                                                              Cache Key: cast_info.person_id                                                |\n",
       "|                                                                   Cache Mode: logical                                                      |\n",
       "|                                   Hits: 353079  Misses: 360703  Evictions: 325310  Overflows: 0  Memory Usage: 4097kB                      |\n",
       "|                              Worker 0:  Hits: 370101  Misses: 384513  Evictions: 349123  Overflows: 0  Memory Usage: 4097kB                |\n",
       "|                              Worker 1:  Hits: 364012  Misses: 379528  Evictions: 344140  Overflows: 0  Memory Usage: 4097kB                |\n",
       "|               ->  Index Scan using actor_pkey on actors  (cost=0.42..0.46 rows=1 width=18) (actual time=0.008..0.008 rows=1 loops=1124744) |\n",
       "|                                                             Index Cond: (id = cast_info.person_id)                                         |\n",
       "|                                                          Planning Time: 0.128 ms                                                           |\n",
       "|                                                                    JIT:                                                                    |\n",
       "|                                                                Functions: 27                                                               |\n",
       "|                                 Options: Inlining true, Optimization true, Expressions true, Deforming true                                |\n",
       "|               Timing: Generation 2.972 ms, Inlining 361.519 ms, Optimization 220.472 ms, Emission 259.416 ms, Total 844.379 ms             |\n",
       "|                                                        Execution Time: 6432.109 ms                                                         |\n",
       "+--------------------------------------------------------------------------------------------------------------------------------------------+"
      ]
     },
     "execution_count": 14,
     "metadata": {},
     "output_type": "execute_result"
    }
   ],
   "source": [
    "%%sql\n",
    "-- write your query here; edit to include EXPLAIN ANALYZE --\n"
   ]
  },
  {
   "cell_type": "markdown",
   "id": "efa97fe1-8cd2-4ae4-88b5-a4714253f3b3",
   "metadata": {},
   "source": [
    "## Question 14"
   ]
  },
  {
   "cell_type": "markdown",
   "id": "dea7cc8e-a4a8-4eb4-afe5-118cc51fb905",
   "metadata": {},
   "source": [
    "**Cleanup** Finally, reset the two settings you edited before to reenable the two join methods that you disabled in previous questions."
   ]
  },
  {
   "cell_type": "code",
   "execution_count": 21,
   "id": "a0e5d054-1e5f-497e-bd9a-1b2829af7247",
   "metadata": {},
   "outputs": [
    {
     "data": {
      "text/html": [
       "<span style=\"None\">Running query in &#x27;postgresql://127.0.0.1:5432/imdb_perf_lecture&#x27;</span>"
      ],
      "text/plain": [
       "Running query in 'postgresql://127.0.0.1:5432/imdb_perf_lecture'"
      ]
     },
     "metadata": {},
     "output_type": "display_data"
    },
    {
     "data": {
      "text/html": [
       "<table>\n",
       "    <thead>\n",
       "        <tr>\n",
       "        </tr>\n",
       "    </thead>\n",
       "    <tbody>\n",
       "    </tbody>\n",
       "</table>"
      ],
      "text/plain": [
       "++\n",
       "||\n",
       "++\n",
       "++"
      ]
     },
     "execution_count": 21,
     "metadata": {},
     "output_type": "execute_result"
    }
   ],
   "source": [
    "# YOUR SQL line MAGIC HERE\n",
    "%sql set enable_hashjoin=true; \n",
    "%sql set enable_hashjoin=true; "
   ]
  }
 ],
 "metadata": {
  "kernelspec": {
   "display_name": "Python 3 (ipykernel)",
   "language": "python",
   "name": "python3"
  },
  "language_info": {
   "codemirror_mode": {
    "name": "ipython",
    "version": 3
   },
   "file_extension": ".py",
   "mimetype": "text/x-python",
   "name": "python",
   "nbconvert_exporter": "python",
   "pygments_lexer": "ipython3",
   "version": "3.11.13"
  }
 },
 "nbformat": 4,
 "nbformat_minor": 5
}
