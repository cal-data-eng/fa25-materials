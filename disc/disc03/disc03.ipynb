{
 "cells": [
  {
   "cell_type": "markdown",
   "id": "665b78b2-89e5-42a7-8456-8420bfa0a5b5",
   "metadata": {},
   "source": [
    "# Discussion 03 Notebook\n",
    "\n",
    "This notebook is an accompaniment to the associated discussion worksheet handout."
   ]
  },
  {
   "cell_type": "markdown",
   "id": "5806e221-5f2b-4764-979a-32500a32d5ab",
   "metadata": {},
   "source": [
    "## Load in the IMDB Performance database\n",
    "\n",
    "This is a variation of the IMDB database with keys defined. Note that this is a pretty big database! So if you run the below lines, please also remember to delete the `imdb_perf_lecture` afterwards to save space on your limited postgreSQL server."
   ]
  },
  {
   "cell_type": "markdown",
   "id": "b5e5de78-740e-4e4d-9640-f769e7ec0cab",
   "metadata": {},
   "source": [
    "We assume you have the associated lecture folder `lec06` pulled into your repo already. The below commands create a symbolic link (i.e., shortcut/redirect with `ln`) to this lecture data directory, allowing some space saving, and unzip the database file."
   ]
  },
  {
   "cell_type": "code",
   "execution_count": 8,
   "id": "d2aea1bc-0807-4aeb-a5b8-e645609d0756",
   "metadata": {},
   "outputs": [
    {
     "name": "stdout",
     "output_type": "stream",
     "text": [
      "ERROR:  database \"imdb_perf_lecture\" is being accessed by other users\n",
      "DETAIL:  There is 1 other session using the database.\n",
      "ERROR:  database \"imdb_perf_lecture\" already exists\n",
      "psql: error: imdb_perf_lecture.sql: No such file or directory\n"
     ]
    }
   ],
   "source": [
    "!psql -h localhost -c 'DROP DATABASE IF EXISTS imdb_perf_lecture'\n",
    "!psql -h localhost -c 'CREATE DATABASE imdb_perf_lecture' \n",
    "!psql -h localhost -d imdb_perf_lecture -f imdb_perf_lecture.sql"
   ]
  },
  {
   "cell_type": "markdown",
   "id": "ac50b45c-5826-4938-8234-a3f74cdfad0c",
   "metadata": {},
   "source": [
    "Before starting this part, review the schema of the relations in the `imdb_perf_lecture` database. Here's the printout from `psql`:\n",
    "\n",
    "```\n",
    "imdb_perf_lecture=# \\d actors\n",
    "               Table \"public.actors\"\n",
    " Column |  Type   | Collation | Nullable | Default \n",
    "--------+---------+-----------+----------+---------\n",
    " id     | integer |           | not null | \n",
    " name   | text    |           |          | \n",
    "Indexes:\n",
    "    \"actor_pkey\" PRIMARY KEY, btree (id)\n",
    "Referenced by:\n",
    "    TABLE \"cast_info\" CONSTRAINT \"cast_info_person_id_fkey\" FOREIGN KEY (person_id) REFERENCES actors(id)\n",
    "\n",
    "imdb_perf_lecture=# \\d movies\n",
    "                   Table \"public.movies\"\n",
    "     Column      |  Type   | Collation | Nullable | Default \n",
    "-----------------+---------+-----------+----------+---------\n",
    " id              | integer |           | not null | \n",
    " title           | text    |           |          | \n",
    " year            | integer |           |          | \n",
    " runtime_minutes | integer |           |          | \n",
    "Indexes:\n",
    "    \"movie_pkey\" PRIMARY KEY, btree (id)\n",
    "Referenced by:\n",
    "    TABLE \"cast_info\" CONSTRAINT \"cast_info_movie_id_fkey\" FOREIGN KEY (movie_id) REFERENCES movies(id)\n",
    "\n",
    "imdb_perf_lecture=# \\d cast_info\n",
    "               Table \"public.cast_info\"\n",
    "  Column   |  Type   | Collation | Nullable | Default \n",
    "-----------+---------+-----------+----------+---------\n",
    " person_id | integer |           |          | \n",
    " movie_id  | integer |           |          | \n",
    "Foreign-key constraints:\n",
    "    \"cast_info_movie_id_fkey\" FOREIGN KEY (movie_id) REFERENCES movies(id)\n",
    "    \"cast_info_person_id_fkey\" FOREIGN KEY (person_id) REFERENCES actors(id)\n",
    "\n",
    "```"
   ]
  },
  {
   "cell_type": "code",
   "execution_count": 9,
   "id": "addb4b4a-9ca7-4474-bc5f-88c670bbb50f",
   "metadata": {},
   "outputs": [],
   "source": [
    "%reload_ext sql\n",
    "%sql postgresql://127.0.0.1:5432/imdb_perf_lecture\n",
    "import pandas as pd\n"
   ]
  },
  {
   "cell_type": "markdown",
   "id": "06a0adf5-ef49-40a4-8ed2-273dbccbabfc",
   "metadata": {},
   "source": [
    "# IV. Query Performance"
   ]
  },
  {
   "cell_type": "markdown",
   "id": "bc967b89-a3f9-4cb6-8844-dae770f57d08",
   "metadata": {},
   "source": [
    "This question looks at the impacts of **aggregation** and **sorting** on query performance."
   ]
  },
  {
   "cell_type": "code",
   "execution_count": 11,
   "id": "c1da4b73-ec2e-4e72-bedc-baab0c4c5cea",
   "metadata": {},
   "outputs": [
    {
     "data": {
      "text/html": [
       "<span style=\"None\">Running query in &#x27;postgresql://127.0.0.1:5432/imdb_perf_lecture&#x27;</span>"
      ],
      "text/plain": [
       "Running query in 'postgresql://127.0.0.1:5432/imdb_perf_lecture'"
      ]
     },
     "metadata": {},
     "output_type": "display_data"
    },
    {
     "name": "stderr",
     "output_type": "stream",
     "text": [
      "RuntimeError: If using snippets, you may pass the --with argument explicitly.\n",
      "For more details please refer: https://jupysql.ploomber.io/en/latest/compose.html#with-argument\n",
      "\n",
      "\n",
      "Original error message from DB driver:\n",
      "(psycopg2.errors.UndefinedTable) relation \"actors\" does not exist\n",
      "LINE 1: SELECT * FROM actors;\n",
      "                      ^\n",
      "\n",
      "[SQL: SELECT * FROM actors;]\n",
      "(Background on this error at: https://sqlalche.me/e/20/f405)\n",
      "\n"
     ]
    }
   ],
   "source": [
    "%%sql\n",
    "SELECT * FROM actors;"
   ]
  },
  {
   "cell_type": "markdown",
   "id": "575097f1-90e3-44df-8aa5-bd6c1424ec6e",
   "metadata": {},
   "source": [
    "## Question 8"
   ]
  },
  {
   "cell_type": "markdown",
   "id": "3cde964e-b0be-4190-b44e-c2087d2ed3c6",
   "metadata": {},
   "source": [
    "Write a query that returns the actor names and the number of times the corresponding name appears in the `actors` relation."
   ]
  },
  {
   "cell_type": "code",
   "execution_count": null,
   "id": "2c52c02d-3044-4fec-9b52-44c793d321a6",
   "metadata": {},
   "outputs": [],
   "source": [
    "%%sql\n",
    "-- write your query here --\n"
   ]
  },
  {
   "cell_type": "markdown",
   "id": "9d2571e4-a467-450d-82e2-9e0101d27487",
   "metadata": {},
   "source": [
    "## Question 9"
   ]
  },
  {
   "cell_type": "markdown",
   "id": "98983374-8b4a-4d56-9afc-07a894ed35a2",
   "metadata": {},
   "source": [
    "Write a query that returns the actor IDs and the number of times the corresponding ID appears in the `actors` relation."
   ]
  },
  {
   "cell_type": "code",
   "execution_count": null,
   "id": "098c3549-d7e4-498c-b0fe-0fbf1be240b5",
   "metadata": {},
   "outputs": [],
   "source": [
    "%%sql\n",
    "-- write your query here --\n"
   ]
  },
  {
   "cell_type": "markdown",
   "id": "a056a219-676e-4ccc-bdba-85054a4a1728",
   "metadata": {},
   "source": [
    "## Question 10"
   ]
  },
  {
   "cell_type": "markdown",
   "id": "a951f7e6-c2fb-44a6-b9b5-8eb67867242c",
   "metadata": {},
   "source": [
    "Run `EXPLAIN ANALYZE` on your two queries above. See below for the full question."
   ]
  },
  {
   "cell_type": "markdown",
   "id": "a2e8c4ab-2171-4a40-b513-04c2680f73f6",
   "metadata": {},
   "source": [
    "If you're having trouble seeing the entirety of the query plan, you can run the following cell to set the limit on displayed rows to 20. **Careful**: Do not set this to `None` and run the actual queries; SQL will return millions of rows and crash your kernel!"
   ]
  },
  {
   "cell_type": "code",
   "execution_count": null,
   "id": "c5838251-9ee8-46b7-b519-90ef9c52b3e3",
   "metadata": {},
   "outputs": [],
   "source": [
    "# run this cell to remove 10-row limit on display\n",
    "%config SqlMagic.displaylimit = 20\n"
   ]
  },
  {
   "cell_type": "code",
   "execution_count": null,
   "id": "c00633a8-f812-4911-abdb-6b338fe080d6",
   "metadata": {},
   "outputs": [],
   "source": [
    "%%sql\n",
    "-- write your EXPLAIN ANALYZE here --\n"
   ]
  },
  {
   "cell_type": "code",
   "execution_count": null,
   "id": "0ed0e292-b75f-466c-8d53-2e29d511270c",
   "metadata": {},
   "outputs": [],
   "source": [
    "%%sql\n",
    "-- write your EXPLAIN ANALYZE here --\n"
   ]
  },
  {
   "cell_type": "markdown",
   "id": "956803bb-31f5-42ae-819f-05b90131ec28",
   "metadata": {},
   "source": [
    "<br/><br/>\n",
    "\n",
    "**(Question, continued)**\n",
    "Why do you think the the `name` query use a Sequential Scan, whereas the `id` query use an Index Only scan?"
   ]
  },
  {
   "cell_type": "markdown",
   "id": "a6cae813-3cbe-4298-bf6e-6576cd26d84b",
   "metadata": {},
   "source": [
    "## Question 11"
   ]
  },
  {
   "cell_type": "markdown",
   "id": "44574338-0d9d-4fc0-ae0f-b8573e544bdb",
   "metadata": {},
   "source": [
    "Write a command that creates an index `name_actor_index` on the `name` attribute of `actors`."
   ]
  },
  {
   "cell_type": "code",
   "execution_count": null,
   "id": "853fbc1c-5b86-4d2f-af0b-cd003be11fb4",
   "metadata": {},
   "outputs": [],
   "source": [
    "%%sql\n",
    "-- write your query here --\n",
    "-- CREATE INDEX name_actor_index on actors (name);"
   ]
  },
  {
   "cell_type": "code",
   "execution_count": null,
   "id": "3eaa6fd7-6d29-47ba-84a7-34e07075ebed",
   "metadata": {},
   "outputs": [],
   "source": [
    "# DROP INDEX name_actor_index "
   ]
  },
  {
   "cell_type": "markdown",
   "id": "2dfa221e-3906-486b-abd1-84cb0dd90008",
   "metadata": {},
   "source": [
    "**(Question, continued)**\n",
    "Rerun your `EXPLAIN ANALYZE` of your Question 8 query on `name` by copying and pasting it into the cell below. See below for the discussion question."
   ]
  },
  {
   "cell_type": "code",
   "execution_count": null,
   "id": "4312dec4-f7bf-47ac-83d4-27060f58f8d2",
   "metadata": {},
   "outputs": [],
   "source": [
    "%%sql\n",
    "-- write your EXPLAIN ANALYZE here --\n"
   ]
  },
  {
   "cell_type": "markdown",
   "id": "3c8897ed-384b-4953-8da5-28b0d5b1da43",
   "metadata": {},
   "source": [
    "**(Question, continued)**\n",
    "Why does the `name` query now use an Index Only Scan? What index is it using?"
   ]
  },
  {
   "cell_type": "markdown",
   "id": "00e265ab-cc3f-4937-8bc8-a3bdd43751d2",
   "metadata": {},
   "source": [
    "## Question 12"
   ]
  },
  {
   "cell_type": "markdown",
   "id": "a17b1e13-8236-4703-879e-bda62536e4d0",
   "metadata": {},
   "source": [
    "Analyze the impact of sorting as follows. Rewrite your query from **Question 9** to return the entries sorted by ID. In other words, run an `EXPLAIN ANALYZE` on a query that returns the actor IDs (**sorted by lowest ID first**) and the number of times the corresponding ID appears in the `actors` relation.\n",
    "\n",
    "**Discuss**: Do you expect this query to take more time? Why or why not?"
   ]
  },
  {
   "cell_type": "code",
   "execution_count": null,
   "id": "fd6d92fb-75e0-4f78-819b-c578ed578ea2",
   "metadata": {},
   "outputs": [],
   "source": [
    "%%sql\n",
    "-- write your query here --\n"
   ]
  }
 ],
 "metadata": {
  "kernelspec": {
   "display_name": "Python 3 (ipykernel)",
   "language": "python",
   "name": "python3"
  },
  "language_info": {
   "codemirror_mode": {
    "name": "ipython",
    "version": 3
   },
   "file_extension": ".py",
   "mimetype": "text/x-python",
   "name": "python",
   "nbconvert_exporter": "python",
   "pygments_lexer": "ipython3",
   "version": "3.11.13"
  }
 },
 "nbformat": 4,
 "nbformat_minor": 5
}
