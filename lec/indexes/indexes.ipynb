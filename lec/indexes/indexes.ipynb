{
 "cells": [
  {
   "cell_type": "markdown",
   "id": "e8d7b8e2",
   "metadata": {},
   "source": [
    "# Performance: Indexes and Scans"
   ]
  },
  {
   "cell_type": "code",
   "execution_count": 1,
   "id": "3f7386cd",
   "metadata": {},
   "outputs": [],
   "source": [
    "# Run this cell to set up imports\n",
    "import numpy as np\n",
    "import pandas as pd"
   ]
  },
  {
   "cell_type": "code",
   "execution_count": 2,
   "id": "6cb3757e",
   "metadata": {},
   "outputs": [],
   "source": [
    "%reload_ext sql"
   ]
  },
  {
   "cell_type": "markdown",
   "id": "e9675e9c",
   "metadata": {},
   "source": [
    "## New IMDB Performance database\n",
    "\n",
    "This is a variation of the IMDB database with keys defined. Note that this is a pretty big database! So if you run the below lines, please also remember to delete the `imdb_perf_lecture` afterwards to save space on your limited postgreSQL server."
   ]
  },
  {
   "cell_type": "code",
   "execution_count": 3,
   "id": "1e244cf9",
   "metadata": {},
   "outputs": [
    {
     "name": "stdout",
     "output_type": "stream",
     "text": [
      "Archive:  data/imdb_perf_lecture.zip\n"
     ]
    }
   ],
   "source": [
    "!unzip -u data/imdb_perf_lecture.zip -d data/"
   ]
  },
  {
   "cell_type": "code",
   "execution_count": null,
   "id": "41a9652c",
   "metadata": {},
   "outputs": [],
   "source": [
    "!psql -h localhost -c 'DROP DATABASE IF EXISTS imdb_perf_lecture'\n",
    "!psql -h localhost -c 'CREATE DATABASE imdb_perf_lecture' \n",
    "!psql -h localhost -d imdb_perf_lecture -f data/imdb_perf_lecture.sql"
   ]
  },
  {
   "cell_type": "code",
   "execution_count": null,
   "id": "124be448",
   "metadata": {},
   "outputs": [],
   "source": [
    "%sql postgresql://127.0.0.1:5432/imdb_perf_lecture"
   ]
  },
  {
   "cell_type": "markdown",
   "id": "b66ff7ff",
   "metadata": {},
   "source": [
    "## Display indexes"
   ]
  },
  {
   "cell_type": "code",
   "execution_count": null,
   "id": "019590a6-4e2c-41e3-93ad-3b16989a8898",
   "metadata": {},
   "outputs": [],
   "source": [
    "%sqlcmd tables"
   ]
  },
  {
   "cell_type": "code",
   "execution_count": null,
   "id": "d2a0001b-a783-4c97-bec7-904c0ee05edd",
   "metadata": {},
   "outputs": [],
   "source": [
    "%sqlcmd columns -t actors"
   ]
  },
  {
   "cell_type": "markdown",
   "id": "fe8e5e07",
   "metadata": {},
   "source": [
    "The meta-command `\\d <relation>` shows indexes maintained with the `<relation>` table.\n",
    "\n",
    "You can also look in the system view `pg_indexes` ([documentation 54.11](https://www.postgresql.org/docs/current/view-pg-indexes.html)):"
   ]
  },
  {
   "cell_type": "code",
   "execution_count": null,
   "id": "5d59c981",
   "metadata": {},
   "outputs": [],
   "source": [
    "%%sql\n",
    "SELECT *\n",
    "FROM pg_indexes\n",
    "WHERE schemaname = 'public';"
   ]
  },
  {
   "cell_type": "markdown",
   "id": "13579705",
   "metadata": {},
   "source": [
    "Read the `indexdef` as: the Actor relation has an index named `actor_pkey` which is created on the attribute `id`. In this case, the attribute `id` is also the **primary key** of the Actor relation, hence why it has an index. More on why primary keys automatically generate indexes in a bit."
   ]
  },
  {
   "cell_type": "markdown",
   "id": "e493c3fa",
   "metadata": {},
   "source": [
    "# `EXPLAIN ANALYZE`\n",
    "\n",
    "This query seems like it runs pretty quickly:"
   ]
  },
  {
   "cell_type": "code",
   "execution_count": null,
   "id": "5d55370c",
   "metadata": {},
   "outputs": [],
   "source": [
    "%%sql\n",
    "SELECT * FROM Actors WHERE id = 23456;"
   ]
  },
  {
   "cell_type": "markdown",
   "id": "b3922d56",
   "metadata": {},
   "source": [
    "The PostgreSQL command `EXPLAIN ANALYZE` runs the **execution plan** of a statement and displays actual run time statistics. This is useful to understand what the query is actually doing. "
   ]
  },
  {
   "cell_type": "code",
   "execution_count": null,
   "id": "ab496903",
   "metadata": {},
   "outputs": [],
   "source": [
    "%%sql\n",
    "EXPLAIN ANALYZE SELECT * FROM Actors WHERE id = 23456;"
   ]
  },
  {
   "cell_type": "markdown",
   "id": "593872a5-1b78-477b-a364-4bb88da743bc",
   "metadata": {},
   "source": [
    "Try visualizing this on https://explain.dalibo.com/"
   ]
  },
  {
   "cell_type": "markdown",
   "id": "24a7b442",
   "metadata": {},
   "source": [
    "<br/>\n",
    "\n",
    "By contrast, the below query on `cast_info` runs quite slowly. Why?"
   ]
  },
  {
   "cell_type": "code",
   "execution_count": null,
   "id": "5bf633f8",
   "metadata": {},
   "outputs": [],
   "source": [
    "%%sql\n",
    "EXPLAIN ANALYZE SELECT * FROM Cast_info WHERE person_id = 23456;"
   ]
  },
  {
   "cell_type": "markdown",
   "id": "15ef0a8d",
   "metadata": {},
   "source": [
    "<br/>\n",
    "\n",
    "Explanation: `cast_info` does **not have an index** on `person_id`!\n"
   ]
  },
  {
   "cell_type": "markdown",
   "id": "01dcef54",
   "metadata": {},
   "source": [
    "# Creating new Indexes"
   ]
  },
  {
   "cell_type": "markdown",
   "id": "a385c520",
   "metadata": {},
   "source": [
    "In the Actors table, `name` is not a primary key. What kind of scan do you think the following query will produce?"
   ]
  },
  {
   "cell_type": "code",
   "execution_count": null,
   "id": "74287633",
   "metadata": {},
   "outputs": [],
   "source": [
    "%sql EXPLAIN ANALYZE SELECT * FROM Actors WHERE name = 'Tom Hanks';"
   ]
  },
  {
   "cell_type": "markdown",
   "id": "6690baf3",
   "metadata": {},
   "source": [
    "We can manually create an index, even if it's not a primary key. Below, we create a multi-dimensional index just to show you the syntax:"
   ]
  },
  {
   "cell_type": "code",
   "execution_count": null,
   "id": "5e9129b3",
   "metadata": {},
   "outputs": [],
   "source": [
    "%sql CREATE INDEX nameIdIndex ON actors(name,id);"
   ]
  },
  {
   "cell_type": "markdown",
   "id": "2f249e13",
   "metadata": {},
   "source": [
    "This makes our original query much faster:"
   ]
  },
  {
   "cell_type": "code",
   "execution_count": null,
   "id": "74f88cce",
   "metadata": {},
   "outputs": [],
   "source": [
    "%sql EXPLAIN ANALYZE SELECT * FROM actors WHERE name = 'Tom Hanks';"
   ]
  },
  {
   "cell_type": "markdown",
   "id": "2acfcd2e",
   "metadata": {},
   "source": [
    "Why \"Index Only\" Scan? Well, SQL correctly identified that there are only two attributes in the Actors table, and both are located in the index. So we just need to search the index; we don't need to additionally fetch any records."
   ]
  },
  {
   "cell_type": "markdown",
   "id": "ca67c6d3",
   "metadata": {},
   "source": [
    "# Exercise: Types of Scans"
   ]
  },
  {
   "cell_type": "markdown",
   "id": "0048f149",
   "metadata": {},
   "source": [
    "SQL automatically decides whether index scans are worth it. Sometimes, it decides to do a sequential scan instead, or even a bitmap heap scan."
   ]
  },
  {
   "cell_type": "markdown",
   "id": "15a85804",
   "metadata": {},
   "source": [
    "<br/>\n",
    "\n",
    "The below exact match lookup produces an Index Scan:"
   ]
  },
  {
   "cell_type": "code",
   "execution_count": null,
   "id": "bb096f2e",
   "metadata": {},
   "outputs": [],
   "source": [
    "%sql EXPLAIN ANALYZE SELECT * FROM actors WHERE id = 23456;\n"
   ]
  },
  {
   "cell_type": "markdown",
   "id": "6eb8d385",
   "metadata": {},
   "source": [
    "This range lookup **also** produces an Index Scan:"
   ]
  },
  {
   "cell_type": "code",
   "execution_count": null,
   "id": "95e92b4e",
   "metadata": {},
   "outputs": [],
   "source": [
    "%sql EXPLAIN ANALYZE SELECT * FROM actors WHERE 23456 <= id AND id < 23500;\n"
   ]
  },
  {
   "cell_type": "markdown",
   "id": "37c4689f",
   "metadata": {},
   "source": [
    "However, the below range lookup produces a **Sequential scan**!"
   ]
  },
  {
   "cell_type": "code",
   "execution_count": null,
   "id": "e5703dff",
   "metadata": {},
   "outputs": [],
   "source": [
    "%sql EXPLAIN ANALYZE SELECT * FROM actors WHERE id >= 23456;"
   ]
  },
  {
   "cell_type": "markdown",
   "id": "f54c4343",
   "metadata": {},
   "source": [
    "<br/>\n",
    "\n",
    "And this other range lookup produces a **Bitmap Heap Scan**??"
   ]
  },
  {
   "cell_type": "code",
   "execution_count": null,
   "id": "711b40d3",
   "metadata": {},
   "outputs": [],
   "source": [
    "%sql EXPLAIN ANALYZE SELECT * FROM actors WHERE 5 <= id AND id < 23457;"
   ]
  },
  {
   "cell_type": "markdown",
   "id": "98dee2a1",
   "metadata": {},
   "source": [
    "\n",
    "* Index scan:\n",
    "    * For each index key match, there is a page fetch.\n",
    "    * If multiple index key matches all correspond to a single page, that single page may get fetched multiple times.matches on our query.\n",
    "* Sequential scan:\n",
    "    * Once each page is loaded in, all records on that page are scanned in sequence.\n",
    "* Bitmap heap scan:\n",
    "    * Pre-scans the index to identify the unique pages to visit, then sequentially scans the subset of pages\n",
    "    * More here: [stackoverflow](https://stackoverflow.com/questions/6592626/what-is-a-bitmap-heap-scan-in-a-query-plan)\n",
    "    \n",
    "<br/><br/><br/><br/>\n",
    "\n",
    "Takeaway:\n",
    "* There is no guarantee that records on disk are sorted in the same way as records in the index.\n",
    "* Therefore index lookups are effectively random lookups! Many random lookups are typically more expensive than many sequential lookups!"
   ]
  },
  {
   "cell_type": "markdown",
   "id": "4c5ff3be",
   "metadata": {},
   "source": [
    "<br/>\n",
    "<br/>\n",
    "Other range lookups for your practice:"
   ]
  },
  {
   "cell_type": "code",
   "execution_count": null,
   "id": "030dac9f",
   "metadata": {},
   "outputs": [],
   "source": [
    "%sql EXPLAIN ANALYZE SELECT * FROM actors WHERE id >= 23456 AND id < 23500;"
   ]
  },
  {
   "cell_type": "code",
   "execution_count": null,
   "id": "8b12f54f",
   "metadata": {},
   "outputs": [],
   "source": [
    "%sql EXPLAIN ANALYZE SELECT * FROM actors WHERE id >= 23456 AND id < 23457;"
   ]
  },
  {
   "cell_type": "code",
   "execution_count": null,
   "id": "b35cbc78",
   "metadata": {},
   "outputs": [],
   "source": [
    "%sql EXPLAIN ANALYZE SELECT * FROM actors WHERE id >= 23456 OR id < 23457;"
   ]
  },
  {
   "cell_type": "markdown",
   "id": "4b13ca01",
   "metadata": {},
   "source": [
    "# Cleanup"
   ]
  },
  {
   "cell_type": "markdown",
   "id": "f34ce1fe",
   "metadata": {},
   "source": [
    "We drop the newly created index just to clean things up:"
   ]
  },
  {
   "cell_type": "code",
   "execution_count": null,
   "id": "df9f7fc2",
   "metadata": {},
   "outputs": [],
   "source": [
    "%sql DROP INDEX nameIdIndex;"
   ]
  },
  {
   "cell_type": "markdown",
   "id": "1afcb9bd",
   "metadata": {},
   "source": [
    "And we close the connection, then drop the database:"
   ]
  },
  {
   "cell_type": "code",
   "execution_count": null,
   "id": "27d40776",
   "metadata": {},
   "outputs": [],
   "source": [
    "%sql --close postgresql://127.0.0.1:5432/imdb_perf_lecture"
   ]
  },
  {
   "cell_type": "code",
   "execution_count": null,
   "id": "bf6bdf18",
   "metadata": {},
   "outputs": [],
   "source": [
    "!psql -h localhost -c 'DROP DATABASE IF EXISTS imdb_perf_lecture'"
   ]
  }
 ],
 "metadata": {
  "kernelspec": {
   "display_name": "Python 3 (ipykernel)",
   "language": "python",
   "name": "python3"
  },
  "language_info": {
   "codemirror_mode": {
    "name": "ipython",
    "version": 3
   },
   "file_extension": ".py",
   "mimetype": "text/x-python",
   "name": "python",
   "nbconvert_exporter": "python",
   "pygments_lexer": "ipython3",
   "version": "3.11.13"
  }
 },
 "nbformat": 4,
 "nbformat_minor": 5
}
