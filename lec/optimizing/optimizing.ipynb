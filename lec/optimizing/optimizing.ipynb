{
 "cells": [
  {
   "cell_type": "markdown",
   "id": "e8d7b8e2",
   "metadata": {},
   "source": [
    "# Query Optimization Demo"
   ]
  },
  {
   "cell_type": "code",
   "execution_count": 2,
   "id": "3f7386cd",
   "metadata": {},
   "outputs": [],
   "source": [
    "# Run this cell to set up imports\n",
    "import numpy as np\n",
    "import pandas as pd"
   ]
  },
  {
   "cell_type": "markdown",
   "id": "ed4619d0-d987-4156-ab04-a80d828ae140",
   "metadata": {},
   "source": [
    "## Load in the IMDB Performance database\n",
    "\n",
    "This is a variation of the IMDB database with keys defined. Note that this is a pretty big database! So if you run the below lines, please also remember to delete the `imdb_perf_lecture` afterwards to save space on your limited postgreSQL server."
   ]
  },
  {
   "cell_type": "markdown",
   "id": "3e345ec8-e2d1-47ed-8fc1-7c7188709dc0",
   "metadata": {},
   "source": [
    "We assume you have the associated lecture folder `indexes` pulled into your repo already. The below commands create a symbolic link (i.e., shortcut/redirect with `ln`) to this lecture data directory, allowing some space saving, and unzip the database file."
   ]
  },
  {
   "cell_type": "code",
   "execution_count": 3,
   "id": "b47615da-762d-4f02-822f-7a8791a59648",
   "metadata": {},
   "outputs": [
    {
     "name": "stdout",
     "output_type": "stream",
     "text": [
      "Archive:  data/imdb_perf_lecture.zip\n"
     ]
    }
   ],
   "source": [
    "!ln -sf ../../lec/indexes/data .\n",
    "!unzip -u data/imdb_perf_lecture.zip -d data/"
   ]
  },
  {
   "cell_type": "code",
   "execution_count": 4,
   "id": "41a9652c",
   "metadata": {},
   "outputs": [
    {
     "name": "stdout",
     "output_type": "stream",
     "text": [
      "DROP DATABASE\n",
      "CREATE DATABASE\n",
      "SET\n",
      "SET\n",
      "SET\n",
      "SET\n",
      "SET\n",
      " set_config \n",
      "------------\n",
      " \n",
      "(1 row)\n",
      "\n",
      "SET\n",
      "SET\n",
      "SET\n",
      "SET\n",
      "SET\n",
      "SET\n",
      "CREATE TABLE\n",
      "ALTER TABLE\n",
      "CREATE TABLE\n",
      "ALTER TABLE\n",
      "CREATE TABLE\n",
      "ALTER TABLE\n",
      "COPY 845888\n",
      "COPY 2211936\n",
      "COPY 656453\n",
      "ALTER TABLE\n",
      "ALTER TABLE\n",
      "ALTER TABLE\n",
      "ALTER TABLE\n"
     ]
    }
   ],
   "source": [
    "!psql -h localhost -c 'DROP DATABASE IF EXISTS imdb_perf_lecture'\n",
    "!psql -h localhost -c 'CREATE DATABASE imdb_perf_lecture' \n",
    "!psql -h localhost -d imdb_perf_lecture -f data/imdb_perf_lecture.sql"
   ]
  },
  {
   "cell_type": "markdown",
   "id": "6f3b81f1-c015-4a99-b6b8-a145037d5624",
   "metadata": {},
   "source": [
    "## Start `jupysql`"
   ]
  },
  {
   "cell_type": "code",
   "execution_count": 5,
   "id": "6cb3757e",
   "metadata": {},
   "outputs": [],
   "source": [
    "%reload_ext sql"
   ]
  },
  {
   "cell_type": "code",
   "execution_count": 6,
   "id": "124be448",
   "metadata": {},
   "outputs": [
    {
     "data": {
      "text/html": [
       "<span style=\"None\">Connecting to &#x27;postgresql://127.0.0.1:5432/imdb_perf_lecture&#x27;</span>"
      ],
      "text/plain": [
       "Connecting to 'postgresql://127.0.0.1:5432/imdb_perf_lecture'"
      ]
     },
     "metadata": {},
     "output_type": "display_data"
    }
   ],
   "source": [
    "%sql postgresql://127.0.0.1:5432/imdb_perf_lecture"
   ]
  },
  {
   "cell_type": "markdown",
   "id": "2dcaf784-54b9-4024-b7fc-b623d61ffb26",
   "metadata": {},
   "source": [
    "If you're having trouble seeing the entirety of query plans, you can run the following cell to set the limit on displayed rows to 20. **Careful**: Do not set this to `None` and run the actual queries; SQL will return millions of rows and crash your kernel!"
   ]
  },
  {
   "cell_type": "code",
   "execution_count": 7,
   "id": "4b622817-609a-4d4f-b49e-f788fff2934e",
   "metadata": {},
   "outputs": [],
   "source": [
    "# run this cell to remove 10-row limit on display\n",
    "%config SqlMagic.displaylimit = 20"
   ]
  },
  {
   "cell_type": "markdown",
   "id": "0700cca9-8c3d-4be8-99b7-086602a26268",
   "metadata": {},
   "source": [
    "## Single Table Plans: Impact of limits, orders, selections"
   ]
  },
  {
   "cell_type": "markdown",
   "id": "2480e7fb-dc94-4753-a288-b36dcba78319",
   "metadata": {},
   "source": [
    "\n",
    "\n",
    "\n",
    "<div class=\"alert alert-success\">\n",
    "It is much easier to see query plans in <b>psql</b>!<br/>\n",
    "<code>jupysql</code> dataframe visualization removes any whitespace.\n",
    "</div>\n",
    "\n",
    "You can also run (after each cell):\n",
    "```\n",
    "result = __.DataFrame()\n",
    "result.style.set_properties(**{'text-align': 'left'})\n",
    "print(result)\n",
    "```"
   ]
  },
  {
   "cell_type": "code",
   "execution_count": 8,
   "id": "c2464584-7ec8-4361-87a7-6ffef43c20d9",
   "metadata": {},
   "outputs": [],
   "source": [
    "def printplans(x):\n",
    "    result = x.DataFrame()\n",
    "    result.style.set_properties(**{'text-align': 'left'})\n",
    "    print(result)"
   ]
  },
  {
   "cell_type": "markdown",
   "id": "85726b01-c440-4850-aada-825e7161a485",
   "metadata": {},
   "source": [
    "<br/><br/>\n",
    "\n",
    "Let's start with a simple query. "
   ]
  },
  {
   "cell_type": "code",
   "execution_count": 47,
   "id": "169da418-7abe-488a-a25c-e9e239db7168",
   "metadata": {},
   "outputs": [
    {
     "data": {
      "text/html": [
       "<span style=\"None\">Running query in &#x27;postgresql://127.0.0.1:5432/imdb_perf_lecture&#x27;</span>"
      ],
      "text/plain": [
       "Running query in 'postgresql://127.0.0.1:5432/imdb_perf_lecture'"
      ]
     },
     "metadata": {},
     "output_type": "display_data"
    },
    {
     "data": {
      "text/html": [
       "<span style=\"color: green\">3 rows affected.</span>"
      ],
      "text/plain": [
       "3 rows affected."
      ]
     },
     "metadata": {},
     "output_type": "display_data"
    },
    {
     "data": {
      "text/html": [
       "<table>\n",
       "    <thead>\n",
       "        <tr>\n",
       "            <th>QUERY PLAN</th>\n",
       "        </tr>\n",
       "    </thead>\n",
       "    <tbody>\n",
       "        <tr>\n",
       "            <td>Seq Scan on actors  (cost=0.00..13684.88 rows=845888 width=4) (actual time=0.009..66.742 rows=845888 loops=1)</td>\n",
       "        </tr>\n",
       "        <tr>\n",
       "            <td>Planning Time: 0.048 ms</td>\n",
       "        </tr>\n",
       "        <tr>\n",
       "            <td>Execution Time: 90.349 ms</td>\n",
       "        </tr>\n",
       "    </tbody>\n",
       "</table>"
      ],
      "text/plain": [
       "+---------------------------------------------------------------------------------------------------------------+\n",
       "|                                                   QUERY PLAN                                                  |\n",
       "+---------------------------------------------------------------------------------------------------------------+\n",
       "| Seq Scan on actors  (cost=0.00..13684.88 rows=845888 width=4) (actual time=0.009..66.742 rows=845888 loops=1) |\n",
       "|                                            Planning Time: 0.048 ms                                            |\n",
       "|                                           Execution Time: 90.349 ms                                           |\n",
       "+---------------------------------------------------------------------------------------------------------------+"
      ]
     },
     "execution_count": 47,
     "metadata": {},
     "output_type": "execute_result"
    }
   ],
   "source": [
    "%%sql\n",
    "/* 1a */\n",
    "EXPLAIN ANALYZE SELECT id FROM actors;"
   ]
  },
  {
   "cell_type": "code",
   "execution_count": 48,
   "id": "010e01fb-cd6a-46a8-8d08-0e749b39bb0a",
   "metadata": {},
   "outputs": [
    {
     "name": "stdout",
     "output_type": "stream",
     "text": [
      "                                          QUERY PLAN\n",
      "0  Seq Scan on actors  (cost=0.00..13684.88 rows=...\n",
      "1                            Planning Time: 0.048 ms\n",
      "2                          Execution Time: 90.349 ms\n"
     ]
    }
   ],
   "source": [
    "printplans(_)"
   ]
  },
  {
   "cell_type": "markdown",
   "id": "b57afa8e-7db2-40b8-bed9-c329847ae48b",
   "metadata": {},
   "source": [
    "<br/><br/>\n",
    "\n",
    "Great, now let's see the impact of adding a LIMIT clause. "
   ]
  },
  {
   "cell_type": "code",
   "execution_count": 49,
   "id": "8804ab30-3778-48ca-a7b8-8b3c7627e2f8",
   "metadata": {},
   "outputs": [
    {
     "data": {
      "text/html": [
       "<span style=\"None\">Running query in &#x27;postgresql://127.0.0.1:5432/imdb_perf_lecture&#x27;</span>"
      ],
      "text/plain": [
       "Running query in 'postgresql://127.0.0.1:5432/imdb_perf_lecture'"
      ]
     },
     "metadata": {},
     "output_type": "display_data"
    },
    {
     "data": {
      "text/html": [
       "<span style=\"color: green\">4 rows affected.</span>"
      ],
      "text/plain": [
       "4 rows affected."
      ]
     },
     "metadata": {},
     "output_type": "display_data"
    },
    {
     "data": {
      "text/html": [
       "<table>\n",
       "    <thead>\n",
       "        <tr>\n",
       "            <th>QUERY PLAN</th>\n",
       "        </tr>\n",
       "    </thead>\n",
       "    <tbody>\n",
       "        <tr>\n",
       "            <td>Limit  (cost=0.00..0.16 rows=10 width=4) (actual time=0.009..0.010 rows=10 loops=1)</td>\n",
       "        </tr>\n",
       "        <tr>\n",
       "            <td>&nbsp;&nbsp;->  Seq Scan on actors  (cost=0.00..13684.88 rows=845888 width=4) (actual time=0.008..0.009 rows=10 loops=1)</td>\n",
       "        </tr>\n",
       "        <tr>\n",
       "            <td>Planning Time: 0.050 ms</td>\n",
       "        </tr>\n",
       "        <tr>\n",
       "            <td>Execution Time: 0.021 ms</td>\n",
       "        </tr>\n",
       "    </tbody>\n",
       "</table>"
      ],
      "text/plain": [
       "+----------------------------------------------------------------------------------------------------------------+\n",
       "|                                                   QUERY PLAN                                                   |\n",
       "+----------------------------------------------------------------------------------------------------------------+\n",
       "|              Limit  (cost=0.00..0.16 rows=10 width=4) (actual time=0.009..0.010 rows=10 loops=1)               |\n",
       "|   ->  Seq Scan on actors  (cost=0.00..13684.88 rows=845888 width=4) (actual time=0.008..0.009 rows=10 loops=1) |\n",
       "|                                            Planning Time: 0.050 ms                                             |\n",
       "|                                            Execution Time: 0.021 ms                                            |\n",
       "+----------------------------------------------------------------------------------------------------------------+"
      ]
     },
     "execution_count": 49,
     "metadata": {},
     "output_type": "execute_result"
    }
   ],
   "source": [
    "%%sql\n",
    "/* 1b */\n",
    "EXPLAIN ANALYZE SELECT id FROM actors LIMIT 10;"
   ]
  },
  {
   "cell_type": "code",
   "execution_count": 50,
   "id": "d1c359b2-89bd-4442-9102-711c413e91e6",
   "metadata": {},
   "outputs": [
    {
     "name": "stdout",
     "output_type": "stream",
     "text": [
      "                                          QUERY PLAN\n",
      "0  Limit  (cost=0.00..0.16 rows=10 width=4) (actu...\n",
      "1    ->  Seq Scan on actors  (cost=0.00..13684.88...\n",
      "2                            Planning Time: 0.050 ms\n",
      "3                           Execution Time: 0.021 ms\n"
     ]
    },
    {
     "data": {
      "text/html": [
       "<span style=\"None\">Closing postgresql://127.0.0.1:5432/imdb_perf_lecture</span>"
      ],
      "text/plain": [
       "Closing postgresql://127.0.0.1:5432/imdb_perf_lecture"
      ]
     },
     "metadata": {},
     "output_type": "display_data"
    }
   ],
   "source": [
    "printplans(_)"
   ]
  },
  {
   "cell_type": "markdown",
   "id": "86a273f0-868d-4e74-a6eb-9be14f9dd406",
   "metadata": {},
   "source": [
    "<br/><br/>\n",
    "\n",
    "Wow - that dropped quite a bit!\n",
    "\n",
    "What if we add an ORDER BY?"
   ]
  },
  {
   "cell_type": "code",
   "execution_count": 20,
   "id": "01cacc2d-c857-4630-b9d6-102367cd68f6",
   "metadata": {},
   "outputs": [
    {
     "data": {
      "text/html": [
       "<span style=\"None\">Running query in &#x27;postgresql://127.0.0.1:5432/imdb_perf_lecture&#x27;</span>"
      ],
      "text/plain": [
       "Running query in 'postgresql://127.0.0.1:5432/imdb_perf_lecture'"
      ]
     },
     "metadata": {},
     "output_type": "display_data"
    },
    {
     "data": {
      "text/html": [
       "<span style=\"color: green\">12 rows affected.</span>"
      ],
      "text/plain": [
       "12 rows affected."
      ]
     },
     "metadata": {},
     "output_type": "display_data"
    },
    {
     "data": {
      "text/html": [
       "<table>\n",
       "    <thead>\n",
       "        <tr>\n",
       "            <th>QUERY PLAN</th>\n",
       "        </tr>\n",
       "    </thead>\n",
       "    <tbody>\n",
       "        <tr>\n",
       "            <td>Limit  (cost=17366.94..17368.11 rows=10 width=18) (actual time=118.898..121.367 rows=10 loops=1)</td>\n",
       "        </tr>\n",
       "        <tr>\n",
       "            <td>&nbsp;&nbsp;->  Gather Merge  (cost=17366.94..99611.72 rows=704906 width=18) (actual time=118.896..121.363 rows=10 loops=1)</td>\n",
       "        </tr>\n",
       "        <tr>\n",
       "            <td>&nbsp;&nbsp;&nbsp;&nbsp;&nbsp;&nbsp;&nbsp;&nbsp;Workers Planned: 2</td>\n",
       "        </tr>\n",
       "        <tr>\n",
       "            <td>&nbsp;&nbsp;&nbsp;&nbsp;&nbsp;&nbsp;&nbsp;&nbsp;Workers Launched: 2</td>\n",
       "        </tr>\n",
       "        <tr>\n",
       "            <td>&nbsp;&nbsp;&nbsp;&nbsp;&nbsp;&nbsp;&nbsp;&nbsp;->  Sort  (cost=16366.92..17248.05 rows=352453 width=18) (actual time=116.312..116.313 rows=7 loops=3)</td>\n",
       "        </tr>\n",
       "        <tr>\n",
       "            <td>&nbsp;&nbsp;&nbsp;&nbsp;&nbsp;&nbsp;&nbsp;&nbsp;&nbsp;&nbsp;&nbsp;&nbsp;&nbsp;&nbsp;Sort Key: name</td>\n",
       "        </tr>\n",
       "        <tr>\n",
       "            <td>&nbsp;&nbsp;&nbsp;&nbsp;&nbsp;&nbsp;&nbsp;&nbsp;&nbsp;&nbsp;&nbsp;&nbsp;&nbsp;&nbsp;Sort Method: top-N heapsort  Memory: 26kB</td>\n",
       "        </tr>\n",
       "        <tr>\n",
       "            <td>&nbsp;&nbsp;&nbsp;&nbsp;&nbsp;&nbsp;&nbsp;&nbsp;&nbsp;&nbsp;&nbsp;&nbsp;&nbsp;&nbsp;Worker 0:  Sort Method: top-N heapsort  Memory: 25kB</td>\n",
       "        </tr>\n",
       "        <tr>\n",
       "            <td>&nbsp;&nbsp;&nbsp;&nbsp;&nbsp;&nbsp;&nbsp;&nbsp;&nbsp;&nbsp;&nbsp;&nbsp;&nbsp;&nbsp;Worker 1:  Sort Method: top-N heapsort  Memory: 26kB</td>\n",
       "        </tr>\n",
       "        <tr>\n",
       "            <td>&nbsp;&nbsp;&nbsp;&nbsp;&nbsp;&nbsp;&nbsp;&nbsp;&nbsp;&nbsp;&nbsp;&nbsp;&nbsp;&nbsp;->  Parallel Seq Scan on actors  (cost=0.00..8750.53 rows=352453 width=18) (actual time=0.019..61.395 rows=281963 loops=3)</td>\n",
       "        </tr>\n",
       "        <tr>\n",
       "            <td>Planning Time: 0.099 ms</td>\n",
       "        </tr>\n",
       "        <tr>\n",
       "            <td>Execution Time: 121.398 ms</td>\n",
       "        </tr>\n",
       "    </tbody>\n",
       "</table>"
      ],
      "text/plain": [
       "+------------------------------------------------------------------------------------------------------------------------------------------+\n",
       "|                                                                QUERY PLAN                                                                |\n",
       "+------------------------------------------------------------------------------------------------------------------------------------------+\n",
       "|                     Limit  (cost=17366.94..17368.11 rows=10 width=18) (actual time=118.898..121.367 rows=10 loops=1)                     |\n",
       "|              ->  Gather Merge  (cost=17366.94..99611.72 rows=704906 width=18) (actual time=118.896..121.363 rows=10 loops=1)             |\n",
       "|                                                                Workers Planned: 2                                                        |\n",
       "|                                                               Workers Launched: 2                                                        |\n",
       "|                      ->  Sort  (cost=16366.92..17248.05 rows=352453 width=18) (actual time=116.312..116.313 rows=7 loops=3)              |\n",
       "|                                                                     Sort Key: name                                                       |\n",
       "|                                                       Sort Method: top-N heapsort  Memory: 26kB                                          |\n",
       "|                                                  Worker 0:  Sort Method: top-N heapsort  Memory: 25kB                                    |\n",
       "|                                                  Worker 1:  Sort Method: top-N heapsort  Memory: 26kB                                    |\n",
       "|               ->  Parallel Seq Scan on actors  (cost=0.00..8750.53 rows=352453 width=18) (actual time=0.019..61.395 rows=281963 loops=3) |\n",
       "|                                                         Planning Time: 0.099 ms                                                          |\n",
       "|                                                        Execution Time: 121.398 ms                                                        |\n",
       "+------------------------------------------------------------------------------------------------------------------------------------------+"
      ]
     },
     "execution_count": 20,
     "metadata": {},
     "output_type": "execute_result"
    }
   ],
   "source": [
    "%%sql\n",
    "/* 1c */\n",
    "EXPLAIN ANALYZE\n",
    "SELECT id FROM actors\n",
    "ORDER BY name\n",
    "LIMIT 10;"
   ]
  },
  {
   "cell_type": "code",
   "execution_count": 21,
   "id": "4949296d-59fd-43ff-9792-207c87de81f1",
   "metadata": {},
   "outputs": [
    {
     "name": "stdout",
     "output_type": "stream",
     "text": [
      "                                           QUERY PLAN\n",
      "0   Limit  (cost=17366.94..17368.11 rows=10 width=...\n",
      "1     ->  Gather Merge  (cost=17366.94..99611.72 r...\n",
      "2                                  Workers Planned: 2\n",
      "3                                 Workers Launched: 2\n",
      "4           ->  Sort  (cost=16366.92..17248.05 row...\n",
      "5                                      Sort Key: name\n",
      "6                 Sort Method: top-N heapsort  Mem...\n",
      "7                 Worker 0:  Sort Method: top-N he...\n",
      "8                 Worker 1:  Sort Method: top-N he...\n",
      "9                 ->  Parallel Seq Scan on actors ...\n",
      "10                            Planning Time: 0.223 ms\n",
      "11                         Execution Time: 101.352 ms\n"
     ]
    }
   ],
   "source": [
    "printplans(_)"
   ]
  },
  {
   "cell_type": "markdown",
   "id": "debe5e08-87ea-4b34-97d6-cd21ca5d1377",
   "metadata": {},
   "source": [
    "<br/> <br/>\n",
    "\n",
    "The time goes up again - compare this to the original time we had:"
   ]
  },
  {
   "cell_type": "code",
   "execution_count": 22,
   "id": "b419f825-f00d-4677-bf66-fffb2d0e70a7",
   "metadata": {},
   "outputs": [
    {
     "data": {
      "text/html": [
       "<span style=\"None\">Running query in &#x27;postgresql://127.0.0.1:5432/imdb_perf_lecture&#x27;</span>"
      ],
      "text/plain": [
       "Running query in 'postgresql://127.0.0.1:5432/imdb_perf_lecture'"
      ]
     },
     "metadata": {},
     "output_type": "display_data"
    },
    {
     "data": {
      "text/html": [
       "<span style=\"color: green\">3 rows affected.</span>"
      ],
      "text/plain": [
       "3 rows affected."
      ]
     },
     "metadata": {},
     "output_type": "display_data"
    },
    {
     "data": {
      "text/html": [
       "<table>\n",
       "    <thead>\n",
       "        <tr>\n",
       "            <th>QUERY PLAN</th>\n",
       "        </tr>\n",
       "    </thead>\n",
       "    <tbody>\n",
       "        <tr>\n",
       "            <td>Seq Scan on actors  (cost=0.00..13684.88 rows=845888 width=4) (actual time=0.007..67.859 rows=845888 loops=1)</td>\n",
       "        </tr>\n",
       "        <tr>\n",
       "            <td>Planning Time: 0.089 ms</td>\n",
       "        </tr>\n",
       "        <tr>\n",
       "            <td>Execution Time: 91.475 ms</td>\n",
       "        </tr>\n",
       "    </tbody>\n",
       "</table>"
      ],
      "text/plain": [
       "+---------------------------------------------------------------------------------------------------------------+\n",
       "|                                                   QUERY PLAN                                                  |\n",
       "+---------------------------------------------------------------------------------------------------------------+\n",
       "| Seq Scan on actors  (cost=0.00..13684.88 rows=845888 width=4) (actual time=0.007..67.859 rows=845888 loops=1) |\n",
       "|                                            Planning Time: 0.089 ms                                            |\n",
       "|                                           Execution Time: 91.475 ms                                           |\n",
       "+---------------------------------------------------------------------------------------------------------------+"
      ]
     },
     "execution_count": 22,
     "metadata": {},
     "output_type": "execute_result"
    }
   ],
   "source": [
    "%%sql\n",
    "/* 1a */\n",
    "EXPLAIN ANALYZE SELECT id FROM actors;"
   ]
  },
  {
   "cell_type": "code",
   "execution_count": 26,
   "id": "fd5e9c12-f4dc-4c7d-9b47-cf91bfb17ae9",
   "metadata": {},
   "outputs": [
    {
     "name": "stdout",
     "output_type": "stream",
     "text": [
      "                                           QUERY PLAN\n",
      "0   Limit  (cost=17366.94..17368.11 rows=10 width=...\n",
      "1     ->  Gather Merge  (cost=17366.94..99611.72 r...\n",
      "2                                  Workers Planned: 2\n",
      "3                                 Workers Launched: 2\n",
      "4           ->  Sort  (cost=16366.92..17248.05 row...\n",
      "5                                      Sort Key: name\n",
      "6                 Sort Method: top-N heapsort  Mem...\n",
      "7                 Worker 0:  Sort Method: top-N he...\n",
      "8                 Worker 1:  Sort Method: top-N he...\n",
      "9                 ->  Parallel Seq Scan on actors ...\n",
      "10                            Planning Time: 0.070 ms\n",
      "11                         Execution Time: 121.540 ms\n"
     ]
    }
   ],
   "source": [
    "printplans(_)"
   ]
  },
  {
   "cell_type": "markdown",
   "id": "f3b06189-a8ee-46b0-aa22-cd51af8c7e51",
   "metadata": {},
   "source": [
    "<br/> <br/>\n",
    "\n",
    "Finally, what if we added a selection:"
   ]
  },
  {
   "cell_type": "code",
   "execution_count": 24,
   "id": "bdb07a05-7fce-42d7-b4b7-a616a824fa30",
   "metadata": {},
   "outputs": [
    {
     "data": {
      "text/html": [
       "<span style=\"None\">Running query in &#x27;postgresql://127.0.0.1:5432/imdb_perf_lecture&#x27;</span>"
      ],
      "text/plain": [
       "Running query in 'postgresql://127.0.0.1:5432/imdb_perf_lecture'"
      ]
     },
     "metadata": {},
     "output_type": "display_data"
    },
    {
     "data": {
      "text/html": [
       "<span style=\"color: green\">8 rows affected.</span>"
      ],
      "text/plain": [
       "8 rows affected."
      ]
     },
     "metadata": {},
     "output_type": "display_data"
    },
    {
     "data": {
      "text/html": [
       "<table>\n",
       "    <thead>\n",
       "        <tr>\n",
       "            <th>QUERY PLAN</th>\n",
       "        </tr>\n",
       "    </thead>\n",
       "    <tbody>\n",
       "        <tr>\n",
       "            <td>Gather  (cost=1000.00..11512.90 rows=1 width=4) (actual time=24.200..26.481 rows=0 loops=1)</td>\n",
       "        </tr>\n",
       "        <tr>\n",
       "            <td>&nbsp;&nbsp;Workers Planned: 2</td>\n",
       "        </tr>\n",
       "        <tr>\n",
       "            <td>&nbsp;&nbsp;Workers Launched: 2</td>\n",
       "        </tr>\n",
       "        <tr>\n",
       "            <td>&nbsp;&nbsp;->  Parallel Seq Scan on actors  (cost=0.00..10512.80 rows=1 width=4) (actual time=21.615..21.616 rows=0 loops=3)</td>\n",
       "        </tr>\n",
       "        <tr>\n",
       "            <td>&nbsp;&nbsp;&nbsp;&nbsp;&nbsp;&nbsp;&nbsp;&nbsp;Filter: ((id > 4000000) AND (name = 'Tom Hanks'::text))</td>\n",
       "        </tr>\n",
       "        <tr>\n",
       "            <td>&nbsp;&nbsp;&nbsp;&nbsp;&nbsp;&nbsp;&nbsp;&nbsp;Rows Removed by Filter: 281963</td>\n",
       "        </tr>\n",
       "        <tr>\n",
       "            <td>Planning Time: 0.066 ms</td>\n",
       "        </tr>\n",
       "        <tr>\n",
       "            <td>Execution Time: 26.499 ms</td>\n",
       "        </tr>\n",
       "    </tbody>\n",
       "</table>"
      ],
      "text/plain": [
       "+---------------------------------------------------------------------------------------------------------------------+\n",
       "|                                                      QUERY PLAN                                                     |\n",
       "+---------------------------------------------------------------------------------------------------------------------+\n",
       "|             Gather  (cost=1000.00..11512.90 rows=1 width=4) (actual time=24.200..26.481 rows=0 loops=1)             |\n",
       "|                                                   Workers Planned: 2                                                |\n",
       "|                                                  Workers Launched: 2                                                |\n",
       "|   ->  Parallel Seq Scan on actors  (cost=0.00..10512.80 rows=1 width=4) (actual time=21.615..21.616 rows=0 loops=3) |\n",
       "|                                   Filter: ((id > 4000000) AND (name = 'Tom Hanks'::text))                           |\n",
       "|                                                Rows Removed by Filter: 281963                                       |\n",
       "|                                               Planning Time: 0.066 ms                                               |\n",
       "|                                              Execution Time: 26.499 ms                                              |\n",
       "+---------------------------------------------------------------------------------------------------------------------+"
      ]
     },
     "execution_count": 24,
     "metadata": {},
     "output_type": "execute_result"
    }
   ],
   "source": [
    "%%sql\n",
    "/* 1d */\n",
    "EXPLAIN ANALYZE SELECT id FROM actors\n",
    "WHERE id > 4000000 AND\n",
    "name='Tom Hanks';"
   ]
  },
  {
   "cell_type": "code",
   "execution_count": 25,
   "id": "d5819cf4-3b84-4dc6-9026-0a8c46c0a4c3",
   "metadata": {},
   "outputs": [
    {
     "name": "stdout",
     "output_type": "stream",
     "text": [
      "                                          QUERY PLAN\n",
      "0  Gather  (cost=1000.00..11512.90 rows=1 width=4...\n",
      "1                                 Workers Planned: 2\n",
      "2                                Workers Launched: 2\n",
      "3    ->  Parallel Seq Scan on actors  (cost=0.00....\n",
      "4          Filter: ((id > 4000000) AND (name = 'T...\n",
      "5                     Rows Removed by Filter: 281963\n",
      "6                            Planning Time: 0.088 ms\n",
      "7                          Execution Time: 25.954 ms\n"
     ]
    }
   ],
   "source": [
    "printplans(_)"
   ]
  },
  {
   "cell_type": "markdown",
   "id": "1b673636-c7c2-4934-bcfd-6f09abaca309",
   "metadata": {},
   "source": [
    "Here, the selection right after the sequential scan (see \"Filter:\" )"
   ]
  },
  {
   "cell_type": "markdown",
   "id": "12bdaa1d-7f17-4c49-81cc-d939fa64bb4f",
   "metadata": {},
   "source": [
    "<br/> <br/>\n",
    "\n",
    "## Two-table demo: LIMIT"
   ]
  },
  {
   "cell_type": "markdown",
   "id": "41b363f4-f330-42ee-ae8d-c27d67305131",
   "metadata": {},
   "source": [
    "Let's join two tables, `actors` and `cast_info`. The query planner selects a hash join:"
   ]
  },
  {
   "cell_type": "code",
   "execution_count": 27,
   "id": "0e0dc742-33cb-4e4e-a7ea-d04770377e67",
   "metadata": {},
   "outputs": [
    {
     "data": {
      "text/html": [
       "<span style=\"None\">Running query in &#x27;postgresql://127.0.0.1:5432/imdb_perf_lecture&#x27;</span>"
      ],
      "text/plain": [
       "Running query in 'postgresql://127.0.0.1:5432/imdb_perf_lecture'"
      ]
     },
     "metadata": {},
     "output_type": "display_data"
    },
    {
     "data": {
      "text/html": [
       "<span style=\"color: green\">8 rows affected.</span>"
      ],
      "text/plain": [
       "8 rows affected."
      ]
     },
     "metadata": {},
     "output_type": "display_data"
    },
    {
     "data": {
      "text/html": [
       "<table>\n",
       "    <thead>\n",
       "        <tr>\n",
       "            <th>QUERY PLAN</th>\n",
       "        </tr>\n",
       "    </thead>\n",
       "    <tbody>\n",
       "        <tr>\n",
       "            <td>Hash Join  (cost=29215.48..89168.21 rows=2211936 width=26) (actual time=174.550..1443.178 rows=2211936 loops=1)</td>\n",
       "        </tr>\n",
       "        <tr>\n",
       "            <td>&nbsp;&nbsp;Hash Cond: (cast_info.person_id = actors.id)</td>\n",
       "        </tr>\n",
       "        <tr>\n",
       "            <td>&nbsp;&nbsp;->  Seq Scan on cast_info  (cost=0.00..31907.36 rows=2211936 width=8) (actual time=0.053..139.723 rows=2211936 loops=1)</td>\n",
       "        </tr>\n",
       "        <tr>\n",
       "            <td>&nbsp;&nbsp;->  Hash  (cost=13684.88..13684.88 rows=845888 width=18) (actual time=174.326..174.328 rows=845888 loops=1)</td>\n",
       "        </tr>\n",
       "        <tr>\n",
       "            <td>&nbsp;&nbsp;&nbsp;&nbsp;&nbsp;&nbsp;&nbsp;&nbsp;Buckets: 65536  Batches: 16  Memory Usage: 3114kB</td>\n",
       "        </tr>\n",
       "        <tr>\n",
       "            <td>&nbsp;&nbsp;&nbsp;&nbsp;&nbsp;&nbsp;&nbsp;&nbsp;->  Seq Scan on actors  (cost=0.00..13684.88 rows=845888 width=18) (actual time=0.005..55.215 rows=845888 loops=1)</td>\n",
       "        </tr>\n",
       "        <tr>\n",
       "            <td>Planning Time: 0.179 ms</td>\n",
       "        </tr>\n",
       "        <tr>\n",
       "            <td>Execution Time: 1506.325 ms</td>\n",
       "        </tr>\n",
       "    </tbody>\n",
       "</table>"
      ],
      "text/plain": [
       "+----------------------------------------------------------------------------------------------------------------------------+\n",
       "|                                                         QUERY PLAN                                                         |\n",
       "+----------------------------------------------------------------------------------------------------------------------------+\n",
       "|      Hash Join  (cost=29215.48..89168.21 rows=2211936 width=26) (actual time=174.550..1443.178 rows=2211936 loops=1)       |\n",
       "|                                         Hash Cond: (cast_info.person_id = actors.id)                                       |\n",
       "|   ->  Seq Scan on cast_info  (cost=0.00..31907.36 rows=2211936 width=8) (actual time=0.053..139.723 rows=2211936 loops=1)  |\n",
       "|         ->  Hash  (cost=13684.88..13684.88 rows=845888 width=18) (actual time=174.326..174.328 rows=845888 loops=1)        |\n",
       "|                                         Buckets: 65536  Batches: 16  Memory Usage: 3114kB                                  |\n",
       "|         ->  Seq Scan on actors  (cost=0.00..13684.88 rows=845888 width=18) (actual time=0.005..55.215 rows=845888 loops=1) |\n",
       "|                                                  Planning Time: 0.179 ms                                                   |\n",
       "|                                                Execution Time: 1506.325 ms                                                 |\n",
       "+----------------------------------------------------------------------------------------------------------------------------+"
      ]
     },
     "execution_count": 27,
     "metadata": {},
     "output_type": "execute_result"
    }
   ],
   "source": [
    "%%sql\n",
    "EXPLAIN ANALYZE\n",
    "SELECT *\n",
    "FROM actors, cast_info\n",
    "WHERE actors.id = cast_info.person_id;"
   ]
  },
  {
   "cell_type": "code",
   "execution_count": 28,
   "id": "385072b3-9212-425e-8e5a-8198aa808bc0",
   "metadata": {},
   "outputs": [
    {
     "name": "stdout",
     "output_type": "stream",
     "text": [
      "                                          QUERY PLAN\n",
      "0  Hash Join  (cost=29215.48..89168.21 rows=22119...\n",
      "1       Hash Cond: (cast_info.person_id = actors.id)\n",
      "2    ->  Seq Scan on cast_info  (cost=0.00..31907...\n",
      "3    ->  Hash  (cost=13684.88..13684.88 rows=8458...\n",
      "4          Buckets: 65536  Batches: 16  Memory Us...\n",
      "5          ->  Seq Scan on actors  (cost=0.00..13...\n",
      "6                            Planning Time: 0.451 ms\n",
      "7                        Execution Time: 1454.408 ms\n"
     ]
    }
   ],
   "source": [
    "printplans(_)"
   ]
  },
  {
   "cell_type": "markdown",
   "id": "1d33164b-2a45-4231-b7b6-93dac2d6a8d5",
   "metadata": {},
   "source": [
    "<br/><br/>\n",
    "\n",
    "Below, we add `LIMIT`. Note the query planner switches to a nested loop join, using an index scan to match `cast_info.person_id` to the indexed attribute `actors.id`! This results in a 10,000x speedup!\n",
    "\n",
    "Thus, knowing which keywords impact performance is really, really important!"
   ]
  },
  {
   "cell_type": "code",
   "execution_count": 30,
   "id": "765bddf2-4458-4250-b66e-6dab05a5f761",
   "metadata": {},
   "outputs": [
    {
     "data": {
      "text/html": [
       "<span style=\"None\">Running query in &#x27;postgresql://127.0.0.1:5432/imdb_perf_lecture&#x27;</span>"
      ],
      "text/plain": [
       "Running query in 'postgresql://127.0.0.1:5432/imdb_perf_lecture'"
      ]
     },
     "metadata": {},
     "output_type": "display_data"
    },
    {
     "data": {
      "text/html": [
       "<span style=\"color: green\">11 rows affected.</span>"
      ],
      "text/plain": [
       "11 rows affected."
      ]
     },
     "metadata": {},
     "output_type": "display_data"
    },
    {
     "data": {
      "text/html": [
       "<table>\n",
       "    <thead>\n",
       "        <tr>\n",
       "            <th>QUERY PLAN</th>\n",
       "        </tr>\n",
       "    </thead>\n",
       "    <tbody>\n",
       "        <tr>\n",
       "            <td>Limit  (cost=0.43..4.49 rows=10 width=26) (actual time=0.040..0.078 rows=10 loops=1)</td>\n",
       "        </tr>\n",
       "        <tr>\n",
       "            <td>&nbsp;&nbsp;->  Nested Loop  (cost=0.43..896026.45 rows=2211936 width=26) (actual time=0.039..0.076 rows=10 loops=1)</td>\n",
       "        </tr>\n",
       "        <tr>\n",
       "            <td>&nbsp;&nbsp;&nbsp;&nbsp;&nbsp;&nbsp;&nbsp;&nbsp;->  Seq Scan on cast_info  (cost=0.00..31907.36 rows=2211936 width=8) (actual time=0.013..0.014 rows=10 loops=1)</td>\n",
       "        </tr>\n",
       "        <tr>\n",
       "            <td>&nbsp;&nbsp;&nbsp;&nbsp;&nbsp;&nbsp;&nbsp;&nbsp;->  Memoize  (cost=0.43..0.47 rows=1 width=18) (actual time=0.006..0.006 rows=1 loops=10)</td>\n",
       "        </tr>\n",
       "        <tr>\n",
       "            <td>&nbsp;&nbsp;&nbsp;&nbsp;&nbsp;&nbsp;&nbsp;&nbsp;&nbsp;&nbsp;&nbsp;&nbsp;&nbsp;&nbsp;Cache Key: cast_info.person_id</td>\n",
       "        </tr>\n",
       "        <tr>\n",
       "            <td>&nbsp;&nbsp;&nbsp;&nbsp;&nbsp;&nbsp;&nbsp;&nbsp;&nbsp;&nbsp;&nbsp;&nbsp;&nbsp;&nbsp;Cache Mode: logical</td>\n",
       "        </tr>\n",
       "        <tr>\n",
       "            <td>&nbsp;&nbsp;&nbsp;&nbsp;&nbsp;&nbsp;&nbsp;&nbsp;&nbsp;&nbsp;&nbsp;&nbsp;&nbsp;&nbsp;Hits: 2  Misses: 8  Evictions: 0  Overflows: 0  Memory Usage: 1kB</td>\n",
       "        </tr>\n",
       "        <tr>\n",
       "            <td>&nbsp;&nbsp;&nbsp;&nbsp;&nbsp;&nbsp;&nbsp;&nbsp;&nbsp;&nbsp;&nbsp;&nbsp;&nbsp;&nbsp;->  Index Scan using actor_pkey on actors  (cost=0.42..0.46 rows=1 width=18) (actual time=0.006..0.006 rows=1 loops=8)</td>\n",
       "        </tr>\n",
       "        <tr>\n",
       "            <td>&nbsp;&nbsp;&nbsp;&nbsp;&nbsp;&nbsp;&nbsp;&nbsp;&nbsp;&nbsp;&nbsp;&nbsp;&nbsp;&nbsp;&nbsp;&nbsp;&nbsp;&nbsp;&nbsp;&nbsp;Index Cond: (id = cast_info.person_id)</td>\n",
       "        </tr>\n",
       "        <tr>\n",
       "            <td>Planning Time: 0.202 ms</td>\n",
       "        </tr>\n",
       "        <tr>\n",
       "            <td>Execution Time: 0.835 ms</td>\n",
       "        </tr>\n",
       "    </tbody>\n",
       "</table>"
      ],
      "text/plain": [
       "+--------------------------------------------------------------------------------------------------------------------------------------+\n",
       "|                                                              QUERY PLAN                                                              |\n",
       "+--------------------------------------------------------------------------------------------------------------------------------------+\n",
       "|                         Limit  (cost=0.43..4.49 rows=10 width=26) (actual time=0.040..0.078 rows=10 loops=1)                         |\n",
       "|                ->  Nested Loop  (cost=0.43..896026.45 rows=2211936 width=26) (actual time=0.039..0.076 rows=10 loops=1)              |\n",
       "|               ->  Seq Scan on cast_info  (cost=0.00..31907.36 rows=2211936 width=8) (actual time=0.013..0.014 rows=10 loops=1)       |\n",
       "|                          ->  Memoize  (cost=0.43..0.47 rows=1 width=18) (actual time=0.006..0.006 rows=1 loops=10)                   |\n",
       "|                                                           Cache Key: cast_info.person_id                                             |\n",
       "|                                                                Cache Mode: logical                                                   |\n",
       "|                                         Hits: 2  Misses: 8  Evictions: 0  Overflows: 0  Memory Usage: 1kB                            |\n",
       "|               ->  Index Scan using actor_pkey on actors  (cost=0.42..0.46 rows=1 width=18) (actual time=0.006..0.006 rows=1 loops=8) |\n",
       "|                                                          Index Cond: (id = cast_info.person_id)                                      |\n",
       "|                                                       Planning Time: 0.202 ms                                                        |\n",
       "|                                                       Execution Time: 0.835 ms                                                       |\n",
       "+--------------------------------------------------------------------------------------------------------------------------------------+"
      ]
     },
     "execution_count": 30,
     "metadata": {},
     "output_type": "execute_result"
    }
   ],
   "source": [
    "%%sql\n",
    "EXPLAIN ANALYZE\n",
    "SELECT *\n",
    "FROM actors, cast_info\n",
    "WHERE actors.id = cast_info.person_id\n",
    "LIMIT 10;"
   ]
  },
  {
   "cell_type": "code",
   "execution_count": 31,
   "id": "4e05a7f2-3cf5-4666-b31c-82cc68a7763f",
   "metadata": {},
   "outputs": [
    {
     "name": "stdout",
     "output_type": "stream",
     "text": [
      "                                           QUERY PLAN\n",
      "0   Limit  (cost=0.43..4.49 rows=10 width=26) (act...\n",
      "1     ->  Nested Loop  (cost=0.43..896026.45 rows=...\n",
      "2           ->  Seq Scan on cast_info  (cost=0.00....\n",
      "3           ->  Memoize  (cost=0.43..0.47 rows=1 w...\n",
      "4                      Cache Key: cast_info.person_id\n",
      "5                                 Cache Mode: logical\n",
      "6                 Hits: 2  Misses: 8  Evictions: 0...\n",
      "7                 ->  Index Scan using actor_pkey ...\n",
      "8                       Index Cond: (id = cast_inf...\n",
      "9                             Planning Time: 0.240 ms\n",
      "10                           Execution Time: 1.545 ms\n"
     ]
    }
   ],
   "source": [
    "printplans(_)"
   ]
  },
  {
   "cell_type": "markdown",
   "id": "c42c5fa8-f43d-4899-9db4-cbf49a3070ff",
   "metadata": {},
   "source": [
    "<br/> <br/>\n",
    "\n",
    "## Two-table demo: Selection"
   ]
  },
  {
   "cell_type": "code",
   "execution_count": 41,
   "id": "7c42ac65-37ca-4bd8-8106-f5fc214da4ed",
   "metadata": {},
   "outputs": [
    {
     "data": {
      "text/html": [
       "<span style=\"None\">Running query in &#x27;postgresql://127.0.0.1:5432/imdb_perf_lecture&#x27;</span>"
      ],
      "text/plain": [
       "Running query in 'postgresql://127.0.0.1:5432/imdb_perf_lecture'"
      ]
     },
     "metadata": {},
     "output_type": "display_data"
    },
    {
     "data": {
      "text/html": [
       "<span style=\"color: green\">10 rows affected.</span>"
      ],
      "text/plain": [
       "10 rows affected."
      ]
     },
     "metadata": {},
     "output_type": "display_data"
    },
    {
     "data": {
      "text/html": [
       "<table>\n",
       "    <thead>\n",
       "        <tr>\n",
       "            <th>QUERY PLAN</th>\n",
       "        </tr>\n",
       "    </thead>\n",
       "    <tbody>\n",
       "        <tr>\n",
       "            <td>Hash Join  (cost=24027.28..81649.00 rows=1171838 width=18) (actual time=162.266..1032.735 rows=634763 loops=1)</td>\n",
       "        </tr>\n",
       "        <tr>\n",
       "            <td>&nbsp;&nbsp;Hash Cond: (cast_info.person_id = actors.id)</td>\n",
       "        </tr>\n",
       "        <tr>\n",
       "            <td>&nbsp;&nbsp;->  Seq Scan on cast_info  (cost=0.00..31907.36 rows=2211936 width=8) (actual time=0.009..210.990 rows=2211936 loops=1)</td>\n",
       "        </tr>\n",
       "        <tr>\n",
       "            <td>&nbsp;&nbsp;->  Hash  (cost=15799.60..15799.60 rows=448134 width=18) (actual time=161.587..161.588 rows=444781 loops=1)</td>\n",
       "        </tr>\n",
       "        <tr>\n",
       "            <td>&nbsp;&nbsp;&nbsp;&nbsp;&nbsp;&nbsp;&nbsp;&nbsp;Buckets: 65536  Batches: 8  Memory Usage: 3335kB</td>\n",
       "        </tr>\n",
       "        <tr>\n",
       "            <td>&nbsp;&nbsp;&nbsp;&nbsp;&nbsp;&nbsp;&nbsp;&nbsp;->  Seq Scan on actors  (cost=0.00..15799.60 rows=448134 width=18) (actual time=0.234..77.857 rows=444781 loops=1)</td>\n",
       "        </tr>\n",
       "        <tr>\n",
       "            <td>&nbsp;&nbsp;&nbsp;&nbsp;&nbsp;&nbsp;&nbsp;&nbsp;&nbsp;&nbsp;&nbsp;&nbsp;&nbsp;&nbsp;Filter: (id > 4000000)</td>\n",
       "        </tr>\n",
       "        <tr>\n",
       "            <td>&nbsp;&nbsp;&nbsp;&nbsp;&nbsp;&nbsp;&nbsp;&nbsp;&nbsp;&nbsp;&nbsp;&nbsp;&nbsp;&nbsp;Rows Removed by Filter: 401107</td>\n",
       "        </tr>\n",
       "        <tr>\n",
       "            <td>Planning Time: 0.163 ms</td>\n",
       "        </tr>\n",
       "        <tr>\n",
       "            <td>Execution Time: 1051.158 ms</td>\n",
       "        </tr>\n",
       "    </tbody>\n",
       "</table>"
      ],
      "text/plain": [
       "+----------------------------------------------------------------------------------------------------------------------------+\n",
       "|                                                         QUERY PLAN                                                         |\n",
       "+----------------------------------------------------------------------------------------------------------------------------+\n",
       "|       Hash Join  (cost=24027.28..81649.00 rows=1171838 width=18) (actual time=162.266..1032.735 rows=634763 loops=1)       |\n",
       "|                                         Hash Cond: (cast_info.person_id = actors.id)                                       |\n",
       "|   ->  Seq Scan on cast_info  (cost=0.00..31907.36 rows=2211936 width=8) (actual time=0.009..210.990 rows=2211936 loops=1)  |\n",
       "|         ->  Hash  (cost=15799.60..15799.60 rows=448134 width=18) (actual time=161.587..161.588 rows=444781 loops=1)        |\n",
       "|                                          Buckets: 65536  Batches: 8  Memory Usage: 3335kB                                  |\n",
       "|         ->  Seq Scan on actors  (cost=0.00..15799.60 rows=448134 width=18) (actual time=0.234..77.857 rows=444781 loops=1) |\n",
       "|                                                          Filter: (id > 4000000)                                            |\n",
       "|                                                      Rows Removed by Filter: 401107                                        |\n",
       "|                                                  Planning Time: 0.163 ms                                                   |\n",
       "|                                                Execution Time: 1051.158 ms                                                 |\n",
       "+----------------------------------------------------------------------------------------------------------------------------+"
      ]
     },
     "execution_count": 41,
     "metadata": {},
     "output_type": "execute_result"
    }
   ],
   "source": [
    "%%sql\n",
    "EXPLAIN ANALYZE\n",
    "SELECT name, movie_id\n",
    "FROM actors, cast_info\n",
    "WHERE actors.id = cast_info.person_id AND actors.id > 4000000;"
   ]
  },
  {
   "cell_type": "code",
   "execution_count": 34,
   "id": "a58a8350-1c6b-447c-9fa7-7dcd8c6a9cb1",
   "metadata": {},
   "outputs": [
    {
     "name": "stdout",
     "output_type": "stream",
     "text": [
      "                                          QUERY PLAN\n",
      "0  Hash Join  (cost=24027.28..81649.00 rows=11718...\n",
      "1       Hash Cond: (cast_info.person_id = actors.id)\n",
      "2    ->  Seq Scan on cast_info  (cost=0.00..31907...\n",
      "3    ->  Hash  (cost=15799.60..15799.60 rows=4481...\n",
      "4          Buckets: 65536  Batches: 8  Memory Usa...\n",
      "5          ->  Seq Scan on actors  (cost=0.00..15...\n",
      "6                             Filter: (id > 4000000)\n",
      "7                     Rows Removed by Filter: 401107\n",
      "8                            Planning Time: 0.154 ms\n",
      "9                        Execution Time: 1121.718 ms\n"
     ]
    }
   ],
   "source": [
    "printplans(_)"
   ]
  },
  {
   "cell_type": "markdown",
   "id": "5cbc78b3-626b-4643-a8f8-435a70995365",
   "metadata": {},
   "source": [
    "<br/> This, in many cases, will reduce latency, because the selection is reducing data size. Note the predicate is being applied when actors is scanned (aka predicate pushdown)! <br/> <br/>\n",
    "Try changing 4000000 (4M) to 10000000 (10M) or 100000000 (100M).\n",
    "<br/><br/>"
   ]
  },
  {
   "cell_type": "markdown",
   "id": "f887ae87-c702-465f-b1be-1ca70a2b5078",
   "metadata": {},
   "source": [
    "## [At Home, or in class if time] Three-way joins\n",
    "\n",
    "Now let's try a three-way join! Feel free to change the LIMIT, but note that removing it entirely can result in a really long query! <br/> <br/>\n",
    "We've set it to be a large number, 100K, to start."
   ]
  },
  {
   "cell_type": "code",
   "execution_count": 43,
   "id": "3fef0fea-f865-404e-abb8-292cd8f5a0e8",
   "metadata": {},
   "outputs": [
    {
     "data": {
      "text/html": [
       "<span style=\"None\">Running query in &#x27;postgresql://127.0.0.1:5432/imdb_perf_lecture&#x27;</span>"
      ],
      "text/plain": [
       "Running query in 'postgresql://127.0.0.1:5432/imdb_perf_lecture'"
      ]
     },
     "metadata": {},
     "output_type": "display_data"
    },
    {
     "data": {
      "text/html": [
       "<span style=\"color: green\">17 rows affected.</span>"
      ],
      "text/plain": [
       "17 rows affected."
      ]
     },
     "metadata": {},
     "output_type": "display_data"
    },
    {
     "data": {
      "text/html": [
       "<table>\n",
       "    <thead>\n",
       "        <tr>\n",
       "            <th>QUERY PLAN</th>\n",
       "        </tr>\n",
       "    </thead>\n",
       "    <tbody>\n",
       "        <tr>\n",
       "            <td>Limit  (cost=29106.44..41257.64 rows=100000 width=56) (actual time=3015.031..3365.785 rows=100000 loops=1)</td>\n",
       "        </tr>\n",
       "        <tr>\n",
       "            <td>&nbsp;&nbsp;->  Gather  (cost=29106.44..297883.07 rows=2211936 width=56) (actual time=3015.029..3359.761 rows=100000 loops=1)</td>\n",
       "        </tr>\n",
       "        <tr>\n",
       "            <td>&nbsp;&nbsp;&nbsp;&nbsp;&nbsp;&nbsp;&nbsp;&nbsp;Workers Planned: 2</td>\n",
       "        </tr>\n",
       "        <tr>\n",
       "            <td>&nbsp;&nbsp;&nbsp;&nbsp;&nbsp;&nbsp;&nbsp;&nbsp;Workers Launched: 2</td>\n",
       "        </tr>\n",
       "        <tr>\n",
       "            <td>&nbsp;&nbsp;&nbsp;&nbsp;&nbsp;&nbsp;&nbsp;&nbsp;->  Parallel Hash Join  (cost=28106.44..75689.47 rows=921640 width=56) (actual time=3010.941..3088.584 rows=33392 loops=3)</td>\n",
       "        </tr>\n",
       "        <tr>\n",
       "            <td>&nbsp;&nbsp;&nbsp;&nbsp;&nbsp;&nbsp;&nbsp;&nbsp;&nbsp;&nbsp;&nbsp;&nbsp;&nbsp;&nbsp;Hash Cond: (cast_info.movie_id = movies.id)</td>\n",
       "        </tr>\n",
       "        <tr>\n",
       "            <td>&nbsp;&nbsp;&nbsp;&nbsp;&nbsp;&nbsp;&nbsp;&nbsp;&nbsp;&nbsp;&nbsp;&nbsp;&nbsp;&nbsp;->  Parallel Hash Join  (cost=15222.20..45913.91 rows=921640 width=26) (actual time=690.146..1321.540 rows=737312 loops=3)</td>\n",
       "        </tr>\n",
       "        <tr>\n",
       "            <td>&nbsp;&nbsp;&nbsp;&nbsp;&nbsp;&nbsp;&nbsp;&nbsp;&nbsp;&nbsp;&nbsp;&nbsp;&nbsp;&nbsp;&nbsp;&nbsp;&nbsp;&nbsp;&nbsp;&nbsp;Hash Cond: (cast_info.person_id = actors.id)</td>\n",
       "        </tr>\n",
       "        <tr>\n",
       "            <td>&nbsp;&nbsp;&nbsp;&nbsp;&nbsp;&nbsp;&nbsp;&nbsp;&nbsp;&nbsp;&nbsp;&nbsp;&nbsp;&nbsp;&nbsp;&nbsp;&nbsp;&nbsp;&nbsp;&nbsp;->  Parallel Seq Scan on cast_info  (cost=0.00..19004.40 rows=921640 width=8) (actual time=0.011..141.914 rows=737312 loops=3)</td>\n",
       "        </tr>\n",
       "        <tr>\n",
       "            <td>&nbsp;&nbsp;&nbsp;&nbsp;&nbsp;&nbsp;&nbsp;&nbsp;&nbsp;&nbsp;&nbsp;&nbsp;&nbsp;&nbsp;&nbsp;&nbsp;&nbsp;&nbsp;&nbsp;&nbsp;->  Parallel Hash  (cost=8750.53..8750.53 rows=352453 width=18) (actual time=195.975..195.976 rows=281963 loops=3)</td>\n",
       "        </tr>\n",
       "        <tr>\n",
       "            <td>&nbsp;&nbsp;&nbsp;&nbsp;&nbsp;&nbsp;&nbsp;&nbsp;&nbsp;&nbsp;&nbsp;&nbsp;&nbsp;&nbsp;&nbsp;&nbsp;&nbsp;&nbsp;&nbsp;&nbsp;&nbsp;&nbsp;&nbsp;&nbsp;&nbsp;&nbsp;Buckets: 65536  Batches: 16  Memory Usage: 3360kB</td>\n",
       "        </tr>\n",
       "        <tr>\n",
       "            <td>&nbsp;&nbsp;&nbsp;&nbsp;&nbsp;&nbsp;&nbsp;&nbsp;&nbsp;&nbsp;&nbsp;&nbsp;&nbsp;&nbsp;&nbsp;&nbsp;&nbsp;&nbsp;&nbsp;&nbsp;&nbsp;&nbsp;&nbsp;&nbsp;&nbsp;&nbsp;->  Parallel Seq Scan on actors  (cost=0.00..8750.53 rows=352453 width=18) (actual time=0.040..85.814 rows=281963 loops=3)</td>\n",
       "        </tr>\n",
       "        <tr>\n",
       "            <td>&nbsp;&nbsp;&nbsp;&nbsp;&nbsp;&nbsp;&nbsp;&nbsp;&nbsp;&nbsp;&nbsp;&nbsp;&nbsp;&nbsp;->  Parallel Hash  (cost=7595.22..7595.22 rows=273522 width=30) (actual time=121.705..121.706 rows=218818 loops=3)</td>\n",
       "        </tr>\n",
       "        <tr>\n",
       "            <td>&nbsp;&nbsp;&nbsp;&nbsp;&nbsp;&nbsp;&nbsp;&nbsp;&nbsp;&nbsp;&nbsp;&nbsp;&nbsp;&nbsp;&nbsp;&nbsp;&nbsp;&nbsp;&nbsp;&nbsp;Buckets: 65536  Batches: 16  Memory Usage: 0kB</td>\n",
       "        </tr>\n",
       "        <tr>\n",
       "            <td>&nbsp;&nbsp;&nbsp;&nbsp;&nbsp;&nbsp;&nbsp;&nbsp;&nbsp;&nbsp;&nbsp;&nbsp;&nbsp;&nbsp;&nbsp;&nbsp;&nbsp;&nbsp;&nbsp;&nbsp;->  Parallel Seq Scan on movies  (cost=0.00..7595.22 rows=273522 width=30) (actual time=0.030..39.664 rows=218818 loops=3)</td>\n",
       "        </tr>\n",
       "        <tr>\n",
       "            <td>Planning Time: 0.539 ms</td>\n",
       "        </tr>\n",
       "        <tr>\n",
       "            <td>Execution Time: 3369.093 ms</td>\n",
       "        </tr>\n",
       "    </tbody>\n",
       "</table>"
      ],
      "text/plain": [
       "+------------------------------------------------------------------------------------------------------------------------------------------------------+\n",
       "|                                                                      QUERY PLAN                                                                      |\n",
       "+------------------------------------------------------------------------------------------------------------------------------------------------------+\n",
       "|                      Limit  (cost=29106.44..41257.64 rows=100000 width=56) (actual time=3015.031..3365.785 rows=100000 loops=1)                      |\n",
       "|                   ->  Gather  (cost=29106.44..297883.07 rows=2211936 width=56) (actual time=3015.029..3359.761 rows=100000 loops=1)                  |\n",
       "|                                                                      Workers Planned: 2                                                              |\n",
       "|                                                                     Workers Launched: 2                                                              |\n",
       "|                  ->  Parallel Hash Join  (cost=28106.44..75689.47 rows=921640 width=56) (actual time=3010.941..3088.584 rows=33392 loops=3)          |\n",
       "|                                                            Hash Cond: (cast_info.movie_id = movies.id)                                               |\n",
       "|                     ->  Parallel Hash Join  (cost=15222.20..45913.91 rows=921640 width=26) (actual time=690.146..1321.540 rows=737312 loops=3)       |\n",
       "|                                                               Hash Cond: (cast_info.person_id = actors.id)                                           |\n",
       "|                      ->  Parallel Seq Scan on cast_info  (cost=0.00..19004.40 rows=921640 width=8) (actual time=0.011..141.914 rows=737312 loops=3)  |\n",
       "|                            ->  Parallel Hash  (cost=8750.53..8750.53 rows=352453 width=18) (actual time=195.975..195.976 rows=281963 loops=3)        |\n",
       "|                                                               Buckets: 65536  Batches: 16  Memory Usage: 3360kB                                      |\n",
       "|                           ->  Parallel Seq Scan on actors  (cost=0.00..8750.53 rows=352453 width=18) (actual time=0.040..85.814 rows=281963 loops=3) |\n",
       "|                         ->  Parallel Hash  (cost=7595.22..7595.22 rows=273522 width=30) (actual time=121.705..121.706 rows=218818 loops=3)           |\n",
       "|                                                              Buckets: 65536  Batches: 16  Memory Usage: 0kB                                          |\n",
       "|                        ->  Parallel Seq Scan on movies  (cost=0.00..7595.22 rows=273522 width=30) (actual time=0.030..39.664 rows=218818 loops=3)    |\n",
       "|                                                               Planning Time: 0.539 ms                                                                |\n",
       "|                                                             Execution Time: 3369.093 ms                                                              |\n",
       "+------------------------------------------------------------------------------------------------------------------------------------------------------+"
      ]
     },
     "execution_count": 43,
     "metadata": {},
     "output_type": "execute_result"
    }
   ],
   "source": [
    "%%sql \n",
    "EXPLAIN ANALYZE\n",
    "SELECT *\n",
    "FROM actors, cast_info, movies\n",
    "WHERE actors.id = cast_info.person_id\n",
    "    AND movies.id = cast_info.movie_id\n",
    "LIMIT 100000;"
   ]
  },
  {
   "cell_type": "code",
   "execution_count": null,
   "id": "e5526f93-d58a-4db3-a77b-26cd6377b375",
   "metadata": {},
   "outputs": [],
   "source": [
    "printplans(_)"
   ]
  },
  {
   "cell_type": "markdown",
   "id": "2a7a3c9e-ce6e-4784-a763-656f2f449e28",
   "metadata": {},
   "source": [
    "<br/><br/>\n",
    "What if we add an additional selection condition on one of the relations?\n",
    "\n",
    "Below, note the predicate pushdown in the sequential scan on actors! Again, copy-paste into `psql` if you can't see the whitespace formatting."
   ]
  },
  {
   "cell_type": "code",
   "execution_count": 44,
   "id": "2924a139-bc67-4a19-9ad9-7540cd43064a",
   "metadata": {},
   "outputs": [
    {
     "data": {
      "text/html": [
       "<span style=\"None\">Running query in &#x27;postgresql://127.0.0.1:5432/imdb_perf_lecture&#x27;</span>"
      ],
      "text/plain": [
       "Running query in 'postgresql://127.0.0.1:5432/imdb_perf_lecture'"
      ]
     },
     "metadata": {},
     "output_type": "display_data"
    },
    {
     "data": {
      "text/html": [
       "<span style=\"color: green\">16 rows affected.</span>"
      ],
      "text/plain": [
       "16 rows affected."
      ]
     },
     "metadata": {},
     "output_type": "display_data"
    },
    {
     "data": {
      "text/html": [
       "<table>\n",
       "    <thead>\n",
       "        <tr>\n",
       "            <th>QUERY PLAN</th>\n",
       "        </tr>\n",
       "    </thead>\n",
       "    <tbody>\n",
       "        <tr>\n",
       "            <td>Gather  (cost=10632.10..32056.15 rows=3 width=56) (actual time=193.571..313.706 rows=65 loops=1)</td>\n",
       "        </tr>\n",
       "        <tr>\n",
       "            <td>&nbsp;&nbsp;Workers Planned: 2</td>\n",
       "        </tr>\n",
       "        <tr>\n",
       "            <td>&nbsp;&nbsp;Workers Launched: 2</td>\n",
       "        </tr>\n",
       "        <tr>\n",
       "            <td>&nbsp;&nbsp;->  Nested Loop  (cost=9632.10..31055.85 rows=1 width=56) (actual time=190.948..307.115 rows=22 loops=3)</td>\n",
       "        </tr>\n",
       "        <tr>\n",
       "            <td>&nbsp;&nbsp;&nbsp;&nbsp;&nbsp;&nbsp;&nbsp;&nbsp;->  Parallel Hash Join  (cost=9631.68..31055.40 rows=1 width=26) (actual time=190.869..306.587 rows=22 loops=3)</td>\n",
       "        </tr>\n",
       "        <tr>\n",
       "            <td>&nbsp;&nbsp;&nbsp;&nbsp;&nbsp;&nbsp;&nbsp;&nbsp;&nbsp;&nbsp;&nbsp;&nbsp;&nbsp;&nbsp;Hash Cond: (cast_info.person_id = actors.id)</td>\n",
       "        </tr>\n",
       "        <tr>\n",
       "            <td>&nbsp;&nbsp;&nbsp;&nbsp;&nbsp;&nbsp;&nbsp;&nbsp;&nbsp;&nbsp;&nbsp;&nbsp;&nbsp;&nbsp;->  Parallel Seq Scan on cast_info  (cost=0.00..19004.40 rows=921640 width=8) (actual time=0.008..131.269 rows=737312 loops=3)</td>\n",
       "        </tr>\n",
       "        <tr>\n",
       "            <td>&nbsp;&nbsp;&nbsp;&nbsp;&nbsp;&nbsp;&nbsp;&nbsp;&nbsp;&nbsp;&nbsp;&nbsp;&nbsp;&nbsp;->  Parallel Hash  (cost=9631.67..9631.67 rows=1 width=18) (actual time=21.909..21.910 rows=0 loops=3)</td>\n",
       "        </tr>\n",
       "        <tr>\n",
       "            <td>&nbsp;&nbsp;&nbsp;&nbsp;&nbsp;&nbsp;&nbsp;&nbsp;&nbsp;&nbsp;&nbsp;&nbsp;&nbsp;&nbsp;&nbsp;&nbsp;&nbsp;&nbsp;&nbsp;&nbsp;Buckets: 1024  Batches: 1  Memory Usage: 40kB</td>\n",
       "        </tr>\n",
       "        <tr>\n",
       "            <td>&nbsp;&nbsp;&nbsp;&nbsp;&nbsp;&nbsp;&nbsp;&nbsp;&nbsp;&nbsp;&nbsp;&nbsp;&nbsp;&nbsp;&nbsp;&nbsp;&nbsp;&nbsp;&nbsp;&nbsp;->  Parallel Seq Scan on actors  (cost=0.00..9631.67 rows=1 width=18) (actual time=13.857..21.890 rows=0 loops=3)</td>\n",
       "        </tr>\n",
       "        <tr>\n",
       "            <td>&nbsp;&nbsp;&nbsp;&nbsp;&nbsp;&nbsp;&nbsp;&nbsp;&nbsp;&nbsp;&nbsp;&nbsp;&nbsp;&nbsp;&nbsp;&nbsp;&nbsp;&nbsp;&nbsp;&nbsp;&nbsp;&nbsp;&nbsp;&nbsp;&nbsp;&nbsp;Filter: (name = 'Tom Hanks'::text)</td>\n",
       "        </tr>\n",
       "        <tr>\n",
       "            <td>&nbsp;&nbsp;&nbsp;&nbsp;&nbsp;&nbsp;&nbsp;&nbsp;&nbsp;&nbsp;&nbsp;&nbsp;&nbsp;&nbsp;&nbsp;&nbsp;&nbsp;&nbsp;&nbsp;&nbsp;&nbsp;&nbsp;&nbsp;&nbsp;&nbsp;&nbsp;Rows Removed by Filter: 281962</td>\n",
       "        </tr>\n",
       "        <tr>\n",
       "            <td>&nbsp;&nbsp;&nbsp;&nbsp;&nbsp;&nbsp;&nbsp;&nbsp;->  Index Scan using movie_pkey on movies  (cost=0.42..0.45 rows=1 width=30) (actual time=0.023..0.023 rows=1 loops=65)</td>\n",
       "        </tr>\n",
       "        <tr>\n",
       "            <td>&nbsp;&nbsp;&nbsp;&nbsp;&nbsp;&nbsp;&nbsp;&nbsp;&nbsp;&nbsp;&nbsp;&nbsp;&nbsp;&nbsp;Index Cond: (id = cast_info.movie_id)</td>\n",
       "        </tr>\n",
       "        <tr>\n",
       "            <td>Planning Time: 0.253 ms</td>\n",
       "        </tr>\n",
       "        <tr>\n",
       "            <td>Execution Time: 313.744 ms</td>\n",
       "        </tr>\n",
       "    </tbody>\n",
       "</table>"
      ],
      "text/plain": [
       "+----------------------------------------------------------------------------------------------------------------------------------------------+\n",
       "|                                                                  QUERY PLAN                                                                  |\n",
       "+----------------------------------------------------------------------------------------------------------------------------------------------+\n",
       "|                       Gather  (cost=10632.10..32056.15 rows=3 width=56) (actual time=193.571..313.706 rows=65 loops=1)                       |\n",
       "|                                                               Workers Planned: 2                                                             |\n",
       "|                                                              Workers Launched: 2                                                             |\n",
       "|                    ->  Nested Loop  (cost=9632.10..31055.85 rows=1 width=56) (actual time=190.948..307.115 rows=22 loops=3)                  |\n",
       "|                   ->  Parallel Hash Join  (cost=9631.68..31055.40 rows=1 width=26) (actual time=190.869..306.587 rows=22 loops=3)            |\n",
       "|                                                        Hash Cond: (cast_info.person_id = actors.id)                                          |\n",
       "|               ->  Parallel Seq Scan on cast_info  (cost=0.00..19004.40 rows=921640 width=8) (actual time=0.008..131.269 rows=737312 loops=3) |\n",
       "|                           ->  Parallel Hash  (cost=9631.67..9631.67 rows=1 width=18) (actual time=21.909..21.910 rows=0 loops=3)             |\n",
       "|                                                          Buckets: 1024  Batches: 1  Memory Usage: 40kB                                       |\n",
       "|                        ->  Parallel Seq Scan on actors  (cost=0.00..9631.67 rows=1 width=18) (actual time=13.857..21.890 rows=0 loops=3)     |\n",
       "|                                                                   Filter: (name = 'Tom Hanks'::text)                                         |\n",
       "|                                                                     Rows Removed by Filter: 281962                                           |\n",
       "|               ->  Index Scan using movie_pkey on movies  (cost=0.42..0.45 rows=1 width=30) (actual time=0.023..0.023 rows=1 loops=65)        |\n",
       "|                                                           Index Cond: (id = cast_info.movie_id)                                              |\n",
       "|                                                           Planning Time: 0.253 ms                                                            |\n",
       "|                                                          Execution Time: 313.744 ms                                                          |\n",
       "+----------------------------------------------------------------------------------------------------------------------------------------------+"
      ]
     },
     "execution_count": 44,
     "metadata": {},
     "output_type": "execute_result"
    }
   ],
   "source": [
    "%%sql\n",
    "EXPLAIN ANALYZE\n",
    "SELECT *\n",
    "FROM actors, cast_info, movies\n",
    "WHERE actors.id = cast_info.person_id\n",
    "    AND movies.id = cast_info.movie_id\n",
    "    AND name = 'Tom Hanks';"
   ]
  },
  {
   "cell_type": "code",
   "execution_count": null,
   "id": "3f64f5db-10e9-4386-8871-022528b05c39",
   "metadata": {},
   "outputs": [],
   "source": [
    "printplans(_)"
   ]
  },
  {
   "cell_type": "markdown",
   "id": "0b433c36-ade1-4fc0-b2f3-16205fdcdb74",
   "metadata": {},
   "source": [
    "<br/><br/>\n",
    "\n",
    "Compare with the below predicate pushdown, where the filter is now on movie titles:"
   ]
  },
  {
   "cell_type": "code",
   "execution_count": 45,
   "id": "cb2cd31c-5de1-416a-99a1-dc66a8f38d6e",
   "metadata": {},
   "outputs": [
    {
     "data": {
      "text/html": [
       "<span style=\"None\">Running query in &#x27;postgresql://127.0.0.1:5432/imdb_perf_lecture&#x27;</span>"
      ],
      "text/plain": [
       "Running query in 'postgresql://127.0.0.1:5432/imdb_perf_lecture'"
      ]
     },
     "metadata": {},
     "output_type": "display_data"
    },
    {
     "data": {
      "text/html": [
       "<span style=\"color: green\">16 rows affected.</span>"
      ],
      "text/plain": [
       "16 rows affected."
      ]
     },
     "metadata": {},
     "output_type": "display_data"
    },
    {
     "data": {
      "text/html": [
       "<table>\n",
       "    <thead>\n",
       "        <tr>\n",
       "            <th>QUERY PLAN</th>\n",
       "        </tr>\n",
       "    </thead>\n",
       "    <tbody>\n",
       "        <tr>\n",
       "            <td>Gather  (cost=9279.46..30704.82 rows=7 width=56) (actual time=205.139..336.325 rows=4 loops=1)</td>\n",
       "        </tr>\n",
       "        <tr>\n",
       "            <td>&nbsp;&nbsp;Workers Planned: 2</td>\n",
       "        </tr>\n",
       "        <tr>\n",
       "            <td>&nbsp;&nbsp;Workers Launched: 2</td>\n",
       "        </tr>\n",
       "        <tr>\n",
       "            <td>&nbsp;&nbsp;->  Nested Loop  (cost=8279.46..29704.12 rows=3 width=56) (actual time=192.284..323.602 rows=1 loops=3)</td>\n",
       "        </tr>\n",
       "        <tr>\n",
       "            <td>&nbsp;&nbsp;&nbsp;&nbsp;&nbsp;&nbsp;&nbsp;&nbsp;->  Parallel Hash Join  (cost=8279.04..29702.75 rows=3 width=38) (actual time=178.881..309.918 rows=1 loops=3)</td>\n",
       "        </tr>\n",
       "        <tr>\n",
       "            <td>&nbsp;&nbsp;&nbsp;&nbsp;&nbsp;&nbsp;&nbsp;&nbsp;&nbsp;&nbsp;&nbsp;&nbsp;&nbsp;&nbsp;Hash Cond: (cast_info.movie_id = movies.id)</td>\n",
       "        </tr>\n",
       "        <tr>\n",
       "            <td>&nbsp;&nbsp;&nbsp;&nbsp;&nbsp;&nbsp;&nbsp;&nbsp;&nbsp;&nbsp;&nbsp;&nbsp;&nbsp;&nbsp;->  Parallel Seq Scan on cast_info  (cost=0.00..19004.40 rows=921640 width=8) (actual time=0.013..110.408 rows=737312 loops=3)</td>\n",
       "        </tr>\n",
       "        <tr>\n",
       "            <td>&nbsp;&nbsp;&nbsp;&nbsp;&nbsp;&nbsp;&nbsp;&nbsp;&nbsp;&nbsp;&nbsp;&nbsp;&nbsp;&nbsp;->  Parallel Hash  (cost=8279.03..8279.03 rows=1 width=30) (actual time=21.182..21.183 rows=0 loops=3)</td>\n",
       "        </tr>\n",
       "        <tr>\n",
       "            <td>&nbsp;&nbsp;&nbsp;&nbsp;&nbsp;&nbsp;&nbsp;&nbsp;&nbsp;&nbsp;&nbsp;&nbsp;&nbsp;&nbsp;&nbsp;&nbsp;&nbsp;&nbsp;&nbsp;&nbsp;Buckets: 1024  Batches: 1  Memory Usage: 40kB</td>\n",
       "        </tr>\n",
       "        <tr>\n",
       "            <td>&nbsp;&nbsp;&nbsp;&nbsp;&nbsp;&nbsp;&nbsp;&nbsp;&nbsp;&nbsp;&nbsp;&nbsp;&nbsp;&nbsp;&nbsp;&nbsp;&nbsp;&nbsp;&nbsp;&nbsp;->  Parallel Seq Scan on movies  (cost=0.00..8279.03 rows=1 width=30) (actual time=16.196..21.104 rows=0 loops=3)</td>\n",
       "        </tr>\n",
       "        <tr>\n",
       "            <td>&nbsp;&nbsp;&nbsp;&nbsp;&nbsp;&nbsp;&nbsp;&nbsp;&nbsp;&nbsp;&nbsp;&nbsp;&nbsp;&nbsp;&nbsp;&nbsp;&nbsp;&nbsp;&nbsp;&nbsp;&nbsp;&nbsp;&nbsp;&nbsp;&nbsp;&nbsp;Filter: (title ~~ 'Snakes on a Plane'::text)</td>\n",
       "        </tr>\n",
       "        <tr>\n",
       "            <td>&nbsp;&nbsp;&nbsp;&nbsp;&nbsp;&nbsp;&nbsp;&nbsp;&nbsp;&nbsp;&nbsp;&nbsp;&nbsp;&nbsp;&nbsp;&nbsp;&nbsp;&nbsp;&nbsp;&nbsp;&nbsp;&nbsp;&nbsp;&nbsp;&nbsp;&nbsp;Rows Removed by Filter: 218817</td>\n",
       "        </tr>\n",
       "        <tr>\n",
       "            <td>&nbsp;&nbsp;&nbsp;&nbsp;&nbsp;&nbsp;&nbsp;&nbsp;->  Index Scan using actor_pkey on actors  (cost=0.42..0.46 rows=1 width=18) (actual time=10.255..10.255 rows=1 loops=4)</td>\n",
       "        </tr>\n",
       "        <tr>\n",
       "            <td>&nbsp;&nbsp;&nbsp;&nbsp;&nbsp;&nbsp;&nbsp;&nbsp;&nbsp;&nbsp;&nbsp;&nbsp;&nbsp;&nbsp;Index Cond: (id = cast_info.person_id)</td>\n",
       "        </tr>\n",
       "        <tr>\n",
       "            <td>Planning Time: 0.290 ms</td>\n",
       "        </tr>\n",
       "        <tr>\n",
       "            <td>Execution Time: 336.364 ms</td>\n",
       "        </tr>\n",
       "    </tbody>\n",
       "</table>"
      ],
      "text/plain": [
       "+----------------------------------------------------------------------------------------------------------------------------------------------+\n",
       "|                                                                  QUERY PLAN                                                                  |\n",
       "+----------------------------------------------------------------------------------------------------------------------------------------------+\n",
       "|                        Gather  (cost=9279.46..30704.82 rows=7 width=56) (actual time=205.139..336.325 rows=4 loops=1)                        |\n",
       "|                                                               Workers Planned: 2                                                             |\n",
       "|                                                              Workers Launched: 2                                                             |\n",
       "|                    ->  Nested Loop  (cost=8279.46..29704.12 rows=3 width=56) (actual time=192.284..323.602 rows=1 loops=3)                   |\n",
       "|                    ->  Parallel Hash Join  (cost=8279.04..29702.75 rows=3 width=38) (actual time=178.881..309.918 rows=1 loops=3)            |\n",
       "|                                                        Hash Cond: (cast_info.movie_id = movies.id)                                           |\n",
       "|               ->  Parallel Seq Scan on cast_info  (cost=0.00..19004.40 rows=921640 width=8) (actual time=0.013..110.408 rows=737312 loops=3) |\n",
       "|                           ->  Parallel Hash  (cost=8279.03..8279.03 rows=1 width=30) (actual time=21.182..21.183 rows=0 loops=3)             |\n",
       "|                                                          Buckets: 1024  Batches: 1  Memory Usage: 40kB                                       |\n",
       "|                        ->  Parallel Seq Scan on movies  (cost=0.00..8279.03 rows=1 width=30) (actual time=16.196..21.104 rows=0 loops=3)     |\n",
       "|                                                              Filter: (title ~~ 'Snakes on a Plane'::text)                                    |\n",
       "|                                                                     Rows Removed by Filter: 218817                                           |\n",
       "|               ->  Index Scan using actor_pkey on actors  (cost=0.42..0.46 rows=1 width=18) (actual time=10.255..10.255 rows=1 loops=4)       |\n",
       "|                                                           Index Cond: (id = cast_info.person_id)                                             |\n",
       "|                                                           Planning Time: 0.290 ms                                                            |\n",
       "|                                                          Execution Time: 336.364 ms                                                          |\n",
       "+----------------------------------------------------------------------------------------------------------------------------------------------+"
      ]
     },
     "execution_count": 45,
     "metadata": {},
     "output_type": "execute_result"
    }
   ],
   "source": [
    "%%sql\n",
    "EXPLAIN ANALYZE\n",
    "SELECT *\n",
    "FROM actors, cast_info, movies\n",
    "WHERE actors.id = cast_info.person_id\n",
    "    AND movies.id = cast_info.movie_id\n",
    "    AND title LIKE 'Snakes on a Plane';"
   ]
  },
  {
   "cell_type": "code",
   "execution_count": null,
   "id": "a924901e-f0ec-4a0f-917e-9cfe5ca8e290",
   "metadata": {},
   "outputs": [],
   "source": [
    "printplans(_)"
   ]
  },
  {
   "cell_type": "markdown",
   "id": "96af2061-80dd-4cbe-9d7a-850a601a4071",
   "metadata": {},
   "source": [
    "# [At home] Three-way joins with Indexes \n",
    "\n",
    "We're now going to see the impact of indexes... Start with a query from before."
   ]
  },
  {
   "cell_type": "code",
   "execution_count": 46,
   "id": "c2ffdd6b-bdfb-41d7-8acc-5173934a9781",
   "metadata": {},
   "outputs": [
    {
     "data": {
      "text/html": [
       "<span style=\"None\">Running query in &#x27;postgresql://127.0.0.1:5432/imdb_perf_lecture&#x27;</span>"
      ],
      "text/plain": [
       "Running query in 'postgresql://127.0.0.1:5432/imdb_perf_lecture'"
      ]
     },
     "metadata": {},
     "output_type": "display_data"
    },
    {
     "data": {
      "text/html": [
       "<span style=\"color: green\">14 rows affected.</span>"
      ],
      "text/plain": [
       "14 rows affected."
      ]
     },
     "metadata": {},
     "output_type": "display_data"
    },
    {
     "data": {
      "text/html": [
       "<table>\n",
       "    <thead>\n",
       "        <tr>\n",
       "            <th>QUERY PLAN</th>\n",
       "        </tr>\n",
       "    </thead>\n",
       "    <tbody>\n",
       "        <tr>\n",
       "            <td>Limit  (cost=0.86..9.46 rows=10 width=56) (actual time=0.073..0.125 rows=10 loops=1)</td>\n",
       "        </tr>\n",
       "        <tr>\n",
       "            <td>&nbsp;&nbsp;->  Nested Loop  (cost=0.86..1901460.04 rows=2211936 width=56) (actual time=0.072..0.123 rows=10 loops=1)</td>\n",
       "        </tr>\n",
       "        <tr>\n",
       "            <td>&nbsp;&nbsp;&nbsp;&nbsp;&nbsp;&nbsp;&nbsp;&nbsp;->  Nested Loop  (cost=0.43..896026.45 rows=2211936 width=26) (actual time=0.027..0.063 rows=10 loops=1)</td>\n",
       "        </tr>\n",
       "        <tr>\n",
       "            <td>&nbsp;&nbsp;&nbsp;&nbsp;&nbsp;&nbsp;&nbsp;&nbsp;&nbsp;&nbsp;&nbsp;&nbsp;&nbsp;&nbsp;->  Seq Scan on cast_info  (cost=0.00..31907.36 rows=2211936 width=8) (actual time=0.010..0.011 rows=10 loops=1)</td>\n",
       "        </tr>\n",
       "        <tr>\n",
       "            <td>&nbsp;&nbsp;&nbsp;&nbsp;&nbsp;&nbsp;&nbsp;&nbsp;&nbsp;&nbsp;&nbsp;&nbsp;&nbsp;&nbsp;->  Memoize  (cost=0.43..0.47 rows=1 width=18) (actual time=0.005..0.005 rows=1 loops=10)</td>\n",
       "        </tr>\n",
       "        <tr>\n",
       "            <td>&nbsp;&nbsp;&nbsp;&nbsp;&nbsp;&nbsp;&nbsp;&nbsp;&nbsp;&nbsp;&nbsp;&nbsp;&nbsp;&nbsp;&nbsp;&nbsp;&nbsp;&nbsp;&nbsp;&nbsp;Cache Key: cast_info.person_id</td>\n",
       "        </tr>\n",
       "        <tr>\n",
       "            <td>&nbsp;&nbsp;&nbsp;&nbsp;&nbsp;&nbsp;&nbsp;&nbsp;&nbsp;&nbsp;&nbsp;&nbsp;&nbsp;&nbsp;&nbsp;&nbsp;&nbsp;&nbsp;&nbsp;&nbsp;Cache Mode: logical</td>\n",
       "        </tr>\n",
       "        <tr>\n",
       "            <td>&nbsp;&nbsp;&nbsp;&nbsp;&nbsp;&nbsp;&nbsp;&nbsp;&nbsp;&nbsp;&nbsp;&nbsp;&nbsp;&nbsp;&nbsp;&nbsp;&nbsp;&nbsp;&nbsp;&nbsp;Hits: 2  Misses: 8  Evictions: 0  Overflows: 0  Memory Usage: 1kB</td>\n",
       "        </tr>\n",
       "        <tr>\n",
       "            <td>&nbsp;&nbsp;&nbsp;&nbsp;&nbsp;&nbsp;&nbsp;&nbsp;&nbsp;&nbsp;&nbsp;&nbsp;&nbsp;&nbsp;&nbsp;&nbsp;&nbsp;&nbsp;&nbsp;&nbsp;->  Index Scan using actor_pkey on actors  (cost=0.42..0.46 rows=1 width=18) (actual time=0.004..0.004 rows=1 loops=8)</td>\n",
       "        </tr>\n",
       "        <tr>\n",
       "            <td>&nbsp;&nbsp;&nbsp;&nbsp;&nbsp;&nbsp;&nbsp;&nbsp;&nbsp;&nbsp;&nbsp;&nbsp;&nbsp;&nbsp;&nbsp;&nbsp;&nbsp;&nbsp;&nbsp;&nbsp;&nbsp;&nbsp;&nbsp;&nbsp;&nbsp;&nbsp;Index Cond: (id = cast_info.person_id)</td>\n",
       "        </tr>\n",
       "        <tr>\n",
       "            <td>&nbsp;&nbsp;&nbsp;&nbsp;&nbsp;&nbsp;&nbsp;&nbsp;->  Index Scan using movie_pkey on movies  (cost=0.42..0.45 rows=1 width=30) (actual time=0.005..0.005 rows=1 loops=10)</td>\n",
       "        </tr>\n",
       "        <tr>\n",
       "            <td>&nbsp;&nbsp;&nbsp;&nbsp;&nbsp;&nbsp;&nbsp;&nbsp;&nbsp;&nbsp;&nbsp;&nbsp;&nbsp;&nbsp;Index Cond: (id = cast_info.movie_id)</td>\n",
       "        </tr>\n",
       "        <tr>\n",
       "            <td>Planning Time: 0.260 ms</td>\n",
       "        </tr>\n",
       "        <tr>\n",
       "            <td>Execution Time: 0.865 ms</td>\n",
       "        </tr>\n",
       "    </tbody>\n",
       "</table>"
      ],
      "text/plain": [
       "+--------------------------------------------------------------------------------------------------------------------------------------------+\n",
       "|                                                                 QUERY PLAN                                                                 |\n",
       "+--------------------------------------------------------------------------------------------------------------------------------------------+\n",
       "|                            Limit  (cost=0.86..9.46 rows=10 width=56) (actual time=0.073..0.125 rows=10 loops=1)                            |\n",
       "|                  ->  Nested Loop  (cost=0.86..1901460.04 rows=2211936 width=56) (actual time=0.072..0.123 rows=10 loops=1)                 |\n",
       "|                      ->  Nested Loop  (cost=0.43..896026.45 rows=2211936 width=26) (actual time=0.027..0.063 rows=10 loops=1)              |\n",
       "|                     ->  Seq Scan on cast_info  (cost=0.00..31907.36 rows=2211936 width=8) (actual time=0.010..0.011 rows=10 loops=1)       |\n",
       "|                                ->  Memoize  (cost=0.43..0.47 rows=1 width=18) (actual time=0.005..0.005 rows=1 loops=10)                   |\n",
       "|                                                                 Cache Key: cast_info.person_id                                             |\n",
       "|                                                                      Cache Mode: logical                                                   |\n",
       "|                                               Hits: 2  Misses: 8  Evictions: 0  Overflows: 0  Memory Usage: 1kB                            |\n",
       "|                     ->  Index Scan using actor_pkey on actors  (cost=0.42..0.46 rows=1 width=18) (actual time=0.004..0.004 rows=1 loops=8) |\n",
       "|                                                                Index Cond: (id = cast_info.person_id)                                      |\n",
       "|              ->  Index Scan using movie_pkey on movies  (cost=0.42..0.45 rows=1 width=30) (actual time=0.005..0.005 rows=1 loops=10)       |\n",
       "|                                                          Index Cond: (id = cast_info.movie_id)                                             |\n",
       "|                                                          Planning Time: 0.260 ms                                                           |\n",
       "|                                                          Execution Time: 0.865 ms                                                          |\n",
       "+--------------------------------------------------------------------------------------------------------------------------------------------+"
      ]
     },
     "execution_count": 46,
     "metadata": {},
     "output_type": "execute_result"
    }
   ],
   "source": [
    "%%sql\n",
    "EXPLAIN ANALYZE\n",
    "SELECT *\n",
    "FROM actors, cast_info, movies\n",
    "WHERE actors.id = cast_info.person_id\n",
    "    AND movies.id = cast_info.movie_id\n",
    "LIMIT 10;"
   ]
  },
  {
   "cell_type": "code",
   "execution_count": null,
   "id": "f775d186-e124-4572-aa96-4403b2c54aed",
   "metadata": {},
   "outputs": [],
   "source": [
    "printplans(_)"
   ]
  },
  {
   "cell_type": "markdown",
   "id": "29b86550-74fb-412e-9770-415591116448",
   "metadata": {},
   "source": [
    "<br/><br/>\n",
    "What if we dropped one of the indexes?\n",
    "\n",
    "To do so we must drop the primary key constraint on actors.id:"
   ]
  },
  {
   "cell_type": "code",
   "execution_count": 43,
   "id": "75d36170-657f-4fcf-9cef-6537f4e98a46",
   "metadata": {},
   "outputs": [
    {
     "data": {
      "text/html": [
       "<span style=\"None\">Running query in &#x27;postgresql://127.0.0.1:5432/imdb_perf_lecture&#x27;</span>"
      ],
      "text/plain": [
       "Running query in 'postgresql://127.0.0.1:5432/imdb_perf_lecture'"
      ]
     },
     "metadata": {},
     "output_type": "display_data"
    },
    {
     "data": {
      "text/html": [
       "<table>\n",
       "    <thead>\n",
       "        <tr>\n",
       "        </tr>\n",
       "    </thead>\n",
       "    <tbody>\n",
       "    </tbody>\n",
       "</table>"
      ],
      "text/plain": [
       "++\n",
       "||\n",
       "++\n",
       "++"
      ]
     },
     "execution_count": 43,
     "metadata": {},
     "output_type": "execute_result"
    }
   ],
   "source": [
    "%sql ALTER TABLE actors DROP CONSTRAINT actor_pkey CASCADE;"
   ]
  },
  {
   "cell_type": "code",
   "execution_count": 44,
   "id": "019b9eda-6eb2-4fc6-aa0b-0336fa1f3173",
   "metadata": {},
   "outputs": [
    {
     "data": {
      "text/html": [
       "<span style=\"None\">Running query in &#x27;postgresql://127.0.0.1:5432/imdb_perf_lecture&#x27;</span>"
      ],
      "text/plain": [
       "Running query in 'postgresql://127.0.0.1:5432/imdb_perf_lecture'"
      ]
     },
     "metadata": {},
     "output_type": "display_data"
    },
    {
     "data": {
      "text/html": [
       "<span style=\"color: green\">15 rows affected.</span>"
      ],
      "text/plain": [
       "15 rows affected."
      ]
     },
     "metadata": {},
     "output_type": "display_data"
    },
    {
     "data": {
      "text/html": [
       "<table>\n",
       "    <thead>\n",
       "        <tr>\n",
       "            <th>QUERY PLAN</th>\n",
       "        </tr>\n",
       "    </thead>\n",
       "    <tbody>\n",
       "        <tr>\n",
       "            <td>Limit  (cost=16222.62..16228.33 rows=10 width=56) (actual time=625.525..765.128 rows=10 loops=1)</td>\n",
       "        </tr>\n",
       "        <tr>\n",
       "            <td>&nbsp;&nbsp;->  Nested Loop  (cost=16222.62..1278418.10 rows=2211936 width=56) (actual time=625.524..765.124 rows=10 loops=1)</td>\n",
       "        </tr>\n",
       "        <tr>\n",
       "            <td>&nbsp;&nbsp;&nbsp;&nbsp;&nbsp;&nbsp;&nbsp;&nbsp;->  Gather  (cost=16222.20..272984.51 rows=2211936 width=26) (actual time=625.481..687.666 rows=10 loops=1)</td>\n",
       "        </tr>\n",
       "        <tr>\n",
       "            <td>&nbsp;&nbsp;&nbsp;&nbsp;&nbsp;&nbsp;&nbsp;&nbsp;&nbsp;&nbsp;&nbsp;&nbsp;&nbsp;&nbsp;Workers Planned: 2</td>\n",
       "        </tr>\n",
       "        <tr>\n",
       "            <td>&nbsp;&nbsp;&nbsp;&nbsp;&nbsp;&nbsp;&nbsp;&nbsp;&nbsp;&nbsp;&nbsp;&nbsp;&nbsp;&nbsp;Workers Launched: 2</td>\n",
       "        </tr>\n",
       "        <tr>\n",
       "            <td>&nbsp;&nbsp;&nbsp;&nbsp;&nbsp;&nbsp;&nbsp;&nbsp;&nbsp;&nbsp;&nbsp;&nbsp;&nbsp;&nbsp;->  Parallel Hash Join  (cost=15222.20..50790.91 rows=921640 width=26) (actual time=620.558..620.948 rows=808 loops=3)</td>\n",
       "        </tr>\n",
       "        <tr>\n",
       "            <td>&nbsp;&nbsp;&nbsp;&nbsp;&nbsp;&nbsp;&nbsp;&nbsp;&nbsp;&nbsp;&nbsp;&nbsp;&nbsp;&nbsp;&nbsp;&nbsp;&nbsp;&nbsp;&nbsp;&nbsp;Hash Cond: (cast_info.person_id = actors.id)</td>\n",
       "        </tr>\n",
       "        <tr>\n",
       "            <td>&nbsp;&nbsp;&nbsp;&nbsp;&nbsp;&nbsp;&nbsp;&nbsp;&nbsp;&nbsp;&nbsp;&nbsp;&nbsp;&nbsp;&nbsp;&nbsp;&nbsp;&nbsp;&nbsp;&nbsp;->  Parallel Seq Scan on cast_info  (cost=0.00..19004.40 rows=921640 width=8) (actual time=0.014..186.327 rows=737312 loops=3)</td>\n",
       "        </tr>\n",
       "        <tr>\n",
       "            <td>&nbsp;&nbsp;&nbsp;&nbsp;&nbsp;&nbsp;&nbsp;&nbsp;&nbsp;&nbsp;&nbsp;&nbsp;&nbsp;&nbsp;&nbsp;&nbsp;&nbsp;&nbsp;&nbsp;&nbsp;->  Parallel Hash  (cost=8750.53..8750.53 rows=352453 width=18) (actual time=129.357..129.358 rows=281963 loops=3)</td>\n",
       "        </tr>\n",
       "        <tr>\n",
       "            <td>&nbsp;&nbsp;&nbsp;&nbsp;&nbsp;&nbsp;&nbsp;&nbsp;&nbsp;&nbsp;&nbsp;&nbsp;&nbsp;&nbsp;&nbsp;&nbsp;&nbsp;&nbsp;&nbsp;&nbsp;&nbsp;&nbsp;&nbsp;&nbsp;&nbsp;&nbsp;Buckets: 65536  Batches: 16  Memory Usage: 0kB</td>\n",
       "        </tr>\n",
       "        <tr>\n",
       "            <td>&nbsp;&nbsp;&nbsp;&nbsp;&nbsp;&nbsp;&nbsp;&nbsp;&nbsp;&nbsp;&nbsp;&nbsp;&nbsp;&nbsp;&nbsp;&nbsp;&nbsp;&nbsp;&nbsp;&nbsp;&nbsp;&nbsp;&nbsp;&nbsp;&nbsp;&nbsp;->  Parallel Seq Scan on actors  (cost=0.00..8750.53 rows=352453 width=18) (actual time=0.018..43.530 rows=281963 loops=3)</td>\n",
       "        </tr>\n",
       "        <tr>\n",
       "            <td>&nbsp;&nbsp;&nbsp;&nbsp;&nbsp;&nbsp;&nbsp;&nbsp;->  Index Scan using movie_pkey on movies  (cost=0.42..0.45 rows=1 width=30) (actual time=7.743..7.743 rows=1 loops=10)</td>\n",
       "        </tr>\n",
       "        <tr>\n",
       "            <td>&nbsp;&nbsp;&nbsp;&nbsp;&nbsp;&nbsp;&nbsp;&nbsp;&nbsp;&nbsp;&nbsp;&nbsp;&nbsp;&nbsp;Index Cond: (id = cast_info.movie_id)</td>\n",
       "        </tr>\n",
       "        <tr>\n",
       "            <td>Planning Time: 0.260 ms</td>\n",
       "        </tr>\n",
       "        <tr>\n",
       "            <td>Execution Time: 765.169 ms</td>\n",
       "        </tr>\n",
       "    </tbody>\n",
       "</table>"
      ],
      "text/plain": [
       "+------------------------------------------------------------------------------------------------------------------------------------------------------+\n",
       "|                                                                      QUERY PLAN                                                                      |\n",
       "+------------------------------------------------------------------------------------------------------------------------------------------------------+\n",
       "|                           Limit  (cost=16222.62..16228.33 rows=10 width=56) (actual time=625.525..765.128 rows=10 loops=1)                           |\n",
       "|                   ->  Nested Loop  (cost=16222.62..1278418.10 rows=2211936 width=56) (actual time=625.524..765.124 rows=10 loops=1)                  |\n",
       "|                         ->  Gather  (cost=16222.20..272984.51 rows=2211936 width=26) (actual time=625.481..687.666 rows=10 loops=1)                  |\n",
       "|                                                                         Workers Planned: 2                                                           |\n",
       "|                                                                        Workers Launched: 2                                                           |\n",
       "|                       ->  Parallel Hash Join  (cost=15222.20..50790.91 rows=921640 width=26) (actual time=620.558..620.948 rows=808 loops=3)         |\n",
       "|                                                               Hash Cond: (cast_info.person_id = actors.id)                                           |\n",
       "|                      ->  Parallel Seq Scan on cast_info  (cost=0.00..19004.40 rows=921640 width=8) (actual time=0.014..186.327 rows=737312 loops=3)  |\n",
       "|                            ->  Parallel Hash  (cost=8750.53..8750.53 rows=352453 width=18) (actual time=129.357..129.358 rows=281963 loops=3)        |\n",
       "|                                                                 Buckets: 65536  Batches: 16  Memory Usage: 0kB                                       |\n",
       "|                           ->  Parallel Seq Scan on actors  (cost=0.00..8750.53 rows=352453 width=18) (actual time=0.018..43.530 rows=281963 loops=3) |\n",
       "|                   ->  Index Scan using movie_pkey on movies  (cost=0.42..0.45 rows=1 width=30) (actual time=7.743..7.743 rows=1 loops=10)            |\n",
       "|                                                               Index Cond: (id = cast_info.movie_id)                                                  |\n",
       "|                                                               Planning Time: 0.260 ms                                                                |\n",
       "|                                                              Execution Time: 765.169 ms                                                              |\n",
       "+------------------------------------------------------------------------------------------------------------------------------------------------------+"
      ]
     },
     "execution_count": 44,
     "metadata": {},
     "output_type": "execute_result"
    }
   ],
   "source": [
    "%%sql\n",
    "EXPLAIN ANALYZE\n",
    "SELECT *\n",
    "FROM actors, cast_info, movies\n",
    "WHERE actors.id = cast_info.person_id\n",
    "    AND movies.id = cast_info.movie_id\n",
    "LIMIT 10;"
   ]
  },
  {
   "cell_type": "code",
   "execution_count": null,
   "id": "baad66fc-b5b0-4d64-a3f0-fe8833e93de3",
   "metadata": {},
   "outputs": [],
   "source": [
    "printplans(_)"
   ]
  },
  {
   "cell_type": "markdown",
   "id": "af5abada-6012-41ba-9e1b-d03575d7287e",
   "metadata": {},
   "source": [
    "<br/><br/>\n",
    "What if we dropped both indexes?"
   ]
  },
  {
   "cell_type": "code",
   "execution_count": 45,
   "id": "dd4126dc-d88d-4eaa-b8eb-29746e999c31",
   "metadata": {
    "scrolled": true
   },
   "outputs": [
    {
     "data": {
      "text/html": [
       "<span style=\"None\">Running query in &#x27;postgresql://127.0.0.1:5432/imdb_perf_lecture&#x27;</span>"
      ],
      "text/plain": [
       "Running query in 'postgresql://127.0.0.1:5432/imdb_perf_lecture'"
      ]
     },
     "metadata": {},
     "output_type": "display_data"
    },
    {
     "data": {
      "text/html": [
       "<table>\n",
       "    <thead>\n",
       "        <tr>\n",
       "        </tr>\n",
       "    </thead>\n",
       "    <tbody>\n",
       "    </tbody>\n",
       "</table>"
      ],
      "text/plain": [
       "++\n",
       "||\n",
       "++\n",
       "++"
      ]
     },
     "execution_count": 45,
     "metadata": {},
     "output_type": "execute_result"
    }
   ],
   "source": [
    "%sql ALTER TABLE movies DROP CONSTRAINT movie_pkey CASCADE;"
   ]
  },
  {
   "cell_type": "code",
   "execution_count": 46,
   "id": "5ef94a40-0bc1-462a-b461-6643742b245c",
   "metadata": {},
   "outputs": [
    {
     "data": {
      "text/html": [
       "<span style=\"None\">Running query in &#x27;postgresql://127.0.0.1:5432/imdb_perf_lecture&#x27;</span>"
      ],
      "text/plain": [
       "Running query in 'postgresql://127.0.0.1:5432/imdb_perf_lecture'"
      ]
     },
     "metadata": {},
     "output_type": "display_data"
    },
    {
     "data": {
      "text/html": [
       "<span style=\"color: green\">17 rows affected.</span>"
      ],
      "text/plain": [
       "17 rows affected."
      ]
     },
     "metadata": {},
     "output_type": "display_data"
    },
    {
     "data": {
      "text/html": [
       "<table>\n",
       "    <thead>\n",
       "        <tr>\n",
       "            <th>QUERY PLAN</th>\n",
       "        </tr>\n",
       "    </thead>\n",
       "    <tbody>\n",
       "        <tr>\n",
       "            <td>Limit  (cost=29106.44..29107.70 rows=10 width=56) (actual time=1847.435..1931.973 rows=10 loops=1)</td>\n",
       "        </tr>\n",
       "        <tr>\n",
       "            <td>&nbsp;&nbsp;->  Gather  (cost=29106.44..307637.07 rows=2211936 width=56) (actual time=1847.434..1931.969 rows=10 loops=1)</td>\n",
       "        </tr>\n",
       "        <tr>\n",
       "            <td>&nbsp;&nbsp;&nbsp;&nbsp;&nbsp;&nbsp;&nbsp;&nbsp;Workers Planned: 2</td>\n",
       "        </tr>\n",
       "        <tr>\n",
       "            <td>&nbsp;&nbsp;&nbsp;&nbsp;&nbsp;&nbsp;&nbsp;&nbsp;Workers Launched: 2</td>\n",
       "        </tr>\n",
       "        <tr>\n",
       "            <td>&nbsp;&nbsp;&nbsp;&nbsp;&nbsp;&nbsp;&nbsp;&nbsp;->  Parallel Hash Join  (cost=28106.44..85443.47 rows=921640 width=56) (actual time=1840.619..1840.727 rows=4 loops=3)</td>\n",
       "        </tr>\n",
       "        <tr>\n",
       "            <td>&nbsp;&nbsp;&nbsp;&nbsp;&nbsp;&nbsp;&nbsp;&nbsp;&nbsp;&nbsp;&nbsp;&nbsp;&nbsp;&nbsp;Hash Cond: (cast_info.movie_id = movies.id)</td>\n",
       "        </tr>\n",
       "        <tr>\n",
       "            <td>&nbsp;&nbsp;&nbsp;&nbsp;&nbsp;&nbsp;&nbsp;&nbsp;&nbsp;&nbsp;&nbsp;&nbsp;&nbsp;&nbsp;->  Parallel Hash Join  (cost=15222.20..50790.91 rows=921640 width=26) (actual time=630.536..1252.075 rows=737312 loops=3)</td>\n",
       "        </tr>\n",
       "        <tr>\n",
       "            <td>&nbsp;&nbsp;&nbsp;&nbsp;&nbsp;&nbsp;&nbsp;&nbsp;&nbsp;&nbsp;&nbsp;&nbsp;&nbsp;&nbsp;&nbsp;&nbsp;&nbsp;&nbsp;&nbsp;&nbsp;Hash Cond: (cast_info.person_id = actors.id)</td>\n",
       "        </tr>\n",
       "        <tr>\n",
       "            <td>&nbsp;&nbsp;&nbsp;&nbsp;&nbsp;&nbsp;&nbsp;&nbsp;&nbsp;&nbsp;&nbsp;&nbsp;&nbsp;&nbsp;&nbsp;&nbsp;&nbsp;&nbsp;&nbsp;&nbsp;->  Parallel Seq Scan on cast_info  (cost=0.00..19004.40 rows=921640 width=8) (actual time=0.018..139.780 rows=737312 loops=3)</td>\n",
       "        </tr>\n",
       "        <tr>\n",
       "            <td>&nbsp;&nbsp;&nbsp;&nbsp;&nbsp;&nbsp;&nbsp;&nbsp;&nbsp;&nbsp;&nbsp;&nbsp;&nbsp;&nbsp;&nbsp;&nbsp;&nbsp;&nbsp;&nbsp;&nbsp;->  Parallel Hash  (cost=8750.53..8750.53 rows=352453 width=18) (actual time=196.594..196.594 rows=281963 loops=3)</td>\n",
       "        </tr>\n",
       "        <tr>\n",
       "            <td>&nbsp;&nbsp;&nbsp;&nbsp;&nbsp;&nbsp;&nbsp;&nbsp;&nbsp;&nbsp;&nbsp;&nbsp;&nbsp;&nbsp;&nbsp;&nbsp;&nbsp;&nbsp;&nbsp;&nbsp;&nbsp;&nbsp;&nbsp;&nbsp;&nbsp;&nbsp;Buckets: 65536  Batches: 16  Memory Usage: 3360kB</td>\n",
       "        </tr>\n",
       "        <tr>\n",
       "            <td>&nbsp;&nbsp;&nbsp;&nbsp;&nbsp;&nbsp;&nbsp;&nbsp;&nbsp;&nbsp;&nbsp;&nbsp;&nbsp;&nbsp;&nbsp;&nbsp;&nbsp;&nbsp;&nbsp;&nbsp;&nbsp;&nbsp;&nbsp;&nbsp;&nbsp;&nbsp;->  Parallel Seq Scan on actors  (cost=0.00..8750.53 rows=352453 width=18) (actual time=0.020..20.931 rows=281963 loops=3)</td>\n",
       "        </tr>\n",
       "        <tr>\n",
       "            <td>&nbsp;&nbsp;&nbsp;&nbsp;&nbsp;&nbsp;&nbsp;&nbsp;&nbsp;&nbsp;&nbsp;&nbsp;&nbsp;&nbsp;->  Parallel Hash  (cost=7595.22..7595.22 rows=273522 width=30) (actual time=116.890..116.891 rows=218818 loops=3)</td>\n",
       "        </tr>\n",
       "        <tr>\n",
       "            <td>&nbsp;&nbsp;&nbsp;&nbsp;&nbsp;&nbsp;&nbsp;&nbsp;&nbsp;&nbsp;&nbsp;&nbsp;&nbsp;&nbsp;&nbsp;&nbsp;&nbsp;&nbsp;&nbsp;&nbsp;Buckets: 65536  Batches: 16  Memory Usage: 0kB</td>\n",
       "        </tr>\n",
       "        <tr>\n",
       "            <td>&nbsp;&nbsp;&nbsp;&nbsp;&nbsp;&nbsp;&nbsp;&nbsp;&nbsp;&nbsp;&nbsp;&nbsp;&nbsp;&nbsp;&nbsp;&nbsp;&nbsp;&nbsp;&nbsp;&nbsp;->  Parallel Seq Scan on movies  (cost=0.00..7595.22 rows=273522 width=30) (actual time=0.016..16.477 rows=218818 loops=3)</td>\n",
       "        </tr>\n",
       "        <tr>\n",
       "            <td>Planning Time: 0.188 ms</td>\n",
       "        </tr>\n",
       "        <tr>\n",
       "            <td>Execution Time: 1932.011 ms</td>\n",
       "        </tr>\n",
       "    </tbody>\n",
       "</table>"
      ],
      "text/plain": [
       "+------------------------------------------------------------------------------------------------------------------------------------------------------+\n",
       "|                                                                      QUERY PLAN                                                                      |\n",
       "+------------------------------------------------------------------------------------------------------------------------------------------------------+\n",
       "|                          Limit  (cost=29106.44..29107.70 rows=10 width=56) (actual time=1847.435..1931.973 rows=10 loops=1)                          |\n",
       "|                     ->  Gather  (cost=29106.44..307637.07 rows=2211936 width=56) (actual time=1847.434..1931.969 rows=10 loops=1)                    |\n",
       "|                                                                      Workers Planned: 2                                                              |\n",
       "|                                                                     Workers Launched: 2                                                              |\n",
       "|                    ->  Parallel Hash Join  (cost=28106.44..85443.47 rows=921640 width=56) (actual time=1840.619..1840.727 rows=4 loops=3)            |\n",
       "|                                                            Hash Cond: (cast_info.movie_id = movies.id)                                               |\n",
       "|                     ->  Parallel Hash Join  (cost=15222.20..50790.91 rows=921640 width=26) (actual time=630.536..1252.075 rows=737312 loops=3)       |\n",
       "|                                                               Hash Cond: (cast_info.person_id = actors.id)                                           |\n",
       "|                      ->  Parallel Seq Scan on cast_info  (cost=0.00..19004.40 rows=921640 width=8) (actual time=0.018..139.780 rows=737312 loops=3)  |\n",
       "|                            ->  Parallel Hash  (cost=8750.53..8750.53 rows=352453 width=18) (actual time=196.594..196.594 rows=281963 loops=3)        |\n",
       "|                                                               Buckets: 65536  Batches: 16  Memory Usage: 3360kB                                      |\n",
       "|                           ->  Parallel Seq Scan on actors  (cost=0.00..8750.53 rows=352453 width=18) (actual time=0.020..20.931 rows=281963 loops=3) |\n",
       "|                         ->  Parallel Hash  (cost=7595.22..7595.22 rows=273522 width=30) (actual time=116.890..116.891 rows=218818 loops=3)           |\n",
       "|                                                              Buckets: 65536  Batches: 16  Memory Usage: 0kB                                          |\n",
       "|                        ->  Parallel Seq Scan on movies  (cost=0.00..7595.22 rows=273522 width=30) (actual time=0.016..16.477 rows=218818 loops=3)    |\n",
       "|                                                               Planning Time: 0.188 ms                                                                |\n",
       "|                                                             Execution Time: 1932.011 ms                                                              |\n",
       "+------------------------------------------------------------------------------------------------------------------------------------------------------+"
      ]
     },
     "execution_count": 46,
     "metadata": {},
     "output_type": "execute_result"
    }
   ],
   "source": [
    "%%sql\n",
    "EXPLAIN ANALYZE\n",
    "SELECT *\n",
    "FROM actors, cast_info, movies\n",
    "WHERE actors.id = cast_info.person_id\n",
    "    AND movies.id = cast_info.movie_id\n",
    "LIMIT 10;"
   ]
  },
  {
   "cell_type": "code",
   "execution_count": null,
   "id": "effba2f0-3c11-4b28-9240-94dc2ab907f7",
   "metadata": {},
   "outputs": [],
   "source": [
    "printplans(_)"
   ]
  },
  {
   "cell_type": "markdown",
   "id": "4b13ca01",
   "metadata": {},
   "source": [
    "# Cleanup"
   ]
  },
  {
   "cell_type": "markdown",
   "id": "1afcb9bd",
   "metadata": {},
   "source": [
    "We close the connection, then drop the database:"
   ]
  },
  {
   "cell_type": "code",
   "execution_count": null,
   "id": "27d40776",
   "metadata": {},
   "outputs": [],
   "source": [
    "%sql --close postgresql://127.0.0.1:5432/imdb_perf_lecture"
   ]
  },
  {
   "cell_type": "code",
   "execution_count": null,
   "id": "bf6bdf18",
   "metadata": {},
   "outputs": [],
   "source": [
    "!psql -h localhost -c 'DROP DATABASE IF EXISTS imdb_perf_lecture'"
   ]
  }
 ],
 "metadata": {
  "kernelspec": {
   "display_name": "Python 3 (ipykernel)",
   "language": "python",
   "name": "python3"
  },
  "language_info": {
   "codemirror_mode": {
    "name": "ipython",
    "version": 3
   },
   "file_extension": ".py",
   "mimetype": "text/x-python",
   "name": "python",
   "nbconvert_exporter": "python",
   "pygments_lexer": "ipython3",
   "version": "3.11.13"
  },
  "widgets": {
   "application/vnd.jupyter.widget-state+json": {
    "state": {},
    "version_major": 2,
    "version_minor": 0
   }
  }
 },
 "nbformat": 4,
 "nbformat_minor": 5
}
