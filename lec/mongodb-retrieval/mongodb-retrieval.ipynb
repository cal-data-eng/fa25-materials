{
 "cells": [
  {
   "cell_type": "markdown",
   "id": "3e5366ae-67ea-4ccf-a279-39a96dcca794",
   "metadata": {},
   "source": [
    "# Mongo DB I : Retrieval Queries"
   ]
  },
  {
   "cell_type": "code",
   "execution_count": 1,
   "id": "3d6e7386-7dab-4f9e-b8b1-9b6accac1799",
   "metadata": {},
   "outputs": [],
   "source": [
    "import json\n",
    "import pymongo\n",
    "import pprint"
   ]
  },
  {
   "cell_type": "markdown",
   "id": "c793e4fb-eb7c-4ab8-b313-0e5834fdb2ac",
   "metadata": {},
   "source": [
    "## Connect to Database on localhost"
   ]
  },
  {
   "cell_type": "markdown",
   "id": "1c684e05-3387-4b86-a566-120ee73e4e94",
   "metadata": {},
   "source": [
    "Nobel laureate data from Kaggle: https://www.kaggle.com/datasets/imdevskp/nobel-prize/data"
   ]
  },
  {
   "cell_type": "code",
   "execution_count": 2,
   "id": "f01b15a9-ffc1-438f-8676-db178d25d9ab",
   "metadata": {},
   "outputs": [
    {
     "data": {
      "text/plain": [
       "['admin', 'config', 'local']"
      ]
     },
     "execution_count": 2,
     "metadata": {},
     "output_type": "execute_result"
    }
   ],
   "source": [
    "client = pymongo.MongoClient('mongodb://localhost')\n",
    "client.list_database_names()"
   ]
  },
  {
   "cell_type": "code",
   "execution_count": 3,
   "id": "e6d779f1-c8c6-43dc-a144-fd78b4c5e8dc",
   "metadata": {},
   "outputs": [],
   "source": [
    "client.drop_database('nobel_prizes') # if already exists\n",
    "client.drop_database('aggquerydb') # if already exists"
   ]
  },
  {
   "cell_type": "markdown",
   "id": "e4feab92-0919-4be6-9c1c-1403d2b03176",
   "metadata": {},
   "source": [
    "Connect to an empty database called `nobel_prizes`"
   ]
  },
  {
   "cell_type": "code",
   "execution_count": 4,
   "id": "1a7df8ec-84ab-4652-89c1-6d7b72cc0ce8",
   "metadata": {},
   "outputs": [
    {
     "data": {
      "text/plain": [
       "Database(MongoClient(host=['localhost:27017'], document_class=dict, tz_aware=False, connect=True), 'nobel_prizes')"
      ]
     },
     "execution_count": 4,
     "metadata": {},
     "output_type": "execute_result"
    }
   ],
   "source": [
    "db = client.nobel_prizes\n",
    "db"
   ]
  },
  {
   "cell_type": "code",
   "execution_count": 5,
   "id": "899ebf59-4cfa-413d-8409-754acf69c5ea",
   "metadata": {},
   "outputs": [
    {
     "data": {
      "text/plain": [
       "[]"
      ]
     },
     "execution_count": 5,
     "metadata": {},
     "output_type": "execute_result"
    }
   ],
   "source": [
    "db.list_collection_names()"
   ]
  },
  {
   "cell_type": "markdown",
   "id": "7e2217fa-3bab-495a-ba1d-91764aecb2cc",
   "metadata": {},
   "source": [
    "<br/><br/>Within this empty database, access an empty collection called `prizes`."
   ]
  },
  {
   "cell_type": "code",
   "execution_count": 6,
   "id": "13654816-7883-4122-87b6-2a4f723a3b1f",
   "metadata": {},
   "outputs": [
    {
     "data": {
      "text/plain": [
       "Collection(Database(MongoClient(host=['localhost:27017'], document_class=dict, tz_aware=False, connect=True), 'nobel_prizes'), 'prizes')"
      ]
     },
     "execution_count": 6,
     "metadata": {},
     "output_type": "execute_result"
    }
   ],
   "source": [
    "collection = db.prizes\n",
    "# collection = db['prizes'] # also works\n",
    "collection"
   ]
  },
  {
   "cell_type": "markdown",
   "id": "10c3bcc7-3351-4cd9-834c-05adfd1922b2",
   "metadata": {},
   "source": [
    "`find_one()` returns None (i.e., displays nothing in notebooks)"
   ]
  },
  {
   "cell_type": "code",
   "execution_count": 7,
   "id": "a4407e88-bece-4176-b9be-8cedb53dd898",
   "metadata": {},
   "outputs": [],
   "source": [
    "db.prizes.find_one({})"
   ]
  },
  {
   "cell_type": "code",
   "execution_count": 8,
   "id": "8cb85ff8-cd4d-469f-b307-91c2086ffabe",
   "metadata": {},
   "outputs": [
    {
     "name": "stdout",
     "output_type": "stream",
     "text": [
      "None\n"
     ]
    }
   ],
   "source": [
    "print(db.prizes.find_one({}))"
   ]
  },
  {
   "cell_type": "markdown",
   "id": "d4c837f3-6871-4355-bc82-a0ddbcd0b6d8",
   "metadata": {},
   "source": [
    "## Load data from JSON "
   ]
  },
  {
   "cell_type": "code",
   "execution_count": 9,
   "id": "4f35a596-4e35-4421-92d6-28a146367ef9",
   "metadata": {},
   "outputs": [],
   "source": [
    "# run this cell to insert into the collection prizes\n",
    "with open('data/prize.json', encoding='utf-8') as f:\n",
    "    db.prizes.insert_many(json.loads(f.read()))"
   ]
  },
  {
   "cell_type": "code",
   "execution_count": 10,
   "id": "31e04382-2780-41a3-8d5a-d3ab21938568",
   "metadata": {},
   "outputs": [
    {
     "data": {
      "text/plain": [
       "['admin', 'config', 'local', 'nobel_prizes']"
      ]
     },
     "execution_count": 10,
     "metadata": {},
     "output_type": "execute_result"
    }
   ],
   "source": [
    "# the database and the collection are now both valid\n",
    "client.list_database_names()"
   ]
  },
  {
   "cell_type": "code",
   "execution_count": 11,
   "id": "98a8d325-2197-4dec-86f0-989925120cf7",
   "metadata": {},
   "outputs": [
    {
     "data": {
      "text/plain": [
       "['prizes']"
      ]
     },
     "execution_count": 11,
     "metadata": {},
     "output_type": "execute_result"
    }
   ],
   "source": [
    "db.list_collection_names()"
   ]
  },
  {
   "cell_type": "markdown",
   "id": "a138dd83-e915-4818-aacd-07d484e6ebb5",
   "metadata": {},
   "source": [
    "# Retrieval Queries"
   ]
  },
  {
   "cell_type": "markdown",
   "id": "5b6065b3-9b1a-4dc3-a356-31a3f5719d61",
   "metadata": {},
   "source": [
    "**Select** all field-value pairs to output."
   ]
  },
  {
   "cell_type": "code",
   "execution_count": 12,
   "id": "04060a40-f84e-4216-ad18-752619907931",
   "metadata": {},
   "outputs": [
    {
     "data": {
      "text/plain": [
       "{'_id': ObjectId('68fa549f985bfa397937db78'),\n",
       " 'year': 2020,\n",
       " 'category': 'chemistry',\n",
       " 'laureates': [{'id': '991',\n",
       "   'firstname': 'Emmanuelle',\n",
       "   'surname': 'Charpentier',\n",
       "   'motivation': '\"for the development of a method for genome editing\"',\n",
       "   'share': '2'},\n",
       "  {'id': '992',\n",
       "   'firstname': 'Jennifer A.',\n",
       "   'surname': 'Doudna',\n",
       "   'motivation': '\"for the development of a method for genome editing\"',\n",
       "   'share': '2'}]}"
      ]
     },
     "execution_count": 12,
     "metadata": {},
     "output_type": "execute_result"
    }
   ],
   "source": [
    "db.prizes.find_one({})"
   ]
  },
  {
   "cell_type": "markdown",
   "id": "4bbe0b22-fb4a-4880-aad8-d3daaa0a4835",
   "metadata": {},
   "source": [
    "Pymongo is smart and avoids querying the **full collection** by instead returning an iterator (here, a Cursor):"
   ]
  },
  {
   "cell_type": "code",
   "execution_count": 13,
   "id": "9579c859-0f4e-4027-baf8-95193b695377",
   "metadata": {},
   "outputs": [
    {
     "data": {
      "text/plain": [
       "<pymongo.synchronous.cursor.Cursor at 0x798338363690>"
      ]
     },
     "execution_count": 13,
     "metadata": {},
     "output_type": "execute_result"
    }
   ],
   "source": [
    "db.prizes.find({})"
   ]
  },
  {
   "cell_type": "code",
   "execution_count": 14,
   "id": "2bc05862-ae44-4a3c-a0f8-33ffbd1b1ecb",
   "metadata": {},
   "outputs": [
    {
     "data": {
      "text/plain": [
       "{'_id': ObjectId('68fa549f985bfa397937db78'),\n",
       " 'year': 2020,\n",
       " 'category': 'chemistry',\n",
       " 'laureates': [{'id': '991',\n",
       "   'firstname': 'Emmanuelle',\n",
       "   'surname': 'Charpentier',\n",
       "   'motivation': '\"for the development of a method for genome editing\"',\n",
       "   'share': '2'},\n",
       "  {'id': '992',\n",
       "   'firstname': 'Jennifer A.',\n",
       "   'surname': 'Doudna',\n",
       "   'motivation': '\"for the development of a method for genome editing\"',\n",
       "   'share': '2'}]}"
      ]
     },
     "execution_count": 14,
     "metadata": {},
     "output_type": "execute_result"
    }
   ],
   "source": [
    "docs = db.prizes.find()\n",
    "next(docs)"
   ]
  },
  {
   "cell_type": "code",
   "execution_count": 15,
   "id": "f0b90bed-9551-4829-ac72-f79ee821de19",
   "metadata": {},
   "outputs": [
    {
     "data": {
      "text/plain": [
       "{'_id': ObjectId('68fa549f985bfa397937db79'),\n",
       " 'year': 2020,\n",
       " 'category': 'economics',\n",
       " 'laureates': [{'id': '995',\n",
       "   'firstname': 'Paul',\n",
       "   'surname': 'Milgrom',\n",
       "   'motivation': '\"for improvements to auction theory and inventions of new auction formats\"',\n",
       "   'share': '2'},\n",
       "  {'id': '996',\n",
       "   'firstname': 'Robert',\n",
       "   'surname': 'Wilson',\n",
       "   'motivation': '\"for improvements to auction theory and inventions of new auction formats\"',\n",
       "   'share': '2'}]}"
      ]
     },
     "execution_count": 15,
     "metadata": {},
     "output_type": "execute_result"
    }
   ],
   "source": [
    "# remember Python iterators/generators!\n",
    "next(docs)"
   ]
  },
  {
   "cell_type": "markdown",
   "id": "5b3aaf17-5711-4932-a59b-b36c5b12174f",
   "metadata": {},
   "source": [
    "It's not recommended, but you could force query the full collection by casting to list (e.g., `list(db.prizes.find({}))`).\n",
    "\n",
    "Instead let's iterate over the collection a tiny bit so that we can see how to pretty print each document with `pprint`:"
   ]
  },
  {
   "cell_type": "code",
   "execution_count": null,
   "id": "ccb12df8-25d6-43c3-9d5a-eab95b6b1f69",
   "metadata": {},
   "outputs": [],
   "source": [
    "# list(db.prizes.find({}))"
   ]
  },
  {
   "cell_type": "code",
   "execution_count": 16,
   "id": "5b796961-0425-46e5-8a1b-11db102ee0e7",
   "metadata": {},
   "outputs": [],
   "source": [
    "def pretty_print(output_collection, n_to_print=3):\n",
    "    \"\"\"\n",
    "    note if n_to_print is -1, this print everything\n",
    "    \"\"\"\n",
    "    for i, doc in enumerate(output_collection):\n",
    "        pprint.pprint(doc)        # nicely formats each document\n",
    "        if i+1 == n_to_print: return"
   ]
  },
  {
   "cell_type": "code",
   "execution_count": 17,
   "id": "e592e13c-db92-47f4-8ac0-475e9e82afba",
   "metadata": {},
   "outputs": [
    {
     "name": "stdout",
     "output_type": "stream",
     "text": [
      "{'_id': ObjectId('68fa549f985bfa397937db78'),\n",
      " 'category': 'chemistry',\n",
      " 'laureates': [{'firstname': 'Emmanuelle',\n",
      "                'id': '991',\n",
      "                'motivation': '\"for the development of a method for genome '\n",
      "                              'editing\"',\n",
      "                'share': '2',\n",
      "                'surname': 'Charpentier'},\n",
      "               {'firstname': 'Jennifer A.',\n",
      "                'id': '992',\n",
      "                'motivation': '\"for the development of a method for genome '\n",
      "                              'editing\"',\n",
      "                'share': '2',\n",
      "                'surname': 'Doudna'}],\n",
      " 'year': 2020}\n",
      "{'_id': ObjectId('68fa549f985bfa397937db79'),\n",
      " 'category': 'economics',\n",
      " 'laureates': [{'firstname': 'Paul',\n",
      "                'id': '995',\n",
      "                'motivation': '\"for improvements to auction theory and '\n",
      "                              'inventions of new auction formats\"',\n",
      "                'share': '2',\n",
      "                'surname': 'Milgrom'},\n",
      "               {'firstname': 'Robert',\n",
      "                'id': '996',\n",
      "                'motivation': '\"for improvements to auction theory and '\n",
      "                              'inventions of new auction formats\"',\n",
      "                'share': '2',\n",
      "                'surname': 'Wilson'}],\n",
      " 'year': 2020}\n",
      "{'_id': ObjectId('68fa549f985bfa397937db7a'),\n",
      " 'category': 'literature',\n",
      " 'laureates': [{'firstname': 'Louise',\n",
      "                'id': '993',\n",
      "                'motivation': '\"for her unmistakable poetic voice that with '\n",
      "                              'austere beauty makes individual existence '\n",
      "                              'universal\"',\n",
      "                'share': '1',\n",
      "                'surname': 'Glück'}],\n",
      " 'year': 2020}\n"
     ]
    }
   ],
   "source": [
    "output = db.prizes.find({})\n",
    "pretty_print(output)"
   ]
  },
  {
   "cell_type": "markdown",
   "id": "8e399fe3-2fd0-44ce-a755-7caa4b6084b3",
   "metadata": {},
   "source": [
    "# Selection (with Predicates)"
   ]
  },
  {
   "cell_type": "code",
   "execution_count": 18,
   "id": "094fbf5a-70df-461d-84be-3d186fc61c76",
   "metadata": {},
   "outputs": [
    {
     "data": {
      "text/plain": [
       "{'_id': ObjectId('68fa549f985bfa397937db78'),\n",
       " 'year': 2020,\n",
       " 'category': 'chemistry',\n",
       " 'laureates': [{'id': '991',\n",
       "   'firstname': 'Emmanuelle',\n",
       "   'surname': 'Charpentier',\n",
       "   'motivation': '\"for the development of a method for genome editing\"',\n",
       "   'share': '2'},\n",
       "  {'id': '992',\n",
       "   'firstname': 'Jennifer A.',\n",
       "   'surname': 'Doudna',\n",
       "   'motivation': '\"for the development of a method for genome editing\"',\n",
       "   'share': '2'}]}"
      ]
     },
     "execution_count": 18,
     "metadata": {},
     "output_type": "execute_result"
    }
   ],
   "source": [
    "# get a document that has the exact FV pair\n",
    "db.prizes.find_one({\"category\": \"chemistry\"})"
   ]
  },
  {
   "cell_type": "code",
   "execution_count": 19,
   "id": "67a8eddf-e80d-4de3-8622-f68a4188d4ce",
   "metadata": {},
   "outputs": [
    {
     "data": {
      "text/plain": [
       "{'_id': ObjectId('68fa549f985bfa397937dbf0'),\n",
       " 'year': 2000,\n",
       " 'category': 'chemistry',\n",
       " 'laureates': [{'id': '729',\n",
       "   'firstname': 'Alan',\n",
       "   'surname': 'Heeger',\n",
       "   'motivation': '\"for the discovery and development of conductive polymers\"',\n",
       "   'share': '3'},\n",
       "  {'id': '730',\n",
       "   'firstname': 'Alan',\n",
       "   'surname': 'MacDiarmid',\n",
       "   'motivation': '\"for the discovery and development of conductive polymers\"',\n",
       "   'share': '3'},\n",
       "  {'id': '731',\n",
       "   'firstname': 'Hideki',\n",
       "   'surname': 'Shirakawa',\n",
       "   'motivation': '\"for the discovery and development of conductive polymers\"',\n",
       "   'share': '3'}]}"
      ]
     },
     "execution_count": 19,
     "metadata": {},
     "output_type": "execute_result"
    }
   ],
   "source": [
    "# the comma functions as the \"and\" operator\n",
    "db.prizes.find_one({\"category\": \"chemistry\", \"year\": 2000})"
   ]
  },
  {
   "cell_type": "markdown",
   "id": "c82f1466-99cc-4e85-a8a2-23e087ea3c97",
   "metadata": {},
   "source": [
    "## Dollar `$` Notation: Special MongoDB Keywords"
   ]
  },
  {
   "cell_type": "markdown",
   "id": "49b47c88-78c0-4de1-aaa1-41f27e04b970",
   "metadata": {},
   "source": [
    "(we defined the `pretty_print()` function earlier)"
   ]
  },
  {
   "cell_type": "code",
   "execution_count": 20,
   "id": "d2bbeb10-56e8-47fb-92b9-c78d4f6de0d1",
   "metadata": {},
   "outputs": [
    {
     "name": "stdout",
     "output_type": "stream",
     "text": [
      "{'_id': ObjectId('68fa549f985bfa397937db78'),\n",
      " 'category': 'chemistry',\n",
      " 'laureates': [{'firstname': 'Emmanuelle',\n",
      "                'id': '991',\n",
      "                'motivation': '\"for the development of a method for genome '\n",
      "                              'editing\"',\n",
      "                'share': '2',\n",
      "                'surname': 'Charpentier'},\n",
      "               {'firstname': 'Jennifer A.',\n",
      "                'id': '992',\n",
      "                'motivation': '\"for the development of a method for genome '\n",
      "                              'editing\"',\n",
      "                'share': '2',\n",
      "                'surname': 'Doudna'}],\n",
      " 'year': 2020}\n",
      "{'_id': ObjectId('68fa549f985bfa397937db79'),\n",
      " 'category': 'economics',\n",
      " 'laureates': [{'firstname': 'Paul',\n",
      "                'id': '995',\n",
      "                'motivation': '\"for improvements to auction theory and '\n",
      "                              'inventions of new auction formats\"',\n",
      "                'share': '2',\n",
      "                'surname': 'Milgrom'},\n",
      "               {'firstname': 'Robert',\n",
      "                'id': '996',\n",
      "                'motivation': '\"for improvements to auction theory and '\n",
      "                              'inventions of new auction formats\"',\n",
      "                'share': '2',\n",
      "                'surname': 'Wilson'}],\n",
      " 'year': 2020}\n",
      "{'_id': ObjectId('68fa549f985bfa397937db7a'),\n",
      " 'category': 'literature',\n",
      " 'laureates': [{'firstname': 'Louise',\n",
      "                'id': '993',\n",
      "                'motivation': '\"for her unmistakable poetic voice that with '\n",
      "                              'austere beauty makes individual existence '\n",
      "                              'universal\"',\n",
      "                'share': '1',\n",
      "                'surname': 'Glück'}],\n",
      " 'year': 2020}\n",
      "{'_id': ObjectId('68fa549f985bfa397937db7b'),\n",
      " 'category': 'peace',\n",
      " 'laureates': [{'firstname': 'World Food Programme',\n",
      "                'id': '994',\n",
      "                'motivation': '\"for its efforts to combat hunger, for its '\n",
      "                              'contribution to bettering conditions for peace '\n",
      "                              'in conflict-affected areas and for acting as a '\n",
      "                              'driving force in efforts to prevent the use of '\n",
      "                              'hunger as a weapon of war and conflict\"',\n",
      "                'share': '1'}],\n",
      " 'year': 2020}\n"
     ]
    }
   ],
   "source": [
    "output = db.prizes.find({\"$or\": [{\"category\": \"chemistry\"},\n",
    "                                 {\"year\": 2020}]})\n",
    "\n",
    "pretty_print(output, n_to_print=4)"
   ]
  },
  {
   "cell_type": "code",
   "execution_count": 21,
   "id": "d63e3fb7-a72b-4811-a830-aaadcaed5dbf",
   "metadata": {},
   "outputs": [
    {
     "name": "stdout",
     "output_type": "stream",
     "text": [
      "{'_id': ObjectId('68fa549f985bfa397937db7e'),\n",
      " 'category': 'chemistry',\n",
      " 'laureates': [{'firstname': 'John',\n",
      "                'id': '976',\n",
      "                'motivation': '\"for the development of lithium-ion batteries\"',\n",
      "                'share': '3',\n",
      "                'surname': 'Goodenough'},\n",
      "               {'firstname': 'M. Stanley',\n",
      "                'id': '977',\n",
      "                'motivation': '\"for the development of lithium-ion batteries\"',\n",
      "                'share': '3',\n",
      "                'surname': 'Whittingham'},\n",
      "               {'firstname': 'Akira',\n",
      "                'id': '978',\n",
      "                'motivation': '\"for the development of lithium-ion batteries\"',\n",
      "                'share': '3',\n",
      "                'surname': 'Yoshino'}],\n",
      " 'year': 2019}\n",
      "{'_id': ObjectId('68fa549f985bfa397937db7f'),\n",
      " 'category': 'economics',\n",
      " 'laureates': [{'firstname': 'Abhijit',\n",
      "                'id': '982',\n",
      "                'motivation': '\"for their experimental approach to alleviating '\n",
      "                              'global poverty\"',\n",
      "                'share': '3',\n",
      "                'surname': 'Banerjee'},\n",
      "               {'firstname': 'Esther',\n",
      "                'id': '983',\n",
      "                'motivation': '\"for their experimental approach to alleviating '\n",
      "                              'global poverty\"',\n",
      "                'share': '3',\n",
      "                'surname': 'Duflo'},\n",
      "               {'firstname': 'Michael',\n",
      "                'id': '984',\n",
      "                'motivation': '\"for their experimental approach to alleviating '\n",
      "                              'global poverty\"',\n",
      "                'share': '3',\n",
      "                'surname': 'Kremer'}],\n",
      " 'year': 2019}\n",
      "{'_id': ObjectId('68fa549f985bfa397937db80'),\n",
      " 'category': 'literature',\n",
      " 'laureates': [{'firstname': 'Peter',\n",
      "                'id': '980',\n",
      "                'motivation': '\"for an influential work that with linguistic '\n",
      "                              'ingenuity has explored the periphery and the '\n",
      "                              'specificity of human experience\"',\n",
      "                'share': '1',\n",
      "                'surname': 'Handke'}],\n",
      " 'year': 2019}\n"
     ]
    }
   ],
   "source": [
    "output = db.prizes.find({\"year\": {\"$gt\": 2018}}, skip=6) \n",
    "# skip a bit down the collection just because\n",
    "\n",
    "pretty_print(output)"
   ]
  },
  {
   "cell_type": "markdown",
   "id": "ead150c7-4c5a-4cf2-93e8-caa733bd4c4c",
   "metadata": {},
   "source": [
    "## Dot `.` Notation: Traverse Trees"
   ]
  },
  {
   "cell_type": "code",
   "execution_count": 23,
   "id": "7aa0952e-f618-4306-9a17-2f273ca07dfa",
   "metadata": {},
   "outputs": [
    {
     "name": "stdout",
     "output_type": "stream",
     "text": [
      "{'_id': ObjectId('68fa549f985bfa397937db78'),\n",
      " 'category': 'chemistry',\n",
      " 'laureates': [{'firstname': 'Emmanuelle',\n",
      "                'id': '991',\n",
      "                'motivation': '\"for the development of a method for genome '\n",
      "                              'editing\"',\n",
      "                'share': '2',\n",
      "                'surname': 'Charpentier'},\n",
      "               {'firstname': 'Jennifer A.',\n",
      "                'id': '992',\n",
      "                'motivation': '\"for the development of a method for genome '\n",
      "                              'editing\"',\n",
      "                'share': '2',\n",
      "                'surname': 'Doudna'}],\n",
      " 'year': 2020}\n",
      "{'_id': ObjectId('68fa549f985bfa397937db7e'),\n",
      " 'category': 'chemistry',\n",
      " 'laureates': [{'firstname': 'John',\n",
      "                'id': '976',\n",
      "                'motivation': '\"for the development of lithium-ion batteries\"',\n",
      "                'share': '3',\n",
      "                'surname': 'Goodenough'},\n",
      "               {'firstname': 'M. Stanley',\n",
      "                'id': '977',\n",
      "                'motivation': '\"for the development of lithium-ion batteries\"',\n",
      "                'share': '3',\n",
      "                'surname': 'Whittingham'},\n",
      "               {'firstname': 'Akira',\n",
      "                'id': '978',\n",
      "                'motivation': '\"for the development of lithium-ion batteries\"',\n",
      "                'share': '3',\n",
      "                'surname': 'Yoshino'}],\n",
      " 'year': 2019}\n",
      "{'_id': ObjectId('68fa549f985bfa397937db84'),\n",
      " 'category': 'chemistry',\n",
      " 'laureates': [{'firstname': 'Frances H.',\n",
      "                'id': '963',\n",
      "                'motivation': '\"for the directed evolution of enzymes\"',\n",
      "                'share': '2',\n",
      "                'surname': 'Arnold'},\n",
      "               {'firstname': 'George P.',\n",
      "                'id': '964',\n",
      "                'motivation': '\"for the phage display of peptides and '\n",
      "                              'antibodies\"',\n",
      "                'share': '4',\n",
      "                'surname': 'Smith'},\n",
      "               {'firstname': 'Sir Gregory P.',\n",
      "                'id': '965',\n",
      "                'motivation': '\"for the phage display of peptides and '\n",
      "                              'antibodies\"',\n",
      "                'share': '4',\n",
      "                'surname': 'Winter'}],\n",
      " 'year': 2018}\n"
     ]
    }
   ],
   "source": [
    "# old query from before to set the stage\n",
    "output = db.prizes.find({\"category\": \"chemistry\"})\n",
    "pretty_print(output)"
   ]
  },
  {
   "cell_type": "code",
   "execution_count": 25,
   "id": "6e10dc53-47cf-4a23-b2dc-45510c52885a",
   "metadata": {
    "scrolled": true
   },
   "outputs": [
    {
     "name": "stdout",
     "output_type": "stream",
     "text": [
      "{'_id': ObjectId('68fa549f985bfa397937ddcd'),\n",
      " 'category': 'chemistry',\n",
      " 'laureates': [{'firstname': 'Marie',\n",
      "                'id': '6',\n",
      "                'motivation': '\"in recognition of her services to the '\n",
      "                              'advancement of chemistry by the discovery of '\n",
      "                              'the elements radium and polonium, by the '\n",
      "                              'isolation of radium and the study of the nature '\n",
      "                              'and compounds of this remarkable element\"',\n",
      "                'share': '1',\n",
      "                'surname': 'Curie'}],\n",
      " 'year': 1911}\n"
     ]
    }
   ],
   "source": [
    "# zero indexing\n",
    "output = db.prizes.find({\"laureates.0.surname\": \"Curie\"})\n",
    "pretty_print(output)"
   ]
  },
  {
   "cell_type": "code",
   "execution_count": 24,
   "id": "86d09ae9-0377-4548-8fa5-84749af99d1e",
   "metadata": {},
   "outputs": [
    {
     "name": "stdout",
     "output_type": "stream",
     "text": [
      "{'_id': ObjectId('67edba76a78cf4ba3fffc356'),\n",
      " 'category': 'physics',\n",
      " 'laureates': [{'firstname': 'Henri',\n",
      "                'id': '4',\n",
      "                'motivation': '\"in recognition of the extraordinary services '\n",
      "                              'he has rendered by his discovery of spontaneous '\n",
      "                              'radioactivity\"',\n",
      "                'share': '2',\n",
      "                'surname': 'Becquerel'},\n",
      "               {'firstname': 'Pierre',\n",
      "                'id': '5',\n",
      "                'motivation': '\"in recognition of the extraordinary services '\n",
      "                              'they have rendered by their joint researches on '\n",
      "                              'the radiation phenomena discovered by Professor '\n",
      "                              'Henri Becquerel\"',\n",
      "                'share': '4',\n",
      "                'surname': 'Curie'},\n",
      "               {'firstname': 'Marie',\n",
      "                'id': '6',\n",
      "                'motivation': '\"in recognition of the extraordinary services '\n",
      "                              'they have rendered by their joint researches on '\n",
      "                              'the radiation phenomena discovered by Professor '\n",
      "                              'Henri Becquerel\"',\n",
      "                'share': '4',\n",
      "                'surname': 'Curie'}],\n",
      " 'year': 1903}\n"
     ]
    }
   ],
   "source": [
    "output = db.prizes.find({\"laureates.1.surname\": \"Curie\"})\n",
    "pretty_print(output)"
   ]
  },
  {
   "cell_type": "code",
   "execution_count": 27,
   "id": "68498d11-20ee-462b-9f49-06b181a0df01",
   "metadata": {},
   "outputs": [
    {
     "name": "stdout",
     "output_type": "stream",
     "text": [
      "{'_id': ObjectId('68fa549f985bfa397937ddcd'),\n",
      " 'category': 'chemistry',\n",
      " 'laureates': [{'firstname': 'Marie',\n",
      "                'id': '6',\n",
      "                'motivation': '\"in recognition of her services to the '\n",
      "                              'advancement of chemistry by the discovery of '\n",
      "                              'the elements radium and polonium, by the '\n",
      "                              'isolation of radium and the study of the nature '\n",
      "                              'and compounds of this remarkable element\"',\n",
      "                'share': '1',\n",
      "                'surname': 'Curie'}],\n",
      " 'year': 1911}\n",
      "{'_id': ObjectId('68fa549f985bfa397937ddf8'),\n",
      " 'category': 'physics',\n",
      " 'laureates': [{'firstname': 'Henri',\n",
      "                'id': '4',\n",
      "                'motivation': '\"in recognition of the extraordinary services '\n",
      "                              'he has rendered by his discovery of spontaneous '\n",
      "                              'radioactivity\"',\n",
      "                'share': '2',\n",
      "                'surname': 'Becquerel'},\n",
      "               {'firstname': 'Pierre',\n",
      "                'id': '5',\n",
      "                'motivation': '\"in recognition of the extraordinary services '\n",
      "                              'they have rendered by their joint researches on '\n",
      "                              'the radiation phenomena discovered by Professor '\n",
      "                              'Henri Becquerel\"',\n",
      "                'share': '4',\n",
      "                'surname': 'Curie'},\n",
      "               {'firstname': 'Marie',\n",
      "                'id': '6',\n",
      "                'motivation': '\"in recognition of the extraordinary services '\n",
      "                              'they have rendered by their joint researches on '\n",
      "                              'the radiation phenomena discovered by Professor '\n",
      "                              'Henri Becquerel\"',\n",
      "                'share': '4',\n",
      "                'surname': 'Curie'}],\n",
      " 'year': 1903}\n"
     ]
    }
   ],
   "source": [
    "# if left unspecified, returns all valid matches\n",
    "output = db.prizes.find({\"laureates.surname\": \"Curie\"})\n",
    "pretty_print(output)"
   ]
  },
  {
   "cell_type": "code",
   "execution_count": null,
   "id": "77bc809f-c7f1-4c9d-9f7c-ac7b8fadb03f",
   "metadata": {},
   "outputs": [],
   "source": []
  },
  {
   "cell_type": "markdown",
   "id": "bd028a58-1b07-44cf-a88a-25e1662806a2",
   "metadata": {},
   "source": [
    "# Projection"
   ]
  },
  {
   "cell_type": "code",
   "execution_count": 29,
   "id": "c5462b5e-c035-46c2-a3f5-4d38f6dcd716",
   "metadata": {},
   "outputs": [
    {
     "name": "stdout",
     "output_type": "stream",
     "text": [
      "{'_id': ObjectId('68fa549f985bfa397937db78'),\n",
      " 'category': 'chemistry',\n",
      " 'year': 2020}\n",
      "{'_id': ObjectId('68fa549f985bfa397937db79'),\n",
      " 'category': 'economics',\n",
      " 'year': 2020}\n",
      "{'_id': ObjectId('68fa549f985bfa397937db7a'),\n",
      " 'category': 'literature',\n",
      " 'year': 2020}\n"
     ]
    }
   ],
   "source": [
    "output = db.prizes.find({}, {\"year\": 1, \"category\": 1})\n",
    "\n",
    "pretty_print(output)"
   ]
  },
  {
   "cell_type": "code",
   "execution_count": 30,
   "id": "147fd7bd-998d-4837-ac0d-682626acff04",
   "metadata": {},
   "outputs": [
    {
     "name": "stdout",
     "output_type": "stream",
     "text": [
      "{'_id': ObjectId('68fa549f985bfa397937db78'),\n",
      " 'category': 'chemistry',\n",
      " 'year': 2020}\n",
      "{'_id': ObjectId('68fa549f985bfa397937db79'),\n",
      " 'category': 'economics',\n",
      " 'year': 2020}\n",
      "{'_id': ObjectId('68fa549f985bfa397937db7a'),\n",
      " 'category': 'literature',\n",
      " 'year': 2020}\n"
     ]
    }
   ],
   "source": [
    "# Alternate syntax\n",
    "output = db.prizes.find({}, [\"year\", \"category\"])\n",
    "\n",
    "pretty_print(output)"
   ]
  },
  {
   "cell_type": "markdown",
   "id": "79e7b1f3-561e-4447-b51b-743d0acdc77f",
   "metadata": {},
   "source": [
    "<br/><br/><br/>\n",
    "\n",
    "## Projection Exercise"
   ]
  },
  {
   "cell_type": "code",
   "execution_count": 36,
   "id": "a963b74a-83d0-4728-be84-e42b706ff2af",
   "metadata": {},
   "outputs": [
    {
     "name": "stdout",
     "output_type": "stream",
     "text": [
      "{'category': 'chemistry', 'year': 2020}\n",
      "{'category': 'economics', 'year': 2020}\n",
      "{'category': 'literature', 'year': 2020}\n"
     ]
    }
   ],
   "source": [
    "# Including some, explicitly excluding _id\n",
    "output = db.prizes.find({}, {\"year\": 1, \"category\": 1, \"_id\": 0})\n",
    "\n",
    "pretty_print(output)"
   ]
  },
  {
   "cell_type": "code",
   "execution_count": 37,
   "id": "eb05e3b7-a769-46eb-9472-f0911afdd910",
   "metadata": {},
   "outputs": [
    {
     "name": "stdout",
     "output_type": "stream",
     "text": [
      "{'_id': ObjectId('68fa549f985bfa397937db78'),\n",
      " 'laureates': [{'firstname': 'Emmanuelle',\n",
      "                'id': '991',\n",
      "                'motivation': '\"for the development of a method for genome '\n",
      "                              'editing\"',\n",
      "                'share': '2',\n",
      "                'surname': 'Charpentier'},\n",
      "               {'firstname': 'Jennifer A.',\n",
      "                'id': '992',\n",
      "                'motivation': '\"for the development of a method for genome '\n",
      "                              'editing\"',\n",
      "                'share': '2',\n",
      "                'surname': 'Doudna'}]}\n",
      "{'_id': ObjectId('68fa549f985bfa397937db79'),\n",
      " 'laureates': [{'firstname': 'Paul',\n",
      "                'id': '995',\n",
      "                'motivation': '\"for improvements to auction theory and '\n",
      "                              'inventions of new auction formats\"',\n",
      "                'share': '2',\n",
      "                'surname': 'Milgrom'},\n",
      "               {'firstname': 'Robert',\n",
      "                'id': '996',\n",
      "                'motivation': '\"for improvements to auction theory and '\n",
      "                              'inventions of new auction formats\"',\n",
      "                'share': '2',\n",
      "                'surname': 'Wilson'}]}\n",
      "{'_id': ObjectId('68fa549f985bfa397937db7a'),\n",
      " 'laureates': [{'firstname': 'Louise',\n",
      "                'id': '993',\n",
      "                'motivation': '\"for her unmistakable poetic voice that with '\n",
      "                              'austere beauty makes individual existence '\n",
      "                              'universal\"',\n",
      "                'share': '1',\n",
      "                'surname': 'Glück'}]}\n"
     ]
    }
   ],
   "source": [
    "# Excluding some \n",
    "output = db.prizes.find({}, {\"year\": 0, \"category\": 0})\n",
    "\n",
    "pretty_print(output)"
   ]
  },
  {
   "cell_type": "code",
   "execution_count": 38,
   "id": "066a849c-ea9e-4617-9beb-cbe01c434e4b",
   "metadata": {},
   "outputs": [
    {
     "ename": "OperationFailure",
     "evalue": "Cannot do inclusion on field category in exclusion projection, full error: {'ok': 0.0, 'errmsg': 'Cannot do inclusion on field category in exclusion projection', 'code': 31253, 'codeName': 'Location31253'}",
     "output_type": "error",
     "traceback": [
      "\u001b[0;31m---------------------------------------------------------------------------\u001b[0m",
      "\u001b[0;31mOperationFailure\u001b[0m                          Traceback (most recent call last)",
      "Cell \u001b[0;32mIn[38], line 4\u001b[0m\n\u001b[1;32m      1\u001b[0m \u001b[38;5;66;03m# Can't both include and exclude (except for _id)\u001b[39;00m\n\u001b[1;32m      2\u001b[0m output \u001b[38;5;241m=\u001b[39m db\u001b[38;5;241m.\u001b[39mprizes\u001b[38;5;241m.\u001b[39mfind({}, {\u001b[38;5;124m\"\u001b[39m\u001b[38;5;124myear\u001b[39m\u001b[38;5;124m\"\u001b[39m: \u001b[38;5;241m0\u001b[39m, \u001b[38;5;124m\"\u001b[39m\u001b[38;5;124mcategory\u001b[39m\u001b[38;5;124m\"\u001b[39m: \u001b[38;5;241m1\u001b[39m})\n\u001b[0;32m----> 4\u001b[0m \u001b[43mpretty_print\u001b[49m\u001b[43m(\u001b[49m\u001b[43moutput\u001b[49m\u001b[43m)\u001b[49m\n",
      "Cell \u001b[0;32mIn[16], line 5\u001b[0m, in \u001b[0;36mpretty_print\u001b[0;34m(output_collection, n_to_print)\u001b[0m\n\u001b[1;32m      1\u001b[0m \u001b[38;5;28;01mdef\u001b[39;00m \u001b[38;5;21mpretty_print\u001b[39m(output_collection, n_to_print\u001b[38;5;241m=\u001b[39m\u001b[38;5;241m3\u001b[39m):\n\u001b[1;32m      2\u001b[0m \u001b[38;5;250m    \u001b[39m\u001b[38;5;124;03m\"\"\"\u001b[39;00m\n\u001b[1;32m      3\u001b[0m \u001b[38;5;124;03m    note if n_to_print is -1, this print everything\u001b[39;00m\n\u001b[1;32m      4\u001b[0m \u001b[38;5;124;03m    \"\"\"\u001b[39;00m\n\u001b[0;32m----> 5\u001b[0m \u001b[43m    \u001b[49m\u001b[38;5;28;43;01mfor\u001b[39;49;00m\u001b[43m \u001b[49m\u001b[43mi\u001b[49m\u001b[43m,\u001b[49m\u001b[43m \u001b[49m\u001b[43mdoc\u001b[49m\u001b[43m \u001b[49m\u001b[38;5;129;43;01min\u001b[39;49;00m\u001b[43m \u001b[49m\u001b[38;5;28;43menumerate\u001b[39;49m\u001b[43m(\u001b[49m\u001b[43moutput_collection\u001b[49m\u001b[43m)\u001b[49m\u001b[43m:\u001b[49m\n\u001b[1;32m      6\u001b[0m \u001b[43m        \u001b[49m\u001b[43mpprint\u001b[49m\u001b[38;5;241;43m.\u001b[39;49m\u001b[43mpprint\u001b[49m\u001b[43m(\u001b[49m\u001b[43mdoc\u001b[49m\u001b[43m)\u001b[49m\u001b[43m        \u001b[49m\u001b[38;5;66;43;03m# nicely formats each document\u001b[39;49;00m\n\u001b[1;32m      7\u001b[0m \u001b[43m        \u001b[49m\u001b[38;5;28;43;01mif\u001b[39;49;00m\u001b[43m \u001b[49m\u001b[43mi\u001b[49m\u001b[38;5;241;43m+\u001b[39;49m\u001b[38;5;241;43m1\u001b[39;49m\u001b[43m \u001b[49m\u001b[38;5;241;43m==\u001b[39;49m\u001b[43m \u001b[49m\u001b[43mn_to_print\u001b[49m\u001b[43m:\u001b[49m\u001b[43m \u001b[49m\u001b[38;5;28;43;01mreturn\u001b[39;49;00m\n",
      "File \u001b[0;32m/srv/conda/envs/notebook/lib/python3.11/site-packages/pymongo/synchronous/cursor.py:1284\u001b[0m, in \u001b[0;36mCursor.__next__\u001b[0;34m(self)\u001b[0m\n\u001b[1;32m   1283\u001b[0m \u001b[38;5;28;01mdef\u001b[39;00m \u001b[38;5;21m__next__\u001b[39m(\u001b[38;5;28mself\u001b[39m) \u001b[38;5;241m-\u001b[39m\u001b[38;5;241m>\u001b[39m _DocumentType:\n\u001b[0;32m-> 1284\u001b[0m     \u001b[38;5;28;01mreturn\u001b[39;00m \u001b[38;5;28;43mself\u001b[39;49m\u001b[38;5;241;43m.\u001b[39;49m\u001b[43mnext\u001b[49m\u001b[43m(\u001b[49m\u001b[43m)\u001b[49m\n",
      "File \u001b[0;32m/srv/conda/envs/notebook/lib/python3.11/site-packages/pymongo/synchronous/cursor.py:1260\u001b[0m, in \u001b[0;36mCursor.next\u001b[0;34m(self)\u001b[0m\n\u001b[1;32m   1258\u001b[0m \u001b[38;5;28;01mif\u001b[39;00m \u001b[38;5;28mself\u001b[39m\u001b[38;5;241m.\u001b[39m_empty:\n\u001b[1;32m   1259\u001b[0m     \u001b[38;5;28;01mraise\u001b[39;00m \u001b[38;5;167;01mStopIteration\u001b[39;00m\n\u001b[0;32m-> 1260\u001b[0m \u001b[38;5;28;01mif\u001b[39;00m \u001b[38;5;28mlen\u001b[39m(\u001b[38;5;28mself\u001b[39m\u001b[38;5;241m.\u001b[39m_data) \u001b[38;5;129;01mor\u001b[39;00m \u001b[38;5;28;43mself\u001b[39;49m\u001b[38;5;241;43m.\u001b[39;49m\u001b[43m_refresh\u001b[49m\u001b[43m(\u001b[49m\u001b[43m)\u001b[49m:\n\u001b[1;32m   1261\u001b[0m     \u001b[38;5;28;01mreturn\u001b[39;00m \u001b[38;5;28mself\u001b[39m\u001b[38;5;241m.\u001b[39m_data\u001b[38;5;241m.\u001b[39mpopleft()\n\u001b[1;32m   1262\u001b[0m \u001b[38;5;28;01melse\u001b[39;00m:\n",
      "File \u001b[0;32m/srv/conda/envs/notebook/lib/python3.11/site-packages/pymongo/synchronous/cursor.py:1208\u001b[0m, in \u001b[0;36mCursor._refresh\u001b[0;34m(self)\u001b[0m\n\u001b[1;32m   1186\u001b[0m         \u001b[38;5;28;01mraise\u001b[39;00m InvalidOperation(\n\u001b[1;32m   1187\u001b[0m             \u001b[38;5;124m\"\u001b[39m\u001b[38;5;124mPassing a \u001b[39m\u001b[38;5;124m'\u001b[39m\u001b[38;5;124mhint\u001b[39m\u001b[38;5;124m'\u001b[39m\u001b[38;5;124m is required when using the min/max query\u001b[39m\u001b[38;5;124m\"\u001b[39m\n\u001b[1;32m   1188\u001b[0m             \u001b[38;5;124m\"\u001b[39m\u001b[38;5;124m option to ensure the query utilizes the correct index\u001b[39m\u001b[38;5;124m\"\u001b[39m\n\u001b[1;32m   1189\u001b[0m         )\n\u001b[1;32m   1190\u001b[0m     q \u001b[38;5;241m=\u001b[39m \u001b[38;5;28mself\u001b[39m\u001b[38;5;241m.\u001b[39m_query_class(\n\u001b[1;32m   1191\u001b[0m         \u001b[38;5;28mself\u001b[39m\u001b[38;5;241m.\u001b[39m_query_flags,\n\u001b[1;32m   1192\u001b[0m         \u001b[38;5;28mself\u001b[39m\u001b[38;5;241m.\u001b[39m_collection\u001b[38;5;241m.\u001b[39mdatabase\u001b[38;5;241m.\u001b[39mname,\n\u001b[0;32m   (...)\u001b[0m\n\u001b[1;32m   1206\u001b[0m         \u001b[38;5;28mself\u001b[39m\u001b[38;5;241m.\u001b[39m_exhaust,\n\u001b[1;32m   1207\u001b[0m     )\n\u001b[0;32m-> 1208\u001b[0m     \u001b[38;5;28;43mself\u001b[39;49m\u001b[38;5;241;43m.\u001b[39;49m\u001b[43m_send_message\u001b[49m\u001b[43m(\u001b[49m\u001b[43mq\u001b[49m\u001b[43m)\u001b[49m\n\u001b[1;32m   1209\u001b[0m \u001b[38;5;28;01melif\u001b[39;00m \u001b[38;5;28mself\u001b[39m\u001b[38;5;241m.\u001b[39m_id:  \u001b[38;5;66;03m# Get More\u001b[39;00m\n\u001b[1;32m   1210\u001b[0m     \u001b[38;5;28;01mif\u001b[39;00m \u001b[38;5;28mself\u001b[39m\u001b[38;5;241m.\u001b[39m_limit:\n",
      "File \u001b[0;32m/srv/conda/envs/notebook/lib/python3.11/site-packages/pymongo/synchronous/cursor.py:1102\u001b[0m, in \u001b[0;36mCursor._send_message\u001b[0;34m(self, operation)\u001b[0m\n\u001b[1;32m   1099\u001b[0m     \u001b[38;5;28;01mraise\u001b[39;00m InvalidOperation(\u001b[38;5;124m\"\u001b[39m\u001b[38;5;124mexhaust cursors do not support auto encryption\u001b[39m\u001b[38;5;124m\"\u001b[39m)\n\u001b[1;32m   1101\u001b[0m \u001b[38;5;28;01mtry\u001b[39;00m:\n\u001b[0;32m-> 1102\u001b[0m     response \u001b[38;5;241m=\u001b[39m \u001b[43mclient\u001b[49m\u001b[38;5;241;43m.\u001b[39;49m\u001b[43m_run_operation\u001b[49m\u001b[43m(\u001b[49m\n\u001b[1;32m   1103\u001b[0m \u001b[43m        \u001b[49m\u001b[43moperation\u001b[49m\u001b[43m,\u001b[49m\u001b[43m \u001b[49m\u001b[38;5;28;43mself\u001b[39;49m\u001b[38;5;241;43m.\u001b[39;49m\u001b[43m_unpack_response\u001b[49m\u001b[43m,\u001b[49m\u001b[43m \u001b[49m\u001b[43maddress\u001b[49m\u001b[38;5;241;43m=\u001b[39;49m\u001b[38;5;28;43mself\u001b[39;49m\u001b[38;5;241;43m.\u001b[39;49m\u001b[43m_address\u001b[49m\n\u001b[1;32m   1104\u001b[0m \u001b[43m    \u001b[49m\u001b[43m)\u001b[49m\n\u001b[1;32m   1105\u001b[0m \u001b[38;5;28;01mexcept\u001b[39;00m OperationFailure \u001b[38;5;28;01mas\u001b[39;00m exc:\n\u001b[1;32m   1106\u001b[0m     \u001b[38;5;28;01mif\u001b[39;00m exc\u001b[38;5;241m.\u001b[39mcode \u001b[38;5;129;01min\u001b[39;00m _CURSOR_CLOSED_ERRORS \u001b[38;5;129;01mor\u001b[39;00m \u001b[38;5;28mself\u001b[39m\u001b[38;5;241m.\u001b[39m_exhaust:\n\u001b[1;32m   1107\u001b[0m         \u001b[38;5;66;03m# Don't send killCursors because the cursor is already closed.\u001b[39;00m\n",
      "File \u001b[0;32m/srv/conda/envs/notebook/lib/python3.11/site-packages/pymongo/_csot.py:125\u001b[0m, in \u001b[0;36mapply.<locals>.csot_wrapper\u001b[0;34m(self, *args, **kwargs)\u001b[0m\n\u001b[1;32m    123\u001b[0m         \u001b[38;5;28;01mwith\u001b[39;00m _TimeoutContext(timeout):\n\u001b[1;32m    124\u001b[0m             \u001b[38;5;28;01mreturn\u001b[39;00m func(\u001b[38;5;28mself\u001b[39m, \u001b[38;5;241m*\u001b[39margs, \u001b[38;5;241m*\u001b[39m\u001b[38;5;241m*\u001b[39mkwargs)\n\u001b[0;32m--> 125\u001b[0m \u001b[38;5;28;01mreturn\u001b[39;00m \u001b[43mfunc\u001b[49m\u001b[43m(\u001b[49m\u001b[38;5;28;43mself\u001b[39;49m\u001b[43m,\u001b[49m\u001b[43m \u001b[49m\u001b[38;5;241;43m*\u001b[39;49m\u001b[43margs\u001b[49m\u001b[43m,\u001b[49m\u001b[43m \u001b[49m\u001b[38;5;241;43m*\u001b[39;49m\u001b[38;5;241;43m*\u001b[39;49m\u001b[43mkwargs\u001b[49m\u001b[43m)\u001b[49m\n",
      "File \u001b[0;32m/srv/conda/envs/notebook/lib/python3.11/site-packages/pymongo/synchronous/mongo_client.py:1917\u001b[0m, in \u001b[0;36mMongoClient._run_operation\u001b[0;34m(self, operation, unpack_res, address)\u001b[0m\n\u001b[1;32m   1907\u001b[0m     operation\u001b[38;5;241m.\u001b[39mreset()  \u001b[38;5;66;03m# Reset op in case of retry.\u001b[39;00m\n\u001b[1;32m   1908\u001b[0m     \u001b[38;5;28;01mreturn\u001b[39;00m server\u001b[38;5;241m.\u001b[39mrun_operation(\n\u001b[1;32m   1909\u001b[0m         conn,\n\u001b[1;32m   1910\u001b[0m         operation,\n\u001b[0;32m   (...)\u001b[0m\n\u001b[1;32m   1914\u001b[0m         \u001b[38;5;28mself\u001b[39m,\n\u001b[1;32m   1915\u001b[0m     )\n\u001b[0;32m-> 1917\u001b[0m \u001b[38;5;28;01mreturn\u001b[39;00m \u001b[38;5;28;43mself\u001b[39;49m\u001b[38;5;241;43m.\u001b[39;49m\u001b[43m_retryable_read\u001b[49m\u001b[43m(\u001b[49m\n\u001b[1;32m   1918\u001b[0m \u001b[43m    \u001b[49m\u001b[43m_cmd\u001b[49m\u001b[43m,\u001b[49m\n\u001b[1;32m   1919\u001b[0m \u001b[43m    \u001b[49m\u001b[43moperation\u001b[49m\u001b[38;5;241;43m.\u001b[39;49m\u001b[43mread_preference\u001b[49m\u001b[43m,\u001b[49m\n\u001b[1;32m   1920\u001b[0m \u001b[43m    \u001b[49m\u001b[43moperation\u001b[49m\u001b[38;5;241;43m.\u001b[39;49m\u001b[43msession\u001b[49m\u001b[43m,\u001b[49m\u001b[43m  \u001b[49m\u001b[38;5;66;43;03m# type: ignore[arg-type]\u001b[39;49;00m\n\u001b[1;32m   1921\u001b[0m \u001b[43m    \u001b[49m\u001b[43maddress\u001b[49m\u001b[38;5;241;43m=\u001b[39;49m\u001b[43maddress\u001b[49m\u001b[43m,\u001b[49m\n\u001b[1;32m   1922\u001b[0m \u001b[43m    \u001b[49m\u001b[43mretryable\u001b[49m\u001b[38;5;241;43m=\u001b[39;49m\u001b[38;5;28;43misinstance\u001b[39;49m\u001b[43m(\u001b[49m\u001b[43moperation\u001b[49m\u001b[43m,\u001b[49m\u001b[43m \u001b[49m\u001b[43m_Query\u001b[49m\u001b[43m)\u001b[49m\u001b[43m,\u001b[49m\n\u001b[1;32m   1923\u001b[0m \u001b[43m    \u001b[49m\u001b[43moperation\u001b[49m\u001b[38;5;241;43m=\u001b[39;49m\u001b[43moperation\u001b[49m\u001b[38;5;241;43m.\u001b[39;49m\u001b[43mname\u001b[49m\u001b[43m,\u001b[49m\n\u001b[1;32m   1924\u001b[0m \u001b[43m\u001b[49m\u001b[43m)\u001b[49m\n",
      "File \u001b[0;32m/srv/conda/envs/notebook/lib/python3.11/site-packages/pymongo/synchronous/mongo_client.py:2026\u001b[0m, in \u001b[0;36mMongoClient._retryable_read\u001b[0;34m(self, func, read_pref, session, operation, address, retryable, operation_id)\u001b[0m\n\u001b[1;32m   2021\u001b[0m \u001b[38;5;66;03m# Ensure that the client supports retrying on reads and there is no session in\u001b[39;00m\n\u001b[1;32m   2022\u001b[0m \u001b[38;5;66;03m# transaction, otherwise, we will not support retry behavior for this call.\u001b[39;00m\n\u001b[1;32m   2023\u001b[0m retryable \u001b[38;5;241m=\u001b[39m \u001b[38;5;28mbool\u001b[39m(\n\u001b[1;32m   2024\u001b[0m     retryable \u001b[38;5;129;01mand\u001b[39;00m \u001b[38;5;28mself\u001b[39m\u001b[38;5;241m.\u001b[39moptions\u001b[38;5;241m.\u001b[39mretry_reads \u001b[38;5;129;01mand\u001b[39;00m \u001b[38;5;129;01mnot\u001b[39;00m (session \u001b[38;5;129;01mand\u001b[39;00m session\u001b[38;5;241m.\u001b[39min_transaction)\n\u001b[1;32m   2025\u001b[0m )\n\u001b[0;32m-> 2026\u001b[0m \u001b[38;5;28;01mreturn\u001b[39;00m \u001b[38;5;28;43mself\u001b[39;49m\u001b[38;5;241;43m.\u001b[39;49m\u001b[43m_retry_internal\u001b[49m\u001b[43m(\u001b[49m\n\u001b[1;32m   2027\u001b[0m \u001b[43m    \u001b[49m\u001b[43mfunc\u001b[49m\u001b[43m,\u001b[49m\n\u001b[1;32m   2028\u001b[0m \u001b[43m    \u001b[49m\u001b[43msession\u001b[49m\u001b[43m,\u001b[49m\n\u001b[1;32m   2029\u001b[0m \u001b[43m    \u001b[49m\u001b[38;5;28;43;01mNone\u001b[39;49;00m\u001b[43m,\u001b[49m\n\u001b[1;32m   2030\u001b[0m \u001b[43m    \u001b[49m\u001b[43moperation\u001b[49m\u001b[43m,\u001b[49m\n\u001b[1;32m   2031\u001b[0m \u001b[43m    \u001b[49m\u001b[43mis_read\u001b[49m\u001b[38;5;241;43m=\u001b[39;49m\u001b[38;5;28;43;01mTrue\u001b[39;49;00m\u001b[43m,\u001b[49m\n\u001b[1;32m   2032\u001b[0m \u001b[43m    \u001b[49m\u001b[43maddress\u001b[49m\u001b[38;5;241;43m=\u001b[39;49m\u001b[43maddress\u001b[49m\u001b[43m,\u001b[49m\n\u001b[1;32m   2033\u001b[0m \u001b[43m    \u001b[49m\u001b[43mread_pref\u001b[49m\u001b[38;5;241;43m=\u001b[39;49m\u001b[43mread_pref\u001b[49m\u001b[43m,\u001b[49m\n\u001b[1;32m   2034\u001b[0m \u001b[43m    \u001b[49m\u001b[43mretryable\u001b[49m\u001b[38;5;241;43m=\u001b[39;49m\u001b[43mretryable\u001b[49m\u001b[43m,\u001b[49m\n\u001b[1;32m   2035\u001b[0m \u001b[43m    \u001b[49m\u001b[43moperation_id\u001b[49m\u001b[38;5;241;43m=\u001b[39;49m\u001b[43moperation_id\u001b[49m\u001b[43m,\u001b[49m\n\u001b[1;32m   2036\u001b[0m \u001b[43m\u001b[49m\u001b[43m)\u001b[49m\n",
      "File \u001b[0;32m/srv/conda/envs/notebook/lib/python3.11/site-packages/pymongo/_csot.py:125\u001b[0m, in \u001b[0;36mapply.<locals>.csot_wrapper\u001b[0;34m(self, *args, **kwargs)\u001b[0m\n\u001b[1;32m    123\u001b[0m         \u001b[38;5;28;01mwith\u001b[39;00m _TimeoutContext(timeout):\n\u001b[1;32m    124\u001b[0m             \u001b[38;5;28;01mreturn\u001b[39;00m func(\u001b[38;5;28mself\u001b[39m, \u001b[38;5;241m*\u001b[39margs, \u001b[38;5;241m*\u001b[39m\u001b[38;5;241m*\u001b[39mkwargs)\n\u001b[0;32m--> 125\u001b[0m \u001b[38;5;28;01mreturn\u001b[39;00m \u001b[43mfunc\u001b[49m\u001b[43m(\u001b[49m\u001b[38;5;28;43mself\u001b[39;49m\u001b[43m,\u001b[49m\u001b[43m \u001b[49m\u001b[38;5;241;43m*\u001b[39;49m\u001b[43margs\u001b[49m\u001b[43m,\u001b[49m\u001b[43m \u001b[49m\u001b[38;5;241;43m*\u001b[39;49m\u001b[38;5;241;43m*\u001b[39;49m\u001b[43mkwargs\u001b[49m\u001b[43m)\u001b[49m\n",
      "File \u001b[0;32m/srv/conda/envs/notebook/lib/python3.11/site-packages/pymongo/synchronous/mongo_client.py:1993\u001b[0m, in \u001b[0;36mMongoClient._retry_internal\u001b[0;34m(self, func, session, bulk, operation, is_read, address, read_pref, retryable, operation_id)\u001b[0m\n\u001b[1;32m   1956\u001b[0m \u001b[38;5;129m@_csot\u001b[39m\u001b[38;5;241m.\u001b[39mapply\n\u001b[1;32m   1957\u001b[0m \u001b[38;5;28;01mdef\u001b[39;00m \u001b[38;5;21m_retry_internal\u001b[39m(\n\u001b[1;32m   1958\u001b[0m     \u001b[38;5;28mself\u001b[39m,\n\u001b[0;32m   (...)\u001b[0m\n\u001b[1;32m   1967\u001b[0m     operation_id: Optional[\u001b[38;5;28mint\u001b[39m] \u001b[38;5;241m=\u001b[39m \u001b[38;5;28;01mNone\u001b[39;00m,\n\u001b[1;32m   1968\u001b[0m ) \u001b[38;5;241m-\u001b[39m\u001b[38;5;241m>\u001b[39m T:\n\u001b[1;32m   1969\u001b[0m \u001b[38;5;250m    \u001b[39m\u001b[38;5;124;03m\"\"\"Internal retryable helper for all client transactions.\u001b[39;00m\n\u001b[1;32m   1970\u001b[0m \n\u001b[1;32m   1971\u001b[0m \u001b[38;5;124;03m    :param func: Callback function we want to retry\u001b[39;00m\n\u001b[0;32m   (...)\u001b[0m\n\u001b[1;32m   1980\u001b[0m \u001b[38;5;124;03m    :return: Output of the calling func()\u001b[39;00m\n\u001b[1;32m   1981\u001b[0m \u001b[38;5;124;03m    \"\"\"\u001b[39;00m\n\u001b[1;32m   1982\u001b[0m     \u001b[38;5;28;01mreturn\u001b[39;00m \u001b[43m_ClientConnectionRetryable\u001b[49m\u001b[43m(\u001b[49m\n\u001b[1;32m   1983\u001b[0m \u001b[43m        \u001b[49m\u001b[43mmongo_client\u001b[49m\u001b[38;5;241;43m=\u001b[39;49m\u001b[38;5;28;43mself\u001b[39;49m\u001b[43m,\u001b[49m\n\u001b[1;32m   1984\u001b[0m \u001b[43m        \u001b[49m\u001b[43mfunc\u001b[49m\u001b[38;5;241;43m=\u001b[39;49m\u001b[43mfunc\u001b[49m\u001b[43m,\u001b[49m\n\u001b[1;32m   1985\u001b[0m \u001b[43m        \u001b[49m\u001b[43mbulk\u001b[49m\u001b[38;5;241;43m=\u001b[39;49m\u001b[43mbulk\u001b[49m\u001b[43m,\u001b[49m\n\u001b[1;32m   1986\u001b[0m \u001b[43m        \u001b[49m\u001b[43moperation\u001b[49m\u001b[38;5;241;43m=\u001b[39;49m\u001b[43moperation\u001b[49m\u001b[43m,\u001b[49m\n\u001b[1;32m   1987\u001b[0m \u001b[43m        \u001b[49m\u001b[43mis_read\u001b[49m\u001b[38;5;241;43m=\u001b[39;49m\u001b[43mis_read\u001b[49m\u001b[43m,\u001b[49m\n\u001b[1;32m   1988\u001b[0m \u001b[43m        \u001b[49m\u001b[43msession\u001b[49m\u001b[38;5;241;43m=\u001b[39;49m\u001b[43msession\u001b[49m\u001b[43m,\u001b[49m\n\u001b[1;32m   1989\u001b[0m \u001b[43m        \u001b[49m\u001b[43mread_pref\u001b[49m\u001b[38;5;241;43m=\u001b[39;49m\u001b[43mread_pref\u001b[49m\u001b[43m,\u001b[49m\n\u001b[1;32m   1990\u001b[0m \u001b[43m        \u001b[49m\u001b[43maddress\u001b[49m\u001b[38;5;241;43m=\u001b[39;49m\u001b[43maddress\u001b[49m\u001b[43m,\u001b[49m\n\u001b[1;32m   1991\u001b[0m \u001b[43m        \u001b[49m\u001b[43mretryable\u001b[49m\u001b[38;5;241;43m=\u001b[39;49m\u001b[43mretryable\u001b[49m\u001b[43m,\u001b[49m\n\u001b[1;32m   1992\u001b[0m \u001b[43m        \u001b[49m\u001b[43moperation_id\u001b[49m\u001b[38;5;241;43m=\u001b[39;49m\u001b[43moperation_id\u001b[49m\u001b[43m,\u001b[49m\n\u001b[0;32m-> 1993\u001b[0m \u001b[43m    \u001b[49m\u001b[43m)\u001b[49m\u001b[38;5;241;43m.\u001b[39;49m\u001b[43mrun\u001b[49m\u001b[43m(\u001b[49m\u001b[43m)\u001b[49m\n",
      "File \u001b[0;32m/srv/conda/envs/notebook/lib/python3.11/site-packages/pymongo/synchronous/mongo_client.py:2730\u001b[0m, in \u001b[0;36m_ClientConnectionRetryable.run\u001b[0;34m(self)\u001b[0m\n\u001b[1;32m   2728\u001b[0m \u001b[38;5;28mself\u001b[39m\u001b[38;5;241m.\u001b[39m_check_last_error(check_csot\u001b[38;5;241m=\u001b[39m\u001b[38;5;28;01mTrue\u001b[39;00m)\n\u001b[1;32m   2729\u001b[0m \u001b[38;5;28;01mtry\u001b[39;00m:\n\u001b[0;32m-> 2730\u001b[0m     \u001b[38;5;28;01mreturn\u001b[39;00m \u001b[38;5;28;43mself\u001b[39;49m\u001b[38;5;241;43m.\u001b[39;49m\u001b[43m_read\u001b[49m\u001b[43m(\u001b[49m\u001b[43m)\u001b[49m \u001b[38;5;28;01mif\u001b[39;00m \u001b[38;5;28mself\u001b[39m\u001b[38;5;241m.\u001b[39m_is_read \u001b[38;5;28;01melse\u001b[39;00m \u001b[38;5;28mself\u001b[39m\u001b[38;5;241m.\u001b[39m_write()\n\u001b[1;32m   2731\u001b[0m \u001b[38;5;28;01mexcept\u001b[39;00m ServerSelectionTimeoutError:\n\u001b[1;32m   2732\u001b[0m     \u001b[38;5;66;03m# The application may think the write was never attempted\u001b[39;00m\n\u001b[1;32m   2733\u001b[0m     \u001b[38;5;66;03m# if we raise ServerSelectionTimeoutError on the retry\u001b[39;00m\n\u001b[1;32m   2734\u001b[0m     \u001b[38;5;66;03m# attempt. Raise the original exception instead.\u001b[39;00m\n\u001b[1;32m   2735\u001b[0m     \u001b[38;5;28mself\u001b[39m\u001b[38;5;241m.\u001b[39m_check_last_error()\n",
      "File \u001b[0;32m/srv/conda/envs/notebook/lib/python3.11/site-packages/pymongo/synchronous/mongo_client.py:2891\u001b[0m, in \u001b[0;36m_ClientConnectionRetryable._read\u001b[0;34m(self)\u001b[0m\n\u001b[1;32m   2883\u001b[0m \u001b[38;5;28;01mif\u001b[39;00m \u001b[38;5;28mself\u001b[39m\u001b[38;5;241m.\u001b[39m_retrying:\n\u001b[1;32m   2884\u001b[0m     _debug_log(\n\u001b[1;32m   2885\u001b[0m         _COMMAND_LOGGER,\n\u001b[1;32m   2886\u001b[0m         message\u001b[38;5;241m=\u001b[39m\u001b[38;5;124mf\u001b[39m\u001b[38;5;124m\"\u001b[39m\u001b[38;5;124mRetrying read attempt number \u001b[39m\u001b[38;5;132;01m{\u001b[39;00m\u001b[38;5;28mself\u001b[39m\u001b[38;5;241m.\u001b[39m_attempt_number\u001b[38;5;132;01m}\u001b[39;00m\u001b[38;5;124m\"\u001b[39m,\n\u001b[0;32m   (...)\u001b[0m\n\u001b[1;32m   2889\u001b[0m         operationId\u001b[38;5;241m=\u001b[39m\u001b[38;5;28mself\u001b[39m\u001b[38;5;241m.\u001b[39m_operation_id,\n\u001b[1;32m   2890\u001b[0m     )\n\u001b[0;32m-> 2891\u001b[0m \u001b[38;5;28;01mreturn\u001b[39;00m \u001b[38;5;28;43mself\u001b[39;49m\u001b[38;5;241;43m.\u001b[39;49m\u001b[43m_func\u001b[49m\u001b[43m(\u001b[49m\u001b[38;5;28;43mself\u001b[39;49m\u001b[38;5;241;43m.\u001b[39;49m\u001b[43m_session\u001b[49m\u001b[43m,\u001b[49m\u001b[43m \u001b[49m\u001b[38;5;28;43mself\u001b[39;49m\u001b[38;5;241;43m.\u001b[39;49m\u001b[43m_server\u001b[49m\u001b[43m,\u001b[49m\u001b[43m \u001b[49m\u001b[43mconn\u001b[49m\u001b[43m,\u001b[49m\u001b[43m \u001b[49m\u001b[43mread_pref\u001b[49m\u001b[43m)\u001b[49m\n",
      "File \u001b[0;32m/srv/conda/envs/notebook/lib/python3.11/site-packages/pymongo/synchronous/mongo_client.py:1908\u001b[0m, in \u001b[0;36mMongoClient._run_operation.<locals>._cmd\u001b[0;34m(_session, server, conn, read_preference)\u001b[0m\n\u001b[1;32m   1901\u001b[0m \u001b[38;5;28;01mdef\u001b[39;00m \u001b[38;5;21m_cmd\u001b[39m(\n\u001b[1;32m   1902\u001b[0m     _session: Optional[ClientSession],\n\u001b[1;32m   1903\u001b[0m     server: Server,\n\u001b[1;32m   1904\u001b[0m     conn: Connection,\n\u001b[1;32m   1905\u001b[0m     read_preference: _ServerMode,\n\u001b[1;32m   1906\u001b[0m ) \u001b[38;5;241m-\u001b[39m\u001b[38;5;241m>\u001b[39m Response:\n\u001b[1;32m   1907\u001b[0m     operation\u001b[38;5;241m.\u001b[39mreset()  \u001b[38;5;66;03m# Reset op in case of retry.\u001b[39;00m\n\u001b[0;32m-> 1908\u001b[0m     \u001b[38;5;28;01mreturn\u001b[39;00m \u001b[43mserver\u001b[49m\u001b[38;5;241;43m.\u001b[39;49m\u001b[43mrun_operation\u001b[49m\u001b[43m(\u001b[49m\n\u001b[1;32m   1909\u001b[0m \u001b[43m        \u001b[49m\u001b[43mconn\u001b[49m\u001b[43m,\u001b[49m\n\u001b[1;32m   1910\u001b[0m \u001b[43m        \u001b[49m\u001b[43moperation\u001b[49m\u001b[43m,\u001b[49m\n\u001b[1;32m   1911\u001b[0m \u001b[43m        \u001b[49m\u001b[43mread_preference\u001b[49m\u001b[43m,\u001b[49m\n\u001b[1;32m   1912\u001b[0m \u001b[43m        \u001b[49m\u001b[38;5;28;43mself\u001b[39;49m\u001b[38;5;241;43m.\u001b[39;49m\u001b[43m_event_listeners\u001b[49m\u001b[43m,\u001b[49m\n\u001b[1;32m   1913\u001b[0m \u001b[43m        \u001b[49m\u001b[43munpack_res\u001b[49m\u001b[43m,\u001b[49m\n\u001b[1;32m   1914\u001b[0m \u001b[43m        \u001b[49m\u001b[38;5;28;43mself\u001b[39;49m\u001b[43m,\u001b[49m\n\u001b[1;32m   1915\u001b[0m \u001b[43m    \u001b[49m\u001b[43m)\u001b[49m\n",
      "File \u001b[0;32m/srv/conda/envs/notebook/lib/python3.11/site-packages/pymongo/synchronous/helpers.py:47\u001b[0m, in \u001b[0;36m_handle_reauth.<locals>.inner\u001b[0;34m(*args, **kwargs)\u001b[0m\n\u001b[1;32m     44\u001b[0m \u001b[38;5;28;01mfrom\u001b[39;00m \u001b[38;5;21;01mpymongo\u001b[39;00m\u001b[38;5;21;01m.\u001b[39;00m\u001b[38;5;21;01msynchronous\u001b[39;00m\u001b[38;5;21;01m.\u001b[39;00m\u001b[38;5;21;01mpool\u001b[39;00m \u001b[38;5;28;01mimport\u001b[39;00m Connection\n\u001b[1;32m     46\u001b[0m \u001b[38;5;28;01mtry\u001b[39;00m:\n\u001b[0;32m---> 47\u001b[0m     \u001b[38;5;28;01mreturn\u001b[39;00m \u001b[43mfunc\u001b[49m\u001b[43m(\u001b[49m\u001b[38;5;241;43m*\u001b[39;49m\u001b[43margs\u001b[49m\u001b[43m,\u001b[49m\u001b[43m \u001b[49m\u001b[38;5;241;43m*\u001b[39;49m\u001b[38;5;241;43m*\u001b[39;49m\u001b[43mkwargs\u001b[49m\u001b[43m)\u001b[49m\n\u001b[1;32m     48\u001b[0m \u001b[38;5;28;01mexcept\u001b[39;00m OperationFailure \u001b[38;5;28;01mas\u001b[39;00m exc:\n\u001b[1;32m     49\u001b[0m     \u001b[38;5;28;01mif\u001b[39;00m no_reauth:\n",
      "File \u001b[0;32m/srv/conda/envs/notebook/lib/python3.11/site-packages/pymongo/synchronous/server.py:227\u001b[0m, in \u001b[0;36mServer.run_operation\u001b[0;34m(self, conn, operation, read_preference, listeners, unpack_res, client)\u001b[0m\n\u001b[1;32m    225\u001b[0m         first \u001b[38;5;241m=\u001b[39m docs[\u001b[38;5;241m0\u001b[39m]\n\u001b[1;32m    226\u001b[0m         operation\u001b[38;5;241m.\u001b[39mclient\u001b[38;5;241m.\u001b[39m_process_response(first, operation\u001b[38;5;241m.\u001b[39msession)  \u001b[38;5;66;03m# type: ignore[misc, arg-type]\u001b[39;00m\n\u001b[0;32m--> 227\u001b[0m         \u001b[43m_check_command_response\u001b[49m\u001b[43m(\u001b[49m\u001b[43mfirst\u001b[49m\u001b[43m,\u001b[49m\u001b[43m \u001b[49m\u001b[43mconn\u001b[49m\u001b[38;5;241;43m.\u001b[39;49m\u001b[43mmax_wire_version\u001b[49m\u001b[43m)\u001b[49m\n\u001b[1;32m    228\u001b[0m \u001b[38;5;28;01mexcept\u001b[39;00m \u001b[38;5;167;01mException\u001b[39;00m \u001b[38;5;28;01mas\u001b[39;00m exc:\n\u001b[1;32m    229\u001b[0m     duration \u001b[38;5;241m=\u001b[39m datetime\u001b[38;5;241m.\u001b[39mnow() \u001b[38;5;241m-\u001b[39m start\n",
      "File \u001b[0;32m/srv/conda/envs/notebook/lib/python3.11/site-packages/pymongo/helpers_shared.py:250\u001b[0m, in \u001b[0;36m_check_command_response\u001b[0;34m(response, max_wire_version, allowable_errors, parse_write_concern_error)\u001b[0m\n\u001b[1;32m    247\u001b[0m \u001b[38;5;28;01melif\u001b[39;00m code \u001b[38;5;241m==\u001b[39m \u001b[38;5;241m43\u001b[39m:\n\u001b[1;32m    248\u001b[0m     \u001b[38;5;28;01mraise\u001b[39;00m CursorNotFound(errmsg, code, response, max_wire_version)\n\u001b[0;32m--> 250\u001b[0m \u001b[38;5;28;01mraise\u001b[39;00m OperationFailure(errmsg, code, response, max_wire_version)\n",
      "\u001b[0;31mOperationFailure\u001b[0m: Cannot do inclusion on field category in exclusion projection, full error: {'ok': 0.0, 'errmsg': 'Cannot do inclusion on field category in exclusion projection', 'code': 31253, 'codeName': 'Location31253'}"
     ]
    }
   ],
   "source": [
    "# Can't both include and exclude (except for _id)\n",
    "output = db.prizes.find({}, {\"year\": 0, \"category\": 1})\n",
    "\n",
    "pretty_print(output)"
   ]
  },
  {
   "cell_type": "markdown",
   "id": "fe46ed66-d20b-4abd-b070-4b43578530aa",
   "metadata": {},
   "source": [
    "# Sorting and Limits"
   ]
  },
  {
   "cell_type": "code",
   "execution_count": 40,
   "id": "599bb4a2-d53f-4488-b3c9-3190235df1d3",
   "metadata": {
    "scrolled": true
   },
   "outputs": [
    {
     "name": "stdout",
     "output_type": "stream",
     "text": [
      "{'category': 'peace',\n",
      " 'laureates': [{'firstname': 'Henry', 'surname': 'Dunant'},\n",
      "               {'firstname': 'Frédéric', 'surname': 'Passy'}],\n",
      " 'year': 1901}\n",
      "{'category': 'peace',\n",
      " 'laureates': [{'firstname': 'Élie', 'surname': 'Ducommun'},\n",
      "               {'firstname': 'Albert', 'surname': 'Gobat'}],\n",
      " 'year': 1902}\n",
      "{'category': 'peace',\n",
      " 'laureates': [{'firstname': 'Randal', 'surname': 'Cremer'}],\n",
      " 'year': 1903}\n"
     ]
    }
   ],
   "source": [
    "output = (db.prizes\n",
    "          .find({\"category\": \"peace\"},\n",
    "               {\"_id\": 0, \"category\": 1, \"year\": 1,\n",
    "                \"laureates.firstname\": 1, \"laureates.surname\": 1})\n",
    "          .sort(\"year\")\n",
    "         )\n",
    "\n",
    "pretty_print(output)"
   ]
  },
  {
   "cell_type": "code",
   "execution_count": 41,
   "id": "3e72bdae-5c08-42a0-9bfc-9d2c269c6324",
   "metadata": {},
   "outputs": [
    {
     "name": "stdout",
     "output_type": "stream",
     "text": [
      "{'category': 'peace',\n",
      " 'laureates': [{'firstname': 'World Food Programme'}],\n",
      " 'year': 2020}\n",
      "{'category': 'peace',\n",
      " 'laureates': [{'firstname': 'Abiy', 'surname': 'Ahmed Ali'}],\n",
      " 'year': 2019}\n",
      "{'category': 'peace',\n",
      " 'laureates': [{'firstname': 'Denis', 'surname': 'Mukwege'},\n",
      "               {'firstname': 'Nadia', 'surname': 'Murad'}],\n",
      " 'year': 2018}\n"
     ]
    }
   ],
   "source": [
    "output = (db.prizes.find({\"category\": \"peace\"},\n",
    "               {\"_id\": 0, \"category\": 1, \"year\": 1,\n",
    "                \"laureates.firstname\": 1, \"laureates.surname\": 1})\n",
    "          .sort(\"year\", -1)\n",
    "         )\n",
    "\n",
    "pretty_print(output)"
   ]
  },
  {
   "cell_type": "code",
   "execution_count": 42,
   "id": "2443bca0-4700-4f70-900b-f9b2a12dade6",
   "metadata": {},
   "outputs": [
    {
     "name": "stdout",
     "output_type": "stream",
     "text": [
      "{'category': 'peace',\n",
      " 'laureates': [{'firstname': 'Henry', 'surname': 'Dunant'},\n",
      "               {'firstname': 'Frédéric', 'surname': 'Passy'}],\n",
      " 'year': 1901}\n",
      "{'category': 'peace',\n",
      " 'laureates': [{'firstname': 'Élie', 'surname': 'Ducommun'},\n",
      "               {'firstname': 'Albert', 'surname': 'Gobat'}],\n",
      " 'year': 1902}\n",
      "{'category': 'peace',\n",
      " 'laureates': [{'firstname': 'Randal', 'surname': 'Cremer'}],\n",
      " 'year': 1903}\n"
     ]
    }
   ],
   "source": [
    "output = (db.prizes.find({\"category\": \"peace\"},\n",
    "               {\"_id\": 0, \"category\": 1, \"year\": 1,\n",
    "                \"laureates.firstname\": 1, \"laureates.surname\": 1})\n",
    "          .sort([(\"year\", 1), (\"category\", -1)])\n",
    "         )\n",
    "\n",
    "pretty_print(output)"
   ]
  },
  {
   "cell_type": "code",
   "execution_count": 43,
   "id": "d4516281-afb0-4993-b93a-89a2df8484dd",
   "metadata": {},
   "outputs": [
    {
     "name": "stdout",
     "output_type": "stream",
     "text": [
      "{'category': 'peace',\n",
      " 'laureates': [{'firstname': 'Henry', 'surname': 'Dunant'},\n",
      "               {'firstname': 'Frédéric', 'surname': 'Passy'}],\n",
      " 'year': 1901}\n",
      "{'category': 'peace',\n",
      " 'laureates': [{'firstname': 'Élie', 'surname': 'Ducommun'},\n",
      "               {'firstname': 'Albert', 'surname': 'Gobat'}],\n",
      " 'year': 1902}\n"
     ]
    }
   ],
   "source": [
    "output = (db.prizes.find({\"category\": \"peace\"},\n",
    "               {\"_id\": 0, \"category\": 1, \"year\": 1,\n",
    "                \"laureates.firstname\": 1, \"laureates.surname\": 1})\n",
    "          .sort([(\"year\", 1), (\"category\", -1)])\n",
    "          .limit(2)\n",
    "         )\n",
    "\n",
    "pretty_print(output)"
   ]
  },
  {
   "cell_type": "code",
   "execution_count": 39,
   "id": "6dfbe77f-b6d8-4a8b-a50f-2f22aad8b454",
   "metadata": {},
   "outputs": [
    {
     "data": {
      "text/plain": [
       "{'_id': ObjectId('68fa549f985bfa397937db82'),\n",
       " 'year': 2019,\n",
       " 'category': 'physics',\n",
       " 'overallMotivation': '\"for contributions to our understanding of the evolution of the universe and Earth’s place in the cosmos\"',\n",
       " 'laureates': [{'id': '973',\n",
       "   'firstname': 'James',\n",
       "   'surname': 'Peebles',\n",
       "   'motivation': '\"for theoretical discoveries in physical cosmology\"',\n",
       "   'share': '2'},\n",
       "  {'id': '974',\n",
       "   'firstname': 'Michel',\n",
       "   'surname': 'Mayor',\n",
       "   'motivation': '\"for the discovery of an exoplanet orbiting a solar-type star\"',\n",
       "   'share': '4'},\n",
       "  {'id': '975',\n",
       "   'firstname': 'Didier',\n",
       "   'surname': 'Queloz',\n",
       "   'motivation': '\"for the discovery of an exoplanet orbiting a solar-type star\"',\n",
       "   'share': '4'}]}"
      ]
     },
     "execution_count": 39,
     "metadata": {},
     "output_type": "execute_result"
    }
   ],
   "source": [
    "## Extra\n",
    "\n",
    "db.prizes.find_one({\"overallMotivation\": {\"$exists\": 1}})"
   ]
  }
 ],
 "metadata": {
  "kernelspec": {
   "display_name": "Python 3 (ipykernel)",
   "language": "python",
   "name": "python3"
  },
  "language_info": {
   "codemirror_mode": {
    "name": "ipython",
    "version": 3
   },
   "file_extension": ".py",
   "mimetype": "text/x-python",
   "name": "python",
   "nbconvert_exporter": "python",
   "pygments_lexer": "ipython3",
   "version": "3.11.13"
  },
  "widgets": {
   "application/vnd.jupyter.widget-state+json": {
    "state": {},
    "version_major": 2,
    "version_minor": 0
   }
  }
 },
 "nbformat": 4,
 "nbformat_minor": 5
}
