{
 "cells": [
  {
   "cell_type": "markdown",
   "id": "6f4dc967-c97c-449d-b983-837def50668c",
   "metadata": {},
   "source": [
    "# Data Preparation: Value Transformations with GNIS & Baseball Examples"
   ]
  },
  {
   "cell_type": "code",
   "execution_count": 1,
   "id": "eebaaefa-68c6-49a7-a947-05c1288bdaec",
   "metadata": {},
   "outputs": [],
   "source": [
    "import numpy as np\n",
    "import pandas as pd"
   ]
  },
  {
   "cell_type": "markdown",
   "id": "4d73ae6f-ad02-4651-885c-b83227de1b64",
   "metadata": {},
   "source": [
    "Only run the following if you need to recreate the baseball database:"
   ]
  },
  {
   "cell_type": "code",
   "execution_count": 3,
   "id": "3ab2dce3-3410-42c9-b525-2b0805cb076b",
   "metadata": {
    "scrolled": true
   },
   "outputs": [
    {
     "name": "stdout",
     "output_type": "stream",
     "text": [
      "DROP DATABASE\n",
      "CREATE DATABASE\n",
      "SET\n",
      "SET\n",
      "SET\n",
      "SET\n",
      "SET\n",
      " set_config \n",
      "------------\n",
      " \n",
      "(1 row)\n",
      "\n",
      "SET\n",
      "SET\n",
      "SET\n",
      "SET\n",
      "SET\n",
      "SET\n",
      "CREATE TABLE\n",
      "CREATE TABLE\n",
      "CREATE TABLE\n",
      "CREATE TABLE\n",
      "CREATE TABLE\n",
      "CREATE TABLE\n",
      "CREATE TABLE\n",
      "CREATE TABLE\n",
      "CREATE TABLE\n",
      "CREATE TABLE\n",
      "CREATE TABLE\n",
      "CREATE TABLE\n",
      "CREATE TABLE\n",
      "CREATE TABLE\n",
      "CREATE TABLE\n",
      "CREATE TABLE\n",
      "CREATE TABLE\n",
      "CREATE TABLE\n",
      "CREATE TABLE\n",
      "CREATE TABLE\n",
      "CREATE TABLE\n",
      "CREATE TABLE\n",
      "CREATE TABLE\n",
      "CREATE TABLE\n",
      "CREATE TABLE\n",
      "CREATE TABLE\n",
      "CREATE TABLE\n",
      "COPY 5219\n",
      "COPY 104256\n",
      "COPY 179\n",
      "COPY 6236\n",
      "COPY 425\n",
      "COPY 6879\n",
      "COPY 104324\n",
      "COPY 13943\n",
      "COPY 17350\n",
      "COPY 138838\n",
      "COPY 12028\n",
      "COPY 31955\n",
      "COPY 13110\n",
      "COPY 4191\n",
      "COPY 3040\n",
      "COPY 3469\n",
      "COPY 93\n",
      "COPY 252\n",
      "COPY 19370\n",
      "COPY 45806\n",
      "COPY 5445\n",
      "COPY 26428\n",
      "COPY 1207\n",
      "COPY 325\n",
      "COPY 2865\n",
      "COPY 120\n",
      "COPY 52\n",
      "ALTER TABLE\n",
      "ALTER TABLE\n",
      "ALTER TABLE\n",
      "ALTER TABLE\n",
      "ALTER TABLE\n",
      "ALTER TABLE\n",
      "ALTER TABLE\n",
      "ALTER TABLE\n",
      "ALTER TABLE\n",
      "ALTER TABLE\n",
      "ALTER TABLE\n",
      "ALTER TABLE\n",
      "ALTER TABLE\n",
      "ALTER TABLE\n",
      "ALTER TABLE\n",
      "ALTER TABLE\n",
      "ALTER TABLE\n",
      "ALTER TABLE\n",
      "ALTER TABLE\n",
      "ALTER TABLE\n",
      "ALTER TABLE\n",
      "ALTER TABLE\n",
      "ALTER TABLE\n",
      "ALTER TABLE\n",
      "ALTER TABLE\n",
      "ALTER TABLE\n"
     ]
    }
   ],
   "source": [
    "!psql -h localhost -c 'DROP DATABASE IF EXISTS baseball'\n",
    "!psql -h localhost -c 'CREATE DATABASE baseball'\n",
    "!psql -h localhost -d baseball -f data/baseball.sql"
   ]
  },
  {
   "cell_type": "code",
   "execution_count": 2,
   "id": "4e2bd0d6-d390-45c9-bb8f-198e9045903d",
   "metadata": {},
   "outputs": [
    {
     "data": {
      "text/html": [
       "<span style=\"None\">Connecting to &#x27;postgresql://localhost:5432/baseball&#x27;</span>"
      ],
      "text/plain": [
       "Connecting to 'postgresql://localhost:5432/baseball'"
      ]
     },
     "metadata": {},
     "output_type": "display_data"
    }
   ],
   "source": [
    "## we'll use the Lahman baseball database in our examples today.\n",
    "%reload_ext sql\n",
    "%sql postgresql://localhost:5432/baseball\n",
    "%config SqlMagic.displaylimit = 20"
   ]
  },
  {
   "cell_type": "markdown",
   "id": "c96c86c3-32e7-4d18-99b8-59e64cfcc9b7",
   "metadata": {},
   "source": [
    "---\n",
    "# Scalar and Window Function Demos: Baseball database\n",
    "## [At Home, Slides in Class] Scalar Functions and Query Plans"
   ]
  },
  {
   "cell_type": "markdown",
   "id": "8b1d6a92-55e6-4984-93ab-4efdcfb5dfb6",
   "metadata": {},
   "source": [
    "Let's analyze the number of scalar functions in the following query:"
   ]
  },
  {
   "cell_type": "code",
   "execution_count": 4,
   "id": "5e15b5e7-6f42-4d79-991a-8620d2f22bd4",
   "metadata": {},
   "outputs": [
    {
     "data": {
      "text/html": [
       "<span style=\"None\">Running query in &#x27;postgresql://localhost:5432/baseball&#x27;</span>"
      ],
      "text/plain": [
       "Running query in 'postgresql://localhost:5432/baseball'"
      ]
     },
     "metadata": {},
     "output_type": "display_data"
    },
    {
     "data": {
      "text/html": [
       "<span style=\"color: green\">5 rows affected.</span>"
      ],
      "text/plain": [
       "5 rows affected."
      ]
     },
     "metadata": {},
     "output_type": "display_data"
    },
    {
     "data": {
      "text/html": [
       "<table>\n",
       "    <thead>\n",
       "        <tr>\n",
       "            <th>year_id</th>\n",
       "            <th>year</th>\n",
       "        </tr>\n",
       "    </thead>\n",
       "    <tbody>\n",
       "        <tr>\n",
       "            <td>1871</td>\n",
       "            <td>'71</td>\n",
       "        </tr>\n",
       "        <tr>\n",
       "            <td>1871</td>\n",
       "            <td>'71</td>\n",
       "        </tr>\n",
       "        <tr>\n",
       "            <td>1871</td>\n",
       "            <td>'71</td>\n",
       "        </tr>\n",
       "        <tr>\n",
       "            <td>1871</td>\n",
       "            <td>'71</td>\n",
       "        </tr>\n",
       "        <tr>\n",
       "            <td>1871</td>\n",
       "            <td>'71</td>\n",
       "        </tr>\n",
       "    </tbody>\n",
       "</table>"
      ],
      "text/plain": [
       "+---------+------+\n",
       "| year_id | year |\n",
       "+---------+------+\n",
       "|   1871  | '71  |\n",
       "|   1871  | '71  |\n",
       "|   1871  | '71  |\n",
       "|   1871  | '71  |\n",
       "|   1871  | '71  |\n",
       "+---------+------+"
      ]
     },
     "execution_count": 4,
     "metadata": {},
     "output_type": "execute_result"
    }
   ],
   "source": [
    "%%sql\n",
    "WITH year_num AS\n",
    "  (SELECT year_id, (year_id % 100) as year\n",
    "     FROM batting\n",
    "  )\n",
    "SELECT year_id, CONCAT('''', LPAD(year::text, 2, '0')) as year\n",
    "  FROM year_num\n",
    " LIMIT 5;"
   ]
  },
  {
   "cell_type": "markdown",
   "id": "a88f1cb4-5dd8-480d-8bf7-a3f2e0a2fe84",
   "metadata": {},
   "source": [
    "We can analyze it by looking at the EXPLAIN with VERBOSE (we've flattened it for convenience):"
   ]
  },
  {
   "cell_type": "code",
   "execution_count": 5,
   "id": "d472387b-b9b4-4264-bfa4-159dfed000d9",
   "metadata": {},
   "outputs": [
    {
     "data": {
      "text/html": [
       "<span style=\"None\">Running query in &#x27;postgresql://localhost:5432/baseball&#x27;</span>"
      ],
      "text/plain": [
       "Running query in 'postgresql://localhost:5432/baseball'"
      ]
     },
     "metadata": {},
     "output_type": "display_data"
    },
    {
     "data": {
      "text/html": [
       "<span style=\"color: green\">2 rows affected.</span>"
      ],
      "text/plain": [
       "2 rows affected."
      ]
     },
     "metadata": {},
     "output_type": "display_data"
    },
    {
     "data": {
      "text/html": [
       "<table>\n",
       "    <thead>\n",
       "        <tr>\n",
       "            <th>QUERY PLAN</th>\n",
       "        </tr>\n",
       "    </thead>\n",
       "    <tbody>\n",
       "        <tr>\n",
       "            <td>Seq Scan on public.batting  (cost=0.00..3927.29 rows=104324 width=36)</td>\n",
       "        </tr>\n",
       "        <tr>\n",
       "            <td>&nbsp;&nbsp;Output: year_id, concat('''', lpad(((year_id % 100))::text, 2, '0'::text))</td>\n",
       "        </tr>\n",
       "    </tbody>\n",
       "</table>"
      ],
      "text/plain": [
       "+------------------------------------------------------------------------------+\n",
       "|                                  QUERY PLAN                                  |\n",
       "+------------------------------------------------------------------------------+\n",
       "|    Seq Scan on public.batting  (cost=0.00..3927.29 rows=104324 width=36)     |\n",
       "|   Output: year_id, concat('''', lpad(((year_id % 100))::text, 2, '0'::text)) |\n",
       "+------------------------------------------------------------------------------+"
      ]
     },
     "execution_count": 5,
     "metadata": {},
     "output_type": "execute_result"
    }
   ],
   "source": [
    "%%sql\n",
    "EXPLAIN (VERBOSE true)\n",
    "SELECT year_id,\n",
    "       CONCAT('''', LPAD((year_id % 100)::text, 2, '0')) AS year\n",
    "FROM batting;\n"
   ]
  },
  {
   "cell_type": "markdown",
   "id": "2f11053d-e442-4a23-b2c0-ab5d8d858359",
   "metadata": {},
   "source": [
    "What if scalar functions mention multiple tables?\n",
    "\n",
    "The below query computes an arbitrary statistic for pitchers:\n",
    "* 1 point for every strikeout they throw as pitcher\n",
    "* –1 for every point they themselves struck out as batter\n",
    "\n",
    "If the notebook-like output is hard to read, try out the query in `psql`. Note that notebooks don't preserve whitespace when displaying dataframes."
   ]
  },
  {
   "cell_type": "code",
   "execution_count": 6,
   "id": "76122e53-5bd6-4f79-93be-d9bf79685f0d",
   "metadata": {},
   "outputs": [
    {
     "data": {
      "text/html": [
       "<span style=\"None\">Running query in &#x27;postgresql://localhost:5432/baseball&#x27;</span>"
      ],
      "text/plain": [
       "Running query in 'postgresql://localhost:5432/baseball'"
      ]
     },
     "metadata": {},
     "output_type": "display_data"
    },
    {
     "data": {
      "text/html": [
       "<span style=\"color: green\">11 rows affected.</span>"
      ],
      "text/plain": [
       "11 rows affected."
      ]
     },
     "metadata": {},
     "output_type": "display_data"
    },
    {
     "data": {
      "text/html": [
       "<table>\n",
       "    <thead>\n",
       "        <tr>\n",
       "            <th>QUERY PLAN</th>\n",
       "        </tr>\n",
       "    </thead>\n",
       "    <tbody>\n",
       "        <tr>\n",
       "            <td>Nested Loop  (cost=0.43..12982.97 rows=341778 width=13)</td>\n",
       "        </tr>\n",
       "        <tr>\n",
       "            <td>&nbsp;&nbsp;Output: p.player_id, (p.so - b.so)</td>\n",
       "        </tr>\n",
       "        <tr>\n",
       "            <td>&nbsp;&nbsp;->  Seq Scan on public.pitching p  (cost=0.00..1374.06 rows=45806 width=13)</td>\n",
       "        </tr>\n",
       "        <tr>\n",
       "            <td>&nbsp;&nbsp;&nbsp;&nbsp;&nbsp;&nbsp;&nbsp;&nbsp;Output: p.player_id, p.year_id, p.stint, p.team_id, p.lg_id, p.w, p.l, p.g, p.gs, p.cg, p.sho, p.sv, p.ipouts, p.h, p.er, p.hr, p.bb, p.so, p.baopp, p.era, p.ibb, p.wp, p.hbp, p.bk, p.bfp, p.gf, p.r, p.sh, p.sf, p.gidp</td>\n",
       "        </tr>\n",
       "        <tr>\n",
       "            <td>&nbsp;&nbsp;->  Memoize  (cost=0.43..0.73 rows=7 width=13)</td>\n",
       "        </tr>\n",
       "        <tr>\n",
       "            <td>&nbsp;&nbsp;&nbsp;&nbsp;&nbsp;&nbsp;&nbsp;&nbsp;Output: b.so, b.player_id</td>\n",
       "        </tr>\n",
       "        <tr>\n",
       "            <td>&nbsp;&nbsp;&nbsp;&nbsp;&nbsp;&nbsp;&nbsp;&nbsp;Cache Key: p.player_id</td>\n",
       "        </tr>\n",
       "        <tr>\n",
       "            <td>&nbsp;&nbsp;&nbsp;&nbsp;&nbsp;&nbsp;&nbsp;&nbsp;Cache Mode: logical</td>\n",
       "        </tr>\n",
       "        <tr>\n",
       "            <td>&nbsp;&nbsp;&nbsp;&nbsp;&nbsp;&nbsp;&nbsp;&nbsp;->  Index Scan using batting_pkey on public.batting b  (cost=0.42..0.72 rows=7 width=13)</td>\n",
       "        </tr>\n",
       "        <tr>\n",
       "            <td>&nbsp;&nbsp;&nbsp;&nbsp;&nbsp;&nbsp;&nbsp;&nbsp;&nbsp;&nbsp;&nbsp;&nbsp;&nbsp;&nbsp;Output: b.so, b.player_id</td>\n",
       "        </tr>\n",
       "        <tr>\n",
       "            <td>&nbsp;&nbsp;&nbsp;&nbsp;&nbsp;&nbsp;&nbsp;&nbsp;&nbsp;&nbsp;&nbsp;&nbsp;&nbsp;&nbsp;Index Cond: ((b.player_id)::text = (p.player_id)::text)</td>\n",
       "        </tr>\n",
       "    </tbody>\n",
       "</table>"
      ],
      "text/plain": [
       "+------------------------------------------------------------------------------------------------------------------------------------------------------------------------------------------------------------------------------------+\n",
       "|                                                                                                             QUERY PLAN                                                                                                             |\n",
       "+------------------------------------------------------------------------------------------------------------------------------------------------------------------------------------------------------------------------------------+\n",
       "|                                                                                      Nested Loop  (cost=0.43..12982.97 rows=341778 width=13)                                                                                       |\n",
       "|                                                                                                  Output: p.player_id, (p.so - b.so)                                                                                                |\n",
       "|                                                                             ->  Seq Scan on public.pitching p  (cost=0.00..1374.06 rows=45806 width=13)                                                                            |\n",
       "|         Output: p.player_id, p.year_id, p.stint, p.team_id, p.lg_id, p.w, p.l, p.g, p.gs, p.cg, p.sho, p.sv, p.ipouts, p.h, p.er, p.hr, p.bb, p.so, p.baopp, p.era, p.ibb, p.wp, p.hbp, p.bk, p.bfp, p.gf, p.r, p.sh, p.sf, p.gidp |\n",
       "|                                                                                            ->  Memoize  (cost=0.43..0.73 rows=7 width=13)                                                                                          |\n",
       "|                                                                                                         Output: b.so, b.player_id                                                                                                  |\n",
       "|                                                                                                           Cache Key: p.player_id                                                                                                   |\n",
       "|                                                                                                            Cache Mode: logical                                                                                                     |\n",
       "|                                                                          ->  Index Scan using batting_pkey on public.batting b  (cost=0.42..0.72 rows=7 width=13)                                                                  |\n",
       "|                                                                                                            Output: b.so, b.player_id                                                                                               |\n",
       "|                                                                                             Index Cond: ((b.player_id)::text = (p.player_id)::text)                                                                                |\n",
       "+------------------------------------------------------------------------------------------------------------------------------------------------------------------------------------------------------------------------------------+"
      ]
     },
     "execution_count": 6,
     "metadata": {},
     "output_type": "execute_result"
    }
   ],
   "source": [
    "%%sql\n",
    "EXPLAIN (VERBOSE true)\n",
    "SELECT p.player_id, p.so - b.so\n",
    "  FROM pitching p\n",
    "  INNER JOIN batting b\n",
    "  ON p.player_id=b.player_id;"
   ]
  },
  {
   "cell_type": "markdown",
   "id": "98faa532-b8b4-4ef4-8ef7-51868bc1f804",
   "metadata": {},
   "source": [
    "---\n",
    "## Window Functions"
   ]
  },
  {
   "cell_type": "markdown",
   "id": "bcdec6ab-47a7-4149-bd7e-89213b08239c",
   "metadata": {},
   "source": [
    "Window functions, without partitions first, and then with partitions. <br/>\n"
   ]
  },
  {
   "cell_type": "code",
   "execution_count": 5,
   "id": "a7ee3734-e509-43a5-914e-d194f9a324e3",
   "metadata": {},
   "outputs": [
    {
     "data": {
      "text/html": [
       "<span style=\"None\">Running query in &#x27;postgresql://localhost:5432/baseball&#x27;</span>"
      ],
      "text/plain": [
       "Running query in 'postgresql://localhost:5432/baseball'"
      ]
     },
     "metadata": {},
     "output_type": "display_data"
    },
    {
     "data": {
      "text/html": [
       "<span style=\"color: green\">10 rows affected.</span>"
      ],
      "text/plain": [
       "10 rows affected."
      ]
     },
     "metadata": {},
     "output_type": "display_data"
    },
    {
     "data": {
      "text/html": [
       "<table>\n",
       "    <thead>\n",
       "        <tr>\n",
       "            <th>name_first</th>\n",
       "            <th>name_last</th>\n",
       "            <th>year_id</th>\n",
       "            <th>hr</th>\n",
       "            <th>rank</th>\n",
       "            <th>lag1</th>\n",
       "        </tr>\n",
       "    </thead>\n",
       "    <tbody>\n",
       "        <tr>\n",
       "            <td>Barry</td>\n",
       "            <td>Bonds</td>\n",
       "            <td>2001</td>\n",
       "            <td>73</td>\n",
       "            <td>1</td>\n",
       "            <td>49</td>\n",
       "        </tr>\n",
       "        <tr>\n",
       "            <td>Babe</td>\n",
       "            <td>Ruth</td>\n",
       "            <td>1927</td>\n",
       "            <td>60</td>\n",
       "            <td>2</td>\n",
       "            <td>47</td>\n",
       "        </tr>\n",
       "        <tr>\n",
       "            <td>Babe</td>\n",
       "            <td>Ruth</td>\n",
       "            <td>1921</td>\n",
       "            <td>59</td>\n",
       "            <td>3</td>\n",
       "            <td>54</td>\n",
       "        </tr>\n",
       "        <tr>\n",
       "            <td>Babe</td>\n",
       "            <td>Ruth</td>\n",
       "            <td>1920</td>\n",
       "            <td>54</td>\n",
       "            <td>4</td>\n",
       "            <td>29</td>\n",
       "        </tr>\n",
       "        <tr>\n",
       "            <td>Babe</td>\n",
       "            <td>Ruth</td>\n",
       "            <td>1928</td>\n",
       "            <td>54</td>\n",
       "            <td>4</td>\n",
       "            <td>60</td>\n",
       "        </tr>\n",
       "        <tr>\n",
       "            <td>Barry</td>\n",
       "            <td>Bonds</td>\n",
       "            <td>2000</td>\n",
       "            <td>49</td>\n",
       "            <td>6</td>\n",
       "            <td>34</td>\n",
       "        </tr>\n",
       "        <tr>\n",
       "            <td>Babe</td>\n",
       "            <td>Ruth</td>\n",
       "            <td>1930</td>\n",
       "            <td>49</td>\n",
       "            <td>6</td>\n",
       "            <td>46</td>\n",
       "        </tr>\n",
       "        <tr>\n",
       "            <td>Babe</td>\n",
       "            <td>Ruth</td>\n",
       "            <td>1926</td>\n",
       "            <td>47</td>\n",
       "            <td>8</td>\n",
       "            <td>25</td>\n",
       "        </tr>\n",
       "        <tr>\n",
       "            <td>Barry</td>\n",
       "            <td>Bonds</td>\n",
       "            <td>1993</td>\n",
       "            <td>46</td>\n",
       "            <td>9</td>\n",
       "            <td>34</td>\n",
       "        </tr>\n",
       "        <tr>\n",
       "            <td>Barry</td>\n",
       "            <td>Bonds</td>\n",
       "            <td>2002</td>\n",
       "            <td>46</td>\n",
       "            <td>9</td>\n",
       "            <td>73</td>\n",
       "        </tr>\n",
       "    </tbody>\n",
       "</table>"
      ],
      "text/plain": [
       "+------------+-----------+---------+----+------+------+\n",
       "| name_first | name_last | year_id | hr | rank | lag1 |\n",
       "+------------+-----------+---------+----+------+------+\n",
       "|   Barry    |   Bonds   |   2001  | 73 |  1   |  49  |\n",
       "|    Babe    |    Ruth   |   1927  | 60 |  2   |  47  |\n",
       "|    Babe    |    Ruth   |   1921  | 59 |  3   |  54  |\n",
       "|    Babe    |    Ruth   |   1920  | 54 |  4   |  29  |\n",
       "|    Babe    |    Ruth   |   1928  | 54 |  4   |  60  |\n",
       "|   Barry    |   Bonds   |   2000  | 49 |  6   |  34  |\n",
       "|    Babe    |    Ruth   |   1930  | 49 |  6   |  46  |\n",
       "|    Babe    |    Ruth   |   1926  | 47 |  8   |  25  |\n",
       "|   Barry    |   Bonds   |   1993  | 46 |  9   |  34  |\n",
       "|   Barry    |   Bonds   |   2002  | 46 |  9   |  73  |\n",
       "+------------+-----------+---------+----+------+------+"
      ]
     },
     "execution_count": 5,
     "metadata": {},
     "output_type": "execute_result"
    }
   ],
   "source": [
    "%%sql\n",
    "SELECT name_first, name_last, year_id, HR,\n",
    "       rank() OVER (ORDER BY HR DESC)\n",
    "       -- , avg(HR)    OVER (PARTITION BY b.player_id ORDER BY year_id ROWS 3 PRECEDING) as avg_4yr\n",
    "       -- , lag(HR, 7) OVER (PARTITION BY b.player_id ORDER BY year_id) as previous\n",
    "       -- , lag(HR, 2) OVER (PARTITION BY b.player_id ORDER BY year_id) as lag2\n",
    "FROM batting b, people p\n",
    "WHERE p.player_id = b.player_id\n",
    "   AND (name_last = 'Bonds' or name_last = 'Ruth')\n",
    "ORDER BY HR DESC\n",
    "LIMIT 10;"
   ]
  },
  {
   "cell_type": "markdown",
   "id": "d4eb2e4a-4ed8-44d2-bc45-d21bb42ed77e",
   "metadata": {},
   "source": [
    "Same query, different order by - so that we can inspect the other attributes\n",
    "<br/>\n",
    "Note ROWS 3 PRECEDING = RANGE BETWEEN 3 PRECEDING AND CURRENT ROW"
   ]
  },
  {
   "cell_type": "code",
   "execution_count": 11,
   "id": "5a444e94-4c9d-4fb0-ad3b-52c31e846f7b",
   "metadata": {
    "scrolled": true
   },
   "outputs": [
    {
     "data": {
      "text/html": [
       "<span style=\"None\">Running query in &#x27;postgresql://localhost:5432/baseball&#x27;</span>"
      ],
      "text/plain": [
       "Running query in 'postgresql://localhost:5432/baseball'"
      ]
     },
     "metadata": {},
     "output_type": "display_data"
    },
    {
     "data": {
      "text/html": [
       "<span style=\"color: green\">20 rows affected.</span>"
      ],
      "text/plain": [
       "20 rows affected."
      ]
     },
     "metadata": {},
     "output_type": "display_data"
    },
    {
     "data": {
      "text/html": [
       "<table>\n",
       "    <thead>\n",
       "        <tr>\n",
       "            <th>name_first</th>\n",
       "            <th>name_last</th>\n",
       "            <th>year_id</th>\n",
       "            <th>hr</th>\n",
       "            <th>avg_4yr</th>\n",
       "            <th>previous</th>\n",
       "            <th>lag2</th>\n",
       "        </tr>\n",
       "    </thead>\n",
       "    <tbody>\n",
       "        <tr>\n",
       "            <td>Barry</td>\n",
       "            <td>Bonds</td>\n",
       "            <td>1986</td>\n",
       "            <td>16</td>\n",
       "            <td>16.0000000000000000</td>\n",
       "            <td>None</td>\n",
       "            <td>None</td>\n",
       "        </tr>\n",
       "        <tr>\n",
       "            <td>Barry</td>\n",
       "            <td>Bonds</td>\n",
       "            <td>1987</td>\n",
       "            <td>25</td>\n",
       "            <td>20.5000000000000000</td>\n",
       "            <td>16</td>\n",
       "            <td>None</td>\n",
       "        </tr>\n",
       "        <tr>\n",
       "            <td>Barry</td>\n",
       "            <td>Bonds</td>\n",
       "            <td>1988</td>\n",
       "            <td>24</td>\n",
       "            <td>21.6666666666666667</td>\n",
       "            <td>25</td>\n",
       "            <td>16</td>\n",
       "        </tr>\n",
       "        <tr>\n",
       "            <td>Barry</td>\n",
       "            <td>Bonds</td>\n",
       "            <td>1989</td>\n",
       "            <td>19</td>\n",
       "            <td>21.0000000000000000</td>\n",
       "            <td>24</td>\n",
       "            <td>25</td>\n",
       "        </tr>\n",
       "        <tr>\n",
       "            <td>Barry</td>\n",
       "            <td>Bonds</td>\n",
       "            <td>1990</td>\n",
       "            <td>33</td>\n",
       "            <td>25.2500000000000000</td>\n",
       "            <td>19</td>\n",
       "            <td>24</td>\n",
       "        </tr>\n",
       "        <tr>\n",
       "            <td>Barry</td>\n",
       "            <td>Bonds</td>\n",
       "            <td>1991</td>\n",
       "            <td>25</td>\n",
       "            <td>25.2500000000000000</td>\n",
       "            <td>33</td>\n",
       "            <td>19</td>\n",
       "        </tr>\n",
       "        <tr>\n",
       "            <td>Barry</td>\n",
       "            <td>Bonds</td>\n",
       "            <td>1992</td>\n",
       "            <td>34</td>\n",
       "            <td>27.7500000000000000</td>\n",
       "            <td>25</td>\n",
       "            <td>33</td>\n",
       "        </tr>\n",
       "        <tr>\n",
       "            <td>Barry</td>\n",
       "            <td>Bonds</td>\n",
       "            <td>1993</td>\n",
       "            <td>46</td>\n",
       "            <td>34.5000000000000000</td>\n",
       "            <td>34</td>\n",
       "            <td>25</td>\n",
       "        </tr>\n",
       "        <tr>\n",
       "            <td>Barry</td>\n",
       "            <td>Bonds</td>\n",
       "            <td>1994</td>\n",
       "            <td>37</td>\n",
       "            <td>35.5000000000000000</td>\n",
       "            <td>46</td>\n",
       "            <td>34</td>\n",
       "        </tr>\n",
       "        <tr>\n",
       "            <td>Barry</td>\n",
       "            <td>Bonds</td>\n",
       "            <td>1995</td>\n",
       "            <td>33</td>\n",
       "            <td>37.5000000000000000</td>\n",
       "            <td>37</td>\n",
       "            <td>46</td>\n",
       "        </tr>\n",
       "        <tr>\n",
       "            <td>Barry</td>\n",
       "            <td>Bonds</td>\n",
       "            <td>1996</td>\n",
       "            <td>42</td>\n",
       "            <td>39.5000000000000000</td>\n",
       "            <td>33</td>\n",
       "            <td>37</td>\n",
       "        </tr>\n",
       "        <tr>\n",
       "            <td>Barry</td>\n",
       "            <td>Bonds</td>\n",
       "            <td>1997</td>\n",
       "            <td>40</td>\n",
       "            <td>38.0000000000000000</td>\n",
       "            <td>42</td>\n",
       "            <td>33</td>\n",
       "        </tr>\n",
       "        <tr>\n",
       "            <td>Barry</td>\n",
       "            <td>Bonds</td>\n",
       "            <td>1998</td>\n",
       "            <td>37</td>\n",
       "            <td>38.0000000000000000</td>\n",
       "            <td>40</td>\n",
       "            <td>42</td>\n",
       "        </tr>\n",
       "        <tr>\n",
       "            <td>Barry</td>\n",
       "            <td>Bonds</td>\n",
       "            <td>1999</td>\n",
       "            <td>34</td>\n",
       "            <td>38.2500000000000000</td>\n",
       "            <td>37</td>\n",
       "            <td>40</td>\n",
       "        </tr>\n",
       "        <tr>\n",
       "            <td>Barry</td>\n",
       "            <td>Bonds</td>\n",
       "            <td>2000</td>\n",
       "            <td>49</td>\n",
       "            <td>40.0000000000000000</td>\n",
       "            <td>34</td>\n",
       "            <td>37</td>\n",
       "        </tr>\n",
       "        <tr>\n",
       "            <td>Barry</td>\n",
       "            <td>Bonds</td>\n",
       "            <td>2001</td>\n",
       "            <td>73</td>\n",
       "            <td>48.2500000000000000</td>\n",
       "            <td>49</td>\n",
       "            <td>34</td>\n",
       "        </tr>\n",
       "        <tr>\n",
       "            <td>Barry</td>\n",
       "            <td>Bonds</td>\n",
       "            <td>2002</td>\n",
       "            <td>46</td>\n",
       "            <td>50.5000000000000000</td>\n",
       "            <td>73</td>\n",
       "            <td>49</td>\n",
       "        </tr>\n",
       "        <tr>\n",
       "            <td>Barry</td>\n",
       "            <td>Bonds</td>\n",
       "            <td>2003</td>\n",
       "            <td>45</td>\n",
       "            <td>53.2500000000000000</td>\n",
       "            <td>46</td>\n",
       "            <td>73</td>\n",
       "        </tr>\n",
       "        <tr>\n",
       "            <td>Barry</td>\n",
       "            <td>Bonds</td>\n",
       "            <td>2004</td>\n",
       "            <td>45</td>\n",
       "            <td>52.2500000000000000</td>\n",
       "            <td>45</td>\n",
       "            <td>46</td>\n",
       "        </tr>\n",
       "        <tr>\n",
       "            <td>Barry</td>\n",
       "            <td>Bonds</td>\n",
       "            <td>2005</td>\n",
       "            <td>5</td>\n",
       "            <td>35.2500000000000000</td>\n",
       "            <td>45</td>\n",
       "            <td>45</td>\n",
       "        </tr>\n",
       "    </tbody>\n",
       "</table>\n",
       "<span style=\"font-style:italic;text-align:center;\">Truncated to <a href=\"https://jupysql.ploomber.io/en/latest/api/configuration.html#displaylimit\">displaylimit</a> of 20.</span>"
      ],
      "text/plain": [
       "+------------+-----------+---------+----+---------------------+----------+------+\n",
       "| name_first | name_last | year_id | hr |       avg_4yr       | previous | lag2 |\n",
       "+------------+-----------+---------+----+---------------------+----------+------+\n",
       "|   Barry    |   Bonds   |   1986  | 16 | 16.0000000000000000 |   None   | None |\n",
       "|   Barry    |   Bonds   |   1987  | 25 | 20.5000000000000000 |    16    | None |\n",
       "|   Barry    |   Bonds   |   1988  | 24 | 21.6666666666666667 |    25    |  16  |\n",
       "|   Barry    |   Bonds   |   1989  | 19 | 21.0000000000000000 |    24    |  25  |\n",
       "|   Barry    |   Bonds   |   1990  | 33 | 25.2500000000000000 |    19    |  24  |\n",
       "|   Barry    |   Bonds   |   1991  | 25 | 25.2500000000000000 |    33    |  19  |\n",
       "|   Barry    |   Bonds   |   1992  | 34 | 27.7500000000000000 |    25    |  33  |\n",
       "|   Barry    |   Bonds   |   1993  | 46 | 34.5000000000000000 |    34    |  25  |\n",
       "|   Barry    |   Bonds   |   1994  | 37 | 35.5000000000000000 |    46    |  34  |\n",
       "|   Barry    |   Bonds   |   1995  | 33 | 37.5000000000000000 |    37    |  46  |\n",
       "|   Barry    |   Bonds   |   1996  | 42 | 39.5000000000000000 |    33    |  37  |\n",
       "|   Barry    |   Bonds   |   1997  | 40 | 38.0000000000000000 |    42    |  33  |\n",
       "|   Barry    |   Bonds   |   1998  | 37 | 38.0000000000000000 |    40    |  42  |\n",
       "|   Barry    |   Bonds   |   1999  | 34 | 38.2500000000000000 |    37    |  40  |\n",
       "|   Barry    |   Bonds   |   2000  | 49 | 40.0000000000000000 |    34    |  37  |\n",
       "|   Barry    |   Bonds   |   2001  | 73 | 48.2500000000000000 |    49    |  34  |\n",
       "|   Barry    |   Bonds   |   2002  | 46 | 50.5000000000000000 |    73    |  49  |\n",
       "|   Barry    |   Bonds   |   2003  | 45 | 53.2500000000000000 |    46    |  73  |\n",
       "|   Barry    |   Bonds   |   2004  | 45 | 52.2500000000000000 |    45    |  46  |\n",
       "|   Barry    |   Bonds   |   2005  | 5  | 35.2500000000000000 |    45    |  45  |\n",
       "+------------+-----------+---------+----+---------------------+----------+------+\n",
       "Truncated to displaylimit of 20."
      ]
     },
     "execution_count": 11,
     "metadata": {},
     "output_type": "execute_result"
    }
   ],
   "source": [
    "%%sql\n",
    "SELECT name_first, name_last, year_id, HR\n",
    "       -- rank() OVER (ORDER BY HR DESC)\n",
    "       , avg(HR)    OVER (PARTITION BY b.player_id ORDER BY year_id ROWS 3 PRECEDING) as avg_4yr\n",
    "       , lag(HR, 1) OVER (PARTITION BY b.player_id ORDER BY year_id) as previous\n",
    "       , lag(HR, 2) OVER (PARTITION BY b.player_id ORDER BY year_id) as lag2\n",
    "FROM batting b, people p\n",
    "WHERE p.player_id = b.player_id\n",
    "   AND (name_last = 'Bonds' or name_last = 'Ruth')\n",
    "ORDER BY b.player_id, year_id \n",
    "LIMIT 20;"
   ]
  },
  {
   "cell_type": "markdown",
   "id": "c15e494e-b294-4073-b9c2-e8e67094bd9b",
   "metadata": {},
   "source": [
    "---\n",
    "## [At Home] Inverse Distribution Window Functions"
   ]
  },
  {
   "cell_type": "code",
   "execution_count": 12,
   "id": "dfc97afe-151a-4b58-b981-8185c5bf35f0",
   "metadata": {},
   "outputs": [
    {
     "data": {
      "text/html": [
       "<span style=\"None\">Running query in &#x27;postgresql://localhost:5432/baseball&#x27;</span>"
      ],
      "text/plain": [
       "Running query in 'postgresql://localhost:5432/baseball'"
      ]
     },
     "metadata": {},
     "output_type": "display_data"
    },
    {
     "data": {
      "text/html": [
       "<span style=\"color: green\">1 rows affected.</span>"
      ],
      "text/plain": [
       "1 rows affected."
      ]
     },
     "metadata": {},
     "output_type": "display_data"
    },
    {
     "data": {
      "text/html": [
       "<table>\n",
       "    <thead>\n",
       "        <tr>\n",
       "            <th>min</th>\n",
       "            <th>p25</th>\n",
       "            <th>median</th>\n",
       "            <th>p75</th>\n",
       "            <th>p99</th>\n",
       "            <th>max</th>\n",
       "            <th>average hit rate</th>\n",
       "        </tr>\n",
       "    </thead>\n",
       "    <tbody>\n",
       "        <tr>\n",
       "            <td>0</td>\n",
       "            <td>0.0</td>\n",
       "            <td>0.0</td>\n",
       "            <td>2.0</td>\n",
       "            <td>31.0</td>\n",
       "            <td>73</td>\n",
       "            <td>2.8315823779763046</td>\n",
       "        </tr>\n",
       "    </tbody>\n",
       "</table>"
      ],
      "text/plain": [
       "+-----+-----+--------+-----+------+-----+--------------------+\n",
       "| min | p25 | median | p75 | p99  | max |  average hit rate  |\n",
       "+-----+-----+--------+-----+------+-----+--------------------+\n",
       "|  0  | 0.0 |  0.0   | 2.0 | 31.0 |  73 | 2.8315823779763046 |\n",
       "+-----+-----+--------+-----+------+-----+--------------------+"
      ]
     },
     "execution_count": 12,
     "metadata": {},
     "output_type": "execute_result"
    }
   ],
   "source": [
    "%%sql\n",
    "SELECT MIN(HR),\n",
    "       percentile_cont(0.25) WITHIN GROUP (ORDER BY HR) AS p25,\n",
    "       percentile_cont(0.50) WITHIN GROUP (ORDER BY HR) AS median,\n",
    "       percentile_cont(0.75) WITHIN GROUP (ORDER BY HR) AS p75,\n",
    "       percentile_cont(0.99) WITHIN GROUP (ORDER BY HR) AS p99,\n",
    "       MAX(HR),\n",
    "       AVG(HR) AS \"average hit rate\"\n",
    "FROM batting;"
   ]
  },
  {
   "cell_type": "markdown",
   "id": "a1285d50-1260-4f3b-8728-15c08d53ef28",
   "metadata": {},
   "source": [
    "Now just to verify that the max is 73, we can run the following query:"
   ]
  },
  {
   "cell_type": "code",
   "execution_count": 13,
   "id": "a540915b-40d4-49ad-9392-706c5f255765",
   "metadata": {},
   "outputs": [
    {
     "data": {
      "text/html": [
       "<span style=\"None\">Running query in &#x27;postgresql://localhost:5432/baseball&#x27;</span>"
      ],
      "text/plain": [
       "Running query in 'postgresql://localhost:5432/baseball'"
      ]
     },
     "metadata": {},
     "output_type": "display_data"
    },
    {
     "data": {
      "text/html": [
       "<span style=\"color: green\">67 rows affected.</span>"
      ],
      "text/plain": [
       "67 rows affected."
      ]
     },
     "metadata": {},
     "output_type": "display_data"
    },
    {
     "data": {
      "text/html": [
       "<table>\n",
       "    <thead>\n",
       "        <tr>\n",
       "            <th>hr</th>\n",
       "            <th>count</th>\n",
       "        </tr>\n",
       "    </thead>\n",
       "    <tbody>\n",
       "        <tr>\n",
       "            <td>73</td>\n",
       "            <td>1</td>\n",
       "        </tr>\n",
       "        <tr>\n",
       "            <td>70</td>\n",
       "            <td>1</td>\n",
       "        </tr>\n",
       "        <tr>\n",
       "            <td>66</td>\n",
       "            <td>1</td>\n",
       "        </tr>\n",
       "        <tr>\n",
       "            <td>65</td>\n",
       "            <td>1</td>\n",
       "        </tr>\n",
       "        <tr>\n",
       "            <td>64</td>\n",
       "            <td>1</td>\n",
       "        </tr>\n",
       "        <tr>\n",
       "            <td>63</td>\n",
       "            <td>1</td>\n",
       "        </tr>\n",
       "        <tr>\n",
       "            <td>61</td>\n",
       "            <td>1</td>\n",
       "        </tr>\n",
       "        <tr>\n",
       "            <td>60</td>\n",
       "            <td>1</td>\n",
       "        </tr>\n",
       "        <tr>\n",
       "            <td>59</td>\n",
       "            <td>2</td>\n",
       "        </tr>\n",
       "        <tr>\n",
       "            <td>58</td>\n",
       "            <td>3</td>\n",
       "        </tr>\n",
       "        <tr>\n",
       "            <td>57</td>\n",
       "            <td>2</td>\n",
       "        </tr>\n",
       "        <tr>\n",
       "            <td>56</td>\n",
       "            <td>3</td>\n",
       "        </tr>\n",
       "        <tr>\n",
       "            <td>54</td>\n",
       "            <td>7</td>\n",
       "        </tr>\n",
       "        <tr>\n",
       "            <td>53</td>\n",
       "            <td>1</td>\n",
       "        </tr>\n",
       "        <tr>\n",
       "            <td>52</td>\n",
       "            <td>7</td>\n",
       "        </tr>\n",
       "        <tr>\n",
       "            <td>51</td>\n",
       "            <td>5</td>\n",
       "        </tr>\n",
       "        <tr>\n",
       "            <td>50</td>\n",
       "            <td>6</td>\n",
       "        </tr>\n",
       "        <tr>\n",
       "            <td>49</td>\n",
       "            <td>19</td>\n",
       "        </tr>\n",
       "        <tr>\n",
       "            <td>48</td>\n",
       "            <td>11</td>\n",
       "        </tr>\n",
       "        <tr>\n",
       "            <td>47</td>\n",
       "            <td>24</td>\n",
       "        </tr>\n",
       "    </tbody>\n",
       "</table>\n",
       "<span style=\"font-style:italic;text-align:center;\">Truncated to <a href=\"https://jupysql.ploomber.io/en/latest/api/configuration.html#displaylimit\">displaylimit</a> of 20.</span>"
      ],
      "text/plain": [
       "+----+-------+\n",
       "| hr | count |\n",
       "+----+-------+\n",
       "| 73 |   1   |\n",
       "| 70 |   1   |\n",
       "| 66 |   1   |\n",
       "| 65 |   1   |\n",
       "| 64 |   1   |\n",
       "| 63 |   1   |\n",
       "| 61 |   1   |\n",
       "| 60 |   1   |\n",
       "| 59 |   2   |\n",
       "| 58 |   3   |\n",
       "| 57 |   2   |\n",
       "| 56 |   3   |\n",
       "| 54 |   7   |\n",
       "| 53 |   1   |\n",
       "| 52 |   7   |\n",
       "| 51 |   5   |\n",
       "| 50 |   6   |\n",
       "| 49 |   19  |\n",
       "| 48 |   11  |\n",
       "| 47 |   24  |\n",
       "+----+-------+\n",
       "Truncated to displaylimit of 20."
      ]
     },
     "execution_count": 13,
     "metadata": {},
     "output_type": "execute_result"
    }
   ],
   "source": [
    "%%sql\n",
    "SELECT HR, COUNT(*) FROM batting GROUP BY HR ORDER BY HR DESC;"
   ]
  },
  {
   "cell_type": "markdown",
   "id": "b66a1035-8e9b-4538-b3bc-e178f874b0ad",
   "metadata": {},
   "source": [
    "---\n",
    "### [At Home, Slides in Class] Hypothetical-Set Window Functions"
   ]
  },
  {
   "cell_type": "code",
   "execution_count": 3,
   "id": "9cdb4fa9-d3e8-4f08-b09f-0c486b6a37da",
   "metadata": {},
   "outputs": [],
   "source": [
    "hrs = 70 # hypothetically, four home runs"
   ]
  },
  {
   "cell_type": "code",
   "execution_count": 4,
   "id": "3e15d361-9066-4bcf-b703-1cdd3e220ae4",
   "metadata": {},
   "outputs": [
    {
     "data": {
      "text/html": [
       "<span style=\"None\">Running query in &#x27;postgresql://localhost:5432/baseball&#x27;</span>"
      ],
      "text/plain": [
       "Running query in 'postgresql://localhost:5432/baseball'"
      ]
     },
     "metadata": {},
     "output_type": "display_data"
    },
    {
     "data": {
      "text/html": [
       "<span style=\"color: green\">1 rows affected.</span>"
      ],
      "text/plain": [
       "1 rows affected."
      ]
     },
     "metadata": {},
     "output_type": "display_data"
    },
    {
     "data": {
      "text/html": [
       "<table>\n",
       "    <thead>\n",
       "        <tr>\n",
       "            <th>hypothetical</th>\n",
       "            <th>rank</th>\n",
       "            <th>dense_rank</th>\n",
       "            <th>pct_rank</th>\n",
       "            <th>cume_dist</th>\n",
       "        </tr>\n",
       "    </thead>\n",
       "    <tbody>\n",
       "        <tr>\n",
       "            <td>70</td>\n",
       "            <td>2</td>\n",
       "            <td>2</td>\n",
       "            <td>0.000958552202752962</td>\n",
       "            <td>0.9999904145698538</td>\n",
       "        </tr>\n",
       "    </tbody>\n",
       "</table>"
      ],
      "text/plain": [
       "+--------------+------+------------+----------------------+--------------------+\n",
       "| hypothetical | rank | dense_rank |       pct_rank       |     cume_dist      |\n",
       "+--------------+------+------------+----------------------+--------------------+\n",
       "|      70      |  2   |     2      | 0.000958552202752962 | 0.9999904145698538 |\n",
       "+--------------+------+------------+----------------------+--------------------+"
      ]
     },
     "execution_count": 4,
     "metadata": {},
     "output_type": "execute_result"
    }
   ],
   "source": [
    "%%sql\n",
    "SELECT {{hrs}} as hypothetical,\n",
    "       rank({{hrs}}) WITHIN GROUP (ORDER BY HR DESC),\n",
    "       dense_rank({{hrs}}) WITHIN GROUP (ORDER BY HR DESC),\n",
    "       percent_rank({{hrs}}) WITHIN GROUP (ORDER BY HR DESC) * 100 AS pct_rank,\n",
    "       cume_dist({{hrs}}) WITHIN GROUP (ORDER BY HR)\n",
    "FROM batting;"
   ]
  },
  {
   "cell_type": "markdown",
   "id": "085085a0-ace7-439b-a25e-a878fa7a6a3f",
   "metadata": {},
   "source": [
    "Without `jupysql` variable substituion"
   ]
  },
  {
   "cell_type": "code",
   "execution_count": 5,
   "id": "74712a9b-100a-401a-99e1-e95eb342892c",
   "metadata": {},
   "outputs": [
    {
     "data": {
      "text/html": [
       "<span style=\"None\">Running query in &#x27;postgresql://localhost:5432/baseball&#x27;</span>"
      ],
      "text/plain": [
       "Running query in 'postgresql://localhost:5432/baseball'"
      ]
     },
     "metadata": {},
     "output_type": "display_data"
    },
    {
     "data": {
      "text/html": [
       "<span style=\"color: green\">1 rows affected.</span>"
      ],
      "text/plain": [
       "1 rows affected."
      ]
     },
     "metadata": {},
     "output_type": "display_data"
    },
    {
     "data": {
      "text/html": [
       "<table>\n",
       "    <thead>\n",
       "        <tr>\n",
       "            <th>hypothetical</th>\n",
       "            <th>rank</th>\n",
       "            <th>dense_rank</th>\n",
       "            <th>pct_rank</th>\n",
       "            <th>cume_dist</th>\n",
       "        </tr>\n",
       "    </thead>\n",
       "    <tbody>\n",
       "        <tr>\n",
       "            <td>4</td>\n",
       "            <td>18420</td>\n",
       "            <td>63</td>\n",
       "            <td>17.655573022506807</td>\n",
       "            <td>0.823445962137551</td>\n",
       "        </tr>\n",
       "    </tbody>\n",
       "</table>"
      ],
      "text/plain": [
       "+--------------+-------+------------+--------------------+-------------------+\n",
       "| hypothetical |  rank | dense_rank |      pct_rank      |     cume_dist     |\n",
       "+--------------+-------+------------+--------------------+-------------------+\n",
       "|      4       | 18420 |     63     | 17.655573022506807 | 0.823445962137551 |\n",
       "+--------------+-------+------------+--------------------+-------------------+"
      ]
     },
     "execution_count": 5,
     "metadata": {},
     "output_type": "execute_result"
    }
   ],
   "source": [
    "%%sql\n",
    "SELECT 4 as hypothetical,\n",
    "       rank(4) WITHIN GROUP (ORDER BY HR DESC),\n",
    "       dense_rank(4) WITHIN GROUP (ORDER BY HR DESC),\n",
    "       percent_rank(4) WITHIN GROUP (ORDER BY HR DESC) * 100 AS pct_rank,\n",
    "       cume_dist(4) WITHIN GROUP (ORDER BY HR)\n",
    "FROM batting;"
   ]
  },
  {
   "cell_type": "markdown",
   "id": "4bb82259-2c7a-47bb-8550-4ef6587e709b",
   "metadata": {},
   "source": [
    "# Granularity Demos: GNIS"
   ]
  },
  {
   "cell_type": "markdown",
   "id": "597e9b93-b55b-42ce-92e8-8c67bb559087",
   "metadata": {},
   "source": [
    "This notebook transforms the existing [Geographics Names Information Systems (GNIS)](https://www.usgs.gov/core-science-systems/ngp/board-on-geographic-names/download-gnis-data) national zip file.\n",
    "\n",
    "We have provided a subset of the sql database for you in `data/national.sql`.\n",
    "\n"
   ]
  },
  {
   "cell_type": "code",
   "execution_count": 34,
   "id": "ef2949aa-c387-458b-b232-872f469d6fd9",
   "metadata": {},
   "outputs": [
    {
     "name": "stdout",
     "output_type": "stream",
     "text": [
      " pg_terminate_backend \n",
      "----------------------\n",
      "(0 rows)\n",
      "\n",
      "DROP DATABASE\n",
      "CREATE DATABASE\n",
      "SET\n",
      "SET\n",
      "SET\n",
      "SET\n",
      "SET\n",
      " set_config \n",
      "------------\n",
      " \n",
      "(1 row)\n",
      "\n",
      "SET\n",
      "SET\n",
      "SET\n",
      "SET\n",
      "SET\n",
      "SET\n",
      "CREATE TABLE\n",
      "ALTER TABLE\n",
      "CREATE TABLE\n",
      "ALTER TABLE\n",
      "COPY 3195\n",
      "COPY 11533\n",
      "CREATE INDEX\n"
     ]
    }
   ],
   "source": [
    "!psql -h localhost -d gnis -c 'SELECT pg_terminate_backend(pg_stat_activity.pid) FROM pg_stat_activity WHERE datname = current_database() AND pid <> pg_backend_pid();'\n",
    "!psql -h localhost -c 'DROP DATABASE IF EXISTS gnis'\n",
    "!psql -h localhost -c 'CREATE DATABASE gnis' \n",
    "!psql -h localhost -d gnis -f data/gnis.sql"
   ]
  },
  {
   "cell_type": "code",
   "execution_count": 35,
   "id": "8fa785a3-e960-41ca-b6db-76f7a19a6250",
   "metadata": {
    "slideshow": {
     "slide_type": "fragment"
    }
   },
   "outputs": [
    {
     "data": {
      "text/html": [
       "<span style=\"None\">Switching to connection &#x27;postgresql://localhost:5432/gnis&#x27;</span>"
      ],
      "text/plain": [
       "Switching to connection 'postgresql://localhost:5432/gnis'"
      ]
     },
     "metadata": {},
     "output_type": "display_data"
    }
   ],
   "source": [
    "%reload_ext sql\n",
    "%sql postgresql://localhost:5432/gnis\n",
    "%config SqlMagic.displaylimit = 15"
   ]
  },
  {
   "cell_type": "markdown",
   "id": "a71726db-f43e-48a8-9262-ef99f25fbe60",
   "metadata": {},
   "source": [
    "* View schema in `psql`\n",
    "* View some rows below"
   ]
  },
  {
   "cell_type": "code",
   "execution_count": 5,
   "id": "091593dd-e45e-4ae1-b9c6-62510fc51354",
   "metadata": {},
   "outputs": [
    {
     "data": {
      "text/html": [
       "<span style=\"None\">Running query in &#x27;postgresql://localhost:5432/gnis&#x27;</span>"
      ],
      "text/plain": [
       "Running query in 'postgresql://localhost:5432/gnis'"
      ]
     },
     "metadata": {},
     "output_type": "display_data"
    },
    {
     "data": {
      "text/html": [
       "<span style=\"color: green\">1 rows affected.</span>"
      ],
      "text/plain": [
       "1 rows affected."
      ]
     },
     "metadata": {},
     "output_type": "display_data"
    },
    {
     "data": {
      "text/html": [
       "<table>\n",
       "    <thead>\n",
       "        <tr>\n",
       "            <th>count</th>\n",
       "        </tr>\n",
       "    </thead>\n",
       "    <tbody>\n",
       "        <tr>\n",
       "            <td>11533</td>\n",
       "        </tr>\n",
       "    </tbody>\n",
       "</table>"
      ],
      "text/plain": [
       "+-------+\n",
       "| count |\n",
       "+-------+\n",
       "| 11533 |\n",
       "+-------+"
      ]
     },
     "execution_count": 5,
     "metadata": {},
     "output_type": "execute_result"
    }
   ],
   "source": [
    "%sql SELECT COUNT(*) FROM national;"
   ]
  },
  {
   "cell_type": "code",
   "execution_count": 6,
   "id": "c545ddad-148e-4657-8790-2229a8be6126",
   "metadata": {
    "slideshow": {
     "slide_type": "subslide"
    }
   },
   "outputs": [
    {
     "data": {
      "text/html": [
       "<span style=\"None\">Running query in &#x27;postgresql://localhost:5432/gnis&#x27;</span>"
      ],
      "text/plain": [
       "Running query in 'postgresql://localhost:5432/gnis'"
      ]
     },
     "metadata": {},
     "output_type": "display_data"
    },
    {
     "data": {
      "text/html": [
       "<span style=\"color: green\">21 rows affected.</span>"
      ],
      "text/plain": [
       "21 rows affected."
      ]
     },
     "metadata": {},
     "output_type": "display_data"
    },
    {
     "data": {
      "text/html": [
       "<table>\n",
       "    <thead>\n",
       "        <tr>\n",
       "            <th>feature_id</th>\n",
       "            <th>feature_name</th>\n",
       "            <th>feature_class</th>\n",
       "            <th>state_alpha</th>\n",
       "            <th>state_numeric</th>\n",
       "            <th>county_name</th>\n",
       "            <th>county_numeric</th>\n",
       "            <th>primary_lat_dms</th>\n",
       "            <th>prim_long_dms</th>\n",
       "            <th>prim_lat_dec</th>\n",
       "            <th>prim_long_dec</th>\n",
       "            <th>source_lat_dms</th>\n",
       "            <th>source_long_dms</th>\n",
       "            <th>source_lat_dec</th>\n",
       "            <th>source_long_dec</th>\n",
       "            <th>elev_in_m</th>\n",
       "            <th>elev_in_ft</th>\n",
       "            <th>map_name</th>\n",
       "            <th>date_created</th>\n",
       "            <th>date_edited</th>\n",
       "        </tr>\n",
       "    </thead>\n",
       "    <tbody>\n",
       "        <tr>\n",
       "            <td>218316</td>\n",
       "            <td>Apperson Creek</td>\n",
       "            <td>Stream</td>\n",
       "            <td>CA</td>\n",
       "            <td>6</td>\n",
       "            <td>Alameda</td>\n",
       "            <td>1.0</td>\n",
       "            <td>373349N</td>\n",
       "            <td>1215000W</td>\n",
       "            <td>37.5635453</td>\n",
       "            <td>-121.8332887</td>\n",
       "            <td>373232N</td>\n",
       "            <td>1214804W</td>\n",
       "            <td>37.5422222</td>\n",
       "            <td>-121.8011111</td>\n",
       "            <td>148.0</td>\n",
       "            <td>486.0</td>\n",
       "            <td>La Costa Valley</td>\n",
       "            <td>01/19/1981</td>\n",
       "            <td>None</td>\n",
       "        </tr>\n",
       "        <tr>\n",
       "            <td>225998</td>\n",
       "            <td>Irvington High School</td>\n",
       "            <td>School</td>\n",
       "            <td>CA</td>\n",
       "            <td>6</td>\n",
       "            <td>Alameda</td>\n",
       "            <td>1.0</td>\n",
       "            <td>373126N</td>\n",
       "            <td>1215801W</td>\n",
       "            <td>37.523814</td>\n",
       "            <td>-121.9670659</td>\n",
       "            <td>None</td>\n",
       "            <td>None</td>\n",
       "            <td>None</td>\n",
       "            <td>None</td>\n",
       "            <td>13.0</td>\n",
       "            <td>43.0</td>\n",
       "            <td>Niles</td>\n",
       "            <td>01/19/1981</td>\n",
       "            <td>03/31/2021</td>\n",
       "        </tr>\n",
       "        <tr>\n",
       "            <td>226951</td>\n",
       "            <td>Laurel Elementary School</td>\n",
       "            <td>School</td>\n",
       "            <td>CA</td>\n",
       "            <td>6</td>\n",
       "            <td>Alameda</td>\n",
       "            <td>1.0</td>\n",
       "            <td>374734N</td>\n",
       "            <td>1221147W</td>\n",
       "            <td>37.792899</td>\n",
       "            <td>-122.1964288</td>\n",
       "            <td>None</td>\n",
       "            <td>None</td>\n",
       "            <td>None</td>\n",
       "            <td>None</td>\n",
       "            <td>68.0</td>\n",
       "            <td>223.0</td>\n",
       "            <td>Oakland East</td>\n",
       "            <td>06/14/2000</td>\n",
       "            <td>03/14/2021</td>\n",
       "        </tr>\n",
       "        <tr>\n",
       "            <td>229367</td>\n",
       "            <td>Murray Elementary School</td>\n",
       "            <td>School</td>\n",
       "            <td>CA</td>\n",
       "            <td>6</td>\n",
       "            <td>Alameda</td>\n",
       "            <td>1.0</td>\n",
       "            <td>374318N</td>\n",
       "            <td>1215557W</td>\n",
       "            <td>37.721801</td>\n",
       "            <td>-121.9326269</td>\n",
       "            <td>None</td>\n",
       "            <td>None</td>\n",
       "            <td>None</td>\n",
       "            <td>None</td>\n",
       "            <td>112.0</td>\n",
       "            <td>367.0</td>\n",
       "            <td>Dublin</td>\n",
       "            <td>01/19/1981</td>\n",
       "            <td>03/14/2021</td>\n",
       "        </tr>\n",
       "        <tr>\n",
       "            <td>235581</td>\n",
       "            <td>Strawberry Creek</td>\n",
       "            <td>Stream</td>\n",
       "            <td>CA</td>\n",
       "            <td>6</td>\n",
       "            <td>Alameda</td>\n",
       "            <td>1.0</td>\n",
       "            <td>375221N</td>\n",
       "            <td>1221443W</td>\n",
       "            <td>37.8724258</td>\n",
       "            <td>-122.2452464</td>\n",
       "            <td>375251N</td>\n",
       "            <td>1221354W</td>\n",
       "            <td>37.8807588</td>\n",
       "            <td>-122.2316349</td>\n",
       "            <td>154.0</td>\n",
       "            <td>505.0</td>\n",
       "            <td>Oakland East</td>\n",
       "            <td>01/19/1981</td>\n",
       "            <td>08/31/2016</td>\n",
       "        </tr>\n",
       "        <tr>\n",
       "            <td>1654274</td>\n",
       "            <td>Hayward Golf Course</td>\n",
       "            <td>Locale</td>\n",
       "            <td>CA</td>\n",
       "            <td>6</td>\n",
       "            <td>Alameda</td>\n",
       "            <td>1.0</td>\n",
       "            <td>373726N</td>\n",
       "            <td>1220250W</td>\n",
       "            <td>37.6238222</td>\n",
       "            <td>-122.0471843</td>\n",
       "            <td>None</td>\n",
       "            <td>None</td>\n",
       "            <td>None</td>\n",
       "            <td>None</td>\n",
       "            <td>5.0</td>\n",
       "            <td>16.0</td>\n",
       "            <td>Newark</td>\n",
       "            <td>01/19/1981</td>\n",
       "            <td>None</td>\n",
       "        </tr>\n",
       "        <tr>\n",
       "            <td>1664964</td>\n",
       "            <td>KOFY-AM (San Mateo)</td>\n",
       "            <td>Tower</td>\n",
       "            <td>CA</td>\n",
       "            <td>6</td>\n",
       "            <td>Alameda</td>\n",
       "            <td>1.0</td>\n",
       "            <td>374934N</td>\n",
       "            <td>1221842W</td>\n",
       "            <td>37.8260385</td>\n",
       "            <td>-122.3116366</td>\n",
       "            <td>None</td>\n",
       "            <td>None</td>\n",
       "            <td>None</td>\n",
       "            <td>None</td>\n",
       "            <td>2.0</td>\n",
       "            <td>7.0</td>\n",
       "            <td>Oakland West</td>\n",
       "            <td>07/01/1994</td>\n",
       "            <td>None</td>\n",
       "        </tr>\n",
       "        <tr>\n",
       "            <td>1670278</td>\n",
       "            <td>Lake Elizabeth</td>\n",
       "            <td>Lake</td>\n",
       "            <td>CA</td>\n",
       "            <td>6</td>\n",
       "            <td>Alameda</td>\n",
       "            <td>1.0</td>\n",
       "            <td>373255N</td>\n",
       "            <td>1215742W</td>\n",
       "            <td>37.5487056</td>\n",
       "            <td>-121.9617554</td>\n",
       "            <td>None</td>\n",
       "            <td>None</td>\n",
       "            <td>None</td>\n",
       "            <td>None</td>\n",
       "            <td>16.0</td>\n",
       "            <td>52.0</td>\n",
       "            <td>Niles</td>\n",
       "            <td>11/09/1995</td>\n",
       "            <td>03/07/2019</td>\n",
       "        </tr>\n",
       "        <tr>\n",
       "            <td>1692819</td>\n",
       "            <td>California School for the Deaf - Fremont</td>\n",
       "            <td>School</td>\n",
       "            <td>CA</td>\n",
       "            <td>6</td>\n",
       "            <td>Alameda</td>\n",
       "            <td>1.0</td>\n",
       "            <td>373334N</td>\n",
       "            <td>1215747W</td>\n",
       "            <td>37.5593966</td>\n",
       "            <td>-121.9631843</td>\n",
       "            <td>None</td>\n",
       "            <td>None</td>\n",
       "            <td>None</td>\n",
       "            <td>None</td>\n",
       "            <td>20.0</td>\n",
       "            <td>66.0</td>\n",
       "            <td>Niles</td>\n",
       "            <td>05/08/1996</td>\n",
       "            <td>09/16/2016</td>\n",
       "        </tr>\n",
       "        <tr>\n",
       "            <td>1692863</td>\n",
       "            <td>J A Freitas Library</td>\n",
       "            <td>Building</td>\n",
       "            <td>CA</td>\n",
       "            <td>6</td>\n",
       "            <td>Alameda</td>\n",
       "            <td>1.0</td>\n",
       "            <td>374335N</td>\n",
       "            <td>1220925W</td>\n",
       "            <td>37.7263185</td>\n",
       "            <td>-122.1569101</td>\n",
       "            <td>None</td>\n",
       "            <td>None</td>\n",
       "            <td>None</td>\n",
       "            <td>None</td>\n",
       "            <td>19.0</td>\n",
       "            <td>62.0</td>\n",
       "            <td>San Leandro</td>\n",
       "            <td>05/08/1996</td>\n",
       "            <td>None</td>\n",
       "        </tr>\n",
       "        <tr>\n",
       "            <td>1693010</td>\n",
       "            <td>Alice Arts Center</td>\n",
       "            <td>Building</td>\n",
       "            <td>CA</td>\n",
       "            <td>6</td>\n",
       "            <td>Alameda</td>\n",
       "            <td>1.0</td>\n",
       "            <td>374812N</td>\n",
       "            <td>1221557W</td>\n",
       "            <td>37.8032611</td>\n",
       "            <td>-122.2658025</td>\n",
       "            <td>None</td>\n",
       "            <td>None</td>\n",
       "            <td>None</td>\n",
       "            <td>None</td>\n",
       "            <td>11.0</td>\n",
       "            <td>36.0</td>\n",
       "            <td>Oakland West</td>\n",
       "            <td>05/08/1996</td>\n",
       "            <td>None</td>\n",
       "        </tr>\n",
       "        <tr>\n",
       "            <td>1961816</td>\n",
       "            <td>New Pilgrim Congregational Church</td>\n",
       "            <td>Church</td>\n",
       "            <td>CA</td>\n",
       "            <td>6</td>\n",
       "            <td>Alameda</td>\n",
       "            <td>1.0</td>\n",
       "            <td>374622N</td>\n",
       "            <td>1221131W</td>\n",
       "            <td>37.7727061</td>\n",
       "            <td>-122.1919115</td>\n",
       "            <td>None</td>\n",
       "            <td>None</td>\n",
       "            <td>None</td>\n",
       "            <td>None</td>\n",
       "            <td>21.0</td>\n",
       "            <td>69.0</td>\n",
       "            <td>Oakland East</td>\n",
       "            <td>09/11/2002</td>\n",
       "            <td>None</td>\n",
       "        </tr>\n",
       "        <tr>\n",
       "            <td>1961871</td>\n",
       "            <td>First Southern Baptist Church</td>\n",
       "            <td>Church</td>\n",
       "            <td>CA</td>\n",
       "            <td>6</td>\n",
       "            <td>Alameda</td>\n",
       "            <td>1.0</td>\n",
       "            <td>374657N</td>\n",
       "            <td>1221401W</td>\n",
       "            <td>37.7824282</td>\n",
       "            <td>-122.2335796</td>\n",
       "            <td>None</td>\n",
       "            <td>None</td>\n",
       "            <td>None</td>\n",
       "            <td>None</td>\n",
       "            <td>11.0</td>\n",
       "            <td>36.0</td>\n",
       "            <td>Oakland East</td>\n",
       "            <td>09/11/2002</td>\n",
       "            <td>None</td>\n",
       "        </tr>\n",
       "        <tr>\n",
       "            <td>1962002</td>\n",
       "            <td>First Church of Christ Scientist</td>\n",
       "            <td>Church</td>\n",
       "            <td>CA</td>\n",
       "            <td>6</td>\n",
       "            <td>Alameda</td>\n",
       "            <td>1.0</td>\n",
       "            <td>374353N</td>\n",
       "            <td>1220931W</td>\n",
       "            <td>37.7313183</td>\n",
       "            <td>-122.1585769</td>\n",
       "            <td>None</td>\n",
       "            <td>None</td>\n",
       "            <td>None</td>\n",
       "            <td>None</td>\n",
       "            <td>19.0</td>\n",
       "            <td>62.0</td>\n",
       "            <td>San Leandro</td>\n",
       "            <td>09/11/2002</td>\n",
       "            <td>None</td>\n",
       "        </tr>\n",
       "        <tr>\n",
       "            <td>2087391</td>\n",
       "            <td>First Presbyterian Church</td>\n",
       "            <td>Church</td>\n",
       "            <td>CA</td>\n",
       "            <td>6</td>\n",
       "            <td>Alameda</td>\n",
       "            <td>1.0</td>\n",
       "            <td>373254N</td>\n",
       "            <td>1220238W</td>\n",
       "            <td>37.5483333</td>\n",
       "            <td>-122.0438889</td>\n",
       "            <td>None</td>\n",
       "            <td>None</td>\n",
       "            <td>None</td>\n",
       "            <td>None</td>\n",
       "            <td>7.0</td>\n",
       "            <td>23.0</td>\n",
       "            <td>Newark</td>\n",
       "            <td>05/22/2006</td>\n",
       "            <td>None</td>\n",
       "        </tr>\n",
       "    </tbody>\n",
       "</table>\n",
       "<span style=\"font-style:italic;text-align:center;\">Truncated to <a href=\"https://jupysql.ploomber.io/en/latest/api/configuration.html#displaylimit\">displaylimit</a> of 15.</span>"
      ],
      "text/plain": [
       "+------------+------------------------------------------+---------------+-------------+---------------+-------------+----------------+-----------------+---------------+--------------+---------------+----------------+-----------------+----------------+-----------------+-----------+------------+-----------------+--------------+-------------+\n",
       "| feature_id |               feature_name               | feature_class | state_alpha | state_numeric | county_name | county_numeric | primary_lat_dms | prim_long_dms | prim_lat_dec | prim_long_dec | source_lat_dms | source_long_dms | source_lat_dec | source_long_dec | elev_in_m | elev_in_ft |     map_name    | date_created | date_edited |\n",
       "+------------+------------------------------------------+---------------+-------------+---------------+-------------+----------------+-----------------+---------------+--------------+---------------+----------------+-----------------+----------------+-----------------+-----------+------------+-----------------+--------------+-------------+\n",
       "|   218316   |              Apperson Creek              |     Stream    |      CA     |       6       |   Alameda   |      1.0       |     373349N     |    1215000W   |  37.5635453  |  -121.8332887 |    373232N     |     1214804W    |   37.5422222   |   -121.8011111  |   148.0   |   486.0    | La Costa Valley |  01/19/1981  |     None    |\n",
       "|   225998   |          Irvington High School           |     School    |      CA     |       6       |   Alameda   |      1.0       |     373126N     |    1215801W   |  37.523814   |  -121.9670659 |      None      |       None      |      None      |       None      |    13.0   |    43.0    |      Niles      |  01/19/1981  |  03/31/2021 |\n",
       "|   226951   |         Laurel Elementary School         |     School    |      CA     |       6       |   Alameda   |      1.0       |     374734N     |    1221147W   |  37.792899   |  -122.1964288 |      None      |       None      |      None      |       None      |    68.0   |   223.0    |   Oakland East  |  06/14/2000  |  03/14/2021 |\n",
       "|   229367   |         Murray Elementary School         |     School    |      CA     |       6       |   Alameda   |      1.0       |     374318N     |    1215557W   |  37.721801   |  -121.9326269 |      None      |       None      |      None      |       None      |   112.0   |   367.0    |      Dublin     |  01/19/1981  |  03/14/2021 |\n",
       "|   235581   |             Strawberry Creek             |     Stream    |      CA     |       6       |   Alameda   |      1.0       |     375221N     |    1221443W   |  37.8724258  |  -122.2452464 |    375251N     |     1221354W    |   37.8807588   |   -122.2316349  |   154.0   |   505.0    |   Oakland East  |  01/19/1981  |  08/31/2016 |\n",
       "|  1654274   |           Hayward Golf Course            |     Locale    |      CA     |       6       |   Alameda   |      1.0       |     373726N     |    1220250W   |  37.6238222  |  -122.0471843 |      None      |       None      |      None      |       None      |    5.0    |    16.0    |      Newark     |  01/19/1981  |     None    |\n",
       "|  1664964   |           KOFY-AM (San Mateo)            |     Tower     |      CA     |       6       |   Alameda   |      1.0       |     374934N     |    1221842W   |  37.8260385  |  -122.3116366 |      None      |       None      |      None      |       None      |    2.0    |    7.0     |   Oakland West  |  07/01/1994  |     None    |\n",
       "|  1670278   |              Lake Elizabeth              |      Lake     |      CA     |       6       |   Alameda   |      1.0       |     373255N     |    1215742W   |  37.5487056  |  -121.9617554 |      None      |       None      |      None      |       None      |    16.0   |    52.0    |      Niles      |  11/09/1995  |  03/07/2019 |\n",
       "|  1692819   | California School for the Deaf - Fremont |     School    |      CA     |       6       |   Alameda   |      1.0       |     373334N     |    1215747W   |  37.5593966  |  -121.9631843 |      None      |       None      |      None      |       None      |    20.0   |    66.0    |      Niles      |  05/08/1996  |  09/16/2016 |\n",
       "|  1692863   |           J A Freitas Library            |    Building   |      CA     |       6       |   Alameda   |      1.0       |     374335N     |    1220925W   |  37.7263185  |  -122.1569101 |      None      |       None      |      None      |       None      |    19.0   |    62.0    |   San Leandro   |  05/08/1996  |     None    |\n",
       "|  1693010   |            Alice Arts Center             |    Building   |      CA     |       6       |   Alameda   |      1.0       |     374812N     |    1221557W   |  37.8032611  |  -122.2658025 |      None      |       None      |      None      |       None      |    11.0   |    36.0    |   Oakland West  |  05/08/1996  |     None    |\n",
       "|  1961816   |    New Pilgrim Congregational Church     |     Church    |      CA     |       6       |   Alameda   |      1.0       |     374622N     |    1221131W   |  37.7727061  |  -122.1919115 |      None      |       None      |      None      |       None      |    21.0   |    69.0    |   Oakland East  |  09/11/2002  |     None    |\n",
       "|  1961871   |      First Southern Baptist Church       |     Church    |      CA     |       6       |   Alameda   |      1.0       |     374657N     |    1221401W   |  37.7824282  |  -122.2335796 |      None      |       None      |      None      |       None      |    11.0   |    36.0    |   Oakland East  |  09/11/2002  |     None    |\n",
       "|  1962002   |     First Church of Christ Scientist     |     Church    |      CA     |       6       |   Alameda   |      1.0       |     374353N     |    1220931W   |  37.7313183  |  -122.1585769 |      None      |       None      |      None      |       None      |    19.0   |    62.0    |   San Leandro   |  09/11/2002  |     None    |\n",
       "|  2087391   |        First Presbyterian Church         |     Church    |      CA     |       6       |   Alameda   |      1.0       |     373254N     |    1220238W   |  37.5483333  |  -122.0438889 |      None      |       None      |      None      |       None      |    7.0    |    23.0    |      Newark     |  05/22/2006  |     None    |\n",
       "+------------+------------------------------------------+---------------+-------------+---------------+-------------+----------------+-----------------+---------------+--------------+---------------+----------------+-----------------+----------------+-----------------+-----------+------------+-----------------+--------------+-------------+\n",
       "Truncated to displaylimit of 15."
      ]
     },
     "execution_count": 6,
     "metadata": {},
     "output_type": "execute_result"
    }
   ],
   "source": [
    "%sql SELECT * FROM national WHERE county_name = 'Alameda';"
   ]
  },
  {
   "cell_type": "code",
   "execution_count": 7,
   "id": "d30a2055-c81b-4f07-a61a-35241a510adc",
   "metadata": {},
   "outputs": [
    {
     "data": {
      "text/html": [
       "<span style=\"None\">Running query in &#x27;postgresql://localhost:5432/gnis&#x27;</span>"
      ],
      "text/plain": [
       "Running query in 'postgresql://localhost:5432/gnis'"
      ]
     },
     "metadata": {},
     "output_type": "display_data"
    },
    {
     "data": {
      "text/html": [
       "<span style=\"color: green\">1156 rows affected.</span>"
      ],
      "text/plain": [
       "1156 rows affected."
      ]
     },
     "metadata": {},
     "output_type": "display_data"
    },
    {
     "data": {
      "text/html": [
       "<table>\n",
       "    <thead>\n",
       "        <tr>\n",
       "            <th>feature_id</th>\n",
       "            <th>feature_name</th>\n",
       "            <th>feature_class</th>\n",
       "            <th>state_alpha</th>\n",
       "            <th>state_numeric</th>\n",
       "            <th>county_name</th>\n",
       "            <th>county_numeric</th>\n",
       "            <th>primary_lat_dms</th>\n",
       "            <th>prim_long_dms</th>\n",
       "            <th>prim_lat_dec</th>\n",
       "            <th>prim_long_dec</th>\n",
       "            <th>source_lat_dms</th>\n",
       "            <th>source_long_dms</th>\n",
       "            <th>source_lat_dec</th>\n",
       "            <th>source_long_dec</th>\n",
       "            <th>elev_in_m</th>\n",
       "            <th>elev_in_ft</th>\n",
       "            <th>map_name</th>\n",
       "            <th>date_created</th>\n",
       "            <th>date_edited</th>\n",
       "        </tr>\n",
       "    </thead>\n",
       "    <tbody>\n",
       "        <tr>\n",
       "            <td>8884</td>\n",
       "            <td>Oak Spring</td>\n",
       "            <td>Spring</td>\n",
       "            <td>AZ</td>\n",
       "            <td>4</td>\n",
       "            <td>Mohave</td>\n",
       "            <td>15.0</td>\n",
       "            <td>364903N</td>\n",
       "            <td>1133510W</td>\n",
       "            <td>36.8174811</td>\n",
       "            <td>-113.5860693</td>\n",
       "            <td>None</td>\n",
       "            <td>None</td>\n",
       "            <td>None</td>\n",
       "            <td>None</td>\n",
       "            <td>1605.0</td>\n",
       "            <td>5266.0</td>\n",
       "            <td>Wolf Hole Mountain East</td>\n",
       "            <td>02/08/1980</td>\n",
       "            <td>None</td>\n",
       "        </tr>\n",
       "        <tr>\n",
       "            <td>13332</td>\n",
       "            <td>Walthenberg Rapids</td>\n",
       "            <td>Rapids</td>\n",
       "            <td>AZ</td>\n",
       "            <td>4</td>\n",
       "            <td>Coconino</td>\n",
       "            <td>5.0</td>\n",
       "            <td>361418N</td>\n",
       "            <td>1122425W</td>\n",
       "            <td>36.2383651</td>\n",
       "            <td>-112.4068345</td>\n",
       "            <td>None</td>\n",
       "            <td>None</td>\n",
       "            <td>None</td>\n",
       "            <td>None</td>\n",
       "            <td>657.0</td>\n",
       "            <td>2155.0</td>\n",
       "            <td>Explorers Monument</td>\n",
       "            <td>02/08/1980</td>\n",
       "            <td>06/07/2011</td>\n",
       "        </tr>\n",
       "        <tr>\n",
       "            <td>13547</td>\n",
       "            <td>West Well</td>\n",
       "            <td>Well</td>\n",
       "            <td>AZ</td>\n",
       "            <td>4</td>\n",
       "            <td>Navajo</td>\n",
       "            <td>17.0</td>\n",
       "            <td>350208N</td>\n",
       "            <td>1102857W</td>\n",
       "            <td>35.0355772</td>\n",
       "            <td>-110.4826281</td>\n",
       "            <td>None</td>\n",
       "            <td>None</td>\n",
       "            <td>None</td>\n",
       "            <td>None</td>\n",
       "            <td>1517.0</td>\n",
       "            <td>4977.0</td>\n",
       "            <td>Humpy Camp Well</td>\n",
       "            <td>02/08/1980</td>\n",
       "            <td>03/27/2018</td>\n",
       "        </tr>\n",
       "        <tr>\n",
       "            <td>22969</td>\n",
       "            <td>Gyp Reservoir</td>\n",
       "            <td>Reservoir</td>\n",
       "            <td>AZ</td>\n",
       "            <td>4</td>\n",
       "            <td>Mohave</td>\n",
       "            <td>15.0</td>\n",
       "            <td>363523N</td>\n",
       "            <td>1132033W</td>\n",
       "            <td>36.5896972</td>\n",
       "            <td>-113.3426134</td>\n",
       "            <td>None</td>\n",
       "            <td>None</td>\n",
       "            <td>None</td>\n",
       "            <td>None</td>\n",
       "            <td>1463.0</td>\n",
       "            <td>4800.0</td>\n",
       "            <td>Russell Spring</td>\n",
       "            <td>06/27/1984</td>\n",
       "            <td>03/16/2019</td>\n",
       "        </tr>\n",
       "        <tr>\n",
       "            <td>24724</td>\n",
       "            <td>Bethany Villa Adult Mobile Home Park</td>\n",
       "            <td>Populated Place</td>\n",
       "            <td>AZ</td>\n",
       "            <td>4</td>\n",
       "            <td>Maricopa</td>\n",
       "            <td>13.0</td>\n",
       "            <td>333134N</td>\n",
       "            <td>1120951W</td>\n",
       "            <td>33.5261527</td>\n",
       "            <td>-112.1640412</td>\n",
       "            <td>None</td>\n",
       "            <td>None</td>\n",
       "            <td>None</td>\n",
       "            <td>None</td>\n",
       "            <td>352.0</td>\n",
       "            <td>1155.0</td>\n",
       "            <td>Glendale</td>\n",
       "            <td>06/27/1984</td>\n",
       "            <td>None</td>\n",
       "        </tr>\n",
       "        <tr>\n",
       "            <td>24774</td>\n",
       "            <td>Central Ridge</td>\n",
       "            <td>Populated Place</td>\n",
       "            <td>AZ</td>\n",
       "            <td>4</td>\n",
       "            <td>Maricopa</td>\n",
       "            <td>13.0</td>\n",
       "            <td>331910N</td>\n",
       "            <td>1115312W</td>\n",
       "            <td>33.3194929</td>\n",
       "            <td>-111.8865296</td>\n",
       "            <td>None</td>\n",
       "            <td>None</td>\n",
       "            <td>None</td>\n",
       "            <td>None</td>\n",
       "            <td>364.0</td>\n",
       "            <td>1194.0</td>\n",
       "            <td>Guadalupe</td>\n",
       "            <td>06/27/1984</td>\n",
       "            <td>None</td>\n",
       "        </tr>\n",
       "        <tr>\n",
       "            <td>25467</td>\n",
       "            <td>Caterpillar Tank Wash</td>\n",
       "            <td>Stream</td>\n",
       "            <td>AZ</td>\n",
       "            <td>4</td>\n",
       "            <td>Maricopa</td>\n",
       "            <td>13.0</td>\n",
       "            <td>334332N</td>\n",
       "            <td>1121738W</td>\n",
       "            <td>33.725592</td>\n",
       "            <td>-112.2937718</td>\n",
       "            <td>334749N</td>\n",
       "            <td>1121933W</td>\n",
       "            <td>33.7969796</td>\n",
       "            <td>-112.3257187</td>\n",
       "            <td>384.0</td>\n",
       "            <td>1260.0</td>\n",
       "            <td>Calderwood Butte</td>\n",
       "            <td>11/01/1992</td>\n",
       "            <td>None</td>\n",
       "        </tr>\n",
       "        <tr>\n",
       "            <td>28394</td>\n",
       "            <td>Deer Spring Mountain</td>\n",
       "            <td>Summit</td>\n",
       "            <td>AZ</td>\n",
       "            <td>4</td>\n",
       "            <td>Navajo</td>\n",
       "            <td>17.0</td>\n",
       "            <td>340039N</td>\n",
       "            <td>1095831W</td>\n",
       "            <td>34.0107604</td>\n",
       "            <td>-109.9752047</td>\n",
       "            <td>None</td>\n",
       "            <td>None</td>\n",
       "            <td>None</td>\n",
       "            <td>None</td>\n",
       "            <td>2269.0</td>\n",
       "            <td>7444.0</td>\n",
       "            <td>Indian Pine</td>\n",
       "            <td>02/08/1980</td>\n",
       "            <td>08/16/2021</td>\n",
       "        </tr>\n",
       "        <tr>\n",
       "            <td>31214</td>\n",
       "            <td>Lone Pine Tank</td>\n",
       "            <td>Reservoir</td>\n",
       "            <td>AZ</td>\n",
       "            <td>4</td>\n",
       "            <td>Coconino</td>\n",
       "            <td>5.0</td>\n",
       "            <td>343219N</td>\n",
       "            <td>1113022W</td>\n",
       "            <td>34.5386834</td>\n",
       "            <td>-111.5059796</td>\n",
       "            <td>None</td>\n",
       "            <td>None</td>\n",
       "            <td>None</td>\n",
       "            <td>None</td>\n",
       "            <td>1949.0</td>\n",
       "            <td>6394.0</td>\n",
       "            <td>Buckhorn Mountain</td>\n",
       "            <td>02/08/1980</td>\n",
       "            <td>03/19/2019</td>\n",
       "        </tr>\n",
       "        <tr>\n",
       "            <td>31270</td>\n",
       "            <td>Lons Canyon</td>\n",
       "            <td>Valley</td>\n",
       "            <td>AZ</td>\n",
       "            <td>4</td>\n",
       "            <td>Navajo</td>\n",
       "            <td>17.0</td>\n",
       "            <td>341558N</td>\n",
       "            <td>1101409W</td>\n",
       "            <td>34.266067</td>\n",
       "            <td>-110.2358535</td>\n",
       "            <td>341621N</td>\n",
       "            <td>1101728W</td>\n",
       "            <td>34.2724081</td>\n",
       "            <td>-110.2910287</td>\n",
       "            <td>1980.0</td>\n",
       "            <td>6496.0</td>\n",
       "            <td>Pinedale</td>\n",
       "            <td>02/08/1980</td>\n",
       "            <td>03/09/2021</td>\n",
       "        </tr>\n",
       "        <tr>\n",
       "            <td>34717</td>\n",
       "            <td>Sponseller</td>\n",
       "            <td>Populated Place</td>\n",
       "            <td>AZ</td>\n",
       "            <td>4</td>\n",
       "            <td>Navajo</td>\n",
       "            <td>17.0</td>\n",
       "            <td>341147N</td>\n",
       "            <td>1095314W</td>\n",
       "            <td>34.1964322</td>\n",
       "            <td>-109.8873275</td>\n",
       "            <td>None</td>\n",
       "            <td>None</td>\n",
       "            <td>None</td>\n",
       "            <td>None</td>\n",
       "            <td>2159.0</td>\n",
       "            <td>7083.0</td>\n",
       "            <td>Lakeside</td>\n",
       "            <td>02/08/1980</td>\n",
       "            <td>None</td>\n",
       "        </tr>\n",
       "        <tr>\n",
       "            <td>35236</td>\n",
       "            <td>The Park</td>\n",
       "            <td>Flat</td>\n",
       "            <td>AZ</td>\n",
       "            <td>4</td>\n",
       "            <td>Yavapai</td>\n",
       "            <td>25.0</td>\n",
       "            <td>340855N</td>\n",
       "            <td>1112955W</td>\n",
       "            <td>34.1486467</td>\n",
       "            <td>-111.4984726</td>\n",
       "            <td>None</td>\n",
       "            <td>None</td>\n",
       "            <td>None</td>\n",
       "            <td>None</td>\n",
       "            <td>1799.0</td>\n",
       "            <td>5902.0</td>\n",
       "            <td>North Peak</td>\n",
       "            <td>02/08/1980</td>\n",
       "            <td>None</td>\n",
       "        </tr>\n",
       "        <tr>\n",
       "            <td>35299</td>\n",
       "            <td>Three Wall Tank</td>\n",
       "            <td>Reservoir</td>\n",
       "            <td>AZ</td>\n",
       "            <td>4</td>\n",
       "            <td>Yavapai</td>\n",
       "            <td>25.0</td>\n",
       "            <td>344301N</td>\n",
       "            <td>1113555W</td>\n",
       "            <td>34.7168422</td>\n",
       "            <td>-111.5985837</td>\n",
       "            <td>None</td>\n",
       "            <td>None</td>\n",
       "            <td>None</td>\n",
       "            <td>None</td>\n",
       "            <td>1820.0</td>\n",
       "            <td>5971.0</td>\n",
       "            <td>Apache Maid Mountain</td>\n",
       "            <td>02/08/1980</td>\n",
       "            <td>03/20/2019</td>\n",
       "        </tr>\n",
       "        <tr>\n",
       "            <td>36349</td>\n",
       "            <td>Witty Tom Tank</td>\n",
       "            <td>Reservoir</td>\n",
       "            <td>AZ</td>\n",
       "            <td>4</td>\n",
       "            <td>Yavapai</td>\n",
       "            <td>25.0</td>\n",
       "            <td>345711N</td>\n",
       "            <td>1121324W</td>\n",
       "            <td>34.9530451</td>\n",
       "            <td>-112.2232739</td>\n",
       "            <td>None</td>\n",
       "            <td>None</td>\n",
       "            <td>None</td>\n",
       "            <td>None</td>\n",
       "            <td>1350.0</td>\n",
       "            <td>4429.0</td>\n",
       "            <td>Perkinsville</td>\n",
       "            <td>02/08/1980</td>\n",
       "            <td>03/20/2019</td>\n",
       "        </tr>\n",
       "        <tr>\n",
       "            <td>37895</td>\n",
       "            <td>Lawson Mine</td>\n",
       "            <td>Mine</td>\n",
       "            <td>AZ</td>\n",
       "            <td>4</td>\n",
       "            <td>Coconino</td>\n",
       "            <td>5.0</td>\n",
       "            <td>352129N</td>\n",
       "            <td>1122633W</td>\n",
       "            <td>35.358062</td>\n",
       "            <td>-112.4423988</td>\n",
       "            <td>None</td>\n",
       "            <td>None</td>\n",
       "            <td>None</td>\n",
       "            <td>None</td>\n",
       "            <td>1780.0</td>\n",
       "            <td>5840.0</td>\n",
       "            <td>Fitzgerald Hill</td>\n",
       "            <td>06/27/1984</td>\n",
       "            <td>None</td>\n",
       "        </tr>\n",
       "    </tbody>\n",
       "</table>\n",
       "<span style=\"font-style:italic;text-align:center;\">Truncated to <a href=\"https://jupysql.ploomber.io/en/latest/api/configuration.html#displaylimit\">displaylimit</a> of 15.</span>"
      ],
      "text/plain": [
       "+------------+--------------------------------------+-----------------+-------------+---------------+-------------+----------------+-----------------+---------------+--------------+---------------+----------------+-----------------+----------------+-----------------+-----------+------------+-------------------------+--------------+-------------+\n",
       "| feature_id |             feature_name             |  feature_class  | state_alpha | state_numeric | county_name | county_numeric | primary_lat_dms | prim_long_dms | prim_lat_dec | prim_long_dec | source_lat_dms | source_long_dms | source_lat_dec | source_long_dec | elev_in_m | elev_in_ft |         map_name        | date_created | date_edited |\n",
       "+------------+--------------------------------------+-----------------+-------------+---------------+-------------+----------------+-----------------+---------------+--------------+---------------+----------------+-----------------+----------------+-----------------+-----------+------------+-------------------------+--------------+-------------+\n",
       "|    8884    |              Oak Spring              |      Spring     |      AZ     |       4       |    Mohave   |      15.0      |     364903N     |    1133510W   |  36.8174811  |  -113.5860693 |      None      |       None      |      None      |       None      |   1605.0  |   5266.0   | Wolf Hole Mountain East |  02/08/1980  |     None    |\n",
       "|   13332    |          Walthenberg Rapids          |      Rapids     |      AZ     |       4       |   Coconino  |      5.0       |     361418N     |    1122425W   |  36.2383651  |  -112.4068345 |      None      |       None      |      None      |       None      |   657.0   |   2155.0   |    Explorers Monument   |  02/08/1980  |  06/07/2011 |\n",
       "|   13547    |              West Well               |       Well      |      AZ     |       4       |    Navajo   |      17.0      |     350208N     |    1102857W   |  35.0355772  |  -110.4826281 |      None      |       None      |      None      |       None      |   1517.0  |   4977.0   |     Humpy Camp Well     |  02/08/1980  |  03/27/2018 |\n",
       "|   22969    |            Gyp Reservoir             |    Reservoir    |      AZ     |       4       |    Mohave   |      15.0      |     363523N     |    1132033W   |  36.5896972  |  -113.3426134 |      None      |       None      |      None      |       None      |   1463.0  |   4800.0   |      Russell Spring     |  06/27/1984  |  03/16/2019 |\n",
       "|   24724    | Bethany Villa Adult Mobile Home Park | Populated Place |      AZ     |       4       |   Maricopa  |      13.0      |     333134N     |    1120951W   |  33.5261527  |  -112.1640412 |      None      |       None      |      None      |       None      |   352.0   |   1155.0   |         Glendale        |  06/27/1984  |     None    |\n",
       "|   24774    |            Central Ridge             | Populated Place |      AZ     |       4       |   Maricopa  |      13.0      |     331910N     |    1115312W   |  33.3194929  |  -111.8865296 |      None      |       None      |      None      |       None      |   364.0   |   1194.0   |        Guadalupe        |  06/27/1984  |     None    |\n",
       "|   25467    |        Caterpillar Tank Wash         |      Stream     |      AZ     |       4       |   Maricopa  |      13.0      |     334332N     |    1121738W   |  33.725592   |  -112.2937718 |    334749N     |     1121933W    |   33.7969796   |   -112.3257187  |   384.0   |   1260.0   |     Calderwood Butte    |  11/01/1992  |     None    |\n",
       "|   28394    |         Deer Spring Mountain         |      Summit     |      AZ     |       4       |    Navajo   |      17.0      |     340039N     |    1095831W   |  34.0107604  |  -109.9752047 |      None      |       None      |      None      |       None      |   2269.0  |   7444.0   |       Indian Pine       |  02/08/1980  |  08/16/2021 |\n",
       "|   31214    |            Lone Pine Tank            |    Reservoir    |      AZ     |       4       |   Coconino  |      5.0       |     343219N     |    1113022W   |  34.5386834  |  -111.5059796 |      None      |       None      |      None      |       None      |   1949.0  |   6394.0   |    Buckhorn Mountain    |  02/08/1980  |  03/19/2019 |\n",
       "|   31270    |             Lons Canyon              |      Valley     |      AZ     |       4       |    Navajo   |      17.0      |     341558N     |    1101409W   |  34.266067   |  -110.2358535 |    341621N     |     1101728W    |   34.2724081   |   -110.2910287  |   1980.0  |   6496.0   |         Pinedale        |  02/08/1980  |  03/09/2021 |\n",
       "|   34717    |              Sponseller              | Populated Place |      AZ     |       4       |    Navajo   |      17.0      |     341147N     |    1095314W   |  34.1964322  |  -109.8873275 |      None      |       None      |      None      |       None      |   2159.0  |   7083.0   |         Lakeside        |  02/08/1980  |     None    |\n",
       "|   35236    |               The Park               |       Flat      |      AZ     |       4       |   Yavapai   |      25.0      |     340855N     |    1112955W   |  34.1486467  |  -111.4984726 |      None      |       None      |      None      |       None      |   1799.0  |   5902.0   |        North Peak       |  02/08/1980  |     None    |\n",
       "|   35299    |           Three Wall Tank            |    Reservoir    |      AZ     |       4       |   Yavapai   |      25.0      |     344301N     |    1113555W   |  34.7168422  |  -111.5985837 |      None      |       None      |      None      |       None      |   1820.0  |   5971.0   |   Apache Maid Mountain  |  02/08/1980  |  03/20/2019 |\n",
       "|   36349    |            Witty Tom Tank            |    Reservoir    |      AZ     |       4       |   Yavapai   |      25.0      |     345711N     |    1121324W   |  34.9530451  |  -112.2232739 |      None      |       None      |      None      |       None      |   1350.0  |   4429.0   |       Perkinsville      |  02/08/1980  |  03/20/2019 |\n",
       "|   37895    |             Lawson Mine              |       Mine      |      AZ     |       4       |   Coconino  |      5.0       |     352129N     |    1122633W   |  35.358062   |  -112.4423988 |      None      |       None      |      None      |       None      |   1780.0  |   5840.0   |     Fitzgerald Hill     |  06/27/1984  |     None    |\n",
       "+------------+--------------------------------------+-----------------+-------------+---------------+-------------+----------------+-----------------+---------------+--------------+---------------+----------------+-----------------+----------------+-----------------+-----------+------------+-------------------------+--------------+-------------+\n",
       "Truncated to displaylimit of 15."
      ]
     },
     "execution_count": 7,
     "metadata": {},
     "output_type": "execute_result"
    }
   ],
   "source": [
    "%%sql\n",
    "SELECT *\n",
    "FROM national TABLESAMPLE BERNOULLI(10);"
   ]
  },
  {
   "cell_type": "markdown",
   "id": "cf7cebdb-246f-4f0e-8022-679e107979f7",
   "metadata": {},
   "source": [
    "# [At Home] Numerical Granularity"
   ]
  },
  {
   "cell_type": "code",
   "execution_count": 10,
   "id": "d22b320d-e7e7-4a7a-8c1b-6c4bc58963b4",
   "metadata": {},
   "outputs": [
    {
     "data": {
      "text/html": [
       "<span style=\"None\">Running query in &#x27;postgresql://localhost:5432/gnis&#x27;</span>"
      ],
      "text/plain": [
       "Running query in 'postgresql://localhost:5432/gnis'"
      ]
     },
     "metadata": {},
     "output_type": "display_data"
    },
    {
     "data": {
      "text/html": [
       "<span style=\"color: green\">2 rows affected.</span>"
      ],
      "text/plain": [
       "2 rows affected."
      ]
     },
     "metadata": {},
     "output_type": "display_data"
    },
    {
     "data": {
      "text/html": [
       "<table>\n",
       "    <thead>\n",
       "        <tr>\n",
       "            <th>elev_in_m</th>\n",
       "        </tr>\n",
       "    </thead>\n",
       "    <tbody>\n",
       "        <tr>\n",
       "            <td>931.0</td>\n",
       "        </tr>\n",
       "        <tr>\n",
       "            <td>2707.0</td>\n",
       "        </tr>\n",
       "    </tbody>\n",
       "</table>"
      ],
      "text/plain": [
       "+-----------+\n",
       "| elev_in_m |\n",
       "+-----------+\n",
       "|   931.0   |\n",
       "|   2707.0  |\n",
       "+-----------+"
      ]
     },
     "execution_count": 10,
     "metadata": {},
     "output_type": "execute_result"
    }
   ],
   "source": [
    "%sql SELECT elev_in_m FROM National LIMIT 2;"
   ]
  },
  {
   "cell_type": "code",
   "execution_count": 11,
   "id": "8e80edb1-1cf4-4992-b0d9-142291aa63df",
   "metadata": {},
   "outputs": [
    {
     "data": {
      "text/html": [
       "<span style=\"None\">Running query in &#x27;postgresql://localhost:5432/gnis&#x27;</span>"
      ],
      "text/plain": [
       "Running query in 'postgresql://localhost:5432/gnis'"
      ]
     },
     "metadata": {},
     "output_type": "display_data"
    },
    {
     "data": {
      "text/html": [
       "<span style=\"color: green\">5 rows affected.</span>"
      ],
      "text/plain": [
       "5 rows affected."
      ]
     },
     "metadata": {},
     "output_type": "display_data"
    },
    {
     "data": {
      "text/html": [
       "<table>\n",
       "    <thead>\n",
       "        <tr>\n",
       "            <th>elev_in_m</th>\n",
       "            <th>quantized</th>\n",
       "            <th>round_to_100</th>\n",
       "            <th>substring</th>\n",
       "            <th>substring2</th>\n",
       "        </tr>\n",
       "    </thead>\n",
       "    <tbody>\n",
       "        <tr>\n",
       "            <td>931.0</td>\n",
       "            <td>9</td>\n",
       "            <td>900</td>\n",
       "            <td>93</td>\n",
       "            <td>9300</td>\n",
       "        </tr>\n",
       "        <tr>\n",
       "            <td>2707.0</td>\n",
       "            <td>27</td>\n",
       "            <td>2700</td>\n",
       "            <td>27</td>\n",
       "            <td>2700</td>\n",
       "        </tr>\n",
       "        <tr>\n",
       "            <td>275.0</td>\n",
       "            <td>3</td>\n",
       "            <td>300</td>\n",
       "            <td>27</td>\n",
       "            <td>2700</td>\n",
       "        </tr>\n",
       "        <tr>\n",
       "            <td>1685.0</td>\n",
       "            <td>17</td>\n",
       "            <td>1700</td>\n",
       "            <td>16</td>\n",
       "            <td>1600</td>\n",
       "        </tr>\n",
       "        <tr>\n",
       "            <td>1354.0</td>\n",
       "            <td>14</td>\n",
       "            <td>1400</td>\n",
       "            <td>13</td>\n",
       "            <td>1300</td>\n",
       "        </tr>\n",
       "    </tbody>\n",
       "</table>"
      ],
      "text/plain": [
       "+-----------+-----------+--------------+-----------+------------+\n",
       "| elev_in_m | quantized | round_to_100 | substring | substring2 |\n",
       "+-----------+-----------+--------------+-----------+------------+\n",
       "|   931.0   |     9     |     900      |     93    |    9300    |\n",
       "|   2707.0  |     27    |     2700     |     27    |    2700    |\n",
       "|   275.0   |     3     |     300      |     27    |    2700    |\n",
       "|   1685.0  |     17    |     1700     |     16    |    1600    |\n",
       "|   1354.0  |     14    |     1400     |     13    |    1300    |\n",
       "+-----------+-----------+--------------+-----------+------------+"
      ]
     },
     "execution_count": 11,
     "metadata": {},
     "output_type": "execute_result"
    }
   ],
   "source": [
    "%%sql\n",
    "SELECT elev_in_m, \n",
    "    (elev_in_m / 100)::INTEGER AS quantized,\n",
    "    ((elev_in_m / 100)::INTEGER) * 100 AS round_to_100,\n",
    "    SUBSTRING(elev_in_m::TEXT, 1, 2),\n",
    "    CONCAT(SUBSTRING(elev_in_m::TEXT, 1, 2), '00') AS substring2\n",
    "FROM National\n",
    "LIMIT 5;"
   ]
  },
  {
   "cell_type": "code",
   "execution_count": 12,
   "id": "6b519edc-61b0-4e14-9f6b-d90bd25e3010",
   "metadata": {},
   "outputs": [
    {
     "name": "stderr",
     "output_type": "stream",
     "text": [
      "/srv/conda/envs/notebook/lib/python3.11/site-packages/sql/traits.py:20: FutureWarning: named_parameters: boolean values are now deprecated. Value True will be treated as \"enabled\". \n",
      "Please use a valid option: \"warn\", \"enabled\", or \"disabled\". \n",
      "For more information, see the docs: https://jupysql.ploomber.io/en/latest/api/configuration.html#named-parameters\n",
      "  warnings.warn(\n"
     ]
    }
   ],
   "source": [
    "%config SqlMagic.named_parameters=True"
   ]
  },
  {
   "cell_type": "raw",
   "id": "d7891c14-1bb1-4588-a9eb-50344f7baa57",
   "metadata": {
    "scrolled": true
   },
   "source": [
    "%%sql\n",
    "/* does not run in jupysql b/c of <<. copy into psql  */\n",
    "    SELECT elev_in_m,\n",
    "    (16::INTEGER::BIT(12)) AS bit12, \n",
    "    (16::INTEGER::BIT(12)) << 3\n",
    "FROM national\n",
    "LIMIT 5;"
   ]
  },
  {
   "cell_type": "code",
   "execution_count": 14,
   "id": "4664da02-2f61-4c1e-9b9c-c058d52b2816",
   "metadata": {},
   "outputs": [],
   "source": [
    "right_shift = '>>'\n",
    "left_shift = '<<'"
   ]
  },
  {
   "cell_type": "code",
   "execution_count": 15,
   "id": "ba65b808-68b3-4d4f-a3fa-13e273a5bc8e",
   "metadata": {},
   "outputs": [
    {
     "data": {
      "text/html": [
       "<span style=\"None\">Running query in &#x27;postgresql://localhost:5432/gnis&#x27;</span>"
      ],
      "text/plain": [
       "Running query in 'postgresql://localhost:5432/gnis'"
      ]
     },
     "metadata": {},
     "output_type": "display_data"
    },
    {
     "data": {
      "text/html": [
       "<span style=\"color: green\">5 rows affected.</span>"
      ],
      "text/plain": [
       "5 rows affected."
      ]
     },
     "metadata": {},
     "output_type": "display_data"
    },
    {
     "data": {
      "text/html": [
       "<table>\n",
       "    <thead>\n",
       "        <tr>\n",
       "            <th>elev_in_m</th>\n",
       "            <th>bit12</th>\n",
       "            <th>?column?</th>\n",
       "        </tr>\n",
       "    </thead>\n",
       "    <tbody>\n",
       "        <tr>\n",
       "            <td>931.0</td>\n",
       "            <td>000000010000</td>\n",
       "            <td>000010000000</td>\n",
       "        </tr>\n",
       "        <tr>\n",
       "            <td>2707.0</td>\n",
       "            <td>000000010000</td>\n",
       "            <td>000010000000</td>\n",
       "        </tr>\n",
       "        <tr>\n",
       "            <td>275.0</td>\n",
       "            <td>000000010000</td>\n",
       "            <td>000010000000</td>\n",
       "        </tr>\n",
       "        <tr>\n",
       "            <td>1685.0</td>\n",
       "            <td>000000010000</td>\n",
       "            <td>000010000000</td>\n",
       "        </tr>\n",
       "        <tr>\n",
       "            <td>1354.0</td>\n",
       "            <td>000000010000</td>\n",
       "            <td>000010000000</td>\n",
       "        </tr>\n",
       "    </tbody>\n",
       "</table>"
      ],
      "text/plain": [
       "+-----------+--------------+--------------+\n",
       "| elev_in_m |    bit12     |   ?column?   |\n",
       "+-----------+--------------+--------------+\n",
       "|   931.0   | 000000010000 | 000010000000 |\n",
       "|   2707.0  | 000000010000 | 000010000000 |\n",
       "|   275.0   | 000000010000 | 000010000000 |\n",
       "|   1685.0  | 000000010000 | 000010000000 |\n",
       "|   1354.0  | 000000010000 | 000010000000 |\n",
       "+-----------+--------------+--------------+"
      ]
     },
     "execution_count": 15,
     "metadata": {},
     "output_type": "execute_result"
    }
   ],
   "source": [
    "%%sql\n",
    "/* Since jupysql does not like bitshifts, we can fake it with string interoplation. */\n",
    "SELECT elev_in_m,\n",
    "    (16::INTEGER::BIT(12)) AS bit12,\n",
    "    (16::INTEGER::BIT(12)) {{left_shift}} 3\n",
    "FROM national\n",
    "LIMIT 5;"
   ]
  },
  {
   "cell_type": "code",
   "execution_count": 16,
   "id": "f5dc65e2-d033-4aab-9fe4-70b58a79d7de",
   "metadata": {},
   "outputs": [
    {
     "data": {
      "text/html": [
       "<span style=\"None\">Running query in &#x27;postgresql://localhost:5432/gnis&#x27;</span>"
      ],
      "text/plain": [
       "Running query in 'postgresql://localhost:5432/gnis'"
      ]
     },
     "metadata": {},
     "output_type": "display_data"
    },
    {
     "data": {
      "text/html": [
       "<span style=\"color: green\">4 rows affected.</span>"
      ],
      "text/plain": [
       "4 rows affected."
      ]
     },
     "metadata": {},
     "output_type": "display_data"
    },
    {
     "data": {
      "text/html": [
       "<table>\n",
       "    <thead>\n",
       "        <tr>\n",
       "            <th>QUERY PLAN</th>\n",
       "        </tr>\n",
       "    </thead>\n",
       "    <tbody>\n",
       "        <tr>\n",
       "            <td>Aggregate  (cost=799.99..800.00 rows=1 width=32)</td>\n",
       "        </tr>\n",
       "        <tr>\n",
       "            <td>&nbsp;&nbsp;Output: count(DISTINCT \"national\".elev_in_m), count(DISTINCT ((\"national\".elev_in_m)::integer)::bit(12)), count(DISTINCT (((\"national\".elev_in_m)::integer)::bit(12) >> 8)), count(DISTINCT (((((\"national\".elev_in_m)::integer)::bit(12) >> 8) << 8))::integer)</td>\n",
       "        </tr>\n",
       "        <tr>\n",
       "            <td>&nbsp;&nbsp;->  Seq Scan on public.\"national\"  (cost=0.00..396.33 rows=11533 width=8)</td>\n",
       "        </tr>\n",
       "        <tr>\n",
       "            <td>&nbsp;&nbsp;&nbsp;&nbsp;&nbsp;&nbsp;&nbsp;&nbsp;Output: \"national\".feature_id, \"national\".feature_name, \"national\".feature_class, \"national\".state_alpha, \"national\".state_numeric, \"national\".county_name, \"national\".county_numeric, \"national\".primary_lat_dms, \"national\".prim_long_dms, \"national\".prim_lat_dec, \"national\".prim_long_dec, \"national\".source_lat_dms, \"national\".source_long_dms, \"national\".source_lat_dec, \"national\".source_long_dec, \"national\".elev_in_m, \"national\".elev_in_ft, \"national\".map_name, \"national\".date_created, \"national\".date_edited</td>\n",
       "        </tr>\n",
       "    </tbody>\n",
       "</table>"
      ],
      "text/plain": [
       "+-----------------------------------------------------------------------------------------------------------------------------------------------------------------------------------------------------------------------------------------------------------------------------------------------------------------------------------------------------------------------------------------------------------------------------------------------------------------------------------------------------------------------------------------+\n",
       "|                                                                                                                                                                                                                                                                QUERY PLAN                                                                                                                                                                                                                                                               |\n",
       "+-----------------------------------------------------------------------------------------------------------------------------------------------------------------------------------------------------------------------------------------------------------------------------------------------------------------------------------------------------------------------------------------------------------------------------------------------------------------------------------------------------------------------------------------+\n",
       "|                                                                                                                                                                                                                                             Aggregate  (cost=799.99..800.00 rows=1 width=32)                                                                                                                                                                                                                                            |\n",
       "|                                                                                                                                      Output: count(DISTINCT \"national\".elev_in_m), count(DISTINCT ((\"national\".elev_in_m)::integer)::bit(12)), count(DISTINCT (((\"national\".elev_in_m)::integer)::bit(12) >> 8)), count(DISTINCT (((((\"national\".elev_in_m)::integer)::bit(12) >> 8) << 8))::integer)                                                                                                                                   |\n",
       "|                                                                                                                                                                                                                                 ->  Seq Scan on public.\"national\"  (cost=0.00..396.33 rows=11533 width=8)                                                                                                                                                                                                                               |\n",
       "|         Output: \"national\".feature_id, \"national\".feature_name, \"national\".feature_class, \"national\".state_alpha, \"national\".state_numeric, \"national\".county_name, \"national\".county_numeric, \"national\".primary_lat_dms, \"national\".prim_long_dms, \"national\".prim_lat_dec, \"national\".prim_long_dec, \"national\".source_lat_dms, \"national\".source_long_dms, \"national\".source_lat_dec, \"national\".source_long_dec, \"national\".elev_in_m, \"national\".elev_in_ft, \"national\".map_name, \"national\".date_created, \"national\".date_edited |\n",
       "+-----------------------------------------------------------------------------------------------------------------------------------------------------------------------------------------------------------------------------------------------------------------------------------------------------------------------------------------------------------------------------------------------------------------------------------------------------------------------------------------------------------------------------------------+"
      ]
     },
     "execution_count": 16,
     "metadata": {},
     "output_type": "execute_result"
    }
   ],
   "source": [
    "%%sql\n",
    "EXPLAIN (verbose true)\n",
    "WITH shifts AS (\n",
    "    SELECT elev_in_m,\n",
    "       (elev_in_m::integer::bit(12)) AS bit12,\n",
    "       (elev_in_m::integer::bit(12) {{right_shift}} 8) AS rightshifted,\n",
    "       ((elev_in_m::integer::bit(12) {{right_shift}} 8) {{left_shift}} 8)::integer AS round_to_256,\n",
    "       ((elev_in_m::integer::bit(12) {{right_shift}} 8) {{left_shift}} 8)::integer % 256 AS test\n",
    "  FROM national\n",
    ")\n",
    "SELECT COUNT(DISTINCT elev_in_m) AS elevation_meters_count,\n",
    "       COUNT(DISTINCT bit12) AS bit12_count,\n",
    "       COUNT(DISTINCT rightshifted) AS rightshift_count,\n",
    "       COUNT(DISTINCT round_to_256) AS rounded_count\n",
    "  FROM shifts;"
   ]
  },
  {
   "cell_type": "markdown",
   "id": "4e417c67-7e50-4ed6-89ee-486bd88a04ed",
   "metadata": {},
   "source": [
    "# [At Home] Demo 1: Roll-up / Drill-down Practice"
   ]
  },
  {
   "cell_type": "markdown",
   "id": "5c3b6831-818e-4d57-858f-86cf99a26c8a",
   "metadata": {
    "slideshow": {
     "slide_type": "subslide"
    }
   },
   "source": [
    "Let's start with county-level data on elevations:"
   ]
  },
  {
   "cell_type": "code",
   "execution_count": 17,
   "id": "c16651e9-d678-4d7f-9047-a178be243275",
   "metadata": {},
   "outputs": [
    {
     "data": {
      "text/html": [
       "<span style=\"None\">Running query in &#x27;postgresql://localhost:5432/gnis&#x27;</span>"
      ],
      "text/plain": [
       "Running query in 'postgresql://localhost:5432/gnis'"
      ]
     },
     "metadata": {},
     "output_type": "display_data"
    },
    {
     "data": {
      "text/html": [
       "<span style=\"color: green\">852 rows affected.</span>"
      ],
      "text/plain": [
       "852 rows affected."
      ]
     },
     "metadata": {},
     "output_type": "display_data"
    },
    {
     "data": {
      "text/html": [
       "<table>\n",
       "    <thead>\n",
       "        <tr>\n",
       "            <th>state_numeric</th>\n",
       "            <th>county_numeric</th>\n",
       "            <th>avg</th>\n",
       "            <th>stddev</th>\n",
       "            <th>count</th>\n",
       "        </tr>\n",
       "    </thead>\n",
       "    <tbody>\n",
       "        <tr>\n",
       "            <td>56</td>\n",
       "            <td>35.0</td>\n",
       "            <td>2804.0</td>\n",
       "            <td>None</td>\n",
       "            <td>1</td>\n",
       "        </tr>\n",
       "        <tr>\n",
       "            <td>39</td>\n",
       "            <td>51.0</td>\n",
       "            <td>235.0</td>\n",
       "            <td>None</td>\n",
       "            <td>1</td>\n",
       "        </tr>\n",
       "        <tr>\n",
       "            <td>53</td>\n",
       "            <td>37.0</td>\n",
       "            <td>557.0</td>\n",
       "            <td>None</td>\n",
       "            <td>1</td>\n",
       "        </tr>\n",
       "        <tr>\n",
       "            <td>13</td>\n",
       "            <td>37.0</td>\n",
       "            <td>66.0</td>\n",
       "            <td>None</td>\n",
       "            <td>1</td>\n",
       "        </tr>\n",
       "        <tr>\n",
       "            <td>53</td>\n",
       "            <td>73.0</td>\n",
       "            <td>169.0</td>\n",
       "            <td>None</td>\n",
       "            <td>1</td>\n",
       "        </tr>\n",
       "        <tr>\n",
       "            <td>36</td>\n",
       "            <td>119.0</td>\n",
       "            <td>50.0</td>\n",
       "            <td>None</td>\n",
       "            <td>1</td>\n",
       "        </tr>\n",
       "        <tr>\n",
       "            <td>36</td>\n",
       "            <td>65.0</td>\n",
       "            <td>326.0</td>\n",
       "            <td>200.8183258569795</td>\n",
       "            <td>2</td>\n",
       "        </tr>\n",
       "        <tr>\n",
       "            <td>45</td>\n",
       "            <td>45.0</td>\n",
       "            <td>258.0</td>\n",
       "            <td>None</td>\n",
       "            <td>1</td>\n",
       "        </tr>\n",
       "        <tr>\n",
       "            <td>47</td>\n",
       "            <td>95.0</td>\n",
       "            <td>88.0</td>\n",
       "            <td>None</td>\n",
       "            <td>2</td>\n",
       "        </tr>\n",
       "        <tr>\n",
       "            <td>51</td>\n",
       "            <td>540.0</td>\n",
       "            <td>194.0</td>\n",
       "            <td>None</td>\n",
       "            <td>1</td>\n",
       "        </tr>\n",
       "        <tr>\n",
       "            <td>72</td>\n",
       "            <td>25.0</td>\n",
       "            <td>73.0</td>\n",
       "            <td>None</td>\n",
       "            <td>1</td>\n",
       "        </tr>\n",
       "        <tr>\n",
       "            <td>1</td>\n",
       "            <td>27.0</td>\n",
       "            <td>373.0</td>\n",
       "            <td>None</td>\n",
       "            <td>1</td>\n",
       "        </tr>\n",
       "        <tr>\n",
       "            <td>48</td>\n",
       "            <td>365.0</td>\n",
       "            <td>60.0</td>\n",
       "            <td>None</td>\n",
       "            <td>1</td>\n",
       "        </tr>\n",
       "        <tr>\n",
       "            <td>40</td>\n",
       "            <td>109.0</td>\n",
       "            <td>358.0</td>\n",
       "            <td>None</td>\n",
       "            <td>1</td>\n",
       "        </tr>\n",
       "        <tr>\n",
       "            <td>47</td>\n",
       "            <td>135.0</td>\n",
       "            <td>149.0</td>\n",
       "            <td>15.556349186104045</td>\n",
       "            <td>2</td>\n",
       "        </tr>\n",
       "    </tbody>\n",
       "</table>\n",
       "<span style=\"font-style:italic;text-align:center;\">Truncated to <a href=\"https://jupysql.ploomber.io/en/latest/api/configuration.html#displaylimit\">displaylimit</a> of 15.</span>"
      ],
      "text/plain": [
       "+---------------+----------------+--------+--------------------+-------+\n",
       "| state_numeric | county_numeric |  avg   |       stddev       | count |\n",
       "+---------------+----------------+--------+--------------------+-------+\n",
       "|       56      |      35.0      | 2804.0 |        None        |   1   |\n",
       "|       39      |      51.0      | 235.0  |        None        |   1   |\n",
       "|       53      |      37.0      | 557.0  |        None        |   1   |\n",
       "|       13      |      37.0      |  66.0  |        None        |   1   |\n",
       "|       53      |      73.0      | 169.0  |        None        |   1   |\n",
       "|       36      |     119.0      |  50.0  |        None        |   1   |\n",
       "|       36      |      65.0      | 326.0  | 200.8183258569795  |   2   |\n",
       "|       45      |      45.0      | 258.0  |        None        |   1   |\n",
       "|       47      |      95.0      |  88.0  |        None        |   2   |\n",
       "|       51      |     540.0      | 194.0  |        None        |   1   |\n",
       "|       72      |      25.0      |  73.0  |        None        |   1   |\n",
       "|       1       |      27.0      | 373.0  |        None        |   1   |\n",
       "|       48      |     365.0      |  60.0  |        None        |   1   |\n",
       "|       40      |     109.0      | 358.0  |        None        |   1   |\n",
       "|       47      |     135.0      | 149.0  | 15.556349186104045 |   2   |\n",
       "+---------------+----------------+--------+--------------------+-------+\n",
       "Truncated to displaylimit of 15."
      ]
     },
     "execution_count": 17,
     "metadata": {},
     "output_type": "execute_result"
    }
   ],
   "source": [
    "%%sql\n",
    "SELECT state_numeric, county_numeric,\n",
    "       avg(elev_in_m),\n",
    "       stddev(elev_in_m), count(*)\n",
    "FROM national TABLESAMPLE BERNOULLI(10)\n",
    "GROUP BY state_numeric, county_numeric;"
   ]
  },
  {
   "cell_type": "markdown",
   "id": "19460db6-5e19-4eaa-be01-e7c3b257ace8",
   "metadata": {},
   "source": [
    "**Roll up** to state level.\n",
    "* We save the view as `state_elevations` for later..."
   ]
  },
  {
   "cell_type": "code",
   "execution_count": 37,
   "id": "b1eb0307-fee1-4692-ae8a-eb372f382e9f",
   "metadata": {},
   "outputs": [
    {
     "data": {
      "text/html": [
       "<span style=\"None\">Running query in &#x27;postgresql://localhost:5432/gnis&#x27;</span>"
      ],
      "text/plain": [
       "Running query in 'postgresql://localhost:5432/gnis'"
      ]
     },
     "metadata": {},
     "output_type": "display_data"
    },
    {
     "data": {
      "text/html": [
       "<table>\n",
       "    <thead>\n",
       "        <tr>\n",
       "        </tr>\n",
       "    </thead>\n",
       "    <tbody>\n",
       "    </tbody>\n",
       "</table>"
      ],
      "text/plain": [
       "++\n",
       "||\n",
       "++\n",
       "++"
      ]
     },
     "execution_count": 37,
     "metadata": {},
     "output_type": "execute_result"
    }
   ],
   "source": [
    "%%sql\n",
    "DROP VIEW IF EXISTS state_elevations;\n",
    "\n",
    "CREATE VIEW state_elevations AS (\n",
    "    SELECT state_numeric,\n",
    "       avg(elev_in_m),\n",
    "       stddev(elev_in_m), count(*)\n",
    "    FROM national\n",
    "    GROUP BY state_numeric\n",
    ");"
   ]
  },
  {
   "cell_type": "code",
   "execution_count": 38,
   "id": "e3b4b1b9-b048-43a7-8f97-67ae63332136",
   "metadata": {},
   "outputs": [
    {
     "data": {
      "text/html": [
       "<span style=\"None\">Running query in &#x27;postgresql://localhost:5432/gnis&#x27;</span>"
      ],
      "text/plain": [
       "Running query in 'postgresql://localhost:5432/gnis'"
      ]
     },
     "metadata": {},
     "output_type": "display_data"
    },
    {
     "data": {
      "text/html": [
       "<span style=\"color: green\">59 rows affected.</span>"
      ],
      "text/plain": [
       "59 rows affected."
      ]
     },
     "metadata": {},
     "output_type": "display_data"
    },
    {
     "data": {
      "text/html": [
       "<table>\n",
       "    <thead>\n",
       "        <tr>\n",
       "            <th>state_numeric</th>\n",
       "            <th>avg</th>\n",
       "            <th>stddev</th>\n",
       "            <th>count</th>\n",
       "        </tr>\n",
       "    </thead>\n",
       "    <tbody>\n",
       "        <tr>\n",
       "            <td>54</td>\n",
       "            <td>363.6190476190476</td>\n",
       "            <td>199.26650831834746</td>\n",
       "            <td>204</td>\n",
       "        </tr>\n",
       "        <tr>\n",
       "            <td>29</td>\n",
       "            <td>246.09152542372883</td>\n",
       "            <td>80.2483078596168</td>\n",
       "            <td>343</td>\n",
       "        </tr>\n",
       "        <tr>\n",
       "            <td>68</td>\n",
       "            <td>6.666666666666667</td>\n",
       "            <td>7.99166232186187</td>\n",
       "            <td>14</td>\n",
       "        </tr>\n",
       "        <tr>\n",
       "            <td>4</td>\n",
       "            <td>1315.3798076923076</td>\n",
       "            <td>672.6305522946129</td>\n",
       "            <td>208</td>\n",
       "        </tr>\n",
       "        <tr>\n",
       "            <td>34</td>\n",
       "            <td>40.08943089430894</td>\n",
       "            <td>59.88896941733248</td>\n",
       "            <td>123</td>\n",
       "        </tr>\n",
       "        <tr>\n",
       "            <td>51</td>\n",
       "            <td>254.55197132616487</td>\n",
       "            <td>260.54513270095333</td>\n",
       "            <td>283</td>\n",
       "        </tr>\n",
       "        <tr>\n",
       "            <td>70</td>\n",
       "            <td>18.333333333333332</td>\n",
       "            <td>31.75426480542942</td>\n",
       "            <td>3</td>\n",
       "        </tr>\n",
       "        <tr>\n",
       "            <td>10</td>\n",
       "            <td>22.11111111111111</td>\n",
       "            <td>28.015563440198648</td>\n",
       "            <td>27</td>\n",
       "        </tr>\n",
       "        <tr>\n",
       "            <td>35</td>\n",
       "            <td>1756.8467432950192</td>\n",
       "            <td>471.8002505531821</td>\n",
       "            <td>273</td>\n",
       "        </tr>\n",
       "        <tr>\n",
       "            <td>45</td>\n",
       "            <td>122.83240223463687</td>\n",
       "            <td>123.96059930539184</td>\n",
       "            <td>181</td>\n",
       "        </tr>\n",
       "        <tr>\n",
       "            <td>6</td>\n",
       "            <td>516.7286432160804</td>\n",
       "            <td>684.895132373804</td>\n",
       "            <td>599</td>\n",
       "        </tr>\n",
       "        <tr>\n",
       "            <td>39</td>\n",
       "            <td>262.80258899676375</td>\n",
       "            <td>57.78124212343727</td>\n",
       "            <td>328</td>\n",
       "        </tr>\n",
       "        <tr>\n",
       "            <td>69</td>\n",
       "            <td>90.66666666666667</td>\n",
       "            <td>82.82189726555814</td>\n",
       "            <td>6</td>\n",
       "        </tr>\n",
       "        <tr>\n",
       "            <td>36</td>\n",
       "            <td>217.14150943396226</td>\n",
       "            <td>197.0201865875975</td>\n",
       "            <td>424</td>\n",
       "        </tr>\n",
       "        <tr>\n",
       "            <td>31</td>\n",
       "            <td>628.2797202797203</td>\n",
       "            <td>293.8114851587473</td>\n",
       "            <td>148</td>\n",
       "        </tr>\n",
       "    </tbody>\n",
       "</table>\n",
       "<span style=\"font-style:italic;text-align:center;\">Truncated to <a href=\"https://jupysql.ploomber.io/en/latest/api/configuration.html#displaylimit\">displaylimit</a> of 15.</span>"
      ],
      "text/plain": [
       "+---------------+--------------------+--------------------+-------+\n",
       "| state_numeric |        avg         |       stddev       | count |\n",
       "+---------------+--------------------+--------------------+-------+\n",
       "|       54      | 363.6190476190476  | 199.26650831834746 |  204  |\n",
       "|       29      | 246.09152542372883 |  80.2483078596168  |  343  |\n",
       "|       68      | 6.666666666666667  |  7.99166232186187  |   14  |\n",
       "|       4       | 1315.3798076923076 | 672.6305522946129  |  208  |\n",
       "|       34      | 40.08943089430894  | 59.88896941733248  |  123  |\n",
       "|       51      | 254.55197132616487 | 260.54513270095333 |  283  |\n",
       "|       70      | 18.333333333333332 | 31.75426480542942  |   3   |\n",
       "|       10      | 22.11111111111111  | 28.015563440198648 |   27  |\n",
       "|       35      | 1756.8467432950192 | 471.8002505531821  |  273  |\n",
       "|       45      | 122.83240223463687 | 123.96059930539184 |  181  |\n",
       "|       6       | 516.7286432160804  |  684.895132373804  |  599  |\n",
       "|       39      | 262.80258899676375 | 57.78124212343727  |  328  |\n",
       "|       69      | 90.66666666666667  | 82.82189726555814  |   6   |\n",
       "|       36      | 217.14150943396226 | 197.0201865875975  |  424  |\n",
       "|       31      | 628.2797202797203  | 293.8114851587473  |  148  |\n",
       "+---------------+--------------------+--------------------+-------+\n",
       "Truncated to displaylimit of 15."
      ]
     },
     "execution_count": 38,
     "metadata": {},
     "output_type": "execute_result"
    }
   ],
   "source": [
    "%sql SELECT * FROM state_elevations;"
   ]
  },
  {
   "cell_type": "markdown",
   "id": "320ca632-1a77-48ab-9492-f9a2c8582e14",
   "metadata": {},
   "source": [
    "**Drill down** to include feature class."
   ]
  },
  {
   "cell_type": "code",
   "execution_count": 20,
   "id": "420b6d32-0d4b-47f4-9863-9634efa0d8f0",
   "metadata": {},
   "outputs": [
    {
     "data": {
      "text/html": [
       "<span style=\"None\">Running query in &#x27;postgresql://localhost:5432/gnis&#x27;</span>"
      ],
      "text/plain": [
       "Running query in 'postgresql://localhost:5432/gnis'"
      ]
     },
     "metadata": {},
     "output_type": "display_data"
    },
    {
     "data": {
      "text/html": [
       "<span style=\"color: green\">567 rows affected.</span>"
      ],
      "text/plain": [
       "567 rows affected."
      ]
     },
     "metadata": {},
     "output_type": "display_data"
    },
    {
     "data": {
      "text/html": [
       "<table>\n",
       "    <thead>\n",
       "        <tr>\n",
       "            <th>state_numeric</th>\n",
       "            <th>feature_class</th>\n",
       "            <th>avg</th>\n",
       "            <th>stddev</th>\n",
       "            <th>count</th>\n",
       "        </tr>\n",
       "    </thead>\n",
       "    <tbody>\n",
       "        <tr>\n",
       "            <td>48</td>\n",
       "            <td>Church</td>\n",
       "            <td>281.1666666666667</td>\n",
       "            <td>266.01156274709473</td>\n",
       "            <td>12</td>\n",
       "        </tr>\n",
       "        <tr>\n",
       "            <td>48</td>\n",
       "            <td>Stream</td>\n",
       "            <td>306.54545454545456</td>\n",
       "            <td>252.4117127378853</td>\n",
       "            <td>11</td>\n",
       "        </tr>\n",
       "        <tr>\n",
       "            <td>30</td>\n",
       "            <td>Well</td>\n",
       "            <td>972.7272727272727</td>\n",
       "            <td>172.8658965262327</td>\n",
       "            <td>11</td>\n",
       "        </tr>\n",
       "        <tr>\n",
       "            <td>6</td>\n",
       "            <td>School</td>\n",
       "            <td>90.9090909090909</td>\n",
       "            <td>104.60444975760309</td>\n",
       "            <td>11</td>\n",
       "        </tr>\n",
       "        <tr>\n",
       "            <td>47</td>\n",
       "            <td>Cemetery</td>\n",
       "            <td>272.7</td>\n",
       "            <td>93.76927949908637</td>\n",
       "            <td>10</td>\n",
       "        </tr>\n",
       "        <tr>\n",
       "            <td>17</td>\n",
       "            <td>School</td>\n",
       "            <td>189.0</td>\n",
       "            <td>17.663521732655695</td>\n",
       "            <td>9</td>\n",
       "        </tr>\n",
       "        <tr>\n",
       "            <td>35</td>\n",
       "            <td>Locale</td>\n",
       "            <td>1725.5714285714287</td>\n",
       "            <td>505.5900371984061</td>\n",
       "            <td>8</td>\n",
       "        </tr>\n",
       "        <tr>\n",
       "            <td>42</td>\n",
       "            <td>Building</td>\n",
       "            <td>228.625</td>\n",
       "            <td>83.39053988826996</td>\n",
       "            <td>8</td>\n",
       "        </tr>\n",
       "        <tr>\n",
       "            <td>47</td>\n",
       "            <td>Stream</td>\n",
       "            <td>246.75</td>\n",
       "            <td>107.29365578368821</td>\n",
       "            <td>8</td>\n",
       "        </tr>\n",
       "        <tr>\n",
       "            <td>29</td>\n",
       "            <td>Cemetery</td>\n",
       "            <td>268.0</td>\n",
       "            <td>62.39505474909736</td>\n",
       "            <td>8</td>\n",
       "        </tr>\n",
       "        <tr>\n",
       "            <td>6</td>\n",
       "            <td>Church</td>\n",
       "            <td>107.28571428571429</td>\n",
       "            <td>130.39518688166663</td>\n",
       "            <td>7</td>\n",
       "        </tr>\n",
       "        <tr>\n",
       "            <td>51</td>\n",
       "            <td>Church</td>\n",
       "            <td>275.85714285714283</td>\n",
       "            <td>273.23337312721554</td>\n",
       "            <td>7</td>\n",
       "        </tr>\n",
       "        <tr>\n",
       "            <td>36</td>\n",
       "            <td>Church</td>\n",
       "            <td>160.0</td>\n",
       "            <td>137.61177275218859</td>\n",
       "            <td>7</td>\n",
       "        </tr>\n",
       "        <tr>\n",
       "            <td>40</td>\n",
       "            <td>Church</td>\n",
       "            <td>377.3333333333333</td>\n",
       "            <td>129.86659822037896</td>\n",
       "            <td>7</td>\n",
       "        </tr>\n",
       "        <tr>\n",
       "            <td>21</td>\n",
       "            <td>Stream</td>\n",
       "            <td>226.57142857142858</td>\n",
       "            <td>43.165793335530324</td>\n",
       "            <td>7</td>\n",
       "        </tr>\n",
       "    </tbody>\n",
       "</table>\n",
       "<span style=\"font-style:italic;text-align:center;\">Truncated to <a href=\"https://jupysql.ploomber.io/en/latest/api/configuration.html#displaylimit\">displaylimit</a> of 15.</span>"
      ],
      "text/plain": [
       "+---------------+---------------+--------------------+--------------------+-------+\n",
       "| state_numeric | feature_class |        avg         |       stddev       | count |\n",
       "+---------------+---------------+--------------------+--------------------+-------+\n",
       "|       48      |     Church    | 281.1666666666667  | 266.01156274709473 |   12  |\n",
       "|       48      |     Stream    | 306.54545454545456 | 252.4117127378853  |   11  |\n",
       "|       30      |      Well     | 972.7272727272727  | 172.8658965262327  |   11  |\n",
       "|       6       |     School    |  90.9090909090909  | 104.60444975760309 |   11  |\n",
       "|       47      |    Cemetery   |       272.7        | 93.76927949908637  |   10  |\n",
       "|       17      |     School    |       189.0        | 17.663521732655695 |   9   |\n",
       "|       35      |     Locale    | 1725.5714285714287 | 505.5900371984061  |   8   |\n",
       "|       42      |    Building   |      228.625       | 83.39053988826996  |   8   |\n",
       "|       47      |     Stream    |       246.75       | 107.29365578368821 |   8   |\n",
       "|       29      |    Cemetery   |       268.0        | 62.39505474909736  |   8   |\n",
       "|       6       |     Church    | 107.28571428571429 | 130.39518688166663 |   7   |\n",
       "|       51      |     Church    | 275.85714285714283 | 273.23337312721554 |   7   |\n",
       "|       36      |     Church    |       160.0        | 137.61177275218859 |   7   |\n",
       "|       40      |     Church    | 377.3333333333333  | 129.86659822037896 |   7   |\n",
       "|       21      |     Stream    | 226.57142857142858 | 43.165793335530324 |   7   |\n",
       "+---------------+---------------+--------------------+--------------------+-------+\n",
       "Truncated to displaylimit of 15."
      ]
     },
     "execution_count": 20,
     "metadata": {},
     "output_type": "execute_result"
    }
   ],
   "source": [
    "%%sql\n",
    "SELECT state_numeric, feature_class,\n",
    "       avg(elev_in_m),\n",
    "       stddev(elev_in_m), count(*)\n",
    "FROM national TABLESAMPLE Bernoulli(10)\n",
    "GROUP BY state_numeric, feature_class\n",
    "ORDER BY count(*) DESC;"
   ]
  },
  {
   "cell_type": "markdown",
   "id": "82cc3430-68a0-4f69-b94f-a13dce1a06c6",
   "metadata": {},
   "source": [
    "# Demo 2: Connections to Statistics"
   ]
  },
  {
   "cell_type": "markdown",
   "id": "a2bcfd68-94c4-44f9-8a87-deb780009b57",
   "metadata": {},
   "source": [
    "## [At home] Roll up with marginal distributions"
   ]
  },
  {
   "cell_type": "code",
   "execution_count": 8,
   "id": "08fd169e-3350-4164-bd04-10755730d459",
   "metadata": {},
   "outputs": [
    {
     "data": {
      "text/html": [
       "<span style=\"None\">Running query in &#x27;postgresql://localhost:5432/gnis&#x27;</span>"
      ],
      "text/plain": [
       "Running query in 'postgresql://localhost:5432/gnis'"
      ]
     },
     "metadata": {},
     "output_type": "display_data"
    },
    {
     "data": {
      "text/html": [
       "<span style=\"color: green\">7 rows affected.</span>"
      ],
      "text/plain": [
       "7 rows affected."
      ]
     },
     "metadata": {},
     "output_type": "display_data"
    },
    {
     "data": {
      "text/html": [
       "<table>\n",
       "    <thead>\n",
       "        <tr>\n",
       "            <th>state_numeric</th>\n",
       "            <th>avg</th>\n",
       "            <th>stddev</th>\n",
       "            <th>count</th>\n",
       "            <th>total</th>\n",
       "            <th>marginal</th>\n",
       "        </tr>\n",
       "    </thead>\n",
       "    <tbody>\n",
       "        <tr>\n",
       "            <td>2</td>\n",
       "            <td>114.0</td>\n",
       "            <td>None</td>\n",
       "            <td>1</td>\n",
       "            <td>7</td>\n",
       "            <td>0.14285714285714285714</td>\n",
       "        </tr>\n",
       "        <tr>\n",
       "            <td>6</td>\n",
       "            <td>242.0</td>\n",
       "            <td>None</td>\n",
       "            <td>1</td>\n",
       "            <td>7</td>\n",
       "            <td>0.14285714285714285714</td>\n",
       "        </tr>\n",
       "        <tr>\n",
       "            <td>16</td>\n",
       "            <td>2541.0</td>\n",
       "            <td>None</td>\n",
       "            <td>1</td>\n",
       "            <td>7</td>\n",
       "            <td>0.14285714285714285714</td>\n",
       "        </tr>\n",
       "        <tr>\n",
       "            <td>23</td>\n",
       "            <td>43.0</td>\n",
       "            <td>None</td>\n",
       "            <td>1</td>\n",
       "            <td>7</td>\n",
       "            <td>0.14285714285714285714</td>\n",
       "        </tr>\n",
       "        <tr>\n",
       "            <td>26</td>\n",
       "            <td>178.0</td>\n",
       "            <td>None</td>\n",
       "            <td>1</td>\n",
       "            <td>7</td>\n",
       "            <td>0.14285714285714285714</td>\n",
       "        </tr>\n",
       "        <tr>\n",
       "            <td>40</td>\n",
       "            <td>579.0</td>\n",
       "            <td>None</td>\n",
       "            <td>1</td>\n",
       "            <td>7</td>\n",
       "            <td>0.14285714285714285714</td>\n",
       "        </tr>\n",
       "        <tr>\n",
       "            <td>45</td>\n",
       "            <td>259.0</td>\n",
       "            <td>None</td>\n",
       "            <td>1</td>\n",
       "            <td>7</td>\n",
       "            <td>0.14285714285714285714</td>\n",
       "        </tr>\n",
       "    </tbody>\n",
       "</table>"
      ],
      "text/plain": [
       "+---------------+--------+--------+-------+-------+------------------------+\n",
       "| state_numeric |  avg   | stddev | count | total |        marginal        |\n",
       "+---------------+--------+--------+-------+-------+------------------------+\n",
       "|       2       | 114.0  |  None  |   1   |   7   | 0.14285714285714285714 |\n",
       "|       6       | 242.0  |  None  |   1   |   7   | 0.14285714285714285714 |\n",
       "|       16      | 2541.0 |  None  |   1   |   7   | 0.14285714285714285714 |\n",
       "|       23      |  43.0  |  None  |   1   |   7   | 0.14285714285714285714 |\n",
       "|       26      | 178.0  |  None  |   1   |   7   | 0.14285714285714285714 |\n",
       "|       40      | 579.0  |  None  |   1   |   7   | 0.14285714285714285714 |\n",
       "|       45      | 259.0  |  None  |   1   |   7   | 0.14285714285714285714 |\n",
       "+---------------+--------+--------+-------+-------+------------------------+"
      ]
     },
     "execution_count": 8,
     "metadata": {},
     "output_type": "execute_result"
    }
   ],
   "source": [
    "%%sql\n",
    "SELECT state_numeric,\n",
    "       AVG(elev_in_m),\n",
    "       STDDEV(elev_in_m), COUNT(*),\n",
    "       SUM(COUNT(*)) OVER () AS total,\n",
    "       COUNT(*)/SUM(COUNT(*)) OVER () AS marginal\n",
    "FROM national TABLESAMPLE Bernoulli(.07)\n",
    "GROUP BY state_numeric;"
   ]
  },
  {
   "cell_type": "code",
   "execution_count": 9,
   "id": "845b5b39-689a-4852-82ca-8defa998b857",
   "metadata": {},
   "outputs": [
    {
     "data": {
      "text/html": [
       "<span style=\"None\">Running query in &#x27;postgresql://localhost:5432/gnis&#x27;</span>"
      ],
      "text/plain": [
       "Running query in 'postgresql://localhost:5432/gnis'"
      ]
     },
     "metadata": {},
     "output_type": "display_data"
    },
    {
     "data": {
      "text/html": [
       "<span style=\"color: green\">1 rows affected.</span>"
      ],
      "text/plain": [
       "1 rows affected."
      ]
     },
     "metadata": {},
     "output_type": "display_data"
    },
    {
     "data": {
      "text/html": [
       "<table>\n",
       "    <thead>\n",
       "        <tr>\n",
       "            <th>count</th>\n",
       "        </tr>\n",
       "    </thead>\n",
       "    <tbody>\n",
       "        <tr>\n",
       "            <td>291</td>\n",
       "        </tr>\n",
       "    </tbody>\n",
       "</table>"
      ],
      "text/plain": [
       "+-------+\n",
       "| count |\n",
       "+-------+\n",
       "|  291  |\n",
       "+-------+"
      ]
     },
     "execution_count": 9,
     "metadata": {},
     "output_type": "execute_result"
    }
   ],
   "source": [
    "%%sql\n",
    "SELECT COUNT(DISTINCT county_numeric) FROM national;"
   ]
  },
  {
   "cell_type": "markdown",
   "id": "f9cdb304-5969-4721-b38d-b9ff8ad0e200",
   "metadata": {},
   "source": [
    "## Drill down with normally-distributed elevations:\n",
    "\n",
    "We will start with a view that is at the state granularity, and then go from there. (Same as \"At Home\" exercise above)"
   ]
  },
  {
   "cell_type": "code",
   "execution_count": 41,
   "id": "b168fb9f-d9e2-4fd4-93ed-f4ebc1ae1dd4",
   "metadata": {},
   "outputs": [
    {
     "data": {
      "text/html": [
       "<span style=\"None\">Running query in &#x27;postgresql://localhost:5432/gnis&#x27;</span>"
      ],
      "text/plain": [
       "Running query in 'postgresql://localhost:5432/gnis'"
      ]
     },
     "metadata": {},
     "output_type": "display_data"
    },
    {
     "data": {
      "text/html": [
       "<table>\n",
       "    <thead>\n",
       "        <tr>\n",
       "        </tr>\n",
       "    </thead>\n",
       "    <tbody>\n",
       "    </tbody>\n",
       "</table>"
      ],
      "text/plain": [
       "++\n",
       "||\n",
       "++\n",
       "++"
      ]
     },
     "execution_count": 41,
     "metadata": {},
     "output_type": "execute_result"
    }
   ],
   "source": [
    "%%sql\n",
    "DROP VIEW IF EXISTS state_elevations;\n",
    "\n",
    "CREATE VIEW state_elevations AS (\n",
    "    SELECT state_numeric,\n",
    "       avg(elev_in_m),\n",
    "       stddev(elev_in_m), count(*)\n",
    "    FROM national\n",
    "    GROUP BY state_numeric\n",
    ");"
   ]
  },
  {
   "cell_type": "markdown",
   "id": "8a165109-8d5c-483c-8292-e1d03cf9ee44",
   "metadata": {},
   "source": [
    "Start with the `state_elevations` view from earlier:"
   ]
  },
  {
   "cell_type": "code",
   "execution_count": 42,
   "id": "2b5c7c41-445c-4f16-bd06-77ba45786e50",
   "metadata": {},
   "outputs": [
    {
     "data": {
      "text/html": [
       "<span style=\"None\">Running query in &#x27;postgresql://localhost:5432/gnis&#x27;</span>"
      ],
      "text/plain": [
       "Running query in 'postgresql://localhost:5432/gnis'"
      ]
     },
     "metadata": {},
     "output_type": "display_data"
    },
    {
     "data": {
      "text/html": [
       "<span style=\"color: green\">59 rows affected.</span>"
      ],
      "text/plain": [
       "59 rows affected."
      ]
     },
     "metadata": {},
     "output_type": "display_data"
    },
    {
     "data": {
      "text/html": [
       "<table>\n",
       "    <thead>\n",
       "        <tr>\n",
       "            <th>state_numeric</th>\n",
       "            <th>avg</th>\n",
       "            <th>stddev</th>\n",
       "            <th>count</th>\n",
       "        </tr>\n",
       "    </thead>\n",
       "    <tbody>\n",
       "        <tr>\n",
       "            <td>54</td>\n",
       "            <td>363.6190476190476</td>\n",
       "            <td>199.26650831834746</td>\n",
       "            <td>204</td>\n",
       "        </tr>\n",
       "        <tr>\n",
       "            <td>29</td>\n",
       "            <td>246.09152542372883</td>\n",
       "            <td>80.2483078596168</td>\n",
       "            <td>343</td>\n",
       "        </tr>\n",
       "        <tr>\n",
       "            <td>68</td>\n",
       "            <td>6.666666666666667</td>\n",
       "            <td>7.99166232186187</td>\n",
       "            <td>14</td>\n",
       "        </tr>\n",
       "        <tr>\n",
       "            <td>4</td>\n",
       "            <td>1315.3798076923076</td>\n",
       "            <td>672.6305522946129</td>\n",
       "            <td>208</td>\n",
       "        </tr>\n",
       "        <tr>\n",
       "            <td>34</td>\n",
       "            <td>40.08943089430894</td>\n",
       "            <td>59.88896941733248</td>\n",
       "            <td>123</td>\n",
       "        </tr>\n",
       "        <tr>\n",
       "            <td>51</td>\n",
       "            <td>254.55197132616487</td>\n",
       "            <td>260.54513270095333</td>\n",
       "            <td>283</td>\n",
       "        </tr>\n",
       "        <tr>\n",
       "            <td>70</td>\n",
       "            <td>18.333333333333332</td>\n",
       "            <td>31.75426480542942</td>\n",
       "            <td>3</td>\n",
       "        </tr>\n",
       "        <tr>\n",
       "            <td>10</td>\n",
       "            <td>22.11111111111111</td>\n",
       "            <td>28.015563440198648</td>\n",
       "            <td>27</td>\n",
       "        </tr>\n",
       "        <tr>\n",
       "            <td>35</td>\n",
       "            <td>1756.8467432950192</td>\n",
       "            <td>471.8002505531821</td>\n",
       "            <td>273</td>\n",
       "        </tr>\n",
       "        <tr>\n",
       "            <td>45</td>\n",
       "            <td>122.83240223463687</td>\n",
       "            <td>123.96059930539184</td>\n",
       "            <td>181</td>\n",
       "        </tr>\n",
       "        <tr>\n",
       "            <td>6</td>\n",
       "            <td>516.7286432160804</td>\n",
       "            <td>684.895132373804</td>\n",
       "            <td>599</td>\n",
       "        </tr>\n",
       "        <tr>\n",
       "            <td>39</td>\n",
       "            <td>262.80258899676375</td>\n",
       "            <td>57.78124212343727</td>\n",
       "            <td>328</td>\n",
       "        </tr>\n",
       "        <tr>\n",
       "            <td>69</td>\n",
       "            <td>90.66666666666667</td>\n",
       "            <td>82.82189726555814</td>\n",
       "            <td>6</td>\n",
       "        </tr>\n",
       "        <tr>\n",
       "            <td>36</td>\n",
       "            <td>217.14150943396226</td>\n",
       "            <td>197.0201865875975</td>\n",
       "            <td>424</td>\n",
       "        </tr>\n",
       "        <tr>\n",
       "            <td>31</td>\n",
       "            <td>628.2797202797203</td>\n",
       "            <td>293.8114851587473</td>\n",
       "            <td>148</td>\n",
       "        </tr>\n",
       "    </tbody>\n",
       "</table>\n",
       "<span style=\"font-style:italic;text-align:center;\">Truncated to <a href=\"https://jupysql.ploomber.io/en/latest/api/configuration.html#displaylimit\">displaylimit</a> of 15.</span>"
      ],
      "text/plain": [
       "+---------------+--------------------+--------------------+-------+\n",
       "| state_numeric |        avg         |       stddev       | count |\n",
       "+---------------+--------------------+--------------------+-------+\n",
       "|       54      | 363.6190476190476  | 199.26650831834746 |  204  |\n",
       "|       29      | 246.09152542372883 |  80.2483078596168  |  343  |\n",
       "|       68      | 6.666666666666667  |  7.99166232186187  |   14  |\n",
       "|       4       | 1315.3798076923076 | 672.6305522946129  |  208  |\n",
       "|       34      | 40.08943089430894  | 59.88896941733248  |  123  |\n",
       "|       51      | 254.55197132616487 | 260.54513270095333 |  283  |\n",
       "|       70      | 18.333333333333332 | 31.75426480542942  |   3   |\n",
       "|       10      | 22.11111111111111  | 28.015563440198648 |   27  |\n",
       "|       35      | 1756.8467432950192 | 471.8002505531821  |  273  |\n",
       "|       45      | 122.83240223463687 | 123.96059930539184 |  181  |\n",
       "|       6       | 516.7286432160804  |  684.895132373804  |  599  |\n",
       "|       39      | 262.80258899676375 | 57.78124212343727  |  328  |\n",
       "|       69      | 90.66666666666667  | 82.82189726555814  |   6   |\n",
       "|       36      | 217.14150943396226 | 197.0201865875975  |  424  |\n",
       "|       31      | 628.2797202797203  | 293.8114851587473  |  148  |\n",
       "+---------------+--------------------+--------------------+-------+\n",
       "Truncated to displaylimit of 15."
      ]
     },
     "execution_count": 42,
     "metadata": {},
     "output_type": "execute_result"
    }
   ],
   "source": [
    "%sql SELECT * FROM state_elevations;"
   ]
  },
  {
   "cell_type": "markdown",
   "id": "b149280a-7e2d-4ed7-bddc-7a2a9323f40b",
   "metadata": {},
   "source": [
    "The `fips_counties` relation has all counties, including those not in `national`:"
   ]
  },
  {
   "cell_type": "code",
   "execution_count": 13,
   "id": "5ce7a086-4b77-4b30-86ae-bd553aa51539",
   "metadata": {},
   "outputs": [
    {
     "data": {
      "text/html": [
       "<span style=\"None\">Running query in &#x27;postgresql://localhost:5432/gnis&#x27;</span>"
      ],
      "text/plain": [
       "Running query in 'postgresql://localhost:5432/gnis'"
      ]
     },
     "metadata": {},
     "output_type": "display_data"
    },
    {
     "data": {
      "text/html": [
       "<span style=\"color: green\">10 rows affected.</span>"
      ],
      "text/plain": [
       "10 rows affected."
      ]
     },
     "metadata": {},
     "output_type": "display_data"
    },
    {
     "data": {
      "text/html": [
       "<table>\n",
       "    <thead>\n",
       "        <tr>\n",
       "            <th>fips</th>\n",
       "            <th>county</th>\n",
       "            <th>state_numeric</th>\n",
       "        </tr>\n",
       "    </thead>\n",
       "    <tbody>\n",
       "        <tr>\n",
       "            <td>1000</td>\n",
       "            <td>Alabama</td>\n",
       "            <td>1</td>\n",
       "        </tr>\n",
       "        <tr>\n",
       "            <td>1001</td>\n",
       "            <td>Autauga County</td>\n",
       "            <td>1</td>\n",
       "        </tr>\n",
       "        <tr>\n",
       "            <td>1003</td>\n",
       "            <td>Baldwin County</td>\n",
       "            <td>1</td>\n",
       "        </tr>\n",
       "        <tr>\n",
       "            <td>1005</td>\n",
       "            <td>Barbour County</td>\n",
       "            <td>1</td>\n",
       "        </tr>\n",
       "        <tr>\n",
       "            <td>1007</td>\n",
       "            <td>Bibb County</td>\n",
       "            <td>1</td>\n",
       "        </tr>\n",
       "        <tr>\n",
       "            <td>1009</td>\n",
       "            <td>Blount County</td>\n",
       "            <td>1</td>\n",
       "        </tr>\n",
       "        <tr>\n",
       "            <td>1011</td>\n",
       "            <td>Bullock County</td>\n",
       "            <td>1</td>\n",
       "        </tr>\n",
       "        <tr>\n",
       "            <td>1013</td>\n",
       "            <td>Butler County</td>\n",
       "            <td>1</td>\n",
       "        </tr>\n",
       "        <tr>\n",
       "            <td>1015</td>\n",
       "            <td>Calhoun County</td>\n",
       "            <td>1</td>\n",
       "        </tr>\n",
       "        <tr>\n",
       "            <td>1017</td>\n",
       "            <td>Chambers County</td>\n",
       "            <td>1</td>\n",
       "        </tr>\n",
       "    </tbody>\n",
       "</table>"
      ],
      "text/plain": [
       "+------+-----------------+---------------+\n",
       "| fips |      county     | state_numeric |\n",
       "+------+-----------------+---------------+\n",
       "| 1000 |     Alabama     |       1       |\n",
       "| 1001 |  Autauga County |       1       |\n",
       "| 1003 |  Baldwin County |       1       |\n",
       "| 1005 |  Barbour County |       1       |\n",
       "| 1007 |   Bibb County   |       1       |\n",
       "| 1009 |  Blount County  |       1       |\n",
       "| 1011 |  Bullock County |       1       |\n",
       "| 1013 |  Butler County  |       1       |\n",
       "| 1015 |  Calhoun County |       1       |\n",
       "| 1017 | Chambers County |       1       |\n",
       "+------+-----------------+---------------+"
      ]
     },
     "execution_count": 13,
     "metadata": {},
     "output_type": "execute_result"
    }
   ],
   "source": [
    "%sql SELECT * FROM fips_counties LIMIT 10;"
   ]
  },
  {
   "cell_type": "markdown",
   "id": "7d004af6-eafb-4c14-b44e-0fc813dd36e7",
   "metadata": {},
   "source": [
    "If we wanted to **drill down** to the FIPS counties, we'd need to simulate an elevation for those counties that don't exist in `national`.\n",
    "\n",
    "Here's the first step in that process, which creates a simulated value for *every* county in `fips_counties`.\n",
    "* The value is simulated from a normal distribution using that state's elevation statistics (average, standard deviation).\n",
    "* Just like a Python package, we need to import `tablefunc` in order to use the `normal_rand` function.\n",
    "\n",
    "A few other details:\n",
    "* Need `WITH ORDINALITY` to add row numbers to each sample generated via `normal_rand`\n",
    "* We join on these row numbers to ensure that each county gets a unique sampled value"
   ]
  },
  {
   "cell_type": "code",
   "execution_count": 43,
   "id": "c76d955d-0c15-4bf7-a2fd-f381192989f9",
   "metadata": {},
   "outputs": [
    {
     "data": {
      "text/html": [
       "<span style=\"None\">Running query in &#x27;postgresql://localhost:5432/gnis&#x27;</span>"
      ],
      "text/plain": [
       "Running query in 'postgresql://localhost:5432/gnis'"
      ]
     },
     "metadata": {},
     "output_type": "display_data"
    },
    {
     "data": {
      "text/html": [
       "<table>\n",
       "    <thead>\n",
       "        <tr>\n",
       "        </tr>\n",
       "    </thead>\n",
       "    <tbody>\n",
       "    </tbody>\n",
       "</table>"
      ],
      "text/plain": [
       "++\n",
       "||\n",
       "++\n",
       "++"
      ]
     },
     "execution_count": 43,
     "metadata": {},
     "output_type": "execute_result"
    }
   ],
   "source": [
    "%sql CREATE EXTENSION IF NOT EXISTS tablefunc;"
   ]
  },
  {
   "cell_type": "code",
   "execution_count": 44,
   "id": "541c6f86-bde5-4143-b06d-9bfb927e9bfe",
   "metadata": {},
   "outputs": [
    {
     "data": {
      "text/html": [
       "<span style=\"None\">Running query in &#x27;postgresql://localhost:5432/gnis&#x27;</span>"
      ],
      "text/plain": [
       "Running query in 'postgresql://localhost:5432/gnis'"
      ]
     },
     "metadata": {},
     "output_type": "display_data"
    },
    {
     "data": {
      "text/html": [
       "<span style=\"color: green\">10 rows affected.</span>"
      ],
      "text/plain": [
       "10 rows affected."
      ]
     },
     "metadata": {},
     "output_type": "display_data"
    },
    {
     "data": {
      "text/html": [
       "<table>\n",
       "    <thead>\n",
       "        <tr>\n",
       "            <th>state_numeric</th>\n",
       "            <th>county_numeric</th>\n",
       "            <th>avg</th>\n",
       "            <th>stddev</th>\n",
       "            <th>count</th>\n",
       "            <th>rk</th>\n",
       "            <th>sampled_rk</th>\n",
       "            <th>elev_in_m</th>\n",
       "            <th>elev_in_m_sim</th>\n",
       "        </tr>\n",
       "    </thead>\n",
       "    <tbody>\n",
       "        <tr>\n",
       "            <td>1</td>\n",
       "            <td>1000</td>\n",
       "            <td>146.37888198757764</td>\n",
       "            <td>102.92185851771194</td>\n",
       "            <td>339</td>\n",
       "            <td>1</td>\n",
       "            <td>1</td>\n",
       "            <td>56.90046019750608</td>\n",
       "            <td>True</td>\n",
       "        </tr>\n",
       "        <tr>\n",
       "            <td>1</td>\n",
       "            <td>1001</td>\n",
       "            <td>146.37888198757764</td>\n",
       "            <td>102.92185851771194</td>\n",
       "            <td>339</td>\n",
       "            <td>2</td>\n",
       "            <td>2</td>\n",
       "            <td>213.06634933566627</td>\n",
       "            <td>True</td>\n",
       "        </tr>\n",
       "        <tr>\n",
       "            <td>1</td>\n",
       "            <td>1003</td>\n",
       "            <td>146.37888198757764</td>\n",
       "            <td>102.92185851771194</td>\n",
       "            <td>339</td>\n",
       "            <td>3</td>\n",
       "            <td>3</td>\n",
       "            <td>23.284003055592848</td>\n",
       "            <td>True</td>\n",
       "        </tr>\n",
       "        <tr>\n",
       "            <td>1</td>\n",
       "            <td>1005</td>\n",
       "            <td>146.37888198757764</td>\n",
       "            <td>102.92185851771194</td>\n",
       "            <td>339</td>\n",
       "            <td>4</td>\n",
       "            <td>4</td>\n",
       "            <td>151.9617337154284</td>\n",
       "            <td>True</td>\n",
       "        </tr>\n",
       "        <tr>\n",
       "            <td>1</td>\n",
       "            <td>1007</td>\n",
       "            <td>146.37888198757764</td>\n",
       "            <td>102.92185851771194</td>\n",
       "            <td>339</td>\n",
       "            <td>5</td>\n",
       "            <td>5</td>\n",
       "            <td>329.96425880353996</td>\n",
       "            <td>True</td>\n",
       "        </tr>\n",
       "        <tr>\n",
       "            <td>1</td>\n",
       "            <td>1009</td>\n",
       "            <td>146.37888198757764</td>\n",
       "            <td>102.92185851771194</td>\n",
       "            <td>339</td>\n",
       "            <td>6</td>\n",
       "            <td>6</td>\n",
       "            <td>160.99681714734837</td>\n",
       "            <td>True</td>\n",
       "        </tr>\n",
       "        <tr>\n",
       "            <td>1</td>\n",
       "            <td>1011</td>\n",
       "            <td>146.37888198757764</td>\n",
       "            <td>102.92185851771194</td>\n",
       "            <td>339</td>\n",
       "            <td>7</td>\n",
       "            <td>7</td>\n",
       "            <td>29.734467336642723</td>\n",
       "            <td>True</td>\n",
       "        </tr>\n",
       "        <tr>\n",
       "            <td>1</td>\n",
       "            <td>1013</td>\n",
       "            <td>146.37888198757764</td>\n",
       "            <td>102.92185851771194</td>\n",
       "            <td>339</td>\n",
       "            <td>8</td>\n",
       "            <td>8</td>\n",
       "            <td>128.32453691234738</td>\n",
       "            <td>True</td>\n",
       "        </tr>\n",
       "        <tr>\n",
       "            <td>1</td>\n",
       "            <td>1015</td>\n",
       "            <td>146.37888198757764</td>\n",
       "            <td>102.92185851771194</td>\n",
       "            <td>339</td>\n",
       "            <td>9</td>\n",
       "            <td>9</td>\n",
       "            <td>222.8307966482357</td>\n",
       "            <td>True</td>\n",
       "        </tr>\n",
       "        <tr>\n",
       "            <td>1</td>\n",
       "            <td>1017</td>\n",
       "            <td>146.37888198757764</td>\n",
       "            <td>102.92185851771194</td>\n",
       "            <td>339</td>\n",
       "            <td>10</td>\n",
       "            <td>10</td>\n",
       "            <td>153.7432441835299</td>\n",
       "            <td>True</td>\n",
       "        </tr>\n",
       "    </tbody>\n",
       "</table>"
      ],
      "text/plain": [
       "+---------------+----------------+--------------------+--------------------+-------+----+------------+--------------------+---------------+\n",
       "| state_numeric | county_numeric |        avg         |       stddev       | count | rk | sampled_rk |     elev_in_m      | elev_in_m_sim |\n",
       "+---------------+----------------+--------------------+--------------------+-------+----+------------+--------------------+---------------+\n",
       "|       1       |      1000      | 146.37888198757764 | 102.92185851771194 |  339  | 1  |     1      | 56.90046019750608  |      True     |\n",
       "|       1       |      1001      | 146.37888198757764 | 102.92185851771194 |  339  | 2  |     2      | 213.06634933566627 |      True     |\n",
       "|       1       |      1003      | 146.37888198757764 | 102.92185851771194 |  339  | 3  |     3      | 23.284003055592848 |      True     |\n",
       "|       1       |      1005      | 146.37888198757764 | 102.92185851771194 |  339  | 4  |     4      | 151.9617337154284  |      True     |\n",
       "|       1       |      1007      | 146.37888198757764 | 102.92185851771194 |  339  | 5  |     5      | 329.96425880353996 |      True     |\n",
       "|       1       |      1009      | 146.37888198757764 | 102.92185851771194 |  339  | 6  |     6      | 160.99681714734837 |      True     |\n",
       "|       1       |      1011      | 146.37888198757764 | 102.92185851771194 |  339  | 7  |     7      | 29.734467336642723 |      True     |\n",
       "|       1       |      1013      | 146.37888198757764 | 102.92185851771194 |  339  | 8  |     8      | 128.32453691234738 |      True     |\n",
       "|       1       |      1015      | 146.37888198757764 | 102.92185851771194 |  339  | 9  |     9      | 222.8307966482357  |      True     |\n",
       "|       1       |      1017      | 146.37888198757764 | 102.92185851771194 |  339  | 10 |     10     | 153.7432441835299  |      True     |\n",
       "+---------------+----------------+--------------------+--------------------+-------+----+------------+--------------------+---------------+"
      ]
     },
     "execution_count": 44,
     "metadata": {},
     "output_type": "execute_result"
    }
   ],
   "source": [
    "%%sql\n",
    "WITH state_cty AS\n",
    "(SELECT s.state_numeric, f.fips as county_numeric, s.avg, s.stddev, s.count, rank() OVER (PARTITION BY s.state_numeric ORDER BY f.fips) as rk\n",
    "  FROM state_elevations s, fips_counties f\n",
    "  WHERE s.state_numeric = f.state_numeric\n",
    ")\n",
    "SELECT s.*,\n",
    "       n.rn AS sampled_rk,\n",
    "       n.n AS elev_in_m,\n",
    "       true as elev_in_m_sim -- user-facing flag\n",
    "  FROM state_cty s,\n",
    "       LATERAL (SELECT n, rn FROM normal_rand(CAST(s.count AS INTEGER), s.avg, s.stddev) WITH ORDINALITY AS n(n, rn)) n\n",
    "  WHERE s.rk = n.rn\n",
    "LIMIT 10;"
   ]
  },
  {
   "cell_type": "markdown",
   "id": "79eca604-ad43-41f4-9411-a9a7c21413db",
   "metadata": {},
   "source": [
    "# Assembling an Explicit Hierarchy"
   ]
  },
  {
   "cell_type": "code",
   "execution_count": 45,
   "id": "689edf43-7336-4f4a-84da-d1362d04f367",
   "metadata": {},
   "outputs": [
    {
     "data": {
      "text/html": [
       "<span style=\"None\">Switching to connection &#x27;postgresql://localhost:5432/baseball&#x27;</span>"
      ],
      "text/plain": [
       "Switching to connection 'postgresql://localhost:5432/baseball'"
      ]
     },
     "metadata": {},
     "output_type": "display_data"
    }
   ],
   "source": [
    "## we'll use the Lahman baseball database in our initial examples today.\n",
    "## replace the database connection with a database of your own!\n",
    "%reload_ext sql\n",
    "%sql postgresql://localhost:5432/baseball"
   ]
  },
  {
   "cell_type": "markdown",
   "id": "aed8a95a-5ca4-4967-872a-d0143255caa3",
   "metadata": {},
   "source": [
    "Two relations have the pieces of the hierarchy we want:"
   ]
  },
  {
   "cell_type": "code",
   "execution_count": 46,
   "id": "196db8eb-ed0c-4e5c-b56d-f6f7217c0753",
   "metadata": {
    "slideshow": {
     "slide_type": "fragment"
    }
   },
   "outputs": [
    {
     "data": {
      "text/html": [
       "<span style=\"None\">Running query in &#x27;postgresql://localhost:5432/baseball&#x27;</span>"
      ],
      "text/plain": [
       "Running query in 'postgresql://localhost:5432/baseball'"
      ]
     },
     "metadata": {},
     "output_type": "display_data"
    },
    {
     "data": {
      "text/html": [
       "<span style=\"color: green\">2 rows affected.</span>"
      ],
      "text/plain": [
       "2 rows affected."
      ]
     },
     "metadata": {},
     "output_type": "display_data"
    },
    {
     "data": {
      "text/html": [
       "<table>\n",
       "    <thead>\n",
       "        <tr>\n",
       "            <th>year_id</th>\n",
       "            <th>team_id</th>\n",
       "            <th>lg_id</th>\n",
       "            <th>player_id</th>\n",
       "            <th>g_all</th>\n",
       "            <th>gs</th>\n",
       "            <th>g_batting</th>\n",
       "            <th>g_defense</th>\n",
       "            <th>g_p</th>\n",
       "            <th>g_c</th>\n",
       "            <th>g_1b</th>\n",
       "            <th>g_2b</th>\n",
       "            <th>g_3b</th>\n",
       "            <th>g_ss</th>\n",
       "            <th>g_lf</th>\n",
       "            <th>g_cf</th>\n",
       "            <th>g_rf</th>\n",
       "            <th>g_of</th>\n",
       "            <th>g_dh</th>\n",
       "            <th>g_ph</th>\n",
       "            <th>g_pr</th>\n",
       "        </tr>\n",
       "    </thead>\n",
       "    <tbody>\n",
       "        <tr>\n",
       "            <td>1971</td>\n",
       "            <td>ATL</td>\n",
       "            <td>NL</td>\n",
       "            <td>aaronha01</td>\n",
       "            <td>139</td>\n",
       "            <td>129</td>\n",
       "            <td>139</td>\n",
       "            <td>129</td>\n",
       "            <td>0</td>\n",
       "            <td>0</td>\n",
       "            <td>71</td>\n",
       "            <td>0</td>\n",
       "            <td>0</td>\n",
       "            <td>0</td>\n",
       "            <td>0</td>\n",
       "            <td>0</td>\n",
       "            <td>60</td>\n",
       "            <td>60</td>\n",
       "            <td>0</td>\n",
       "            <td>10</td>\n",
       "            <td>0</td>\n",
       "        </tr>\n",
       "        <tr>\n",
       "            <td>1971</td>\n",
       "            <td>ATL</td>\n",
       "            <td>NL</td>\n",
       "            <td>aaronto01</td>\n",
       "            <td>25</td>\n",
       "            <td>10</td>\n",
       "            <td>25</td>\n",
       "            <td>18</td>\n",
       "            <td>0</td>\n",
       "            <td>0</td>\n",
       "            <td>11</td>\n",
       "            <td>0</td>\n",
       "            <td>7</td>\n",
       "            <td>0</td>\n",
       "            <td>0</td>\n",
       "            <td>0</td>\n",
       "            <td>0</td>\n",
       "            <td>0</td>\n",
       "            <td>0</td>\n",
       "            <td>8</td>\n",
       "            <td>0</td>\n",
       "        </tr>\n",
       "    </tbody>\n",
       "</table>"
      ],
      "text/plain": [
       "+---------+---------+-------+-----------+-------+-----+-----------+-----------+-----+-----+------+------+------+------+------+------+------+------+------+------+------+\n",
       "| year_id | team_id | lg_id | player_id | g_all |  gs | g_batting | g_defense | g_p | g_c | g_1b | g_2b | g_3b | g_ss | g_lf | g_cf | g_rf | g_of | g_dh | g_ph | g_pr |\n",
       "+---------+---------+-------+-----------+-------+-----+-----------+-----------+-----+-----+------+------+------+------+------+------+------+------+------+------+------+\n",
       "|   1971  |   ATL   |   NL  | aaronha01 |  139  | 129 |    139    |    129    |  0  |  0  |  71  |  0   |  0   |  0   |  0   |  0   |  60  |  60  |  0   |  10  |  0   |\n",
       "|   1971  |   ATL   |   NL  | aaronto01 |   25  |  10 |     25    |     18    |  0  |  0  |  11  |  0   |  7   |  0   |  0   |  0   |  0   |  0   |  0   |  8   |  0   |\n",
       "+---------+---------+-------+-----------+-------+-----+-----------+-----------+-----+-----+------+------+------+------+------+------+------+------+------+------+------+"
      ]
     },
     "execution_count": 46,
     "metadata": {},
     "output_type": "execute_result"
    }
   ],
   "source": [
    "%sql SELECT * FROM Appearances WHERE year_id > 1970 LIMIT 2;"
   ]
  },
  {
   "cell_type": "code",
   "execution_count": 47,
   "id": "53283495-fa7e-459c-8498-09c096cffb7a",
   "metadata": {
    "slideshow": {
     "slide_type": "fragment"
    }
   },
   "outputs": [
    {
     "data": {
      "text/html": [
       "<span style=\"None\">Running query in &#x27;postgresql://localhost:5432/baseball&#x27;</span>"
      ],
      "text/plain": [
       "Running query in 'postgresql://localhost:5432/baseball'"
      ]
     },
     "metadata": {},
     "output_type": "display_data"
    },
    {
     "data": {
      "text/html": [
       "<span style=\"color: green\">1 rows affected.</span>"
      ],
      "text/plain": [
       "1 rows affected."
      ]
     },
     "metadata": {},
     "output_type": "display_data"
    },
    {
     "data": {
      "text/html": [
       "<table>\n",
       "    <thead>\n",
       "        <tr>\n",
       "            <th>year_id</th>\n",
       "            <th>lg_id</th>\n",
       "            <th>team_id</th>\n",
       "            <th>franch_id</th>\n",
       "            <th>div_id</th>\n",
       "            <th>rank</th>\n",
       "            <th>g</th>\n",
       "            <th>ghome</th>\n",
       "            <th>w</th>\n",
       "            <th>l</th>\n",
       "            <th>divwin</th>\n",
       "            <th>wcwin</th>\n",
       "            <th>lgwin</th>\n",
       "            <th>wswin</th>\n",
       "            <th>r</th>\n",
       "            <th>ab</th>\n",
       "            <th>h</th>\n",
       "            <th>h2b</th>\n",
       "            <th>h3b</th>\n",
       "            <th>hr</th>\n",
       "            <th>bb</th>\n",
       "            <th>so</th>\n",
       "            <th>sb</th>\n",
       "            <th>cs</th>\n",
       "            <th>hbp</th>\n",
       "            <th>sf</th>\n",
       "            <th>ra</th>\n",
       "            <th>er</th>\n",
       "            <th>era</th>\n",
       "            <th>cg</th>\n",
       "            <th>sho</th>\n",
       "            <th>sv</th>\n",
       "            <th>ipouts</th>\n",
       "            <th>ha</th>\n",
       "            <th>hra</th>\n",
       "            <th>bba</th>\n",
       "            <th>soa</th>\n",
       "            <th>e</th>\n",
       "            <th>dp</th>\n",
       "            <th>fp</th>\n",
       "            <th>name</th>\n",
       "            <th>park</th>\n",
       "            <th>attendance</th>\n",
       "            <th>bpf</th>\n",
       "            <th>ppf</th>\n",
       "            <th>team_idbr</th>\n",
       "            <th>team_idlahman45</th>\n",
       "            <th>team_idretro</th>\n",
       "        </tr>\n",
       "    </thead>\n",
       "    <tbody>\n",
       "        <tr>\n",
       "            <td>1871</td>\n",
       "            <td>NA</td>\n",
       "            <td>BS1</td>\n",
       "            <td>BNA</td>\n",
       "            <td>None</td>\n",
       "            <td>3</td>\n",
       "            <td>31</td>\n",
       "            <td>None</td>\n",
       "            <td>20</td>\n",
       "            <td>10</td>\n",
       "            <td>None</td>\n",
       "            <td>None</td>\n",
       "            <td>N</td>\n",
       "            <td>None</td>\n",
       "            <td>401</td>\n",
       "            <td>1372</td>\n",
       "            <td>426</td>\n",
       "            <td>70</td>\n",
       "            <td>37</td>\n",
       "            <td>3</td>\n",
       "            <td>60</td>\n",
       "            <td>19</td>\n",
       "            <td>73</td>\n",
       "            <td>16</td>\n",
       "            <td>None</td>\n",
       "            <td>None</td>\n",
       "            <td>303</td>\n",
       "            <td>109</td>\n",
       "            <td>3.55</td>\n",
       "            <td>22</td>\n",
       "            <td>1</td>\n",
       "            <td>3</td>\n",
       "            <td>828</td>\n",
       "            <td>367</td>\n",
       "            <td>2</td>\n",
       "            <td>42</td>\n",
       "            <td>23</td>\n",
       "            <td>243</td>\n",
       "            <td>24</td>\n",
       "            <td>0.834</td>\n",
       "            <td>Boston Red Stockings</td>\n",
       "            <td>South End Grounds I</td>\n",
       "            <td>None</td>\n",
       "            <td>103</td>\n",
       "            <td>98</td>\n",
       "            <td>BOS</td>\n",
       "            <td>BS1</td>\n",
       "            <td>BS1</td>\n",
       "        </tr>\n",
       "    </tbody>\n",
       "</table>"
      ],
      "text/plain": [
       "+---------+-------+---------+-----------+--------+------+----+-------+----+----+--------+-------+-------+-------+-----+------+-----+-----+-----+----+----+----+----+----+------+------+-----+-----+------+----+-----+----+--------+-----+-----+-----+-----+-----+----+-------+----------------------+---------------------+------------+-----+-----+-----------+-----------------+--------------+\n",
       "| year_id | lg_id | team_id | franch_id | div_id | rank | g  | ghome | w  | l  | divwin | wcwin | lgwin | wswin |  r  |  ab  |  h  | h2b | h3b | hr | bb | so | sb | cs | hbp  |  sf  |  ra |  er | era  | cg | sho | sv | ipouts |  ha | hra | bba | soa |  e  | dp |   fp  |         name         |         park        | attendance | bpf | ppf | team_idbr | team_idlahman45 | team_idretro |\n",
       "+---------+-------+---------+-----------+--------+------+----+-------+----+----+--------+-------+-------+-------+-----+------+-----+-----+-----+----+----+----+----+----+------+------+-----+-----+------+----+-----+----+--------+-----+-----+-----+-----+-----+----+-------+----------------------+---------------------+------------+-----+-----+-----------+-----------------+--------------+\n",
       "|   1871  |   NA  |   BS1   |    BNA    |  None  |  3   | 31 |  None | 20 | 10 |  None  |  None |   N   |  None | 401 | 1372 | 426 |  70 |  37 | 3  | 60 | 19 | 73 | 16 | None | None | 303 | 109 | 3.55 | 22 |  1  | 3  |  828   | 367 |  2  |  42 |  23 | 243 | 24 | 0.834 | Boston Red Stockings | South End Grounds I |    None    | 103 |  98 |    BOS    |       BS1       |     BS1      |\n",
       "+---------+-------+---------+-----------+--------+------+----+-------+----+----+--------+-------+-------+-------+-----+------+-----+-----+-----+----+----+----+----+----+------+------+-----+-----+------+----+-----+----+--------+-----+-----+-----+-----+-----+----+-------+----------------------+---------------------+------------+-----+-----+-----------+-----------------+--------------+"
      ]
     },
     "execution_count": 47,
     "metadata": {},
     "output_type": "execute_result"
    }
   ],
   "source": [
    "%sql SELECT * FROM Teams LIMIT 1;"
   ]
  },
  {
   "cell_type": "markdown",
   "id": "52e0bc5b-8390-4784-a2a5-1dd72b839a33",
   "metadata": {},
   "source": [
    "Let's join these two to make our hierarchy! Which way should we make this?"
   ]
  },
  {
   "cell_type": "code",
   "execution_count": 48,
   "id": "8b6581ef-82cf-4314-abc6-eade2bfd929c",
   "metadata": {},
   "outputs": [
    {
     "data": {
      "text/html": [
       "<span style=\"None\">Running query in &#x27;postgresql://localhost:5432/baseball&#x27;</span>"
      ],
      "text/plain": [
       "Running query in 'postgresql://localhost:5432/baseball'"
      ]
     },
     "metadata": {},
     "output_type": "display_data"
    },
    {
     "data": {
      "text/html": [
       "<span style=\"color: green\">100 rows affected.</span>"
      ],
      "text/plain": [
       "100 rows affected."
      ]
     },
     "metadata": {},
     "output_type": "display_data"
    },
    {
     "data": {
      "text/html": [
       "<table>\n",
       "    <thead>\n",
       "        <tr>\n",
       "            <th>player_id</th>\n",
       "            <th>team_id</th>\n",
       "            <th>div_id</th>\n",
       "            <th>year_id</th>\n",
       "            <th>team_id_1</th>\n",
       "            <th>lg_id</th>\n",
       "            <th>player_id_1</th>\n",
       "            <th>g_all</th>\n",
       "            <th>gs</th>\n",
       "            <th>g_batting</th>\n",
       "            <th>g_defense</th>\n",
       "            <th>g_p</th>\n",
       "            <th>g_c</th>\n",
       "            <th>g_1b</th>\n",
       "            <th>g_2b</th>\n",
       "            <th>g_3b</th>\n",
       "            <th>g_ss</th>\n",
       "            <th>g_lf</th>\n",
       "            <th>g_cf</th>\n",
       "            <th>g_rf</th>\n",
       "            <th>g_of</th>\n",
       "            <th>g_dh</th>\n",
       "            <th>g_ph</th>\n",
       "            <th>g_pr</th>\n",
       "        </tr>\n",
       "    </thead>\n",
       "    <tbody>\n",
       "        <tr>\n",
       "            <td>alvarda02</td>\n",
       "            <td>BAL</td>\n",
       "            <td>E</td>\n",
       "            <td>2015</td>\n",
       "            <td>BAL</td>\n",
       "            <td>AL</td>\n",
       "            <td>alvarda02</td>\n",
       "            <td>12</td>\n",
       "            <td>10</td>\n",
       "            <td>12</td>\n",
       "            <td>12</td>\n",
       "            <td>0</td>\n",
       "            <td>0</td>\n",
       "            <td>0</td>\n",
       "            <td>0</td>\n",
       "            <td>0</td>\n",
       "            <td>0</td>\n",
       "            <td>0</td>\n",
       "            <td>1</td>\n",
       "            <td>12</td>\n",
       "            <td>12</td>\n",
       "            <td>0</td>\n",
       "            <td>0</td>\n",
       "            <td>0</td>\n",
       "        </tr>\n",
       "        <tr>\n",
       "            <td>brachbr01</td>\n",
       "            <td>BAL</td>\n",
       "            <td>E</td>\n",
       "            <td>2015</td>\n",
       "            <td>BAL</td>\n",
       "            <td>AL</td>\n",
       "            <td>brachbr01</td>\n",
       "            <td>62</td>\n",
       "            <td>0</td>\n",
       "            <td>5</td>\n",
       "            <td>62</td>\n",
       "            <td>62</td>\n",
       "            <td>0</td>\n",
       "            <td>0</td>\n",
       "            <td>0</td>\n",
       "            <td>0</td>\n",
       "            <td>0</td>\n",
       "            <td>0</td>\n",
       "            <td>0</td>\n",
       "            <td>0</td>\n",
       "            <td>0</td>\n",
       "            <td>0</td>\n",
       "            <td>0</td>\n",
       "            <td>0</td>\n",
       "        </tr>\n",
       "        <tr>\n",
       "            <td>brittza01</td>\n",
       "            <td>BAL</td>\n",
       "            <td>E</td>\n",
       "            <td>2015</td>\n",
       "            <td>BAL</td>\n",
       "            <td>AL</td>\n",
       "            <td>brittza01</td>\n",
       "            <td>64</td>\n",
       "            <td>0</td>\n",
       "            <td>2</td>\n",
       "            <td>64</td>\n",
       "            <td>64</td>\n",
       "            <td>0</td>\n",
       "            <td>0</td>\n",
       "            <td>0</td>\n",
       "            <td>0</td>\n",
       "            <td>0</td>\n",
       "            <td>0</td>\n",
       "            <td>0</td>\n",
       "            <td>0</td>\n",
       "            <td>0</td>\n",
       "            <td>0</td>\n",
       "            <td>0</td>\n",
       "            <td>0</td>\n",
       "        </tr>\n",
       "        <tr>\n",
       "            <td>cabrace01</td>\n",
       "            <td>BAL</td>\n",
       "            <td>E</td>\n",
       "            <td>2015</td>\n",
       "            <td>BAL</td>\n",
       "            <td>AL</td>\n",
       "            <td>cabrace01</td>\n",
       "            <td>2</td>\n",
       "            <td>0</td>\n",
       "            <td>0</td>\n",
       "            <td>2</td>\n",
       "            <td>2</td>\n",
       "            <td>0</td>\n",
       "            <td>0</td>\n",
       "            <td>0</td>\n",
       "            <td>0</td>\n",
       "            <td>0</td>\n",
       "            <td>0</td>\n",
       "            <td>0</td>\n",
       "            <td>0</td>\n",
       "            <td>0</td>\n",
       "            <td>0</td>\n",
       "            <td>0</td>\n",
       "            <td>0</td>\n",
       "        </tr>\n",
       "        <tr>\n",
       "            <td>cabreev01</td>\n",
       "            <td>BAL</td>\n",
       "            <td>E</td>\n",
       "            <td>2015</td>\n",
       "            <td>BAL</td>\n",
       "            <td>AL</td>\n",
       "            <td>cabreev01</td>\n",
       "            <td>29</td>\n",
       "            <td>28</td>\n",
       "            <td>29</td>\n",
       "            <td>28</td>\n",
       "            <td>0</td>\n",
       "            <td>0</td>\n",
       "            <td>0</td>\n",
       "            <td>2</td>\n",
       "            <td>0</td>\n",
       "            <td>27</td>\n",
       "            <td>0</td>\n",
       "            <td>0</td>\n",
       "            <td>0</td>\n",
       "            <td>0</td>\n",
       "            <td>0</td>\n",
       "            <td>0</td>\n",
       "            <td>1</td>\n",
       "        </tr>\n",
       "        <tr>\n",
       "            <td>chenwe02</td>\n",
       "            <td>BAL</td>\n",
       "            <td>E</td>\n",
       "            <td>2015</td>\n",
       "            <td>BAL</td>\n",
       "            <td>AL</td>\n",
       "            <td>chenwe02</td>\n",
       "            <td>31</td>\n",
       "            <td>31</td>\n",
       "            <td>0</td>\n",
       "            <td>31</td>\n",
       "            <td>31</td>\n",
       "            <td>0</td>\n",
       "            <td>0</td>\n",
       "            <td>0</td>\n",
       "            <td>0</td>\n",
       "            <td>0</td>\n",
       "            <td>0</td>\n",
       "            <td>0</td>\n",
       "            <td>0</td>\n",
       "            <td>0</td>\n",
       "            <td>0</td>\n",
       "            <td>0</td>\n",
       "            <td>0</td>\n",
       "        </tr>\n",
       "        <tr>\n",
       "            <td>clevest01</td>\n",
       "            <td>BAL</td>\n",
       "            <td>E</td>\n",
       "            <td>2015</td>\n",
       "            <td>BAL</td>\n",
       "            <td>AL</td>\n",
       "            <td>clevest01</td>\n",
       "            <td>30</td>\n",
       "            <td>24</td>\n",
       "            <td>30</td>\n",
       "            <td>10</td>\n",
       "            <td>0</td>\n",
       "            <td>9</td>\n",
       "            <td>1</td>\n",
       "            <td>0</td>\n",
       "            <td>0</td>\n",
       "            <td>0</td>\n",
       "            <td>0</td>\n",
       "            <td>0</td>\n",
       "            <td>0</td>\n",
       "            <td>0</td>\n",
       "            <td>18</td>\n",
       "            <td>4</td>\n",
       "            <td>0</td>\n",
       "        </tr>\n",
       "        <tr>\n",
       "            <td>davisch02</td>\n",
       "            <td>BAL</td>\n",
       "            <td>E</td>\n",
       "            <td>2015</td>\n",
       "            <td>BAL</td>\n",
       "            <td>AL</td>\n",
       "            <td>davisch02</td>\n",
       "            <td>160</td>\n",
       "            <td>159</td>\n",
       "            <td>160</td>\n",
       "            <td>138</td>\n",
       "            <td>0</td>\n",
       "            <td>0</td>\n",
       "            <td>111</td>\n",
       "            <td>0</td>\n",
       "            <td>0</td>\n",
       "            <td>0</td>\n",
       "            <td>0</td>\n",
       "            <td>0</td>\n",
       "            <td>30</td>\n",
       "            <td>30</td>\n",
       "            <td>22</td>\n",
       "            <td>0</td>\n",
       "            <td>0</td>\n",
       "        </tr>\n",
       "        <tr>\n",
       "            <td>deazaal01</td>\n",
       "            <td>BAL</td>\n",
       "            <td>E</td>\n",
       "            <td>2015</td>\n",
       "            <td>BAL</td>\n",
       "            <td>AL</td>\n",
       "            <td>deazaal01</td>\n",
       "            <td>30</td>\n",
       "            <td>27</td>\n",
       "            <td>30</td>\n",
       "            <td>27</td>\n",
       "            <td>0</td>\n",
       "            <td>0</td>\n",
       "            <td>0</td>\n",
       "            <td>0</td>\n",
       "            <td>0</td>\n",
       "            <td>0</td>\n",
       "            <td>19</td>\n",
       "            <td>0</td>\n",
       "            <td>13</td>\n",
       "            <td>27</td>\n",
       "            <td>0</td>\n",
       "            <td>3</td>\n",
       "            <td>0</td>\n",
       "        </tr>\n",
       "        <tr>\n",
       "            <td>drakeol01</td>\n",
       "            <td>BAL</td>\n",
       "            <td>E</td>\n",
       "            <td>2015</td>\n",
       "            <td>BAL</td>\n",
       "            <td>AL</td>\n",
       "            <td>drakeol01</td>\n",
       "            <td>13</td>\n",
       "            <td>0</td>\n",
       "            <td>1</td>\n",
       "            <td>13</td>\n",
       "            <td>13</td>\n",
       "            <td>0</td>\n",
       "            <td>0</td>\n",
       "            <td>0</td>\n",
       "            <td>0</td>\n",
       "            <td>0</td>\n",
       "            <td>0</td>\n",
       "            <td>0</td>\n",
       "            <td>0</td>\n",
       "            <td>0</td>\n",
       "            <td>0</td>\n",
       "            <td>0</td>\n",
       "            <td>0</td>\n",
       "        </tr>\n",
       "        <tr>\n",
       "            <td>flahery01</td>\n",
       "            <td>BAL</td>\n",
       "            <td>E</td>\n",
       "            <td>2015</td>\n",
       "            <td>BAL</td>\n",
       "            <td>AL</td>\n",
       "            <td>flahery01</td>\n",
       "            <td>91</td>\n",
       "            <td>81</td>\n",
       "            <td>91</td>\n",
       "            <td>90</td>\n",
       "            <td>0</td>\n",
       "            <td>0</td>\n",
       "            <td>11</td>\n",
       "            <td>56</td>\n",
       "            <td>8</td>\n",
       "            <td>15</td>\n",
       "            <td>1</td>\n",
       "            <td>0</td>\n",
       "            <td>5</td>\n",
       "            <td>6</td>\n",
       "            <td>0</td>\n",
       "            <td>2</td>\n",
       "            <td>3</td>\n",
       "        </tr>\n",
       "        <tr>\n",
       "            <td>garcija03</td>\n",
       "            <td>BAL</td>\n",
       "            <td>E</td>\n",
       "            <td>2015</td>\n",
       "            <td>BAL</td>\n",
       "            <td>AL</td>\n",
       "            <td>garcija03</td>\n",
       "            <td>21</td>\n",
       "            <td>0</td>\n",
       "            <td>3</td>\n",
       "            <td>21</td>\n",
       "            <td>21</td>\n",
       "            <td>0</td>\n",
       "            <td>0</td>\n",
       "            <td>0</td>\n",
       "            <td>0</td>\n",
       "            <td>0</td>\n",
       "            <td>0</td>\n",
       "            <td>0</td>\n",
       "            <td>0</td>\n",
       "            <td>0</td>\n",
       "            <td>0</td>\n",
       "            <td>0</td>\n",
       "            <td>0</td>\n",
       "        </tr>\n",
       "        <tr>\n",
       "            <td>gausmke01</td>\n",
       "            <td>BAL</td>\n",
       "            <td>E</td>\n",
       "            <td>2015</td>\n",
       "            <td>BAL</td>\n",
       "            <td>AL</td>\n",
       "            <td>gausmke01</td>\n",
       "            <td>25</td>\n",
       "            <td>17</td>\n",
       "            <td>1</td>\n",
       "            <td>25</td>\n",
       "            <td>25</td>\n",
       "            <td>0</td>\n",
       "            <td>0</td>\n",
       "            <td>0</td>\n",
       "            <td>0</td>\n",
       "            <td>0</td>\n",
       "            <td>0</td>\n",
       "            <td>0</td>\n",
       "            <td>0</td>\n",
       "            <td>0</td>\n",
       "            <td>0</td>\n",
       "            <td>0</td>\n",
       "            <td>0</td>\n",
       "        </tr>\n",
       "        <tr>\n",
       "            <td>givenmy01</td>\n",
       "            <td>BAL</td>\n",
       "            <td>E</td>\n",
       "            <td>2015</td>\n",
       "            <td>BAL</td>\n",
       "            <td>AL</td>\n",
       "            <td>givenmy01</td>\n",
       "            <td>22</td>\n",
       "            <td>0</td>\n",
       "            <td>1</td>\n",
       "            <td>22</td>\n",
       "            <td>22</td>\n",
       "            <td>0</td>\n",
       "            <td>0</td>\n",
       "            <td>0</td>\n",
       "            <td>0</td>\n",
       "            <td>0</td>\n",
       "            <td>0</td>\n",
       "            <td>0</td>\n",
       "            <td>0</td>\n",
       "            <td>0</td>\n",
       "            <td>0</td>\n",
       "            <td>0</td>\n",
       "            <td>0</td>\n",
       "        </tr>\n",
       "        <tr>\n",
       "            <td>gonzami03</td>\n",
       "            <td>BAL</td>\n",
       "            <td>E</td>\n",
       "            <td>2015</td>\n",
       "            <td>BAL</td>\n",
       "            <td>AL</td>\n",
       "            <td>gonzami03</td>\n",
       "            <td>26</td>\n",
       "            <td>26</td>\n",
       "            <td>1</td>\n",
       "            <td>26</td>\n",
       "            <td>26</td>\n",
       "            <td>0</td>\n",
       "            <td>0</td>\n",
       "            <td>0</td>\n",
       "            <td>0</td>\n",
       "            <td>0</td>\n",
       "            <td>0</td>\n",
       "            <td>0</td>\n",
       "            <td>0</td>\n",
       "            <td>0</td>\n",
       "            <td>0</td>\n",
       "            <td>0</td>\n",
       "            <td>0</td>\n",
       "        </tr>\n",
       "    </tbody>\n",
       "</table>\n",
       "<span style=\"font-style:italic;text-align:center;\">Truncated to <a href=\"https://jupysql.ploomber.io/en/latest/api/configuration.html#displaylimit\">displaylimit</a> of 15.</span>"
      ],
      "text/plain": [
       "+-----------+---------+--------+---------+-----------+-------+-------------+-------+-----+-----------+-----------+-----+-----+------+------+------+------+------+------+------+------+------+------+------+\n",
       "| player_id | team_id | div_id | year_id | team_id_1 | lg_id | player_id_1 | g_all |  gs | g_batting | g_defense | g_p | g_c | g_1b | g_2b | g_3b | g_ss | g_lf | g_cf | g_rf | g_of | g_dh | g_ph | g_pr |\n",
       "+-----------+---------+--------+---------+-----------+-------+-------------+-------+-----+-----------+-----------+-----+-----+------+------+------+------+------+------+------+------+------+------+------+\n",
       "| alvarda02 |   BAL   |   E    |   2015  |    BAL    |   AL  |  alvarda02  |   12  |  10 |     12    |     12    |  0  |  0  |  0   |  0   |  0   |  0   |  0   |  1   |  12  |  12  |  0   |  0   |  0   |\n",
       "| brachbr01 |   BAL   |   E    |   2015  |    BAL    |   AL  |  brachbr01  |   62  |  0  |     5     |     62    |  62 |  0  |  0   |  0   |  0   |  0   |  0   |  0   |  0   |  0   |  0   |  0   |  0   |\n",
       "| brittza01 |   BAL   |   E    |   2015  |    BAL    |   AL  |  brittza01  |   64  |  0  |     2     |     64    |  64 |  0  |  0   |  0   |  0   |  0   |  0   |  0   |  0   |  0   |  0   |  0   |  0   |\n",
       "| cabrace01 |   BAL   |   E    |   2015  |    BAL    |   AL  |  cabrace01  |   2   |  0  |     0     |     2     |  2  |  0  |  0   |  0   |  0   |  0   |  0   |  0   |  0   |  0   |  0   |  0   |  0   |\n",
       "| cabreev01 |   BAL   |   E    |   2015  |    BAL    |   AL  |  cabreev01  |   29  |  28 |     29    |     28    |  0  |  0  |  0   |  2   |  0   |  27  |  0   |  0   |  0   |  0   |  0   |  0   |  1   |\n",
       "|  chenwe02 |   BAL   |   E    |   2015  |    BAL    |   AL  |   chenwe02  |   31  |  31 |     0     |     31    |  31 |  0  |  0   |  0   |  0   |  0   |  0   |  0   |  0   |  0   |  0   |  0   |  0   |\n",
       "| clevest01 |   BAL   |   E    |   2015  |    BAL    |   AL  |  clevest01  |   30  |  24 |     30    |     10    |  0  |  9  |  1   |  0   |  0   |  0   |  0   |  0   |  0   |  0   |  18  |  4   |  0   |\n",
       "| davisch02 |   BAL   |   E    |   2015  |    BAL    |   AL  |  davisch02  |  160  | 159 |    160    |    138    |  0  |  0  | 111  |  0   |  0   |  0   |  0   |  0   |  30  |  30  |  22  |  0   |  0   |\n",
       "| deazaal01 |   BAL   |   E    |   2015  |    BAL    |   AL  |  deazaal01  |   30  |  27 |     30    |     27    |  0  |  0  |  0   |  0   |  0   |  0   |  19  |  0   |  13  |  27  |  0   |  3   |  0   |\n",
       "| drakeol01 |   BAL   |   E    |   2015  |    BAL    |   AL  |  drakeol01  |   13  |  0  |     1     |     13    |  13 |  0  |  0   |  0   |  0   |  0   |  0   |  0   |  0   |  0   |  0   |  0   |  0   |\n",
       "| flahery01 |   BAL   |   E    |   2015  |    BAL    |   AL  |  flahery01  |   91  |  81 |     91    |     90    |  0  |  0  |  11  |  56  |  8   |  15  |  1   |  0   |  5   |  6   |  0   |  2   |  3   |\n",
       "| garcija03 |   BAL   |   E    |   2015  |    BAL    |   AL  |  garcija03  |   21  |  0  |     3     |     21    |  21 |  0  |  0   |  0   |  0   |  0   |  0   |  0   |  0   |  0   |  0   |  0   |  0   |\n",
       "| gausmke01 |   BAL   |   E    |   2015  |    BAL    |   AL  |  gausmke01  |   25  |  17 |     1     |     25    |  25 |  0  |  0   |  0   |  0   |  0   |  0   |  0   |  0   |  0   |  0   |  0   |  0   |\n",
       "| givenmy01 |   BAL   |   E    |   2015  |    BAL    |   AL  |  givenmy01  |   22  |  0  |     1     |     22    |  22 |  0  |  0   |  0   |  0   |  0   |  0   |  0   |  0   |  0   |  0   |  0   |  0   |\n",
       "| gonzami03 |   BAL   |   E    |   2015  |    BAL    |   AL  |  gonzami03  |   26  |  26 |     1     |     26    |  26 |  0  |  0   |  0   |  0   |  0   |  0   |  0   |  0   |  0   |  0   |  0   |  0   |\n",
       "+-----------+---------+--------+---------+-----------+-------+-------------+-------+-----+-----------+-----------+-----+-----+------+------+------+------+------+------+------+------+------+------+------+\n",
       "Truncated to displaylimit of 15."
      ]
     },
     "execution_count": 48,
     "metadata": {},
     "output_type": "execute_result"
    }
   ],
   "source": [
    "%%sql\n",
    "SELECT a.player_id, a.team_id, t.div_id, a.*\n",
    "FROM Appearances a\n",
    "NATURAL JOIN Teams t\n",
    "WHERE a.year_id = 2015\n",
    "LIMIT 100;"
   ]
  },
  {
   "cell_type": "code",
   "execution_count": 49,
   "id": "1355e6ee-c0c9-4f81-835c-192cc610de63",
   "metadata": {},
   "outputs": [
    {
     "data": {
      "text/html": [
       "<span style=\"None\">Running query in &#x27;postgresql://localhost:5432/baseball&#x27;</span>"
      ],
      "text/plain": [
       "Running query in 'postgresql://localhost:5432/baseball'"
      ]
     },
     "metadata": {},
     "output_type": "display_data"
    },
    {
     "data": {
      "text/html": [
       "<table>\n",
       "    <thead>\n",
       "        <tr>\n",
       "        </tr>\n",
       "    </thead>\n",
       "    <tbody>\n",
       "    </tbody>\n",
       "</table>"
      ],
      "text/plain": [
       "++\n",
       "||\n",
       "++\n",
       "++"
      ]
     },
     "execution_count": 49,
     "metadata": {},
     "output_type": "execute_result"
    }
   ],
   "source": [
    "%%sql\n",
    "CREATE OR REPLACE VIEW bball_tree AS (\n",
    "    SELECT DISTINCT\n",
    "        a.player_id, a.team_id, t.div_id,\n",
    "        a.lg_id, a.year_id\n",
    "    FROM appearances a\n",
    "    NATURAL JOIN teams t\n",
    ");"
   ]
  },
  {
   "cell_type": "code",
   "execution_count": 50,
   "id": "f90a99c3-197e-4e93-ac32-1a8d68cbafaf",
   "metadata": {},
   "outputs": [
    {
     "data": {
      "text/html": [
       "<span style=\"None\">Running query in &#x27;postgresql://localhost:5432/baseball&#x27;</span>"
      ],
      "text/plain": [
       "Running query in 'postgresql://localhost:5432/baseball'"
      ]
     },
     "metadata": {},
     "output_type": "display_data"
    },
    {
     "data": {
      "text/html": [
       "<span style=\"color: green\">25 rows affected.</span>"
      ],
      "text/plain": [
       "25 rows affected."
      ]
     },
     "metadata": {},
     "output_type": "display_data"
    },
    {
     "data": {
      "text/html": [
       "<table>\n",
       "    <thead>\n",
       "        <tr>\n",
       "            <th>player_id</th>\n",
       "            <th>team_id</th>\n",
       "            <th>div_id</th>\n",
       "            <th>lg_id</th>\n",
       "            <th>year_id</th>\n",
       "        </tr>\n",
       "    </thead>\n",
       "    <tbody>\n",
       "        <tr>\n",
       "            <td>gumbeha01</td>\n",
       "            <td>NY1</td>\n",
       "            <td>None</td>\n",
       "            <td>NL</td>\n",
       "            <td>1935</td>\n",
       "        </tr>\n",
       "        <tr>\n",
       "            <td>gradymi01</td>\n",
       "            <td>SLN</td>\n",
       "            <td>None</td>\n",
       "            <td>NL</td>\n",
       "            <td>1897</td>\n",
       "        </tr>\n",
       "        <tr>\n",
       "            <td>deshoji01</td>\n",
       "            <td>WS1</td>\n",
       "            <td>None</td>\n",
       "            <td>AL</td>\n",
       "            <td>1938</td>\n",
       "        </tr>\n",
       "        <tr>\n",
       "            <td>prattla01</td>\n",
       "            <td>BRF</td>\n",
       "            <td>None</td>\n",
       "            <td>FL</td>\n",
       "            <td>1915</td>\n",
       "        </tr>\n",
       "        <tr>\n",
       "            <td>thompsa01</td>\n",
       "            <td>PHI</td>\n",
       "            <td>None</td>\n",
       "            <td>NL</td>\n",
       "            <td>1890</td>\n",
       "        </tr>\n",
       "        <tr>\n",
       "            <td>hollica01</td>\n",
       "            <td>DET</td>\n",
       "            <td>None</td>\n",
       "            <td>AL</td>\n",
       "            <td>1922</td>\n",
       "        </tr>\n",
       "        <tr>\n",
       "            <td>halege01</td>\n",
       "            <td>SLA</td>\n",
       "            <td>None</td>\n",
       "            <td>AL</td>\n",
       "            <td>1916</td>\n",
       "        </tr>\n",
       "        <tr>\n",
       "            <td>mamaual01</td>\n",
       "            <td>NYA</td>\n",
       "            <td>None</td>\n",
       "            <td>AL</td>\n",
       "            <td>1924</td>\n",
       "        </tr>\n",
       "        <tr>\n",
       "            <td>henryji01</td>\n",
       "            <td>BOS</td>\n",
       "            <td>None</td>\n",
       "            <td>AL</td>\n",
       "            <td>1937</td>\n",
       "        </tr>\n",
       "        <tr>\n",
       "            <td>cristch01</td>\n",
       "            <td>PHI</td>\n",
       "            <td>None</td>\n",
       "            <td>NL</td>\n",
       "            <td>1906</td>\n",
       "        </tr>\n",
       "        <tr>\n",
       "            <td>mooreed01</td>\n",
       "            <td>BSN</td>\n",
       "            <td>None</td>\n",
       "            <td>NL</td>\n",
       "            <td>1926</td>\n",
       "        </tr>\n",
       "        <tr>\n",
       "            <td>gerbewa01</td>\n",
       "            <td>SLA</td>\n",
       "            <td>None</td>\n",
       "            <td>AL</td>\n",
       "            <td>1917</td>\n",
       "        </tr>\n",
       "        <tr>\n",
       "            <td>westma02</td>\n",
       "            <td>BSN</td>\n",
       "            <td>None</td>\n",
       "            <td>NL</td>\n",
       "            <td>1940</td>\n",
       "        </tr>\n",
       "        <tr>\n",
       "            <td>ryanbl01</td>\n",
       "            <td>NY1</td>\n",
       "            <td>None</td>\n",
       "            <td>NL</td>\n",
       "            <td>1938</td>\n",
       "        </tr>\n",
       "        <tr>\n",
       "            <td>dormare01</td>\n",
       "            <td>CLE</td>\n",
       "            <td>None</td>\n",
       "            <td>AL</td>\n",
       "            <td>1928</td>\n",
       "        </tr>\n",
       "    </tbody>\n",
       "</table>\n",
       "<span style=\"font-style:italic;text-align:center;\">Truncated to <a href=\"https://jupysql.ploomber.io/en/latest/api/configuration.html#displaylimit\">displaylimit</a> of 15.</span>"
      ],
      "text/plain": [
       "+-----------+---------+--------+-------+---------+\n",
       "| player_id | team_id | div_id | lg_id | year_id |\n",
       "+-----------+---------+--------+-------+---------+\n",
       "| gumbeha01 |   NY1   |  None  |   NL  |   1935  |\n",
       "| gradymi01 |   SLN   |  None  |   NL  |   1897  |\n",
       "| deshoji01 |   WS1   |  None  |   AL  |   1938  |\n",
       "| prattla01 |   BRF   |  None  |   FL  |   1915  |\n",
       "| thompsa01 |   PHI   |  None  |   NL  |   1890  |\n",
       "| hollica01 |   DET   |  None  |   AL  |   1922  |\n",
       "|  halege01 |   SLA   |  None  |   AL  |   1916  |\n",
       "| mamaual01 |   NYA   |  None  |   AL  |   1924  |\n",
       "| henryji01 |   BOS   |  None  |   AL  |   1937  |\n",
       "| cristch01 |   PHI   |  None  |   NL  |   1906  |\n",
       "| mooreed01 |   BSN   |  None  |   NL  |   1926  |\n",
       "| gerbewa01 |   SLA   |  None  |   AL  |   1917  |\n",
       "|  westma02 |   BSN   |  None  |   NL  |   1940  |\n",
       "|  ryanbl01 |   NY1   |  None  |   NL  |   1938  |\n",
       "| dormare01 |   CLE   |  None  |   AL  |   1928  |\n",
       "+-----------+---------+--------+-------+---------+\n",
       "Truncated to displaylimit of 15."
      ]
     },
     "execution_count": 50,
     "metadata": {},
     "output_type": "execute_result"
    }
   ],
   "source": [
    "%sql SELECT * FROM bball_tree LIMIT 25;"
   ]
  },
  {
   "cell_type": "markdown",
   "id": "948e46b0-a749-44b3-91ef-e2b58e50146f",
   "metadata": {},
   "source": [
    "### Revisiting the Home Run Query\n",
    "\n",
    "Recall our old home run query:"
   ]
  },
  {
   "cell_type": "code",
   "execution_count": 51,
   "id": "5c52f62c-a9bc-4041-b04e-b88f63d46503",
   "metadata": {
    "slideshow": {
     "slide_type": "fragment"
    }
   },
   "outputs": [
    {
     "data": {
      "text/html": [
       "<span style=\"None\">Running query in &#x27;postgresql://localhost:5432/baseball&#x27;</span>"
      ],
      "text/plain": [
       "Running query in 'postgresql://localhost:5432/baseball'"
      ]
     },
     "metadata": {},
     "output_type": "display_data"
    },
    {
     "data": {
      "text/html": [
       "<span style=\"color: green\">10 rows affected.</span>"
      ],
      "text/plain": [
       "10 rows affected."
      ]
     },
     "metadata": {},
     "output_type": "display_data"
    },
    {
     "data": {
      "text/html": [
       "<table>\n",
       "    <thead>\n",
       "        <tr>\n",
       "            <th>name_first</th>\n",
       "            <th>name_last</th>\n",
       "            <th>year_id</th>\n",
       "            <th>min</th>\n",
       "            <th>max</th>\n",
       "            <th>avg</th>\n",
       "            <th>stddev</th>\n",
       "            <th>sum</th>\n",
       "        </tr>\n",
       "    </thead>\n",
       "    <tbody>\n",
       "        <tr>\n",
       "            <td>Barry</td>\n",
       "            <td>Bonds</td>\n",
       "            <td>2001</td>\n",
       "            <td>73</td>\n",
       "            <td>73</td>\n",
       "            <td>73.0000000000000000</td>\n",
       "            <td>None</td>\n",
       "            <td>73</td>\n",
       "        </tr>\n",
       "        <tr>\n",
       "            <td>Mark</td>\n",
       "            <td>McGwire</td>\n",
       "            <td>1998</td>\n",
       "            <td>70</td>\n",
       "            <td>70</td>\n",
       "            <td>70.0000000000000000</td>\n",
       "            <td>None</td>\n",
       "            <td>70</td>\n",
       "        </tr>\n",
       "        <tr>\n",
       "            <td>Sammy</td>\n",
       "            <td>Sosa</td>\n",
       "            <td>1998</td>\n",
       "            <td>66</td>\n",
       "            <td>66</td>\n",
       "            <td>66.0000000000000000</td>\n",
       "            <td>None</td>\n",
       "            <td>66</td>\n",
       "        </tr>\n",
       "        <tr>\n",
       "            <td>Mark</td>\n",
       "            <td>McGwire</td>\n",
       "            <td>1999</td>\n",
       "            <td>65</td>\n",
       "            <td>65</td>\n",
       "            <td>65.0000000000000000</td>\n",
       "            <td>None</td>\n",
       "            <td>65</td>\n",
       "        </tr>\n",
       "        <tr>\n",
       "            <td>Sammy</td>\n",
       "            <td>Sosa</td>\n",
       "            <td>2001</td>\n",
       "            <td>64</td>\n",
       "            <td>64</td>\n",
       "            <td>64.0000000000000000</td>\n",
       "            <td>None</td>\n",
       "            <td>64</td>\n",
       "        </tr>\n",
       "        <tr>\n",
       "            <td>Sammy</td>\n",
       "            <td>Sosa</td>\n",
       "            <td>1999</td>\n",
       "            <td>63</td>\n",
       "            <td>63</td>\n",
       "            <td>63.0000000000000000</td>\n",
       "            <td>None</td>\n",
       "            <td>63</td>\n",
       "        </tr>\n",
       "        <tr>\n",
       "            <td>Roger</td>\n",
       "            <td>Maris</td>\n",
       "            <td>1961</td>\n",
       "            <td>61</td>\n",
       "            <td>61</td>\n",
       "            <td>61.0000000000000000</td>\n",
       "            <td>None</td>\n",
       "            <td>61</td>\n",
       "        </tr>\n",
       "        <tr>\n",
       "            <td>Babe</td>\n",
       "            <td>Ruth</td>\n",
       "            <td>1927</td>\n",
       "            <td>60</td>\n",
       "            <td>60</td>\n",
       "            <td>60.0000000000000000</td>\n",
       "            <td>None</td>\n",
       "            <td>60</td>\n",
       "        </tr>\n",
       "        <tr>\n",
       "            <td>Babe</td>\n",
       "            <td>Ruth</td>\n",
       "            <td>1921</td>\n",
       "            <td>59</td>\n",
       "            <td>59</td>\n",
       "            <td>59.0000000000000000</td>\n",
       "            <td>None</td>\n",
       "            <td>59</td>\n",
       "        </tr>\n",
       "        <tr>\n",
       "            <td>Giancarlo</td>\n",
       "            <td>Stanton</td>\n",
       "            <td>2017</td>\n",
       "            <td>59</td>\n",
       "            <td>59</td>\n",
       "            <td>59.0000000000000000</td>\n",
       "            <td>None</td>\n",
       "            <td>59</td>\n",
       "        </tr>\n",
       "    </tbody>\n",
       "</table>"
      ],
      "text/plain": [
       "+------------+-----------+---------+-----+-----+---------------------+--------+-----+\n",
       "| name_first | name_last | year_id | min | max |         avg         | stddev | sum |\n",
       "+------------+-----------+---------+-----+-----+---------------------+--------+-----+\n",
       "|   Barry    |   Bonds   |   2001  |  73 |  73 | 73.0000000000000000 |  None  |  73 |\n",
       "|    Mark    |  McGwire  |   1998  |  70 |  70 | 70.0000000000000000 |  None  |  70 |\n",
       "|   Sammy    |    Sosa   |   1998  |  66 |  66 | 66.0000000000000000 |  None  |  66 |\n",
       "|    Mark    |  McGwire  |   1999  |  65 |  65 | 65.0000000000000000 |  None  |  65 |\n",
       "|   Sammy    |    Sosa   |   2001  |  64 |  64 | 64.0000000000000000 |  None  |  64 |\n",
       "|   Sammy    |    Sosa   |   1999  |  63 |  63 | 63.0000000000000000 |  None  |  63 |\n",
       "|   Roger    |   Maris   |   1961  |  61 |  61 | 61.0000000000000000 |  None  |  61 |\n",
       "|    Babe    |    Ruth   |   1927  |  60 |  60 | 60.0000000000000000 |  None  |  60 |\n",
       "|    Babe    |    Ruth   |   1921  |  59 |  59 | 59.0000000000000000 |  None  |  59 |\n",
       "| Giancarlo  |  Stanton  |   2017  |  59 |  59 | 59.0000000000000000 |  None  |  59 |\n",
       "+------------+-----------+---------+-----+-----+---------------------+--------+-----+"
      ]
     },
     "execution_count": 51,
     "metadata": {},
     "output_type": "execute_result"
    }
   ],
   "source": [
    "%%sql\n",
    "SELECT name_first, name_last, year_id,\n",
    "       MIN(hr), MAX(hr), AVG(hr), STDDEV(hr), SUM(hr)\n",
    "FROM batting b, people p\n",
    "WHERE b.player_id = p.player_id\n",
    "GROUP BY name_last, name_first, year_id\n",
    "ORDER BY max DESC\n",
    "LIMIT 10;"
   ]
  },
  {
   "cell_type": "markdown",
   "id": "4433909c-baf0-4744-b196-3ee322086046",
   "metadata": {},
   "source": [
    "Set up for roll up/drill down on `bball_tree` hierarchy.\n",
    "* Join each (raw) person with the associated `bball_tree` entry by `(playerid, yearid)` in a CTE\n",
    "* Use this result for roll-up and drill-down."
   ]
  },
  {
   "cell_type": "markdown",
   "id": "7eee322c-f96c-4576-bf63-c7108226aecb",
   "metadata": {},
   "source": [
    "(blank space before we get to the next exercise....)\n",
    "<br/><br/><br/><br/><br/>\n",
    "<br/><br/><br/><br/><br/>\n",
    "<br/><br/><br/><br/><br/>\n",
    "<br/><br/><br/><br/><br/>"
   ]
  },
  {
   "cell_type": "code",
   "execution_count": 53,
   "id": "cd4c5f2e-aef8-4277-bf8f-b70ba01da070",
   "metadata": {},
   "outputs": [
    {
     "data": {
      "text/html": [
       "<span style=\"None\">Running query in &#x27;postgresql://localhost:5432/baseball&#x27;</span>"
      ],
      "text/plain": [
       "Running query in 'postgresql://localhost:5432/baseball'"
      ]
     },
     "metadata": {},
     "output_type": "display_data"
    },
    {
     "data": {
      "text/html": [
       "<span style=\"color: green\">10 rows affected.</span>"
      ],
      "text/plain": [
       "10 rows affected."
      ]
     },
     "metadata": {},
     "output_type": "display_data"
    },
    {
     "data": {
      "text/html": [
       "<table>\n",
       "    <thead>\n",
       "        <tr>\n",
       "            <th>name_first</th>\n",
       "            <th>name_last</th>\n",
       "            <th>team_id</th>\n",
       "            <th>lg_id</th>\n",
       "            <th>div_id</th>\n",
       "            <th>year_id</th>\n",
       "            <th>min</th>\n",
       "            <th>max</th>\n",
       "            <th>avg</th>\n",
       "            <th>stddev</th>\n",
       "            <th>sum</th>\n",
       "        </tr>\n",
       "    </thead>\n",
       "    <tbody>\n",
       "        <tr>\n",
       "            <td>Barry</td>\n",
       "            <td>Bonds</td>\n",
       "            <td>SFN</td>\n",
       "            <td>NL</td>\n",
       "            <td>W</td>\n",
       "            <td>2001</td>\n",
       "            <td>73</td>\n",
       "            <td>73</td>\n",
       "            <td>73.0000000000000000</td>\n",
       "            <td>None</td>\n",
       "            <td>73</td>\n",
       "        </tr>\n",
       "        <tr>\n",
       "            <td>Mark</td>\n",
       "            <td>McGwire</td>\n",
       "            <td>SLN</td>\n",
       "            <td>NL</td>\n",
       "            <td>C</td>\n",
       "            <td>1998</td>\n",
       "            <td>70</td>\n",
       "            <td>70</td>\n",
       "            <td>70.0000000000000000</td>\n",
       "            <td>None</td>\n",
       "            <td>70</td>\n",
       "        </tr>\n",
       "        <tr>\n",
       "            <td>Sammy</td>\n",
       "            <td>Sosa</td>\n",
       "            <td>CHN</td>\n",
       "            <td>NL</td>\n",
       "            <td>C</td>\n",
       "            <td>1998</td>\n",
       "            <td>66</td>\n",
       "            <td>66</td>\n",
       "            <td>66.0000000000000000</td>\n",
       "            <td>None</td>\n",
       "            <td>66</td>\n",
       "        </tr>\n",
       "        <tr>\n",
       "            <td>Mark</td>\n",
       "            <td>McGwire</td>\n",
       "            <td>SLN</td>\n",
       "            <td>NL</td>\n",
       "            <td>C</td>\n",
       "            <td>1999</td>\n",
       "            <td>65</td>\n",
       "            <td>65</td>\n",
       "            <td>65.0000000000000000</td>\n",
       "            <td>None</td>\n",
       "            <td>65</td>\n",
       "        </tr>\n",
       "        <tr>\n",
       "            <td>Sammy</td>\n",
       "            <td>Sosa</td>\n",
       "            <td>CHN</td>\n",
       "            <td>NL</td>\n",
       "            <td>C</td>\n",
       "            <td>2001</td>\n",
       "            <td>64</td>\n",
       "            <td>64</td>\n",
       "            <td>64.0000000000000000</td>\n",
       "            <td>None</td>\n",
       "            <td>64</td>\n",
       "        </tr>\n",
       "        <tr>\n",
       "            <td>Sammy</td>\n",
       "            <td>Sosa</td>\n",
       "            <td>CHN</td>\n",
       "            <td>NL</td>\n",
       "            <td>C</td>\n",
       "            <td>1999</td>\n",
       "            <td>63</td>\n",
       "            <td>63</td>\n",
       "            <td>63.0000000000000000</td>\n",
       "            <td>None</td>\n",
       "            <td>63</td>\n",
       "        </tr>\n",
       "        <tr>\n",
       "            <td>Roger</td>\n",
       "            <td>Maris</td>\n",
       "            <td>NYA</td>\n",
       "            <td>AL</td>\n",
       "            <td>None</td>\n",
       "            <td>1961</td>\n",
       "            <td>61</td>\n",
       "            <td>61</td>\n",
       "            <td>61.0000000000000000</td>\n",
       "            <td>None</td>\n",
       "            <td>61</td>\n",
       "        </tr>\n",
       "        <tr>\n",
       "            <td>Babe</td>\n",
       "            <td>Ruth</td>\n",
       "            <td>NYA</td>\n",
       "            <td>AL</td>\n",
       "            <td>None</td>\n",
       "            <td>1927</td>\n",
       "            <td>60</td>\n",
       "            <td>60</td>\n",
       "            <td>60.0000000000000000</td>\n",
       "            <td>None</td>\n",
       "            <td>60</td>\n",
       "        </tr>\n",
       "        <tr>\n",
       "            <td>Babe</td>\n",
       "            <td>Ruth</td>\n",
       "            <td>NYA</td>\n",
       "            <td>AL</td>\n",
       "            <td>None</td>\n",
       "            <td>1921</td>\n",
       "            <td>59</td>\n",
       "            <td>59</td>\n",
       "            <td>59.0000000000000000</td>\n",
       "            <td>None</td>\n",
       "            <td>59</td>\n",
       "        </tr>\n",
       "        <tr>\n",
       "            <td>Giancarlo</td>\n",
       "            <td>Stanton</td>\n",
       "            <td>MIA</td>\n",
       "            <td>NL</td>\n",
       "            <td>E</td>\n",
       "            <td>2017</td>\n",
       "            <td>59</td>\n",
       "            <td>59</td>\n",
       "            <td>59.0000000000000000</td>\n",
       "            <td>None</td>\n",
       "            <td>59</td>\n",
       "        </tr>\n",
       "    </tbody>\n",
       "</table>"
      ],
      "text/plain": [
       "+------------+-----------+---------+-------+--------+---------+-----+-----+---------------------+--------+-----+\n",
       "| name_first | name_last | team_id | lg_id | div_id | year_id | min | max |         avg         | stddev | sum |\n",
       "+------------+-----------+---------+-------+--------+---------+-----+-----+---------------------+--------+-----+\n",
       "|   Barry    |   Bonds   |   SFN   |   NL  |   W    |   2001  |  73 |  73 | 73.0000000000000000 |  None  |  73 |\n",
       "|    Mark    |  McGwire  |   SLN   |   NL  |   C    |   1998  |  70 |  70 | 70.0000000000000000 |  None  |  70 |\n",
       "|   Sammy    |    Sosa   |   CHN   |   NL  |   C    |   1998  |  66 |  66 | 66.0000000000000000 |  None  |  66 |\n",
       "|    Mark    |  McGwire  |   SLN   |   NL  |   C    |   1999  |  65 |  65 | 65.0000000000000000 |  None  |  65 |\n",
       "|   Sammy    |    Sosa   |   CHN   |   NL  |   C    |   2001  |  64 |  64 | 64.0000000000000000 |  None  |  64 |\n",
       "|   Sammy    |    Sosa   |   CHN   |   NL  |   C    |   1999  |  63 |  63 | 63.0000000000000000 |  None  |  63 |\n",
       "|   Roger    |   Maris   |   NYA   |   AL  |  None  |   1961  |  61 |  61 | 61.0000000000000000 |  None  |  61 |\n",
       "|    Babe    |    Ruth   |   NYA   |   AL  |  None  |   1927  |  60 |  60 | 60.0000000000000000 |  None  |  60 |\n",
       "|    Babe    |    Ruth   |   NYA   |   AL  |  None  |   1921  |  59 |  59 | 59.0000000000000000 |  None  |  59 |\n",
       "| Giancarlo  |  Stanton  |   MIA   |   NL  |   E    |   2017  |  59 |  59 | 59.0000000000000000 |  None  |  59 |\n",
       "+------------+-----------+---------+-------+--------+---------+-----+-----+---------------------+--------+-----+"
      ]
     },
     "execution_count": 53,
     "metadata": {},
     "output_type": "execute_result"
    }
   ],
   "source": [
    "%%sql\n",
    "WITH batting_tree AS (\n",
    "    SELECT b.*, t.div_id\n",
    "    FROM batting b, bball_tree t\n",
    "    WHERE b.player_id = t.player_id\n",
    "      AND b.year_id = t.year_id\n",
    ")\n",
    "SELECT name_first, name_last,\n",
    "       bt.team_id, bt.lg_id, bt.div_id, bt.year_id,\n",
    "       MIN(hr), MAX(hr), AVG(hr), STDDEV(hr), SUM(hr)\n",
    "FROM batting_tree bt, people p\n",
    "WHERE bt.player_id = p.player_id\n",
    "GROUP BY bt.player_id, bt.team_id, bt.lg_id, bt.div_id, bt.year_id, name_last, name_first\n",
    "ORDER BY max DESC\n",
    "LIMIT 10;\n"
   ]
  }
 ],
 "metadata": {
  "kernelspec": {
   "display_name": "Python 3 (ipykernel)",
   "language": "python",
   "name": "python3"
  },
  "language_info": {
   "codemirror_mode": {
    "name": "ipython",
    "version": 3
   },
   "file_extension": ".py",
   "mimetype": "text/x-python",
   "name": "python",
   "nbconvert_exporter": "python",
   "pygments_lexer": "ipython3",
   "version": "3.11.13"
  },
  "widgets": {
   "application/vnd.jupyter.widget-state+json": {
    "state": {},
    "version_major": 2,
    "version_minor": 0
   }
  }
 },
 "nbformat": 4,
 "nbformat_minor": 5
}
