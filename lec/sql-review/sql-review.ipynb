{
 "cells": [
  {
   "cell_type": "markdown",
   "id": "31f40da4-66a9-4260-a6d6-5bc9e3e8e0f7",
   "metadata": {},
   "source": [
    "# SQL Review"
   ]
  },
  {
   "cell_type": "markdown",
   "id": "26256ed9-4c4d-403a-ab8a-132852df466d",
   "metadata": {},
   "source": [
    "## First load in the data into the database"
   ]
  },
  {
   "cell_type": "code",
   "execution_count": 1,
   "id": "48e4ac3e-cbd6-48c3-9869-4aa293392f2e",
   "metadata": {},
   "outputs": [
    {
     "name": "stdout",
     "output_type": "stream",
     "text": [
      "Archive:  data/imdb_lecture.zip\n"
     ]
    }
   ],
   "source": [
    "!unzip -u data/imdb_lecture.zip -d data/"
   ]
  },
  {
   "cell_type": "code",
   "execution_count": 2,
   "id": "fb6a488c-cb8e-430f-abe3-f2bbf059a3ce",
   "metadata": {},
   "outputs": [
    {
     "name": "stdout",
     "output_type": "stream",
     "text": [
      "DROP DATABASE\n",
      "CREATE DATABASE\n",
      "SET\n",
      "SET\n",
      "SET\n",
      "SET\n",
      "SET\n",
      " set_config \n",
      "------------\n",
      " \n",
      "(1 row)\n",
      "\n",
      "SET\n",
      "SET\n",
      "SET\n",
      "SET\n",
      "SET\n",
      "SET\n",
      "CREATE TABLE\n",
      "ALTER TABLE\n",
      "CREATE TABLE\n",
      "ALTER TABLE\n",
      "CREATE TABLE\n",
      "ALTER TABLE\n",
      "CREATE TABLE\n",
      "ALTER TABLE\n",
      "CREATE TABLE\n",
      "ALTER TABLE\n",
      "CREATE TABLE\n",
      "ALTER TABLE\n",
      "COPY 8405\n",
      "COPY 4043\n",
      "COPY 4923\n",
      "COPY 1223\n",
      "COPY 820\n",
      "COPY 2420\n"
     ]
    }
   ],
   "source": [
    "!psql -h localhost -c 'DROP DATABASE IF EXISTS imdb_lecture'\n",
    "!psql -h localhost -c 'CREATE DATABASE imdb_lecture' \n",
    "!psql -h localhost -d imdb_lecture -f data/imdb_lecture.sql"
   ]
  },
  {
   "cell_type": "markdown",
   "id": "3b4d9681-aec9-465d-a2e6-844d5a81a1f7",
   "metadata": {},
   "source": [
    "## Using `psql` in Terminal\n",
    "\n",
    "`psql` is a command-line PostgreSQL interactive client.\n",
    "\n",
    "I find it useful to keep the Terminal up while I'm working on notebooks for the following:\n",
    "* **meta-commands**: `psql` commands to query information (generally metadata) about the databse\n",
    "* **writing interactive SQL queries**: `psql` shows me a few rows at a time, and I can quit whenever. Avoids Jupyter notebooks running out of space if the query result relation is huge."
   ]
  },
  {
   "cell_type": "markdown",
   "id": "d38b1d1d-32c7-49a4-ae2e-11cf9e00ba7a",
   "metadata": {},
   "source": [
    "To launch `psql` and connect to a specific database, say, the `imdb_lecture` database we just created on `localhost`, open up a Terminal and type in:\n",
    "\n",
    "```\n",
    "psql postgresql://127.0.0.1:5432/imdb_lecture\n",
    "```\n",
    "\n",
    "Note the postgres server is on localhost (i.e., IP address `127.0.0.0.1`) and network port `5432`."
   ]
  },
  {
   "cell_type": "markdown",
   "id": "77dbba24-c5f7-4189-93b8-b5a32cefeda9",
   "metadata": {},
   "source": [
    "Troubleshooting:\n",
    "* You do not have to be in a particular directory to launch the `psql` client!\n",
    "* If you cannot connect or you do not see any relations with `\\d`, make sure you have created/loaded in the database with the `!psql` commands in the previous section.\n",
    "* If your interactive query is not executing, check to see if you have ended with a semicolon (necessary and also generally good style!)."
   ]
  },
  {
   "cell_type": "markdown",
   "id": "1e839eb6-d4ec-4734-a4dc-e334ae7efe9f",
   "metadata": {},
   "source": [
    "Quick reference:\n",
    "* `\\l` list all databases available on this server\n",
    "* `\\d` list all relations in this database\n",
    "* `\\d tablename` list schema of tablename relation\n",
    "* `\\q` quit psql\n",
    "* `\\?` help\n",
    "* `<ctrl>-c` cancel\n",
    "* `<ctrl>-a`, `<ctrl>-e` jump to the front and back of a line, respectively\n",
    "* `<ctrl>-<left>`, `<ctrl>-<right`> jump one word previous and forward, respectively\n",
    "* (when in query result buffer) `<space>` to advance a page, `q` to quit and exit out"
   ]
  },
  {
   "cell_type": "markdown",
   "id": "73a47f79-98da-4d00-a2fc-d557709f6043",
   "metadata": {},
   "source": [
    "# Using `jupysql` in Jupyter Notebook"
   ]
  },
  {
   "cell_type": "markdown",
   "id": "a5faf39b-85c3-4807-ad7e-126e2a22e2dd",
   "metadata": {},
   "source": [
    "We are going to be using the `jupysql` library to connect our notebook to a PostgreSQL database server on your jupyterhub account. The next cell should do the trick; you should not see any error messages after it completes."
   ]
  },
  {
   "cell_type": "code",
   "execution_count": 3,
   "id": "48b60403-2104-4b17-b2ab-7b342986011e",
   "metadata": {},
   "outputs": [],
   "source": [
    "%reload_ext sql"
   ]
  },
  {
   "cell_type": "markdown",
   "id": "0cdddd76-6b75-45c6-94b6-24f4013f2244",
   "metadata": {},
   "source": [
    "Note we did not do `import jupysql` (this will throw an error). You should always load `jupysql` as the `sql` cell magic, as shown above.\n",
    "\n",
    "<br/>\n",
    "\n",
    "`jupysql` helps us create a client connection directly from our Notebook. However, just like before, we first need to connect to our database before we start issuing any queries:"
   ]
  },
  {
   "cell_type": "code",
   "execution_count": 4,
   "id": "628e4a8f-41e2-4fdb-96b3-f74cf5d77843",
   "metadata": {},
   "outputs": [
    {
     "data": {
      "text/html": [
       "<span style=\"None\">Connecting to &#x27;postgresql://jovyan@127.0.0.1:5432/imdb_lecture&#x27;</span>"
      ],
      "text/plain": [
       "Connecting to 'postgresql://jovyan@127.0.0.1:5432/imdb_lecture'"
      ]
     },
     "metadata": {},
     "output_type": "display_data"
    }
   ],
   "source": [
    "%sql postgresql://jovyan@127.0.0.1:5432/imdb_lecture"
   ]
  },
  {
   "cell_type": "markdown",
   "id": "fe4d9d7d-a6f5-4099-8880-c840a6f99285",
   "metadata": {},
   "source": [
    "Now that we are connected, we can start issuing queries! Here's a simple one."
   ]
  },
  {
   "cell_type": "code",
   "execution_count": 5,
   "id": "a9e16e7b-25ab-49d5-af9a-17fddd452aa0",
   "metadata": {},
   "outputs": [
    {
     "data": {
      "text/html": [
       "<span style=\"None\">Running query in &#x27;postgresql://jovyan@127.0.0.1:5432/imdb_lecture&#x27;</span>"
      ],
      "text/plain": [
       "Running query in 'postgresql://jovyan@127.0.0.1:5432/imdb_lecture'"
      ]
     },
     "metadata": {},
     "output_type": "display_data"
    },
    {
     "data": {
      "text/html": [
       "<span style=\"color: green\">10 rows affected.</span>"
      ],
      "text/plain": [
       "10 rows affected."
      ]
     },
     "metadata": {},
     "output_type": "display_data"
    },
    {
     "data": {
      "text/html": [
       "<table>\n",
       "    <thead>\n",
       "        <tr>\n",
       "            <th>person_id</th>\n",
       "            <th>name</th>\n",
       "            <th>born</th>\n",
       "            <th>died</th>\n",
       "        </tr>\n",
       "    </thead>\n",
       "    <tbody>\n",
       "        <tr>\n",
       "            <td>nm0384214</td>\n",
       "            <td>Dwayne Hill</td>\n",
       "            <td>None</td>\n",
       "            <td>None</td>\n",
       "        </tr>\n",
       "        <tr>\n",
       "            <td>nm0362443</td>\n",
       "            <td>Dave Hardman</td>\n",
       "            <td>1960</td>\n",
       "            <td>None</td>\n",
       "        </tr>\n",
       "        <tr>\n",
       "            <td>nm1560888</td>\n",
       "            <td>Rich Pryce-Jones</td>\n",
       "            <td>None</td>\n",
       "            <td>None</td>\n",
       "        </tr>\n",
       "        <tr>\n",
       "            <td>nm0006669</td>\n",
       "            <td>William Sadler</td>\n",
       "            <td>1950</td>\n",
       "            <td>None</td>\n",
       "        </tr>\n",
       "        <tr>\n",
       "            <td>nm1373094</td>\n",
       "            <td>Giada De Laurentiis</td>\n",
       "            <td>1970</td>\n",
       "            <td>None</td>\n",
       "        </tr>\n",
       "        <tr>\n",
       "            <td>nm7316782</td>\n",
       "            <td>Janine Hartmann</td>\n",
       "            <td>None</td>\n",
       "            <td>None</td>\n",
       "        </tr>\n",
       "        <tr>\n",
       "            <td>nm8671663</td>\n",
       "            <td>Tereza Taliánová</td>\n",
       "            <td>2005</td>\n",
       "            <td>None</td>\n",
       "        </tr>\n",
       "        <tr>\n",
       "            <td>nm10480297</td>\n",
       "            <td>Chris Heywood</td>\n",
       "            <td>None</td>\n",
       "            <td>None</td>\n",
       "        </tr>\n",
       "        <tr>\n",
       "            <td>nm10803545</td>\n",
       "            <td>Chengao Zhou</td>\n",
       "            <td>None</td>\n",
       "            <td>None</td>\n",
       "        </tr>\n",
       "        <tr>\n",
       "            <td>nm9849414</td>\n",
       "            <td>Mark Langley</td>\n",
       "            <td>None</td>\n",
       "            <td>None</td>\n",
       "        </tr>\n",
       "    </tbody>\n",
       "</table>\n",
       "<span style=\"font-style:italic;text-align:center;\">Truncated to <a href=\"https://jupysql.ploomber.io/en/latest/api/configuration.html#displaylimit\">displaylimit</a> of 10.</span>"
      ],
      "text/plain": [
       "+------------+---------------------+------+------+\n",
       "| person_id  |         name        | born | died |\n",
       "+------------+---------------------+------+------+\n",
       "| nm0384214  |     Dwayne Hill     | None | None |\n",
       "| nm0362443  |     Dave Hardman    | 1960 | None |\n",
       "| nm1560888  |   Rich Pryce-Jones  | None | None |\n",
       "| nm0006669  |    William Sadler   | 1950 | None |\n",
       "| nm1373094  | Giada De Laurentiis | 1970 | None |\n",
       "| nm7316782  |   Janine Hartmann   | None | None |\n",
       "| nm8671663  |   Tereza Taliánová  | 2005 | None |\n",
       "| nm10480297 |    Chris Heywood    | None | None |\n",
       "| nm10803545 |     Chengao Zhou    | None | None |\n",
       "| nm9849414  |     Mark Langley    | None | None |\n",
       "+------------+---------------------+------+------+\n",
       "Truncated to displaylimit of 10."
      ]
     },
     "execution_count": 5,
     "metadata": {},
     "output_type": "execute_result"
    }
   ],
   "source": [
    "%%sql\n",
    "SELECT *\n",
    "FROM people\n",
    "LIMIT 10;"
   ]
  },
  {
   "cell_type": "markdown",
   "id": "25919a4b-f174-46ff-ab7c-51fbcdae679f",
   "metadata": {},
   "source": [
    "\n",
    "To explore the schemas (like we did in psql), we can use the following commands:\n"
   ]
  },
  {
   "cell_type": "code",
   "execution_count": 6,
   "id": "b70e65c6-e1d6-46b8-9e79-3e01799b3a9d",
   "metadata": {},
   "outputs": [
    {
     "data": {
      "text/html": [
       "<table>\n",
       "    <thead>\n",
       "        <tr>\n",
       "            <th>Name</th>\n",
       "        </tr>\n",
       "    </thead>\n",
       "    <tbody>\n",
       "        <tr>\n",
       "            <td>akas</td>\n",
       "        </tr>\n",
       "        <tr>\n",
       "            <td>crew</td>\n",
       "        </tr>\n",
       "        <tr>\n",
       "            <td>episodes</td>\n",
       "        </tr>\n",
       "        <tr>\n",
       "            <td>people</td>\n",
       "        </tr>\n",
       "        <tr>\n",
       "            <td>ratings</td>\n",
       "        </tr>\n",
       "        <tr>\n",
       "            <td>titles</td>\n",
       "        </tr>\n",
       "    </tbody>\n",
       "</table>"
      ],
      "text/plain": [
       "+----------+\n",
       "|   Name   |\n",
       "+----------+\n",
       "|   akas   |\n",
       "|   crew   |\n",
       "| episodes |\n",
       "|  people  |\n",
       "| ratings  |\n",
       "|  titles  |\n",
       "+----------+"
      ]
     },
     "execution_count": 6,
     "metadata": {},
     "output_type": "execute_result"
    }
   ],
   "source": [
    "%sqlcmd tables"
   ]
  },
  {
   "cell_type": "code",
   "execution_count": 9,
   "id": "59126207-e480-4850-8bbc-376ac657d827",
   "metadata": {},
   "outputs": [
    {
     "data": {
      "text/html": [
       "<table>\n",
       "    <thead>\n",
       "        <tr>\n",
       "            <th>name</th>\n",
       "            <th>type</th>\n",
       "            <th>nullable</th>\n",
       "            <th>default</th>\n",
       "            <th>autoincrement</th>\n",
       "            <th>comment</th>\n",
       "        </tr>\n",
       "    </thead>\n",
       "    <tbody>\n",
       "        <tr>\n",
       "            <td>person_id</td>\n",
       "            <td>TEXT</td>\n",
       "            <td>True</td>\n",
       "            <td>None</td>\n",
       "            <td>False</td>\n",
       "            <td>None</td>\n",
       "        </tr>\n",
       "        <tr>\n",
       "            <td>name</td>\n",
       "            <td>TEXT</td>\n",
       "            <td>True</td>\n",
       "            <td>None</td>\n",
       "            <td>False</td>\n",
       "            <td>None</td>\n",
       "        </tr>\n",
       "        <tr>\n",
       "            <td>born</td>\n",
       "            <td>BIGINT</td>\n",
       "            <td>True</td>\n",
       "            <td>None</td>\n",
       "            <td>False</td>\n",
       "            <td>None</td>\n",
       "        </tr>\n",
       "        <tr>\n",
       "            <td>died</td>\n",
       "            <td>BIGINT</td>\n",
       "            <td>True</td>\n",
       "            <td>None</td>\n",
       "            <td>False</td>\n",
       "            <td>None</td>\n",
       "        </tr>\n",
       "    </tbody>\n",
       "</table>"
      ],
      "text/plain": [
       "+-----------+--------+----------+---------+---------------+---------+\n",
       "|    name   |  type  | nullable | default | autoincrement | comment |\n",
       "+-----------+--------+----------+---------+---------------+---------+\n",
       "| person_id |  TEXT  |   True   |   None  |     False     |   None  |\n",
       "|    name   |  TEXT  |   True   |   None  |     False     |   None  |\n",
       "|    born   | BIGINT |   True   |   None  |     False     |   None  |\n",
       "|    died   | BIGINT |   True   |   None  |     False     |   None  |\n",
       "+-----------+--------+----------+---------+---------------+---------+"
      ]
     },
     "execution_count": 9,
     "metadata": {},
     "output_type": "execute_result"
    }
   ],
   "source": [
    "%sqlcmd columns -t people"
   ]
  },
  {
   "cell_type": "markdown",
   "id": "39564df7-8d55-49c3-905f-e299a48a39f7",
   "metadata": {},
   "source": [
    "## Basic Queries (Screenshots shown in slides)"
   ]
  },
  {
   "cell_type": "code",
   "execution_count": 8,
   "id": "fc396d75-ba1e-44f0-a9f1-261c2f61df25",
   "metadata": {},
   "outputs": [
    {
     "data": {
      "text/html": [
       "<span style=\"None\">Running query in &#x27;postgresql://jovyan@127.0.0.1:5432/imdb_lecture&#x27;</span>"
      ],
      "text/plain": [
       "Running query in 'postgresql://jovyan@127.0.0.1:5432/imdb_lecture'"
      ]
     },
     "metadata": {},
     "output_type": "display_data"
    },
    {
     "data": {
      "text/html": [
       "<span style=\"color: green\">2420 rows affected.</span>"
      ],
      "text/plain": [
       "2420 rows affected."
      ]
     },
     "metadata": {},
     "output_type": "display_data"
    },
    {
     "data": {
      "text/html": [
       "<table>\n",
       "    <thead>\n",
       "        <tr>\n",
       "            <th>title_id</th>\n",
       "            <th>type</th>\n",
       "            <th>primary_title</th>\n",
       "            <th>original_title</th>\n",
       "            <th>is_adult</th>\n",
       "            <th>premiered</th>\n",
       "            <th>ended</th>\n",
       "            <th>runtime_minutes</th>\n",
       "            <th>genres</th>\n",
       "        </tr>\n",
       "    </thead>\n",
       "    <tbody>\n",
       "        <tr>\n",
       "            <td>tt0008572</td>\n",
       "            <td>movie</td>\n",
       "            <td>The Silent Master</td>\n",
       "            <td>The Silent Master</td>\n",
       "            <td>0</td>\n",
       "            <td>1917</td>\n",
       "            <td>None</td>\n",
       "            <td>70</td>\n",
       "            <td>Crime,Drama</td>\n",
       "        </tr>\n",
       "        <tr>\n",
       "            <td>tt0008572</td>\n",
       "            <td>movie</td>\n",
       "            <td>The Silent Master</td>\n",
       "            <td>The Silent Master</td>\n",
       "            <td>0</td>\n",
       "            <td>1917</td>\n",
       "            <td>None</td>\n",
       "            <td>None</td>\n",
       "            <td>Crime,Drama</td>\n",
       "        </tr>\n",
       "        <tr>\n",
       "            <td>tt0009202</td>\n",
       "            <td>movie</td>\n",
       "            <td>The House of Glass</td>\n",
       "            <td>The House of Glass</td>\n",
       "            <td>0</td>\n",
       "            <td>1918</td>\n",
       "            <td>None</td>\n",
       "            <td>50</td>\n",
       "            <td>Drama</td>\n",
       "        </tr>\n",
       "        <tr>\n",
       "            <td>tt0015483</td>\n",
       "            <td>movie</td>\n",
       "            <td>What Three Men Wanted</td>\n",
       "            <td>What Three Men Wanted</td>\n",
       "            <td>0</td>\n",
       "            <td>1924</td>\n",
       "            <td>None</td>\n",
       "            <td>None</td>\n",
       "            <td>Mystery</td>\n",
       "        </tr>\n",
       "        <tr>\n",
       "            <td>tt0017099</td>\n",
       "            <td>movie</td>\n",
       "            <td>Madame Doesn't Want Children</td>\n",
       "            <td>Madame wünscht keine Kinder</td>\n",
       "            <td>0</td>\n",
       "            <td>1926</td>\n",
       "            <td>None</td>\n",
       "            <td>98</td>\n",
       "            <td>Drama</td>\n",
       "        </tr>\n",
       "        <tr>\n",
       "            <td>tt0019700</td>\n",
       "            <td>movie</td>\n",
       "            <td>Black Waters</td>\n",
       "            <td>Black Waters</td>\n",
       "            <td>0</td>\n",
       "            <td>1929</td>\n",
       "            <td>None</td>\n",
       "            <td>84</td>\n",
       "            <td>Crime,Mystery</td>\n",
       "        </tr>\n",
       "        <tr>\n",
       "            <td>tt0021152</td>\n",
       "            <td>movie</td>\n",
       "            <td>Montana Moon</td>\n",
       "            <td>Montana Moon</td>\n",
       "            <td>0</td>\n",
       "            <td>1930</td>\n",
       "            <td>None</td>\n",
       "            <td>89</td>\n",
       "            <td>Western</td>\n",
       "        </tr>\n",
       "        <tr>\n",
       "            <td>tt0023960</td>\n",
       "            <td>movie</td>\n",
       "            <td>Double Harness</td>\n",
       "            <td>Double Harness</td>\n",
       "            <td>0</td>\n",
       "            <td>1933</td>\n",
       "            <td>None</td>\n",
       "            <td>69</td>\n",
       "            <td>Comedy,Drama</td>\n",
       "        </tr>\n",
       "        <tr>\n",
       "            <td>tt0024769</td>\n",
       "            <td>movie</td>\n",
       "            <td>Whistling in the Dark</td>\n",
       "            <td>Whistling in the Dark</td>\n",
       "            <td>0</td>\n",
       "            <td>1933</td>\n",
       "            <td>None</td>\n",
       "            <td>79</td>\n",
       "            <td>Comedy,Crime,Drama</td>\n",
       "        </tr>\n",
       "        <tr>\n",
       "            <td>tt0024895</td>\n",
       "            <td>movie</td>\n",
       "            <td>Black Moon</td>\n",
       "            <td>Black Moon</td>\n",
       "            <td>0</td>\n",
       "            <td>1934</td>\n",
       "            <td>None</td>\n",
       "            <td>68</td>\n",
       "            <td>Drama,Horror</td>\n",
       "        </tr>\n",
       "    </tbody>\n",
       "</table>\n",
       "<span style=\"font-style:italic;text-align:center;\">Truncated to <a href=\"https://jupysql.ploomber.io/en/latest/api/configuration.html#displaylimit\">displaylimit</a> of 10.</span>"
      ],
      "text/plain": [
       "+-----------+-------+------------------------------+-----------------------------+----------+-----------+-------+-----------------+--------------------+\n",
       "|  title_id |  type |        primary_title         |        original_title       | is_adult | premiered | ended | runtime_minutes |       genres       |\n",
       "+-----------+-------+------------------------------+-----------------------------+----------+-----------+-------+-----------------+--------------------+\n",
       "| tt0008572 | movie |      The Silent Master       |      The Silent Master      |    0     |    1917   |  None |        70       |    Crime,Drama     |\n",
       "| tt0008572 | movie |      The Silent Master       |      The Silent Master      |    0     |    1917   |  None |       None      |    Crime,Drama     |\n",
       "| tt0009202 | movie |      The House of Glass      |      The House of Glass     |    0     |    1918   |  None |        50       |       Drama        |\n",
       "| tt0015483 | movie |    What Three Men Wanted     |    What Three Men Wanted    |    0     |    1924   |  None |       None      |      Mystery       |\n",
       "| tt0017099 | movie | Madame Doesn't Want Children | Madame wünscht keine Kinder |    0     |    1926   |  None |        98       |       Drama        |\n",
       "| tt0019700 | movie |         Black Waters         |         Black Waters        |    0     |    1929   |  None |        84       |   Crime,Mystery    |\n",
       "| tt0021152 | movie |         Montana Moon         |         Montana Moon        |    0     |    1930   |  None |        89       |      Western       |\n",
       "| tt0023960 | movie |        Double Harness        |        Double Harness       |    0     |    1933   |  None |        69       |    Comedy,Drama    |\n",
       "| tt0024769 | movie |    Whistling in the Dark     |    Whistling in the Dark    |    0     |    1933   |  None |        79       | Comedy,Crime,Drama |\n",
       "| tt0024895 | movie |          Black Moon          |          Black Moon         |    0     |    1934   |  None |        68       |    Drama,Horror    |\n",
       "+-----------+-------+------------------------------+-----------------------------+----------+-----------+-------+-----------------+--------------------+\n",
       "Truncated to displaylimit of 10."
      ]
     },
     "execution_count": 8,
     "metadata": {},
     "output_type": "execute_result"
    }
   ],
   "source": [
    "%%sql\n",
    "SELECT * FROM titles;"
   ]
  },
  {
   "cell_type": "code",
   "execution_count": 9,
   "id": "c8a7562f-0768-4d7d-9e34-ca221b321635",
   "metadata": {},
   "outputs": [
    {
     "data": {
      "text/html": [
       "<span style=\"None\">Running query in &#x27;postgresql://jovyan@127.0.0.1:5432/imdb_lecture&#x27;</span>"
      ],
      "text/plain": [
       "Running query in 'postgresql://jovyan@127.0.0.1:5432/imdb_lecture'"
      ]
     },
     "metadata": {},
     "output_type": "display_data"
    },
    {
     "data": {
      "text/html": [
       "<span style=\"color: green\">2420 rows affected.</span>"
      ],
      "text/plain": [
       "2420 rows affected."
      ]
     },
     "metadata": {},
     "output_type": "display_data"
    },
    {
     "data": {
      "text/html": [
       "<table>\n",
       "    <thead>\n",
       "        <tr>\n",
       "            <th>premiered</th>\n",
       "            <th>genres</th>\n",
       "        </tr>\n",
       "    </thead>\n",
       "    <tbody>\n",
       "        <tr>\n",
       "            <td>1917</td>\n",
       "            <td>Crime,Drama</td>\n",
       "        </tr>\n",
       "        <tr>\n",
       "            <td>1917</td>\n",
       "            <td>Crime,Drama</td>\n",
       "        </tr>\n",
       "        <tr>\n",
       "            <td>1918</td>\n",
       "            <td>Drama</td>\n",
       "        </tr>\n",
       "        <tr>\n",
       "            <td>1924</td>\n",
       "            <td>Mystery</td>\n",
       "        </tr>\n",
       "        <tr>\n",
       "            <td>1926</td>\n",
       "            <td>Drama</td>\n",
       "        </tr>\n",
       "        <tr>\n",
       "            <td>1929</td>\n",
       "            <td>Crime,Mystery</td>\n",
       "        </tr>\n",
       "        <tr>\n",
       "            <td>1930</td>\n",
       "            <td>Western</td>\n",
       "        </tr>\n",
       "        <tr>\n",
       "            <td>1933</td>\n",
       "            <td>Comedy,Drama</td>\n",
       "        </tr>\n",
       "        <tr>\n",
       "            <td>1933</td>\n",
       "            <td>Comedy,Crime,Drama</td>\n",
       "        </tr>\n",
       "        <tr>\n",
       "            <td>1934</td>\n",
       "            <td>Drama,Horror</td>\n",
       "        </tr>\n",
       "    </tbody>\n",
       "</table>\n",
       "<span style=\"font-style:italic;text-align:center;\">Truncated to <a href=\"https://jupysql.ploomber.io/en/latest/api/configuration.html#displaylimit\">displaylimit</a> of 10.</span>"
      ],
      "text/plain": [
       "+-----------+--------------------+\n",
       "| premiered |       genres       |\n",
       "+-----------+--------------------+\n",
       "|    1917   |    Crime,Drama     |\n",
       "|    1917   |    Crime,Drama     |\n",
       "|    1918   |       Drama        |\n",
       "|    1924   |      Mystery       |\n",
       "|    1926   |       Drama        |\n",
       "|    1929   |   Crime,Mystery    |\n",
       "|    1930   |      Western       |\n",
       "|    1933   |    Comedy,Drama    |\n",
       "|    1933   | Comedy,Crime,Drama |\n",
       "|    1934   |    Drama,Horror    |\n",
       "+-----------+--------------------+\n",
       "Truncated to displaylimit of 10."
      ]
     },
     "execution_count": 9,
     "metadata": {},
     "output_type": "execute_result"
    }
   ],
   "source": [
    "%%sql\n",
    "SELECT premiered, genres\n",
    "FROM titles;"
   ]
  },
  {
   "cell_type": "code",
   "execution_count": 10,
   "id": "a2dd8811-ce24-4b37-a74b-57edd9418ac7",
   "metadata": {},
   "outputs": [
    {
     "data": {
      "text/html": [
       "<span style=\"None\">Running query in &#x27;postgresql://jovyan@127.0.0.1:5432/imdb_lecture&#x27;</span>"
      ],
      "text/plain": [
       "Running query in 'postgresql://jovyan@127.0.0.1:5432/imdb_lecture'"
      ]
     },
     "metadata": {},
     "output_type": "display_data"
    },
    {
     "data": {
      "text/html": [
       "<span style=\"color: green\">1 rows affected.</span>"
      ],
      "text/plain": [
       "1 rows affected."
      ]
     },
     "metadata": {},
     "output_type": "display_data"
    },
    {
     "data": {
      "text/html": [
       "<table>\n",
       "    <thead>\n",
       "        <tr>\n",
       "            <th>title_id</th>\n",
       "            <th>type</th>\n",
       "            <th>primary_title</th>\n",
       "            <th>original_title</th>\n",
       "            <th>is_adult</th>\n",
       "            <th>premiered</th>\n",
       "            <th>ended</th>\n",
       "            <th>runtime_minutes</th>\n",
       "            <th>genres</th>\n",
       "        </tr>\n",
       "    </thead>\n",
       "    <tbody>\n",
       "        <tr>\n",
       "            <td>tt6791350</td>\n",
       "            <td>movie</td>\n",
       "            <td>Guardians of the Galaxy Vol. 3</td>\n",
       "            <td>Guardians of the Galaxy Vol. 3</td>\n",
       "            <td>0</td>\n",
       "            <td>2023</td>\n",
       "            <td>None</td>\n",
       "            <td>None</td>\n",
       "            <td>Action,Adventure,Comedy</td>\n",
       "        </tr>\n",
       "    </tbody>\n",
       "</table>"
      ],
      "text/plain": [
       "+-----------+-------+--------------------------------+--------------------------------+----------+-----------+-------+-----------------+-------------------------+\n",
       "|  title_id |  type |         primary_title          |         original_title         | is_adult | premiered | ended | runtime_minutes |          genres         |\n",
       "+-----------+-------+--------------------------------+--------------------------------+----------+-----------+-------+-----------------+-------------------------+\n",
       "| tt6791350 | movie | Guardians of the Galaxy Vol. 3 | Guardians of the Galaxy Vol. 3 |    0     |    2023   |  None |       None      | Action,Adventure,Comedy |\n",
       "+-----------+-------+--------------------------------+--------------------------------+----------+-----------+-------+-----------------+-------------------------+"
      ]
     },
     "execution_count": 10,
     "metadata": {},
     "output_type": "execute_result"
    }
   ],
   "source": [
    "%%sql\n",
    "SELECT * FROM titles\n",
    "WHERE premiered = 2023;"
   ]
  },
  {
   "cell_type": "code",
   "execution_count": 11,
   "id": "f8010a44-b117-447e-a96e-ef0efcac96c4",
   "metadata": {},
   "outputs": [
    {
     "data": {
      "text/html": [
       "<span style=\"None\">Running query in &#x27;postgresql://jovyan@127.0.0.1:5432/imdb_lecture&#x27;</span>"
      ],
      "text/plain": [
       "Running query in 'postgresql://jovyan@127.0.0.1:5432/imdb_lecture'"
      ]
     },
     "metadata": {},
     "output_type": "display_data"
    },
    {
     "data": {
      "text/html": [
       "<span style=\"color: green\">5 rows affected.</span>"
      ],
      "text/plain": [
       "5 rows affected."
      ]
     },
     "metadata": {},
     "output_type": "display_data"
    },
    {
     "data": {
      "text/html": [
       "<table>\n",
       "    <thead>\n",
       "        <tr>\n",
       "            <th>title_id</th>\n",
       "            <th>title</th>\n",
       "            <th>region</th>\n",
       "            <th>language</th>\n",
       "            <th>types</th>\n",
       "            <th>attributes</th>\n",
       "            <th>is_original_title</th>\n",
       "            <th>title_id_1</th>\n",
       "            <th>type</th>\n",
       "            <th>primary_title</th>\n",
       "            <th>original_title</th>\n",
       "            <th>is_adult</th>\n",
       "            <th>premiered</th>\n",
       "            <th>ended</th>\n",
       "            <th>runtime_minutes</th>\n",
       "            <th>genres</th>\n",
       "        </tr>\n",
       "    </thead>\n",
       "    <tbody>\n",
       "        <tr>\n",
       "            <td>tt0611131</td>\n",
       "            <td>Episodio datato 7 gennaio 2005</td>\n",
       "            <td>IT</td>\n",
       "            <td>it</td>\n",
       "            <td>None</td>\n",
       "            <td>None</td>\n",
       "            <td>0</td>\n",
       "            <td>tt0611131</td>\n",
       "            <td>tvEpisode</td>\n",
       "            <td>Episode dated 7 January 2005</td>\n",
       "            <td>Episode dated 7 January 2005</td>\n",
       "            <td>0</td>\n",
       "            <td>2005</td>\n",
       "            <td>None</td>\n",
       "            <td>None</td>\n",
       "            <td>Documentary</td>\n",
       "        </tr>\n",
       "        <tr>\n",
       "            <td>tt0120647</td>\n",
       "            <td>Olethria sygrousi</td>\n",
       "            <td>GR</td>\n",
       "            <td>None</td>\n",
       "            <td>None</td>\n",
       "            <td>transliterated ISO-LATIN-1 title</td>\n",
       "            <td>0</td>\n",
       "            <td>tt0120647</td>\n",
       "            <td>movie</td>\n",
       "            <td>Deep Impact</td>\n",
       "            <td>Deep Impact</td>\n",
       "            <td>0</td>\n",
       "            <td>1998</td>\n",
       "            <td>None</td>\n",
       "            <td>120</td>\n",
       "            <td>Action,Drama,Romance</td>\n",
       "        </tr>\n",
       "        <tr>\n",
       "            <td>tt0661716</td>\n",
       "            <td>Episódio datado de 15 Maio de 2005</td>\n",
       "            <td>PT</td>\n",
       "            <td>pt</td>\n",
       "            <td>None</td>\n",
       "            <td>None</td>\n",
       "            <td>0</td>\n",
       "            <td>tt0661716</td>\n",
       "            <td>tvEpisode</td>\n",
       "            <td>Episode dated 15 May 2005</td>\n",
       "            <td>Episode dated 15 May 2005</td>\n",
       "            <td>0</td>\n",
       "            <td>2005</td>\n",
       "            <td>None</td>\n",
       "            <td>None</td>\n",
       "            <td>Comedy,Talk-Show</td>\n",
       "        </tr>\n",
       "        <tr>\n",
       "            <td>tt0095889</td>\n",
       "            <td>Poltergeist III</td>\n",
       "            <td>AR</td>\n",
       "            <td>None</td>\n",
       "            <td>imdbDisplay</td>\n",
       "            <td>None</td>\n",
       "            <td>0</td>\n",
       "            <td>tt0095889</td>\n",
       "            <td>movie</td>\n",
       "            <td>Poltergeist III</td>\n",
       "            <td>Poltergeist III</td>\n",
       "            <td>0</td>\n",
       "            <td>1988</td>\n",
       "            <td>None</td>\n",
       "            <td>98</td>\n",
       "            <td>Horror,Thriller</td>\n",
       "        </tr>\n",
       "        <tr>\n",
       "            <td>tt0285371</td>\n",
       "            <td>Katti-Matti 1</td>\n",
       "            <td>FI</td>\n",
       "            <td>None</td>\n",
       "            <td>None</td>\n",
       "            <td>video box title</td>\n",
       "            <td>0</td>\n",
       "            <td>tt0285371</td>\n",
       "            <td>tvSeries</td>\n",
       "            <td>Heathcliff & the Catillac Cats</td>\n",
       "            <td>Heathcliff & the Catillac Cats</td>\n",
       "            <td>0</td>\n",
       "            <td>1984</td>\n",
       "            <td>1987</td>\n",
       "            <td>22</td>\n",
       "            <td>Adventure,Animation,Comedy</td>\n",
       "        </tr>\n",
       "    </tbody>\n",
       "</table>"
      ],
      "text/plain": [
       "+-----------+------------------------------------+--------+----------+-------------+----------------------------------+-------------------+------------+-----------+--------------------------------+--------------------------------+----------+-----------+-------+-----------------+----------------------------+\n",
       "|  title_id |               title                | region | language |    types    |            attributes            | is_original_title | title_id_1 |    type   |         primary_title          |         original_title         | is_adult | premiered | ended | runtime_minutes |           genres           |\n",
       "+-----------+------------------------------------+--------+----------+-------------+----------------------------------+-------------------+------------+-----------+--------------------------------+--------------------------------+----------+-----------+-------+-----------------+----------------------------+\n",
       "| tt0611131 |   Episodio datato 7 gennaio 2005   |   IT   |    it    |     None    |               None               |         0         | tt0611131  | tvEpisode |  Episode dated 7 January 2005  |  Episode dated 7 January 2005  |    0     |    2005   |  None |       None      |        Documentary         |\n",
       "| tt0120647 |         Olethria sygrousi          |   GR   |   None   |     None    | transliterated ISO-LATIN-1 title |         0         | tt0120647  |   movie   |          Deep Impact           |          Deep Impact           |    0     |    1998   |  None |       120       |    Action,Drama,Romance    |\n",
       "| tt0661716 | Episódio datado de 15 Maio de 2005 |   PT   |    pt    |     None    |               None               |         0         | tt0661716  | tvEpisode |   Episode dated 15 May 2005    |   Episode dated 15 May 2005    |    0     |    2005   |  None |       None      |      Comedy,Talk-Show      |\n",
       "| tt0095889 |          Poltergeist III           |   AR   |   None   | imdbDisplay |               None               |         0         | tt0095889  |   movie   |        Poltergeist III         |        Poltergeist III         |    0     |    1988   |  None |        98       |      Horror,Thriller       |\n",
       "| tt0285371 |           Katti-Matti 1            |   FI   |   None   |     None    |         video box title          |         0         | tt0285371  |  tvSeries | Heathcliff & the Catillac Cats | Heathcliff & the Catillac Cats |    0     |    1984   |  1987 |        22       | Adventure,Animation,Comedy |\n",
       "+-----------+------------------------------------+--------+----------+-------------+----------------------------------+-------------------+------------+-----------+--------------------------------+--------------------------------+----------+-----------+-------+-----------------+----------------------------+"
      ]
     },
     "execution_count": 11,
     "metadata": {},
     "output_type": "execute_result"
    },
    {
     "data": {
      "text/html": [
       "<span style=\"None\">Closing postgresql://jovyan@127.0.0.1:5432/imdb_lecture</span>"
      ],
      "text/plain": [
       "Closing postgresql://jovyan@127.0.0.1:5432/imdb_lecture"
      ]
     },
     "metadata": {},
     "output_type": "display_data"
    }
   ],
   "source": [
    "%%sql\n",
    "SELECT * \n",
    "FROM akas, titles\n",
    "WHERE titles.title_id = akas.title_id\n",
    "ORDER BY RANDOM()\n",
    "LIMIT 5;"
   ]
  },
  {
   "cell_type": "code",
   "execution_count": 12,
   "id": "c60df95a-c629-4093-980f-7a979c88970d",
   "metadata": {},
   "outputs": [
    {
     "data": {
      "text/html": [
       "<span style=\"None\">Running query in &#x27;postgresql://jovyan@127.0.0.1:5432/imdb_lecture&#x27;</span>"
      ],
      "text/plain": [
       "Running query in 'postgresql://jovyan@127.0.0.1:5432/imdb_lecture'"
      ]
     },
     "metadata": {},
     "output_type": "display_data"
    },
    {
     "data": {
      "text/html": [
       "<span style=\"color: green\">2446 rows affected.</span>"
      ],
      "text/plain": [
       "2446 rows affected."
      ]
     },
     "metadata": {},
     "output_type": "display_data"
    },
    {
     "data": {
      "text/html": [
       "<table>\n",
       "    <thead>\n",
       "        <tr>\n",
       "            <th>person_id</th>\n",
       "            <th>name</th>\n",
       "            <th>died</th>\n",
       "            <th>born</th>\n",
       "            <th>age</th>\n",
       "        </tr>\n",
       "    </thead>\n",
       "    <tbody>\n",
       "        <tr>\n",
       "            <td>nm0384214</td>\n",
       "            <td>Dwayne Hill</td>\n",
       "            <td>None</td>\n",
       "            <td>None</td>\n",
       "            <td>None</td>\n",
       "        </tr>\n",
       "        <tr>\n",
       "            <td>nm0362443</td>\n",
       "            <td>Dave Hardman</td>\n",
       "            <td>None</td>\n",
       "            <td>1960</td>\n",
       "            <td>64</td>\n",
       "        </tr>\n",
       "        <tr>\n",
       "            <td>nm1560888</td>\n",
       "            <td>Rich Pryce-Jones</td>\n",
       "            <td>None</td>\n",
       "            <td>None</td>\n",
       "            <td>None</td>\n",
       "        </tr>\n",
       "        <tr>\n",
       "            <td>nm0006669</td>\n",
       "            <td>William Sadler</td>\n",
       "            <td>None</td>\n",
       "            <td>1950</td>\n",
       "            <td>74</td>\n",
       "        </tr>\n",
       "        <tr>\n",
       "            <td>nm1373094</td>\n",
       "            <td>Giada De Laurentiis</td>\n",
       "            <td>None</td>\n",
       "            <td>1970</td>\n",
       "            <td>54</td>\n",
       "        </tr>\n",
       "        <tr>\n",
       "            <td>nm7316782</td>\n",
       "            <td>Janine Hartmann</td>\n",
       "            <td>None</td>\n",
       "            <td>None</td>\n",
       "            <td>None</td>\n",
       "        </tr>\n",
       "        <tr>\n",
       "            <td>nm8671663</td>\n",
       "            <td>Tereza Taliánová</td>\n",
       "            <td>None</td>\n",
       "            <td>2005</td>\n",
       "            <td>19</td>\n",
       "        </tr>\n",
       "        <tr>\n",
       "            <td>nm10480297</td>\n",
       "            <td>Chris Heywood</td>\n",
       "            <td>None</td>\n",
       "            <td>None</td>\n",
       "            <td>None</td>\n",
       "        </tr>\n",
       "        <tr>\n",
       "            <td>nm10803545</td>\n",
       "            <td>Chengao Zhou</td>\n",
       "            <td>None</td>\n",
       "            <td>None</td>\n",
       "            <td>None</td>\n",
       "        </tr>\n",
       "        <tr>\n",
       "            <td>nm9849414</td>\n",
       "            <td>Mark Langley</td>\n",
       "            <td>None</td>\n",
       "            <td>None</td>\n",
       "            <td>None</td>\n",
       "        </tr>\n",
       "    </tbody>\n",
       "</table>\n",
       "<span style=\"font-style:italic;text-align:center;\">Truncated to <a href=\"https://jupysql.ploomber.io/en/latest/api/configuration.html#displaylimit\">displaylimit</a> of 10.</span>"
      ],
      "text/plain": [
       "+------------+---------------------+------+------+------+\n",
       "| person_id  |         name        | died | born | age  |\n",
       "+------------+---------------------+------+------+------+\n",
       "| nm0384214  |     Dwayne Hill     | None | None | None |\n",
       "| nm0362443  |     Dave Hardman    | None | 1960 |  64  |\n",
       "| nm1560888  |   Rich Pryce-Jones  | None | None | None |\n",
       "| nm0006669  |    William Sadler   | None | 1950 |  74  |\n",
       "| nm1373094  | Giada De Laurentiis | None | 1970 |  54  |\n",
       "| nm7316782  |   Janine Hartmann   | None | None | None |\n",
       "| nm8671663  |   Tereza Taliánová  | None | 2005 |  19  |\n",
       "| nm10480297 |    Chris Heywood    | None | None | None |\n",
       "| nm10803545 |     Chengao Zhou    | None | None | None |\n",
       "| nm9849414  |     Mark Langley    | None | None | None |\n",
       "+------------+---------------------+------+------+------+\n",
       "Truncated to displaylimit of 10."
      ]
     },
     "execution_count": 12,
     "metadata": {},
     "output_type": "execute_result"
    }
   ],
   "source": [
    "%%sql\n",
    "SELECT\n",
    "    person_id, name,\n",
    "    died, born,\n",
    "    CASE WHEN died IS NULL\n",
    "             THEN 2024 - born\n",
    "         ELSE died - born\n",
    "    END AS age                                                                     \n",
    "FROM people;"
   ]
  },
  {
   "cell_type": "markdown",
   "id": "3c22e931-c067-456e-bb42-3f47aa4839eb",
   "metadata": {},
   "source": [
    "## Aggregation queries (screenshots shown in slides)"
   ]
  },
  {
   "cell_type": "code",
   "execution_count": 13,
   "id": "b3d91b6e-d31e-4140-a3c2-a72e943b7131",
   "metadata": {},
   "outputs": [
    {
     "data": {
      "text/html": [
       "<span style=\"None\">Running query in &#x27;postgresql://jovyan@127.0.0.1:5432/imdb_lecture&#x27;</span>"
      ],
      "text/plain": [
       "Running query in 'postgresql://jovyan@127.0.0.1:5432/imdb_lecture'"
      ]
     },
     "metadata": {},
     "output_type": "display_data"
    },
    {
     "data": {
      "text/html": [
       "<span style=\"color: green\">1 rows affected.</span>"
      ],
      "text/plain": [
       "1 rows affected."
      ]
     },
     "metadata": {},
     "output_type": "display_data"
    },
    {
     "data": {
      "text/html": [
       "<table>\n",
       "    <thead>\n",
       "        <tr>\n",
       "            <th>avg_runtime</th>\n",
       "            <th>min_runtime</th>\n",
       "            <th>count</th>\n",
       "        </tr>\n",
       "    </thead>\n",
       "    <tbody>\n",
       "        <tr>\n",
       "            <td>57.5102272727272727</td>\n",
       "            <td>1</td>\n",
       "            <td>4840</td>\n",
       "        </tr>\n",
       "    </tbody>\n",
       "</table>"
      ],
      "text/plain": [
       "+---------------------+-------------+-------+\n",
       "|     avg_runtime     | min_runtime | count |\n",
       "+---------------------+-------------+-------+\n",
       "| 57.5102272727272727 |      1      |  4840 |\n",
       "+---------------------+-------------+-------+"
      ]
     },
     "execution_count": 13,
     "metadata": {},
     "output_type": "execute_result"
    }
   ],
   "source": [
    "%%sql\n",
    "SELECT\n",
    "    AVG(runtime_minutes)\n",
    "      AS avg_runtime,\n",
    "    MIN(runtime_minutes)\n",
    "      AS min_runtime,\n",
    "    COUNT(*)\n",
    "FROM titles;\n"
   ]
  },
  {
   "cell_type": "code",
   "execution_count": 14,
   "id": "9b7af74c-b6a1-4f61-b7b1-d7705c5f3a35",
   "metadata": {},
   "outputs": [
    {
     "data": {
      "text/html": [
       "<span style=\"None\">Running query in &#x27;postgresql://jovyan@127.0.0.1:5432/imdb_lecture&#x27;</span>"
      ],
      "text/plain": [
       "Running query in 'postgresql://jovyan@127.0.0.1:5432/imdb_lecture'"
      ]
     },
     "metadata": {},
     "output_type": "display_data"
    },
    {
     "data": {
      "text/html": [
       "<span style=\"color: green\">10 rows affected.</span>"
      ],
      "text/plain": [
       "10 rows affected."
      ]
     },
     "metadata": {},
     "output_type": "display_data"
    },
    {
     "data": {
      "text/html": [
       "<table>\n",
       "    <thead>\n",
       "        <tr>\n",
       "            <th>type</th>\n",
       "            <th>avg</th>\n",
       "            <th>min</th>\n",
       "            <th>count</th>\n",
       "        </tr>\n",
       "    </thead>\n",
       "    <tbody>\n",
       "        <tr>\n",
       "            <td>tvShort</td>\n",
       "            <td>7.0000000000000000</td>\n",
       "            <td>1</td>\n",
       "            <td>6</td>\n",
       "        </tr>\n",
       "        <tr>\n",
       "            <td>movie</td>\n",
       "            <td>93.2541666666666667</td>\n",
       "            <td>45</td>\n",
       "            <td>708</td>\n",
       "        </tr>\n",
       "        <tr>\n",
       "            <td>short</td>\n",
       "            <td>14.0000000000000000</td>\n",
       "            <td>2</td>\n",
       "            <td>78</td>\n",
       "        </tr>\n",
       "        <tr>\n",
       "            <td>tvMovie</td>\n",
       "            <td>78.8750000000000000</td>\n",
       "            <td>24</td>\n",
       "            <td>44</td>\n",
       "        </tr>\n",
       "        <tr>\n",
       "            <td>tvMiniSeries</td>\n",
       "            <td>245.5000000000000000</td>\n",
       "            <td>46</td>\n",
       "            <td>8</td>\n",
       "        </tr>\n",
       "        <tr>\n",
       "            <td>videoGame</td>\n",
       "            <td>None</td>\n",
       "            <td>None</td>\n",
       "            <td>4</td>\n",
       "        </tr>\n",
       "        <tr>\n",
       "            <td>tvEpisode</td>\n",
       "            <td>39.3271604938271605</td>\n",
       "            <td>7</td>\n",
       "            <td>3046</td>\n",
       "        </tr>\n",
       "        <tr>\n",
       "            <td>video</td>\n",
       "            <td>34.2921348314606742</td>\n",
       "            <td>2</td>\n",
       "            <td>194</td>\n",
       "        </tr>\n",
       "        <tr>\n",
       "            <td>tvSpecial</td>\n",
       "            <td>76.3333333333333333</td>\n",
       "            <td>30</td>\n",
       "            <td>16</td>\n",
       "        </tr>\n",
       "        <tr>\n",
       "            <td>tvSeries</td>\n",
       "            <td>57.2456140350877193</td>\n",
       "            <td>1</td>\n",
       "            <td>736</td>\n",
       "        </tr>\n",
       "    </tbody>\n",
       "</table>\n",
       "<span style=\"font-style:italic;text-align:center;\">Truncated to <a href=\"https://jupysql.ploomber.io/en/latest/api/configuration.html#displaylimit\">displaylimit</a> of 10.</span>"
      ],
      "text/plain": [
       "+--------------+----------------------+------+-------+\n",
       "|     type     |         avg          | min  | count |\n",
       "+--------------+----------------------+------+-------+\n",
       "|   tvShort    |  7.0000000000000000  |  1   |   6   |\n",
       "|    movie     | 93.2541666666666667  |  45  |  708  |\n",
       "|    short     | 14.0000000000000000  |  2   |   78  |\n",
       "|   tvMovie    | 78.8750000000000000  |  24  |   44  |\n",
       "| tvMiniSeries | 245.5000000000000000 |  46  |   8   |\n",
       "|  videoGame   |         None         | None |   4   |\n",
       "|  tvEpisode   | 39.3271604938271605  |  7   |  3046 |\n",
       "|    video     | 34.2921348314606742  |  2   |  194  |\n",
       "|  tvSpecial   | 76.3333333333333333  |  30  |   16  |\n",
       "|   tvSeries   | 57.2456140350877193  |  1   |  736  |\n",
       "+--------------+----------------------+------+-------+\n",
       "Truncated to displaylimit of 10."
      ]
     },
     "execution_count": 14,
     "metadata": {},
     "output_type": "execute_result"
    }
   ],
   "source": [
    "%%sql\n",
    "SELECT\n",
    "    type,\n",
    "    AVG(runtime_minutes),\n",
    "    MIN(runtime_minutes),\n",
    "    COUNT(*)\n",
    "FROM titles\n",
    "GROUP BY type;\n"
   ]
  },
  {
   "cell_type": "code",
   "execution_count": 15,
   "id": "e5687a52-912a-4718-846b-073b229361a4",
   "metadata": {},
   "outputs": [
    {
     "data": {
      "text/html": [
       "<span style=\"None\">Running query in &#x27;postgresql://jovyan@127.0.0.1:5432/imdb_lecture&#x27;</span>"
      ],
      "text/plain": [
       "Running query in 'postgresql://jovyan@127.0.0.1:5432/imdb_lecture'"
      ]
     },
     "metadata": {},
     "output_type": "display_data"
    },
    {
     "data": {
      "text/html": [
       "<span style=\"color: green\">5 rows affected.</span>"
      ],
      "text/plain": [
       "5 rows affected."
      ]
     },
     "metadata": {},
     "output_type": "display_data"
    },
    {
     "data": {
      "text/html": [
       "<table>\n",
       "    <thead>\n",
       "        <tr>\n",
       "            <th>type</th>\n",
       "            <th>count</th>\n",
       "        </tr>\n",
       "    </thead>\n",
       "    <tbody>\n",
       "        <tr>\n",
       "            <td>movie</td>\n",
       "            <td>342</td>\n",
       "        </tr>\n",
       "        <tr>\n",
       "            <td>short</td>\n",
       "            <td>68</td>\n",
       "        </tr>\n",
       "        <tr>\n",
       "            <td>tvEpisode</td>\n",
       "            <td>1714</td>\n",
       "        </tr>\n",
       "        <tr>\n",
       "            <td>video</td>\n",
       "            <td>180</td>\n",
       "        </tr>\n",
       "        <tr>\n",
       "            <td>tvSeries</td>\n",
       "            <td>522</td>\n",
       "        </tr>\n",
       "    </tbody>\n",
       "</table>"
      ],
      "text/plain": [
       "+-----------+-------+\n",
       "|    type   | count |\n",
       "+-----------+-------+\n",
       "|   movie   |  342  |\n",
       "|   short   |   68  |\n",
       "| tvEpisode |  1714 |\n",
       "|   video   |  180  |\n",
       "|  tvSeries |  522  |\n",
       "+-----------+-------+"
      ]
     },
     "execution_count": 15,
     "metadata": {},
     "output_type": "execute_result"
    }
   ],
   "source": [
    "%%sql\n",
    "SELECT type, COUNT(*)\n",
    "FROM titles\n",
    "WHERE\n",
    "  premiered >= 2000\n",
    "GROUP BY type\n",
    "HAVING COUNT(*) > 30;"
   ]
  },
  {
   "cell_type": "markdown",
   "id": "e8d800f1-ecb0-4d19-8204-18f4fda97bd8",
   "metadata": {},
   "source": [
    "## Query Design Exercise\n",
    "\n",
    "How do we write a query to get the titles and IDs of Michelle Yeoh movies? Hint: look at akas, titles, peoples relations"
   ]
  },
  {
   "cell_type": "code",
   "execution_count": null,
   "id": "5f735eb8-76b7-43ac-9cdb-ad85738158c0",
   "metadata": {},
   "outputs": [],
   "source": []
  }
 ],
 "metadata": {
  "kernelspec": {
   "display_name": "Python 3 (ipykernel)",
   "language": "python",
   "name": "python3"
  },
  "language_info": {
   "codemirror_mode": {
    "name": "ipython",
    "version": 3
   },
   "file_extension": ".py",
   "mimetype": "text/x-python",
   "name": "python",
   "nbconvert_exporter": "python",
   "pygments_lexer": "ipython3",
   "version": "3.11.13"
  }
 },
 "nbformat": 4,
 "nbformat_minor": 5
}
