{
 "cells": [
  {
   "cell_type": "markdown",
   "id": "3e5366ae-67ea-4ccf-a279-39a96dcca794",
   "metadata": {},
   "source": [
    "# Mongo DB II"
   ]
  },
  {
   "cell_type": "code",
   "execution_count": 1,
   "id": "3d6e7386-7dab-4f9e-b8b1-9b6accac1799",
   "metadata": {},
   "outputs": [],
   "source": [
    "import json\n",
    "import pymongo\n",
    "import pprint"
   ]
  },
  {
   "cell_type": "code",
   "execution_count": 3,
   "id": "5b796961-0425-46e5-8a1b-11db102ee0e7",
   "metadata": {},
   "outputs": [],
   "source": [
    "# this is a utility function we define so that find_all() prints nicely\n",
    "def pretty_print(output_collection, n_to_print=3):\n",
    "    \"\"\"\n",
    "    note if n_to_print is -1, this print everything\n",
    "    \"\"\"\n",
    "    for i, doc in enumerate(output_collection):\n",
    "        pprint.pprint(doc)        # nicely formats each document\n",
    "        if i+1 == n_to_print: return"
   ]
  },
  {
   "cell_type": "code",
   "execution_count": null,
   "id": "9e3e5aaa-63d4-4f3d-a9f2-7bb7dfdeb850",
   "metadata": {},
   "outputs": [],
   "source": []
  },
  {
   "cell_type": "markdown",
   "id": "072e279f-56ad-4a81-be77-194210a84d5d",
   "metadata": {},
   "source": [
    "# Aggregation Queries"
   ]
  },
  {
   "cell_type": "markdown",
   "id": "9594594c-df26-4d52-b925-53be4ecd1090",
   "metadata": {},
   "source": [
    "Zips JSON from the MongoDB Aggregation Tutorial: https://www.mongodb.com/docs/manual/tutorial/aggregation-zip-code-data-set/"
   ]
  },
  {
   "cell_type": "markdown",
   "id": "c9035600-e5ab-4065-97f5-44229f518833",
   "metadata": {},
   "source": [
    "## Load `zips.json` into new `local.zips`"
   ]
  },
  {
   "cell_type": "markdown",
   "id": "5a808fbd-a82e-4185-ba56-e6d6d8f24bf8",
   "metadata": {},
   "source": [
    "For the sake of simplicity, we'll make a new collection `zips` in a new `aggquerydb` database."
   ]
  },
  {
   "cell_type": "code",
   "execution_count": 4,
   "id": "3062a9cb-bd90-4ac7-be8b-4f842d00fbc4",
   "metadata": {},
   "outputs": [],
   "source": [
    "# reimport/redefine as needed\n",
    "import json\n",
    "import pymongo\n",
    "import pprint\n",
    "\n",
    "def pretty_print(output_collection, n_to_print=3):\n",
    "    \"\"\"\n",
    "    note if n_to_print is -1, this print everything\n",
    "    \"\"\"\n",
    "    for i, doc in enumerate(output_collection):\n",
    "        pprint.pprint(doc)        # nicely formats each document\n",
    "        if i+1 == n_to_print: return"
   ]
  },
  {
   "cell_type": "code",
   "execution_count": 5,
   "id": "ca45b233-9dfe-4ed2-917f-ee32a5e3f035",
   "metadata": {},
   "outputs": [
    {
     "data": {
      "text/plain": [
       "['admin', 'config', 'local', 'nobel_prizes']"
      ]
     },
     "execution_count": 5,
     "metadata": {},
     "output_type": "execute_result"
    }
   ],
   "source": [
    "client = pymongo.MongoClient('mongodb://localhost')\n",
    "client.list_database_names()"
   ]
  },
  {
   "cell_type": "code",
   "execution_count": 8,
   "id": "0e0cfc35-bc3d-4d8a-aaea-32feb5ca2f9f",
   "metadata": {},
   "outputs": [],
   "source": [
    "# run this cell to make the new collection\n",
    "# and insert zipcode documents\n",
    "\n",
    "\n",
    "client.drop_database('aggquerydb') # if already exists\n",
    "db = client.aggquerydb\n",
    "\n",
    "with open('../mongodb-retrieval/data/zips.json', encoding='utf-8') as f:\n",
    "    for line in f.readlines():\n",
    "        db.zips.insert_one(json.loads(line))"
   ]
  },
  {
   "cell_type": "code",
   "execution_count": 9,
   "id": "9d318a3b-3671-4f25-8d61-de933069eda7",
   "metadata": {},
   "outputs": [
    {
     "data": {
      "text/plain": [
       "29353"
      ]
     },
     "execution_count": 9,
     "metadata": {},
     "output_type": "execute_result"
    }
   ],
   "source": [
    "db.zips.count_documents({})"
   ]
  },
  {
   "cell_type": "markdown",
   "id": "33990568-d5d5-4ded-8096-0cc3b80c7017",
   "metadata": {},
   "source": [
    "## `$group`"
   ]
  },
  {
   "cell_type": "code",
   "execution_count": 10,
   "id": "b0596b1e-320c-4dd7-b680-021afd47a4a9",
   "metadata": {},
   "outputs": [
    {
     "name": "stdout",
     "output_type": "stream",
     "text": [
      "{'_id': 'NC', 'totalPop': 6628637}\n",
      "{'_id': 'TN', 'totalPop': 4876457}\n",
      "{'_id': 'MA', 'totalPop': 6016425}\n",
      "{'_id': 'UT', 'totalPop': 1722850}\n",
      "{'_id': 'KY', 'totalPop': 3675484}\n"
     ]
    }
   ],
   "source": [
    "# Just the grouping, no filtering\n",
    "output = db.zips.aggregate( [    \n",
    "    { \"$group\": { \"_id\": \"$state\",  \n",
    "              \"totalPop\":\n",
    "                   { \"$sum\": \"$pop\" } } },    \n",
    "] )\n",
    "\n",
    "pretty_print(output, n_to_print=5)"
   ]
  },
  {
   "cell_type": "code",
   "execution_count": 12,
   "id": "b2550972-e19b-4b1c-9e7c-7670a290ca5f",
   "metadata": {},
   "outputs": [
    {
     "name": "stdout",
     "output_type": "stream",
     "text": [
      "{'_id': 'CA', 'totalPop': 29754890}\n",
      "{'_id': 'NY', 'totalPop': 17990402}\n",
      "{'_id': 'TX', 'totalPop': 16984601}\n"
     ]
    }
   ],
   "source": [
    "# adding some filtering and sorting\n",
    "output = db.zips.aggregate( [    \n",
    "{ \"$group\": { \"_id\": \"$state\",  \n",
    "              \"totalPop\":\n",
    "                   { \"$sum\": \"$pop\" } } },    \n",
    "{ \"$match\": { \"totalPop\":\n",
    "            { \"$gte\": 15000000 } } }, \n",
    "{ \"$sort\" : { \"totalPop\" : -1 } }\n",
    "] )\n",
    "\n",
    "pretty_print(output, n_to_print=10)"
   ]
  },
  {
   "cell_type": "markdown",
   "id": "96c4514f-501e-4909-a47b-e5fca0adc64e",
   "metadata": {},
   "source": [
    "# Aggregation Queries: Unwind/Lookup"
   ]
  },
  {
   "cell_type": "markdown",
   "id": "ad7befa2-a480-490d-8da1-e0d6e0c9968c",
   "metadata": {},
   "source": [
    "Make a new collection, `inventory`."
   ]
  },
  {
   "cell_type": "code",
   "execution_count": 13,
   "id": "b196fd59-1942-4934-9140-39f4cba7d1b9",
   "metadata": {},
   "outputs": [],
   "source": [
    "db = client.aggquerydb          # stay in same database\n",
    "db.drop_collection('inventory') # recreate as needed\n",
    "\n",
    "db.inventory.insert_many( [    \n",
    "{ \"item\": \"journal\",\n",
    " \"tags\": [\"blank\", \"red\"],\n",
    " \"dim\": [ 14, 21 ],\n",
    " \"instock\": [ { \"loc\": \"A\", \"qty\": 5 }, { \"loc\": \"C\", \"qty\": 15 } ]\n",
    "},    \n",
    "{ \"item\": \"notebook\",\n",
    " \"tags\": [\"red\", \"blank\"],\n",
    " \"dim\": [ 14, 21 ],\n",
    " \"instock\": [ { \"loc\": \"C\", \"qty\": 5 } ]\n",
    "},    \n",
    "{ \"item\": \"paper\",\n",
    " \"tags\": [\"red\", \"blank\", \"plain\"],\n",
    " \"dim\": [ 14, 21 ],\n",
    " \"instock\": [ { \"loc\": \"A\", \"qty\": 60 }, { \"loc\": \"B\", \"qty\": 15 } ]\n",
    "},    \n",
    "{ \"item\": \"planner\",\n",
    " \"tags\": [\"blank\", \"red\"],\n",
    " \"dim\": [ 22.85, 30 ] ,\n",
    " \"instock\": [ { \"loc\": \"A\", \"qty\": 40 }, { \"loc\": \"B\", \"qty\": 5 } ]\n",
    "},    \n",
    "{ \"item\": \"postcard\",\n",
    " \"tags\": [\"blue\"],\n",
    " \"dim\": [ 10, 15.25 ],\n",
    " \"instock\": [ { \"loc\": \"E\", \"qty\": 15 }, { \"loc\": \"D\", \"qty\": 35 } ]\n",
    "}\n",
    "]);"
   ]
  },
  {
   "cell_type": "code",
   "execution_count": 14,
   "id": "dd490da0-8467-41ab-8aa9-9d729d0dbde5",
   "metadata": {},
   "outputs": [
    {
     "name": "stdout",
     "output_type": "stream",
     "text": [
      "{'_id': ObjectId('6900f75e417f7dcbd6dedb10'),\n",
      " 'dim': [14, 21],\n",
      " 'instock': [{'loc': 'A', 'qty': 5}, {'loc': 'C', 'qty': 15}],\n",
      " 'item': 'journal',\n",
      " 'tags': ['blank', 'red']}\n",
      "{'_id': ObjectId('6900f75e417f7dcbd6dedb11'),\n",
      " 'dim': [14, 21],\n",
      " 'instock': [{'loc': 'C', 'qty': 5}],\n",
      " 'item': 'notebook',\n",
      " 'tags': ['red', 'blank']}\n",
      "{'_id': ObjectId('6900f75e417f7dcbd6dedb12'),\n",
      " 'dim': [14, 21],\n",
      " 'instock': [{'loc': 'A', 'qty': 60}, {'loc': 'B', 'qty': 15}],\n",
      " 'item': 'paper',\n",
      " 'tags': ['red', 'blank', 'plain']}\n"
     ]
    }
   ],
   "source": [
    "pretty_print(db.inventory.find({}))"
   ]
  },
  {
   "cell_type": "markdown",
   "id": "22116407-1516-4aff-8eba-b4e66a5b48dc",
   "metadata": {},
   "source": [
    "## Unwind example"
   ]
  },
  {
   "cell_type": "code",
   "execution_count": 15,
   "id": "6df1e22a-9257-41d0-af33-20377094d868",
   "metadata": {},
   "outputs": [
    {
     "name": "stdout",
     "output_type": "stream",
     "text": [
      "{'_id': ObjectId('6900f75e417f7dcbd6dedb10'),\n",
      " 'dim': [14, 21],\n",
      " 'instock': [{'loc': 'A', 'qty': 5}, {'loc': 'C', 'qty': 15}],\n",
      " 'item': 'journal',\n",
      " 'tags': 'blank'}\n",
      "{'_id': ObjectId('6900f75e417f7dcbd6dedb10'),\n",
      " 'dim': [14, 21],\n",
      " 'instock': [{'loc': 'A', 'qty': 5}, {'loc': 'C', 'qty': 15}],\n",
      " 'item': 'journal',\n",
      " 'tags': 'red'}\n",
      "{'_id': ObjectId('6900f75e417f7dcbd6dedb11'),\n",
      " 'dim': [14, 21],\n",
      " 'instock': [{'loc': 'C', 'qty': 5}],\n",
      " 'item': 'notebook',\n",
      " 'tags': 'red'}\n",
      "{'_id': ObjectId('6900f75e417f7dcbd6dedb11'),\n",
      " 'dim': [14, 21],\n",
      " 'instock': [{'loc': 'C', 'qty': 5}],\n",
      " 'item': 'notebook',\n",
      " 'tags': 'blank'}\n"
     ]
    }
   ],
   "source": [
    "# Notice, tags is no longer an array\n",
    "output = db.inventory.aggregate( [ \n",
    "{ \"$unwind\" : \"$tags\" }\n",
    "] )\n",
    "\n",
    "pretty_print(output, n_to_print=4)"
   ]
  },
  {
   "cell_type": "code",
   "execution_count": 17,
   "id": "a0c42e76-f567-4993-a9f5-3baca65efb07",
   "metadata": {},
   "outputs": [
    {
     "name": "stdout",
     "output_type": "stream",
     "text": [
      "{'dim': [14, 21], 'item': 'journal', 'tags': 'blank'}\n",
      "{'dim': [14, 21], 'item': 'journal', 'tags': 'red'}\n",
      "{'dim': [14, 21], 'item': 'notebook', 'tags': 'red'}\n",
      "{'dim': [14, 21], 'item': 'notebook', 'tags': 'blank'}\n",
      "{'dim': [14, 21], 'item': 'paper', 'tags': 'red'}\n",
      "{'dim': [14, 21], 'item': 'paper', 'tags': 'blank'}\n",
      "{'dim': [14, 21], 'item': 'paper', 'tags': 'plain'}\n",
      "{'dim': [22.85, 30], 'item': 'planner', 'tags': 'blank'}\n",
      "{'dim': [22.85, 30], 'item': 'planner', 'tags': 'red'}\n",
      "{'dim': [10, 15.25], 'item': 'postcard', 'tags': 'blue'}\n"
     ]
    }
   ],
   "source": [
    "# can be followed up with a projection if we want - just to show data at a glance\n",
    "output = db.inventory.aggregate( [ \n",
    "{ \"$unwind\" : \"$tags\" }, \n",
    "{ \"$project\" : {\"_id\" : 0, \"instock\": 0}}  \n",
    "] )\n",
    "\n",
    "pretty_print(output, n_to_print=-1)"
   ]
  },
  {
   "cell_type": "code",
   "execution_count": 18,
   "id": "7114d088-57ad-49d5-ae6f-99291c486bad",
   "metadata": {},
   "outputs": [
    {
     "name": "stdout",
     "output_type": "stream",
     "text": [
      "{'_id': 'paper', 'totalqty': 75}\n",
      "{'_id': 'journal', 'totalqty': 20}\n",
      "{'_id': 'planner', 'totalqty': 45}\n",
      "{'_id': 'postcard', 'totalqty': 50}\n",
      "{'_id': 'notebook', 'totalqty': 5}\n"
     ]
    }
   ],
   "source": [
    "# unwinding is often followed by a grouping: this allows us to operate on values within arrays\n",
    "output = db.inventory.aggregate( [ \n",
    "    { \"$unwind\" : \"$instock\" },  \n",
    "    { \"$group\" : { \"_id\" : \"$item\", \"totalqty\" : {\"$sum\" : \"$instock.qty\"}}} \n",
    "] )\n",
    "\n",
    "pretty_print(output, n_to_print=-1)"
   ]
  },
  {
   "cell_type": "code",
   "execution_count": 19,
   "id": "f2a229a5-8020-4103-8220-21952e880867",
   "metadata": {},
   "outputs": [
    {
     "name": "stdout",
     "output_type": "stream",
     "text": [
      "{'instock': [{'loc': 'A', 'qty': 5}, {'loc': 'C', 'qty': 15}],\n",
      " 'item': 'journal',\n",
      " 'otheritems': [{'dim': [14, 21],\n",
      "                 'instock': [{'loc': 'A', 'qty': 5}, {'loc': 'C', 'qty': 15}],\n",
      "                 'item': 'journal',\n",
      "                 'tags': ['blank', 'red']},\n",
      "                {'dim': [14, 21],\n",
      "                 'instock': [{'loc': 'C', 'qty': 5}],\n",
      "                 'item': 'notebook',\n",
      "                 'tags': ['red', 'blank']},\n",
      "                {'dim': [14, 21],\n",
      "                 'instock': [{'loc': 'A', 'qty': 60}, {'loc': 'B', 'qty': 15}],\n",
      "                 'item': 'paper',\n",
      "                 'tags': ['red', 'blank', 'plain']},\n",
      "                {'dim': [22.85, 30],\n",
      "                 'instock': [{'loc': 'A', 'qty': 40}, {'loc': 'B', 'qty': 5}],\n",
      "                 'item': 'planner',\n",
      "                 'tags': ['blank', 'red']}]}\n",
      "{'instock': [{'loc': 'C', 'qty': 5}],\n",
      " 'item': 'notebook',\n",
      " 'otheritems': [{'dim': [14, 21],\n",
      "                 'instock': [{'loc': 'A', 'qty': 5}, {'loc': 'C', 'qty': 15}],\n",
      "                 'item': 'journal',\n",
      "                 'tags': ['blank', 'red']},\n",
      "                {'dim': [14, 21],\n",
      "                 'instock': [{'loc': 'C', 'qty': 5}],\n",
      "                 'item': 'notebook',\n",
      "                 'tags': ['red', 'blank']}]}\n"
     ]
    }
   ],
   "source": [
    "# now our join; reducing attributes returned by using liberal projections\n",
    "output = db.inventory.aggregate( [ \n",
    "{ \"$lookup\" : {\n",
    "    \"from\" : \"inventory\",\n",
    "    \"localField\": \"instock.loc\", \n",
    "    \"foreignField\": \"instock.loc\", \n",
    "    \"as\":\"otheritems\"}\n",
    "},  \n",
    "{ \"$project\" :\n",
    "    {\"_id\" : 0, \"tags\" : 0, \"dim\" : 0, \"otheritems._id\": 0}\n",
    "} \n",
    "] )\n",
    "\n",
    "pretty_print(output, n_to_print=2)"
   ]
  },
  {
   "cell_type": "code",
   "execution_count": 20,
   "id": "4124555a-8d88-46be-911e-7d308e4a1cd9",
   "metadata": {},
   "outputs": [
    {
     "name": "stdout",
     "output_type": "stream",
     "text": [
      "{'_id': ObjectId('6900f75e417f7dcbd6dedb10'),\n",
      " 'dim': [14, 21],\n",
      " 'instock': [{'loc': 'A', 'qty': 5}, {'loc': 'C', 'qty': 15}],\n",
      " 'item': 'journal',\n",
      " 'otheritems': [{'_id': ObjectId('6900f75e417f7dcbd6dedb10'),\n",
      "                 'dim': [14, 21],\n",
      "                 'instock': [{'loc': 'A', 'qty': 5}, {'loc': 'C', 'qty': 15}],\n",
      "                 'item': 'journal',\n",
      "                 'tags': ['blank', 'red']},\n",
      "                {'_id': ObjectId('6900f75e417f7dcbd6dedb11'),\n",
      "                 'dim': [14, 21],\n",
      "                 'instock': [{'loc': 'C', 'qty': 5}],\n",
      "                 'item': 'notebook',\n",
      "                 'tags': ['red', 'blank']},\n",
      "                {'_id': ObjectId('6900f75e417f7dcbd6dedb12'),\n",
      "                 'dim': [14, 21],\n",
      "                 'instock': [{'loc': 'A', 'qty': 60}, {'loc': 'B', 'qty': 15}],\n",
      "                 'item': 'paper',\n",
      "                 'tags': ['red', 'blank', 'plain']},\n",
      "                {'_id': ObjectId('6900f75e417f7dcbd6dedb13'),\n",
      "                 'dim': [22.85, 30],\n",
      "                 'instock': [{'loc': 'A', 'qty': 40}, {'loc': 'B', 'qty': 5}],\n",
      "                 'item': 'planner',\n",
      "                 'tags': ['blank', 'red']}],\n",
      " 'tags': ['blank', 'red']}\n",
      "{'_id': ObjectId('6900f75e417f7dcbd6dedb11'),\n",
      " 'dim': [14, 21],\n",
      " 'instock': [{'loc': 'C', 'qty': 5}],\n",
      " 'item': 'notebook',\n",
      " 'otheritems': [{'_id': ObjectId('6900f75e417f7dcbd6dedb10'),\n",
      "                 'dim': [14, 21],\n",
      "                 'instock': [{'loc': 'A', 'qty': 5}, {'loc': 'C', 'qty': 15}],\n",
      "                 'item': 'journal',\n",
      "                 'tags': ['blank', 'red']},\n",
      "                {'_id': ObjectId('6900f75e417f7dcbd6dedb11'),\n",
      "                 'dim': [14, 21],\n",
      "                 'instock': [{'loc': 'C', 'qty': 5}],\n",
      "                 'item': 'notebook',\n",
      "                 'tags': ['red', 'blank']}],\n",
      " 'tags': ['red', 'blank']}\n"
     ]
    }
   ],
   "source": [
    "# just to show you how it looks like without it\n",
    "output = db.inventory.aggregate( [ \n",
    "{ \"$lookup\" : {\n",
    "    \"from\" : \"inventory\",\n",
    "    \"localField\": \"instock.loc\", \n",
    "    \"foreignField\": \"instock.loc\", \n",
    "    \"as\":\"otheritems\"}\n",
    "}\n",
    "] )\n",
    "\n",
    "pretty_print(output, n_to_print=2)"
   ]
  },
  {
   "cell_type": "markdown",
   "id": "f5487667-9f9e-44c2-b08f-a1a6088ce263",
   "metadata": {},
   "source": [
    "# Multiple Attribute Grouping"
   ]
  },
  {
   "cell_type": "code",
   "execution_count": 21,
   "id": "1cee9b58-fae7-4255-8e82-285011e7b5ab",
   "metadata": {},
   "outputs": [],
   "source": [
    "# reimport/redefine as needed\n",
    "import json\n",
    "import pymongo\n",
    "import pprint\n",
    "\n",
    "def pretty_print(output_collection, n_to_print=3):\n",
    "    \"\"\"\n",
    "    note if n_to_print is -1, this print everything\n",
    "    \"\"\"\n",
    "    for i, doc in enumerate(output_collection):\n",
    "        pprint.pprint(doc)        # nicely formats each document\n",
    "        if i+1 == n_to_print: return"
   ]
  },
  {
   "cell_type": "code",
   "execution_count": 22,
   "id": "ee59cfc6-6d4d-4e9d-a79a-1aff5f256e00",
   "metadata": {},
   "outputs": [
    {
     "data": {
      "text/plain": [
       "['admin', 'aggquerydb', 'config', 'local', 'nobel_prizes']"
      ]
     },
     "execution_count": 22,
     "metadata": {},
     "output_type": "execute_result"
    }
   ],
   "source": [
    "client = pymongo.MongoClient('mongodb://localhost')\n",
    "client.list_database_names()"
   ]
  },
  {
   "cell_type": "code",
   "execution_count": 23,
   "id": "05c31b2a-ca1d-44c3-b63c-b787cf265fe1",
   "metadata": {},
   "outputs": [],
   "source": [
    "db = client.aggquerydb"
   ]
  },
  {
   "cell_type": "code",
   "execution_count": 24,
   "id": "d65b2061-630a-45cb-9365-3cfab368f7ed",
   "metadata": {},
   "outputs": [
    {
     "data": {
      "text/plain": [
       "29353"
      ]
     },
     "execution_count": 24,
     "metadata": {},
     "output_type": "execute_result"
    }
   ],
   "source": [
    "db.zips.count_documents({})"
   ]
  },
  {
   "cell_type": "code",
   "execution_count": 25,
   "id": "4c30896c-2e88-4d52-b7a4-f8fa58d0ac25",
   "metadata": {},
   "outputs": [
    {
     "data": {
      "text/plain": [
       "{'_id': '01001',\n",
       " 'city': 'AGAWAM',\n",
       " 'loc': [-72.622739, 42.070206],\n",
       " 'pop': 15338,\n",
       " 'state': 'MA'}"
      ]
     },
     "execution_count": 25,
     "metadata": {},
     "output_type": "execute_result"
    }
   ],
   "source": [
    "db.zips.find_one()"
   ]
  },
  {
   "cell_type": "markdown",
   "id": "b183b460-32eb-4127-9ff1-ceb91da84728",
   "metadata": {},
   "source": [
    "1. What is this doing?"
   ]
  },
  {
   "cell_type": "code",
   "execution_count": 27,
   "id": "32783796-74bd-4f8c-bd24-510ae705ad2a",
   "metadata": {},
   "outputs": [
    {
     "name": "stdout",
     "output_type": "stream",
     "text": [
      "{'_id': {'city': 'CHERRY VALLEY', 'state': 'NY'}, 'pop': 1642}\n",
      "{'_id': {'city': 'SUSQUEHANNA', 'state': 'PA'}, 'pop': 5137}\n",
      "{'_id': {'city': 'STANVILLE', 'state': 'KY'}, 'pop': 309}\n",
      "{'_id': {'city': 'KIRKMAN', 'state': 'IA'}, 'pop': 395}\n",
      "{'_id': {'city': 'TAVERNIER', 'state': 'FL'}, 'pop': 6196}\n",
      "{'_id': {'city': 'SOPER', 'state': 'OK'}, 'pop': 935}\n",
      "{'_id': {'city': 'ELMORE CITY', 'state': 'OK'}, 'pop': 2520}\n",
      "{'_id': {'city': 'FARMERSVILLE STA', 'state': 'NY'}, 'pop': 395}\n",
      "{'_id': {'city': 'NEW FRANKEN', 'state': 'WI'}, 'pop': 2640}\n",
      "{'_id': {'city': 'MEDIA', 'state': 'IL'}, 'pop': 484}\n"
     ]
    }
   ],
   "source": [
    "# Population per city, state combo\n",
    "output = db.zips.aggregate( [    \n",
    "    { \"$group\": { \"_id\": { \"state\": \"$state\", \"city\": \"$city\" },\n",
    "                 \"pop\": { \"$sum\": \"$pop\" } } \n",
    "    }\n",
    "] )\n",
    "pretty_print(output, n_to_print=10)"
   ]
  },
  {
   "cell_type": "code",
   "execution_count": 28,
   "id": "fb5499f4-5070-4ccc-8081-53c1d3fcf3af",
   "metadata": {},
   "outputs": [
    {
     "name": "stdout",
     "output_type": "stream",
     "text": [
      "{'_id': 'KS', 'avgCityPop': 3819.884259259259}\n",
      "{'_id': 'SD', 'avgCityPop': 1839.6746031746031}\n",
      "{'_id': 'NJ', 'avgCityPop': 15775.89387755102}\n",
      "{'_id': 'CA', 'avgCityPop': 27756.42723880597}\n",
      "{'_id': 'ND', 'avgCityPop': 1645.0309278350514}\n",
      "{'_id': 'VT', 'avgCityPop': 2315.8765432098767}\n",
      "{'_id': 'CT', 'avgCityPop': 14674.625}\n",
      "{'_id': 'WY', 'avgCityPop': 3384.5373134328356}\n",
      "{'_id': 'ME', 'avgCityPop': 3006.4901960784314}\n",
      "{'_id': 'IN', 'avgCityPop': 9271.130434782608}\n"
     ]
    }
   ],
   "source": [
    "# Average city population per state\n",
    "output = db.zips.aggregate( [    \n",
    "    { \"$group\": { \"_id\": { \"state\": \"$state\", \"city\": \"$city\" },\n",
    "                 \"pop\": { \"$sum\": \"$pop\" } } \n",
    "    },    \n",
    "    { \"$group\": { \"_id\": \"$_id.state\", \n",
    "                 \"avgCityPop\": { \"$avg\": \"$pop\" } } \n",
    "    } \n",
    "] )\n",
    "pretty_print(output, n_to_print=10)"
   ]
  },
  {
   "cell_type": "markdown",
   "id": "9c85905f-ef8f-4ef9-85a8-74ca251b9397",
   "metadata": {},
   "source": [
    "2. What is this doing?"
   ]
  },
  {
   "cell_type": "code",
   "execution_count": 23,
   "id": "89d16bc0-cb56-4d7b-be70-b120cf01e9f2",
   "metadata": {},
   "outputs": [
    {
     "name": "stdout",
     "output_type": "stream",
     "text": [
      "{'_id': 'IL', 'bigCity': 'CHICAGO'}\n",
      "{'_id': 'NY', 'bigCity': 'BROOKLYN'}\n",
      "{'_id': 'CA', 'bigCity': 'LOS ANGELES'}\n",
      "{'_id': 'TX', 'bigCity': 'HOUSTON'}\n",
      "{'_id': 'PA', 'bigCity': 'PHILADELPHIA'}\n",
      "{'_id': 'MI', 'bigCity': 'DETROIT'}\n",
      "{'_id': 'AZ', 'bigCity': 'PHOENIX'}\n",
      "{'_id': 'FL', 'bigCity': 'MIAMI'}\n",
      "{'_id': 'MD', 'bigCity': 'BALTIMORE'}\n",
      "{'_id': 'TN', 'bigCity': 'MEMPHIS'}\n"
     ]
    }
   ],
   "source": [
    "output = db.zips.aggregate( [ \n",
    "{ \"$group\": { \"_id\": { \"state\": \"$state\", \"city\": \"$city\" }, \n",
    "             \"pop\": { \"$sum\": \"$pop\" } } }, \n",
    "{ \"$sort\": { \"pop\": -1 } }, \n",
    "{ \"$group\": { \"_id\" : \"$_id.state\",\n",
    "             \"bigCity\": { \"$first\": \"$_id.city\" }, \n",
    "             \"bigPop\": { \"$first\": \"$pop\" } } }, \n",
    "{ \"$sort\" : {\"bigPop\" : -1} },\n",
    "{ \"$project\" : {\"bigPop\" : 0} }\n",
    "] )\n",
    "\n",
    "pretty_print(output, n_to_print=10)"
   ]
  },
  {
   "cell_type": "code",
   "execution_count": null,
   "id": "403ab35e-7ef1-42b6-adf4-ba35959b10f5",
   "metadata": {},
   "outputs": [],
   "source": []
  },
  {
   "cell_type": "markdown",
   "id": "444e1c5c-3c41-42e5-b113-87dc45ae12ea",
   "metadata": {},
   "source": [
    "3. What is this doing?"
   ]
  },
  {
   "cell_type": "code",
   "execution_count": 27,
   "id": "24bfd013-0521-45b5-aea4-b3b29f99dc55",
   "metadata": {},
   "outputs": [
    {
     "name": "stdout",
     "output_type": "stream",
     "text": [
      "{'bigCityDeets': {'name': 'CHICAGO', 'pop': 2452177}, 'state': 'IL'}\n",
      "{'bigCityDeets': {'name': 'BROOKLYN', 'pop': 2300504}, 'state': 'NY'}\n",
      "{'bigCityDeets': {'name': 'LOS ANGELES', 'pop': 2102295}, 'state': 'CA'}\n",
      "{'bigCityDeets': {'name': 'HOUSTON', 'pop': 2095918}, 'state': 'TX'}\n",
      "{'bigCityDeets': {'name': 'PHILADELPHIA', 'pop': 1610956}, 'state': 'PA'}\n",
      "{'bigCityDeets': {'name': 'DETROIT', 'pop': 963243}, 'state': 'MI'}\n",
      "{'bigCityDeets': {'name': 'PHOENIX', 'pop': 890853}, 'state': 'AZ'}\n",
      "{'bigCityDeets': {'name': 'MIAMI', 'pop': 825232}, 'state': 'FL'}\n",
      "{'bigCityDeets': {'name': 'BALTIMORE', 'pop': 733081}, 'state': 'MD'}\n",
      "{'bigCityDeets': {'name': 'MEMPHIS', 'pop': 632837}, 'state': 'TN'}\n"
     ]
    }
   ],
   "source": [
    "output = db.zips.aggregate( [ \n",
    "{ \"$group\": { \"_id\": { \"state\": \"$state\", \"city\": \"$city\" }, \n",
    "             \"pop\": { \"$sum\": \"$pop\" } } }, \n",
    "{ \"$sort\": { \"pop\": -1 } }, \n",
    "{ \"$group\": { \"_id\" : \"$_id.state\", \n",
    "             \"bigCity\": { \"$first\": \"$_id.city\" }, \n",
    "             \"bigPop\": { \"$first\": \"$pop\" } } }, \n",
    "{ \"$sort\" : {\"bigPop\" : -1} },\n",
    "{ \"$project\" : { \"_id\" : 0, \"state\" : \"$_id\", \n",
    "                \"bigCityDeets\": { \"name\": \"$bigCity\", \"pop\": \"$bigPop\" } } }\n",
    "] )\n",
    "\n",
    "pretty_print(output, n_to_print=10)"
   ]
  },
  {
   "cell_type": "code",
   "execution_count": null,
   "id": "4cf8c271-3f64-4de6-b5d5-e81cceee9128",
   "metadata": {},
   "outputs": [],
   "source": []
  },
  {
   "cell_type": "markdown",
   "id": "03c99fcd-812a-4d01-902a-538751145380",
   "metadata": {},
   "source": [
    "# [Extra] Aggregation Pipeline Demos"
   ]
  },
  {
   "cell_type": "markdown",
   "id": "75024a67-c201-4a35-8f0a-3b0b79f06661",
   "metadata": {},
   "source": [
    "Nobel laureate data from Kaggle: https://www.kaggle.com/datasets/imdevskp/nobel-prize/data"
   ]
  },
  {
   "cell_type": "code",
   "execution_count": 30,
   "id": "4f35a596-4e35-4421-92d6-28a146367ef9",
   "metadata": {},
   "outputs": [
    {
     "name": "stdout",
     "output_type": "stream",
     "text": [
      "databases ['admin', 'aggquerydb', 'config', 'local', 'nobel_prizes']\n",
      "collections in nobel_prizes database ['prizes']\n"
     ]
    }
   ],
   "source": [
    "client = pymongo.MongoClient('mongodb://localhost')\n",
    "client.list_database_names()\n",
    "\n",
    "client.drop_database('nobel_prizes') # if already exists\n",
    "\n",
    "db = client.nobel_prizes\n",
    "# run this cell to insert into the collection prizes\n",
    "with open('data/prize.json', encoding='utf-8') as f:\n",
    "    db.prizes.insert_many(json.loads(f.read()))\n",
    "\n",
    "print(\"databases\", client.list_database_names())\n",
    "\n",
    "db = client.nobel_prizes\n",
    "print(\"collections in nobel_prizes database\", db.list_collection_names())"
   ]
  },
  {
   "cell_type": "code",
   "execution_count": null,
   "id": "eb3b4f94-cc37-4c24-8c44-829c66d375e6",
   "metadata": {},
   "outputs": [],
   "source": []
  },
  {
   "cell_type": "code",
   "execution_count": null,
   "id": "ce054b99-c517-4e63-998d-8835832be5a7",
   "metadata": {},
   "outputs": [],
   "source": [
    "# A\n",
    "output = db.prizes.aggregate([{\"$group\": {\"_id\": \"$category\",\n",
    "                                          \"awardyears\": {\"$sum\" : 1}}}])\n",
    "pretty_print(output, n_to_print=-1)"
   ]
  },
  {
   "cell_type": "code",
   "execution_count": null,
   "id": "9b489ba8-5b8f-44ba-b907-99bc08526959",
   "metadata": {},
   "outputs": [],
   "source": [
    "# B\n",
    "output = db.prizes.aggregate([{\"$group\": {\"_id\": \"$category\",\n",
    "                                          \"awardyears\": {\"$sum\" : 1}}},\n",
    "                              {\"$match\" : {\"awardyears\": {\"$lt\": 100}}}])\n",
    "pretty_print(output, n_to_print=-1)"
   ]
  },
  {
   "cell_type": "code",
   "execution_count": null,
   "id": "5fb8efc6-0a54-4c9a-b0f9-cb3ad309d109",
   "metadata": {},
   "outputs": [],
   "source": [
    "# C\n",
    "output = db.prizes.aggregate([{\"$group\": {\"_id\": \"$category\", \n",
    "                                 \"awardyears\": {\"$sum\" : 1}}}, \n",
    "                     {\"$match\" : {\"awardyears\": {\"$lt\": 100}}}, \n",
    "                     {\"$project\" : {\"_id\": 0, \"awardyears\": 1}}])\n",
    "pretty_print(output, n_to_print=-1)"
   ]
  },
  {
   "cell_type": "code",
   "execution_count": null,
   "id": "bd30d737-7d36-45a4-8427-bbc099504739",
   "metadata": {},
   "outputs": [],
   "source": [
    "# D\n",
    "output = db.prizes.aggregate([{\"$unwind\": \"$laureates\"},\n",
    "                              {\"$group\": {\"_id\": \"$category\", \n",
    "                                          \"awards\": {\"$sum\" : 1}}}]) \n",
    "pretty_print(output, n_to_print=-1)"
   ]
  },
  {
   "cell_type": "code",
   "execution_count": null,
   "id": "eb3bc175-c40e-418e-8a03-bcef9810b96d",
   "metadata": {},
   "outputs": [],
   "source": [
    "# E\n",
    "output = db.prizes.aggregate([{\"$unwind\": \"$laureates\"}, \n",
    "                              {\"$group\": {\"_id\": {\"category\": \"$category\",\n",
    "                                                  \"year\": \"$year\"}, \n",
    "                                          \"awards\": {\"$sum\" : 1}}}])\n",
    "pretty_print(output, n_to_print=10)"
   ]
  },
  {
   "cell_type": "code",
   "execution_count": null,
   "id": "b7fea7d6-5f40-4bce-bb9f-849da5750211",
   "metadata": {},
   "outputs": [],
   "source": [
    "# F\n",
    "output = db.prizes.aggregate([{\"$unwind\": \"$laureates\"}, \n",
    "                              {\"$group\": {\"_id\": {\"category\": \"$category\", \n",
    "                                                  \"year\": \"$year\"},\n",
    "                                          \"awards\": {\"$sum\" : 1}}},\n",
    "                              {\"$sort\" : {\"awards\": -1}}])\n",
    "pretty_print(output, n_to_print=15)"
   ]
  },
  {
   "cell_type": "code",
   "execution_count": null,
   "id": "c232cef0-203b-4b03-89f8-784d9ae6285b",
   "metadata": {},
   "outputs": [],
   "source": [
    "# G\n",
    "output = db.prizes.aggregate([{\"$unwind\": \"$laureates\"}, \n",
    "                              {\"$group\": {\"_id\": {\"category\": \"$category\",\n",
    "                                                  \"year\": \"$year\"}, \n",
    "                                          \"awards\": {\"$sum\" : 1}}},\n",
    "                              {\"$group\": {\"_id\":\"$_id.category\",\n",
    "                                          \"avgawards\": {\"$avg\" : \"$awards\"}}}])\n",
    "pretty_print(output, n_to_print=-1)"
   ]
  }
 ],
 "metadata": {
  "kernelspec": {
   "display_name": "Python 3 (ipykernel)",
   "language": "python",
   "name": "python3"
  },
  "language_info": {
   "codemirror_mode": {
    "name": "ipython",
    "version": 3
   },
   "file_extension": ".py",
   "mimetype": "text/x-python",
   "name": "python",
   "nbconvert_exporter": "python",
   "pygments_lexer": "ipython3",
   "version": "3.11.13"
  },
  "widgets": {
   "application/vnd.jupyter.widget-state+json": {
    "state": {},
    "version_major": 2,
    "version_minor": 0
   }
  }
 },
 "nbformat": 4,
 "nbformat_minor": 5
}
