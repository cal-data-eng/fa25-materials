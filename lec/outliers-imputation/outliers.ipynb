{
 "cells": [
  {
   "cell_type": "markdown",
   "id": "3efe537d-d1be-4b74-836c-1cff6c22ec1d",
   "metadata": {},
   "source": [
    "# Outliers"
   ]
  },
  {
   "cell_type": "code",
   "execution_count": 1,
   "id": "72611649-0355-4860-ae39-da1365cbc2c1",
   "metadata": {},
   "outputs": [],
   "source": [
    "import numpy as np\n",
    "import pandas as pd\n",
    "import seaborn as sns\n",
    "import matplotlib.pyplot as plt\n",
    "import matplotlib as mpl\n",
    "\n",
    "import importlib\n",
    "importlib.reload(mpl); importlib.reload(plt); importlib.reload(sns)\n",
    "\n",
    "sns.reset_orig()\n",
    "sns.set(font_scale=1.5)\n",
    "%matplotlib inline"
   ]
  },
  {
   "cell_type": "markdown",
   "id": "34ddf98f-4be7-4cca-8716-e2fc66e5ced3",
   "metadata": {},
   "source": [
    "---\n",
    "\n",
    "# Gaussian Outliers"
   ]
  },
  {
   "cell_type": "code",
   "execution_count": 2,
   "id": "2a7f5c56-44a1-45a9-bed8-2277c75f9abd",
   "metadata": {},
   "outputs": [
    {
     "data": {
      "text/html": [
       "<span style=\"None\">Connecting to &#x27;postgresql://localhost:5432/postgres&#x27;</span>"
      ],
      "text/plain": [
       "Connecting to 'postgresql://localhost:5432/postgres'"
      ]
     },
     "metadata": {},
     "output_type": "display_data"
    }
   ],
   "source": [
    "%reload_ext sql\n",
    "%sql postgresql://localhost:5432/postgres"
   ]
  },
  {
   "cell_type": "code",
   "execution_count": 3,
   "id": "e3e8473d-833d-4b45-8a8a-29c525715daf",
   "metadata": {},
   "outputs": [
    {
     "data": {
      "text/html": [
       "<span style=\"None\">Running query in &#x27;postgresql://localhost:5432/postgres&#x27;</span>"
      ],
      "text/plain": [
       "Running query in 'postgresql://localhost:5432/postgres'"
      ]
     },
     "metadata": {},
     "output_type": "display_data"
    },
    {
     "data": {
      "text/html": [
       "<span style=\"color: green\">1 rows affected.</span>"
      ],
      "text/plain": [
       "1 rows affected."
      ]
     },
     "metadata": {},
     "output_type": "display_data"
    },
    {
     "data": {
      "text/html": [
       "<table>\n",
       "    <thead>\n",
       "        <tr>\n",
       "            <th>setseed</th>\n",
       "        </tr>\n",
       "    </thead>\n",
       "    <tbody>\n",
       "        <tr>\n",
       "            <td></td>\n",
       "        </tr>\n",
       "    </tbody>\n",
       "</table>"
      ],
      "text/plain": [
       "+---------+\n",
       "| setseed |\n",
       "+---------+\n",
       "|         |\n",
       "+---------+"
      ]
     },
     "execution_count": 3,
     "metadata": {},
     "output_type": "execute_result"
    }
   ],
   "source": [
    "%sql SELECT setseed(0.42) -- to fix randomness"
   ]
  },
  {
   "cell_type": "markdown",
   "id": "c9fa3cb0-d4db-4c5e-93e5-bfb97cfb27f3",
   "metadata": {},
   "source": [
    "Just like a Python package, we need to import `tablefunc` in order to use the `normal_rand` function."
   ]
  },
  {
   "cell_type": "code",
   "execution_count": 4,
   "id": "918e88da-44f4-4cc4-9244-71bca367ebbd",
   "metadata": {},
   "outputs": [
    {
     "data": {
      "text/html": [
       "<span style=\"None\">Running query in &#x27;postgresql://localhost:5432/postgres&#x27;</span>"
      ],
      "text/plain": [
       "Running query in 'postgresql://localhost:5432/postgres'"
      ]
     },
     "metadata": {},
     "output_type": "display_data"
    },
    {
     "data": {
      "text/html": [
       "<table>\n",
       "    <thead>\n",
       "        <tr>\n",
       "        </tr>\n",
       "    </thead>\n",
       "    <tbody>\n",
       "    </tbody>\n",
       "</table>"
      ],
      "text/plain": [
       "++\n",
       "||\n",
       "++\n",
       "++"
      ]
     },
     "execution_count": 4,
     "metadata": {},
     "output_type": "execute_result"
    }
   ],
   "source": [
    "%sql CREATE EXTENSION IF NOT EXISTS tablefunc;"
   ]
  },
  {
   "cell_type": "markdown",
   "id": "99ec6c3f-bf85-49cb-864b-7a1c8f2300f7",
   "metadata": {},
   "source": [
    "Assume our datapoints are truly Normal. Simulate them in `observations`.\n",
    "* 1000 datapoints, $\\mu = 50, \\sigma = 5$.\n",
    "\n",
    "Let's also plot them as a histogram."
   ]
  },
  {
   "cell_type": "code",
   "execution_count": 5,
   "id": "e9d440be-ab6a-4a3b-8dc1-c7caf881c804",
   "metadata": {},
   "outputs": [
    {
     "data": {
      "text/html": [
       "<span style=\"None\">Running query in &#x27;postgresql://localhost:5432/postgres&#x27;</span>"
      ],
      "text/plain": [
       "Running query in 'postgresql://localhost:5432/postgres'"
      ]
     },
     "metadata": {},
     "output_type": "display_data"
    },
    {
     "data": {
      "text/html": [
       "<span style=\"None\">Running query in &#x27;postgresql://localhost:5432/postgres&#x27;</span>"
      ],
      "text/plain": [
       "Running query in 'postgresql://localhost:5432/postgres'"
      ]
     },
     "metadata": {},
     "output_type": "display_data"
    },
    {
     "data": {
      "text/html": [
       "<span style=\"color: green\">1000 rows affected.</span>"
      ],
      "text/plain": [
       "1000 rows affected."
      ]
     },
     "metadata": {},
     "output_type": "display_data"
    },
    {
     "data": {
      "text/html": [
       "<span style=\"None\">Running query in &#x27;postgresql://localhost:5432/postgres&#x27;</span>"
      ],
      "text/plain": [
       "Running query in 'postgresql://localhost:5432/postgres'"
      ]
     },
     "metadata": {},
     "output_type": "display_data"
    },
    {
     "data": {
      "text/html": [
       "<span style=\"color: green\">1000 rows affected.</span>"
      ],
      "text/plain": [
       "1000 rows affected."
      ]
     },
     "metadata": {},
     "output_type": "display_data"
    }
   ],
   "source": [
    "%sql DROP TABLE IF EXISTS observations CASCADE;\n",
    "%sql CREATE TABLE observations AS \\\n",
    "     SELECT normal_rand AS x \\\n",
    "     FROM normal_rand(1000, 50, 5);\n",
    "\n",
    "results = %sql SELECT x FROM observations;"
   ]
  },
  {
   "cell_type": "code",
   "execution_count": 6,
   "id": "aa9a4dc8-c8cc-4551-b615-a0a301dcb088",
   "metadata": {},
   "outputs": [
    {
     "data": {
      "text/plain": [
       "<seaborn.axisgrid.FacetGrid at 0x7dbc1c1b3650>"
      ]
     },
     "execution_count": 6,
     "metadata": {},
     "output_type": "execute_result"
    },
    {
     "data": {
      "image/png": "[encoded data removed]",
      "text/plain": [
       "<Figure size 896.125x400 with 1 Axes>"
      ]
     },
     "metadata": {},
     "output_type": "display_data"
    }
   ],
   "source": [
    "sns.displot(results.dict(), fill=True, kde=True, bins=20,\n",
    "            height=4, aspect=2)"
   ]
  },
  {
   "cell_type": "markdown",
   "id": "110fc1bb-3df6-4a41-b23c-8346aa690396",
   "metadata": {},
   "source": [
    "Construct a view called `normal_outliers` using the **2 sigma** metric."
   ]
  },
  {
   "cell_type": "code",
   "execution_count": 7,
   "id": "6fd8529a-92be-435e-9eb3-c84f2179172a",
   "metadata": {},
   "outputs": [
    {
     "data": {
      "text/html": [
       "<span style=\"None\">Running query in &#x27;postgresql://localhost:5432/postgres&#x27;</span>"
      ],
      "text/plain": [
       "Running query in 'postgresql://localhost:5432/postgres'"
      ]
     },
     "metadata": {},
     "output_type": "display_data"
    },
    {
     "data": {
      "text/html": [
       "<table>\n",
       "    <thead>\n",
       "        <tr>\n",
       "        </tr>\n",
       "    </thead>\n",
       "    <tbody>\n",
       "    </tbody>\n",
       "</table>"
      ],
      "text/plain": [
       "++\n",
       "||\n",
       "++\n",
       "++"
      ]
     },
     "execution_count": 7,
     "metadata": {},
     "output_type": "execute_result"
    }
   ],
   "source": [
    "%%sql\n",
    "CREATE OR REPLACE VIEW normal_outliers AS\n",
    "WITH bounds AS (\n",
    "   SELECT avg(x) - 2*stddev(x) AS lo,\n",
    "   avg(x) + 2*stddev(x) AS hi\n",
    "   FROM observations\n",
    ")\n",
    "SELECT x AS outlier\n",
    "FROM observations o, bounds b \n",
    "WHERE x NOT BETWEEN b.lo AND b.hi;"
   ]
  },
  {
   "cell_type": "code",
   "execution_count": 8,
   "id": "0a00fb27-de7e-4702-aea3-39a67fff448d",
   "metadata": {},
   "outputs": [
    {
     "data": {
      "text/html": [
       "<span style=\"None\">Running query in &#x27;postgresql://localhost:5432/postgres&#x27;</span>"
      ],
      "text/plain": [
       "Running query in 'postgresql://localhost:5432/postgres'"
      ]
     },
     "metadata": {},
     "output_type": "display_data"
    },
    {
     "data": {
      "text/html": [
       "<span style=\"color: green\">43 rows affected.</span>"
      ],
      "text/plain": [
       "43 rows affected."
      ]
     },
     "metadata": {},
     "output_type": "display_data"
    },
    {
     "data": {
      "text/html": [
       "<table>\n",
       "    <thead>\n",
       "        <tr>\n",
       "            <th>outlier</th>\n",
       "        </tr>\n",
       "    </thead>\n",
       "    <tbody>\n",
       "        <tr>\n",
       "            <td>62.51902228435532</td>\n",
       "        </tr>\n",
       "        <tr>\n",
       "            <td>36.771098281539025</td>\n",
       "        </tr>\n",
       "        <tr>\n",
       "            <td>38.96317561111138</td>\n",
       "        </tr>\n",
       "        <tr>\n",
       "            <td>62.406289277098914</td>\n",
       "        </tr>\n",
       "        <tr>\n",
       "            <td>64.10352780551739</td>\n",
       "        </tr>\n",
       "        <tr>\n",
       "            <td>38.52887252302025</td>\n",
       "        </tr>\n",
       "        <tr>\n",
       "            <td>38.100961703076415</td>\n",
       "        </tr>\n",
       "        <tr>\n",
       "            <td>39.199185726693685</td>\n",
       "        </tr>\n",
       "        <tr>\n",
       "            <td>37.13632846401815</td>\n",
       "        </tr>\n",
       "        <tr>\n",
       "            <td>39.01589352253799</td>\n",
       "        </tr>\n",
       "    </tbody>\n",
       "</table>\n",
       "<span style=\"font-style:italic;text-align:center;\">Truncated to <a href=\"https://jupysql.ploomber.io/en/latest/api/configuration.html#displaylimit\">displaylimit</a> of 10.</span>"
      ],
      "text/plain": [
       "+--------------------+\n",
       "|      outlier       |\n",
       "+--------------------+\n",
       "| 62.51902228435532  |\n",
       "| 36.771098281539025 |\n",
       "| 38.96317561111138  |\n",
       "| 62.406289277098914 |\n",
       "| 64.10352780551739  |\n",
       "| 38.52887252302025  |\n",
       "| 38.100961703076415 |\n",
       "| 39.199185726693685 |\n",
       "| 37.13632846401815  |\n",
       "| 39.01589352253799  |\n",
       "+--------------------+\n",
       "Truncated to displaylimit of 10."
      ]
     },
     "execution_count": 8,
     "metadata": {},
     "output_type": "execute_result"
    }
   ],
   "source": [
    "# query the view\n",
    "%sql SELECT * FROM normal_outliers;"
   ]
  },
  {
   "cell_type": "markdown",
   "id": "c4e9a791-98cb-4277-ac9b-0face31b6704",
   "metadata": {},
   "source": [
    "## What does this code do?"
   ]
  },
  {
   "cell_type": "code",
   "execution_count": 9,
   "id": "1b300ea9-d63d-470f-a3c2-0d1d1a3a79f8",
   "metadata": {},
   "outputs": [
    {
     "data": {
      "text/html": [
       "<span style=\"None\">Running query in &#x27;postgresql://localhost:5432/postgres&#x27;</span>"
      ],
      "text/plain": [
       "Running query in 'postgresql://localhost:5432/postgres'"
      ]
     },
     "metadata": {},
     "output_type": "display_data"
    },
    {
     "data": {
      "text/html": [
       "<span style=\"color: green\">1957 rows affected.</span>"
      ],
      "text/plain": [
       "1957 rows affected."
      ]
     },
     "metadata": {},
     "output_type": "display_data"
    },
    {
     "data": {
      "text/plain": [
       "(30.0, 70.0)"
      ]
     },
     "execution_count": 9,
     "metadata": {},
     "output_type": "execute_result"
    },
    {
     "data": {
      "image/png": "[encoded data removed]",
      "text/plain": [
       "<Figure size 772.75x400 with 1 Axes>"
      ]
     },
     "metadata": {},
     "output_type": "display_data"
    }
   ],
   "source": [
    "results = %sql SELECT x, 'original' AS label \\\n",
    "               FROM observations \\\n",
    "               UNION ALL \\\n",
    "               SELECT x, 'cleaned' AS label\\\n",
    "               FROM observations \\\n",
    "               WHERE x NOT IN \\\n",
    "                   (SELECT * FROM normal_outliers)\n",
    "sns.displot(results.dict(), x=\"x\", kind='hist',\n",
    "            hue='label', kde=True, bins=20,\n",
    "            height=4, aspect=1.5)\n",
    "plt.xlim(30, 70)"
   ]
  },
  {
   "cell_type": "markdown",
   "id": "1836f8fe-e1a4-459c-bd98-74f1508d5e55",
   "metadata": {},
   "source": [
    "## What if we suddenly had extremes?\n",
    "\n",
    "Make the max 10x of its size."
   ]
  },
  {
   "cell_type": "code",
   "execution_count": 10,
   "id": "126ec4ba-f14b-4dab-b725-bb1e583b2026",
   "metadata": {},
   "outputs": [
    {
     "data": {
      "text/html": [
       "<span style=\"None\">Running query in &#x27;postgresql://localhost:5432/postgres&#x27;</span>"
      ],
      "text/plain": [
       "Running query in 'postgresql://localhost:5432/postgres'"
      ]
     },
     "metadata": {},
     "output_type": "display_data"
    },
    {
     "data": {
      "text/html": [
       "<span style=\"color: green\">1 rows affected.</span>"
      ],
      "text/plain": [
       "1 rows affected."
      ]
     },
     "metadata": {},
     "output_type": "display_data"
    },
    {
     "data": {
      "text/html": [
       "<table>\n",
       "    <thead>\n",
       "        <tr>\n",
       "        </tr>\n",
       "    </thead>\n",
       "    <tbody>\n",
       "    </tbody>\n",
       "</table>"
      ],
      "text/plain": [
       "++\n",
       "||\n",
       "++\n",
       "++"
      ]
     },
     "execution_count": 10,
     "metadata": {},
     "output_type": "execute_result"
    }
   ],
   "source": [
    "%sql UPDATE observations SET x = x*10 \\\n",
    "      WHERE x = (SELECT MAX(x) FROM observations);"
   ]
  },
  {
   "cell_type": "code",
   "execution_count": 11,
   "id": "fea66d4f-9c61-4bb9-b16f-e6ea8df300d9",
   "metadata": {},
   "outputs": [
    {
     "data": {
      "text/html": [
       "<span style=\"None\">Running query in &#x27;postgresql://localhost:5432/postgres&#x27;</span>"
      ],
      "text/plain": [
       "Running query in 'postgresql://localhost:5432/postgres'"
      ]
     },
     "metadata": {},
     "output_type": "display_data"
    },
    {
     "data": {
      "text/html": [
       "<span style=\"color: green\">1 rows affected.</span>"
      ],
      "text/plain": [
       "1 rows affected."
      ]
     },
     "metadata": {},
     "output_type": "display_data"
    },
    {
     "data": {
      "text/html": [
       "<table>\n",
       "    <thead>\n",
       "        <tr>\n",
       "            <th>min</th>\n",
       "            <th>max</th>\n",
       "        </tr>\n",
       "    </thead>\n",
       "    <tbody>\n",
       "        <tr>\n",
       "            <td>34.08383473064803</td>\n",
       "            <td>690.9600503881296</td>\n",
       "        </tr>\n",
       "    </tbody>\n",
       "</table>"
      ],
      "text/plain": [
       "+-------------------+-------------------+\n",
       "|        min        |        max        |\n",
       "+-------------------+-------------------+\n",
       "| 34.08383473064803 | 690.9600503881296 |\n",
       "+-------------------+-------------------+"
      ]
     },
     "execution_count": 11,
     "metadata": {},
     "output_type": "execute_result"
    }
   ],
   "source": [
    "%sql SELECT min(x), max(x) FROM observations"
   ]
  },
  {
   "cell_type": "code",
   "execution_count": 12,
   "id": "8c56721a-e19c-45a9-9b0a-730f14a9ee64",
   "metadata": {},
   "outputs": [
    {
     "data": {
      "text/html": [
       "<span style=\"None\">Running query in &#x27;postgresql://localhost:5432/postgres&#x27;</span>"
      ],
      "text/plain": [
       "Running query in 'postgresql://localhost:5432/postgres'"
      ]
     },
     "metadata": {},
     "output_type": "display_data"
    },
    {
     "data": {
      "text/html": [
       "<span style=\"color: green\">1999 rows affected.</span>"
      ],
      "text/plain": [
       "1999 rows affected."
      ]
     },
     "metadata": {},
     "output_type": "display_data"
    },
    {
     "data": {
      "text/plain": [
       "(30.0, 700.0)"
      ]
     },
     "execution_count": 12,
     "metadata": {},
     "output_type": "execute_result"
    },
    {
     "data": {
      "image/png": "[encoded data removed]",
      "text/plain": [
       "<Figure size 772.75x400 with 1 Axes>"
      ]
     },
     "metadata": {},
     "output_type": "display_data"
    }
   ],
   "source": [
    "results = %sql SELECT x, 'original' AS label \\\n",
    "               FROM observations \\\n",
    "               UNION ALL \\\n",
    "               SELECT x, 'cleaned' AS label\\\n",
    "               FROM observations \\\n",
    "               WHERE x NOT IN \\\n",
    "                   (SELECT * FROM normal_outliers)\n",
    "sns.displot(results.dict(), x=\"x\", kind='hist',\n",
    "            hue='label', kde=True, bins=np.linspace(32, 70, 20),\n",
    "            height=4, aspect=1.5, rug=True)\n",
    "plt.xlim(30, 700)"
   ]
  },
  {
   "cell_type": "markdown",
   "id": "19d7cfe0-d131-4c66-aa77-9507f8366ab4",
   "metadata": {},
   "source": [
    "This is super zoomed out, let's just focus on the portion where most of the values lie."
   ]
  },
  {
   "cell_type": "code",
   "execution_count": 13,
   "id": "83e6f098-7ca1-48cc-b902-3c316caa866c",
   "metadata": {},
   "outputs": [
    {
     "data": {
      "text/html": [
       "<span style=\"None\">Running query in &#x27;postgresql://localhost:5432/postgres&#x27;</span>"
      ],
      "text/plain": [
       "Running query in 'postgresql://localhost:5432/postgres'"
      ]
     },
     "metadata": {},
     "output_type": "display_data"
    },
    {
     "data": {
      "text/html": [
       "<span style=\"color: green\">1999 rows affected.</span>"
      ],
      "text/plain": [
       "1999 rows affected."
      ]
     },
     "metadata": {},
     "output_type": "display_data"
    },
    {
     "data": {
      "text/plain": [
       "(30.0, 70.0)"
      ]
     },
     "execution_count": 13,
     "metadata": {},
     "output_type": "execute_result"
    },
    {
     "data": {
      "image/png": "[encoded data removed]",
      "text/plain": [
       "<Figure size 772.75x400 with 1 Axes>"
      ]
     },
     "metadata": {},
     "output_type": "display_data"
    }
   ],
   "source": [
    "results = %sql SELECT x, 'original' AS label \\\n",
    "               FROM observations \\\n",
    "               UNION ALL \\\n",
    "               SELECT x, 'cleaned' AS label\\\n",
    "               FROM observations \\\n",
    "               WHERE x NOT IN \\\n",
    "                   (SELECT * FROM normal_outliers)\n",
    "sns.displot(results.dict(), x=\"x\", kind='hist',\n",
    "            hue='label', kde=True, bins=np.linspace(32, 70, 20),\n",
    "            height=4, aspect=1.5, rug=True)\n",
    "plt.xlim(30, 70)"
   ]
  },
  {
   "cell_type": "markdown",
   "id": "2c1ba6fe-20b6-4d60-bc7f-00919e594f98",
   "metadata": {},
   "source": [
    "As you can see, the 10x outlier is masking the other outliers!"
   ]
  },
  {
   "cell_type": "code",
   "execution_count": 14,
   "id": "b46eb7f1-b60e-4abd-9b1c-9249a330887d",
   "metadata": {},
   "outputs": [
    {
     "data": {
      "text/html": [
       "<span style=\"None\">Running query in &#x27;postgresql://localhost:5432/postgres&#x27;</span>"
      ],
      "text/plain": [
       "Running query in 'postgresql://localhost:5432/postgres'"
      ]
     },
     "metadata": {},
     "output_type": "display_data"
    },
    {
     "data": {
      "text/html": [
       "<span style=\"color: green\">1 rows affected.</span>"
      ],
      "text/plain": [
       "1 rows affected."
      ]
     },
     "metadata": {},
     "output_type": "display_data"
    },
    {
     "data": {
      "text/html": [
       "<table>\n",
       "    <thead>\n",
       "        <tr>\n",
       "        </tr>\n",
       "    </thead>\n",
       "    <tbody>\n",
       "    </tbody>\n",
       "</table>"
      ],
      "text/plain": [
       "++\n",
       "||\n",
       "++\n",
       "++"
      ]
     },
     "execution_count": 14,
     "metadata": {},
     "output_type": "execute_result"
    }
   ],
   "source": [
    "## reset before moving on\n",
    "%sql UPDATE observations SET x = x/10 \\\n",
    "      WHERE x = (SELECT MAX(x) FROM OBSERVATIONS);"
   ]
  },
  {
   "cell_type": "markdown",
   "id": "29272316-4f16-4e0f-aa53-f758301c20b8",
   "metadata": {},
   "source": [
    "# Winsorization"
   ]
  },
  {
   "cell_type": "code",
   "execution_count": 15,
   "id": "2dbab392-e702-4864-a84f-5f1a49e45818",
   "metadata": {},
   "outputs": [],
   "source": [
    "import numpy as np"
   ]
  },
  {
   "cell_type": "code",
   "execution_count": 16,
   "id": "557ed20c-4ccf-458f-aae4-5399188c70ee",
   "metadata": {},
   "outputs": [
    {
     "data": {
      "text/plain": [
       "array([  92,   19,  101,   58, 1053,   91,   26,   78,   10,   13,  -40,\n",
       "        101,   86,   85,   15,   89,   89,   28,   -5,   41])"
      ]
     },
     "execution_count": 16,
     "metadata": {},
     "output_type": "execute_result"
    }
   ],
   "source": [
    "arr = np.array([92, 19, 101, 58, 1053, 91, 26, 78, 10, 13, -40, 101, 86, 85, 15, 89, 89, 28, -5, 41])\n",
    "arr"
   ]
  },
  {
   "cell_type": "markdown",
   "id": "f9a27607-3bc7-47f1-9a78-553bf9727365",
   "metadata": {},
   "source": [
    "OK, so we constructed an array. Let's look at the mean and median, and then try to compute the 5% winsorization cutoffs"
   ]
  },
  {
   "cell_type": "code",
   "execution_count": 17,
   "id": "187ddd3d-84b9-4b85-ae41-9f836f8ed276",
   "metadata": {},
   "outputs": [
    {
     "data": {
      "text/plain": [
       "(np.float64(101.5), np.float64(68.0))"
      ]
     },
     "execution_count": 17,
     "metadata": {},
     "output_type": "execute_result"
    }
   ],
   "source": [
    "np.mean(arr), np.median(arr)"
   ]
  },
  {
   "cell_type": "code",
   "execution_count": 18,
   "id": "eb3d1ae5-84f3-497e-b928-bd49b221c7e0",
   "metadata": {},
   "outputs": [
    {
     "data": {
      "text/plain": [
       "np.int64(101)"
      ]
     },
     "execution_count": 18,
     "metadata": {},
     "output_type": "execute_result"
    }
   ],
   "source": [
    "np.percentile(arr, 95, method='nearest')"
   ]
  },
  {
   "cell_type": "code",
   "execution_count": 19,
   "id": "1a378a80-637c-48ff-87f8-231ded3798e5",
   "metadata": {},
   "outputs": [
    {
     "data": {
      "text/plain": [
       "np.int64(-5)"
      ]
     },
     "execution_count": 19,
     "metadata": {},
     "output_type": "execute_result"
    }
   ],
   "source": [
    "np.percentile(arr, 5, method='nearest')"
   ]
  },
  {
   "cell_type": "markdown",
   "id": "5f9ea483-2bf4-4897-9ea2-96c4a13dda4c",
   "metadata": {},
   "source": [
    "Now here's the winsorized version (we've manually done the replacement, exercise for you to try to replace it using a program)"
   ]
  },
  {
   "cell_type": "code",
   "execution_count": 20,
   "id": "10ab9dfe-a9c1-4a35-9780-1c2e7cbec620",
   "metadata": {},
   "outputs": [
    {
     "data": {
      "text/plain": [
       "array([ 92,  19, 101,  58, 101,  91,  26,  78,  10,  13,  -5, 101,  86,\n",
       "        85,  15,  89,  89,  28,  -5,  41])"
      ]
     },
     "execution_count": 20,
     "metadata": {},
     "output_type": "execute_result"
    }
   ],
   "source": [
    "arr_winsorized = np.array([92, 19, 101, 58, 101, 91, 26, 78, 10, 13, -5, 101, 86, 85, 15, 89, 89, 28, -5, 41])\n",
    "arr_winsorized"
   ]
  },
  {
   "cell_type": "code",
   "execution_count": 21,
   "id": "5fe4b356-ee19-4eec-a457-13e800830350",
   "metadata": {},
   "outputs": [
    {
     "data": {
      "text/plain": [
       "(np.float64(55.65), np.float64(68.0))"
      ]
     },
     "execution_count": 21,
     "metadata": {},
     "output_type": "execute_result"
    }
   ],
   "source": [
    "np.mean(arr_winsorized), np.median(arr_winsorized)"
   ]
  },
  {
   "cell_type": "markdown",
   "id": "84df9d4b-75c0-4a2c-b6f2-1953468dcfa0",
   "metadata": {},
   "source": [
    "As you can see, the mean has gotten closer to the median now!"
   ]
  },
  {
   "cell_type": "markdown",
   "id": "e1dd5754-0ced-47ee-a814-c885eec980a5",
   "metadata": {},
   "source": [
    "# Trimming vs. Winsorization\n",
    "\n",
    "## Trimming in SQL\n",
    "\n",
    "Let's look at the trimming approach. We will use a 1% trimming on either side."
   ]
  },
  {
   "cell_type": "code",
   "execution_count": 22,
   "id": "13bd1307-b9f7-4dda-9c38-a01ad7ee037d",
   "metadata": {},
   "outputs": [
    {
     "data": {
      "text/html": [
       "<span style=\"None\">Running query in &#x27;postgresql://localhost:5432/postgres&#x27;</span>"
      ],
      "text/plain": [
       "Running query in 'postgresql://localhost:5432/postgres'"
      ]
     },
     "metadata": {},
     "output_type": "display_data"
    },
    {
     "data": {
      "text/html": [
       "<span style=\"color: green\">1 rows affected.</span>"
      ],
      "text/plain": [
       "1 rows affected."
      ]
     },
     "metadata": {},
     "output_type": "display_data"
    },
    {
     "data": {
      "text/html": [
       "<table>\n",
       "    <thead>\n",
       "        <tr>\n",
       "            <th>p1</th>\n",
       "            <th>p99</th>\n",
       "        </tr>\n",
       "    </thead>\n",
       "    <tbody>\n",
       "        <tr>\n",
       "            <td>38.473525551352004</td>\n",
       "            <td>62.18869201373432</td>\n",
       "        </tr>\n",
       "    </tbody>\n",
       "</table>"
      ],
      "text/plain": [
       "+--------------------+-------------------+\n",
       "|         p1         |        p99        |\n",
       "+--------------------+-------------------+\n",
       "| 38.473525551352004 | 62.18869201373432 |\n",
       "+--------------------+-------------------+"
      ]
     },
     "execution_count": 22,
     "metadata": {},
     "output_type": "execute_result"
    }
   ],
   "source": [
    "%%sql\n",
    "CREATE OR REPLACE VIEW p1p99 AS\n",
    "SELECT percentile_cont(.01) WITHIN GROUP (ORDER BY x) AS p1,\n",
    "           percentile_cont(.99) WITHIN GROUP (ORDER BY x) AS p99\n",
    "      FROM observations;\n",
    "SELECT * FROM p1p99;"
   ]
  },
  {
   "cell_type": "code",
   "execution_count": 23,
   "id": "ce1990fa-3b04-4022-ad0a-f0542d6cd497",
   "metadata": {},
   "outputs": [
    {
     "data": {
      "text/html": [
       "<span style=\"None\">Running query in &#x27;postgresql://localhost:5432/postgres&#x27;</span>"
      ],
      "text/plain": [
       "Running query in 'postgresql://localhost:5432/postgres'"
      ]
     },
     "metadata": {},
     "output_type": "display_data"
    },
    {
     "data": {
      "text/html": [
       "<table>\n",
       "    <thead>\n",
       "        <tr>\n",
       "        </tr>\n",
       "    </thead>\n",
       "    <tbody>\n",
       "    </tbody>\n",
       "</table>"
      ],
      "text/plain": [
       "++\n",
       "||\n",
       "++\n",
       "++"
      ]
     },
     "execution_count": 23,
     "metadata": {},
     "output_type": "execute_result"
    }
   ],
   "source": [
    "%%sql\n",
    "CREATE OR REPLACE VIEW trimmed_observations AS\n",
    "SELECT o.x, 'trimmed' AS label\n",
    "  FROM observations o, p1p99 p\n",
    " WHERE o.x BETWEEN p.p1 AND p.p99\n",
    "UNION ALL\n",
    "SELECT o.x, 'original' AS label\n",
    "  FROM observations o;\n",
    "\n",
    "CREATE OR REPLACE VIEW trimmed_outliers AS\n",
    "SELECT o.*\n",
    "  FROM observations o, p1p99 p\n",
    " WHERE o.x NOT BETWEEN p.p1 AND p.p99;"
   ]
  },
  {
   "cell_type": "code",
   "execution_count": 24,
   "id": "ac8db73e-2a97-4395-adc1-d9840eb70c64",
   "metadata": {},
   "outputs": [
    {
     "data": {
      "text/html": [
       "<span style=\"None\">Running query in &#x27;postgresql://localhost:5432/postgres&#x27;</span>"
      ],
      "text/plain": [
       "Running query in 'postgresql://localhost:5432/postgres'"
      ]
     },
     "metadata": {},
     "output_type": "display_data"
    },
    {
     "data": {
      "text/html": [
       "<span style=\"color: green\">1980 rows affected.</span>"
      ],
      "text/plain": [
       "1980 rows affected."
      ]
     },
     "metadata": {},
     "output_type": "display_data"
    },
    {
     "data": {
      "text/plain": [
       "<seaborn.axisgrid.FacetGrid at 0x7dbb933a4590>"
      ]
     },
     "execution_count": 24,
     "metadata": {},
     "output_type": "execute_result"
    },
    {
     "data": {
      "image/png": "[encoded data removed]",
      "text/plain": [
       "<Figure size 780.875x400 with 1 Axes>"
      ]
     },
     "metadata": {},
     "output_type": "display_data"
    }
   ],
   "source": [
    "results = %sql SELECT * from trimmed_observations\n",
    "sns.displot(results.dict(), x=\"x\", kind='hist', hue='label', kde=True, bins=20,\n",
    "           height=4, aspect=1.5)"
   ]
  },
  {
   "cell_type": "markdown",
   "id": "3262a584-8efa-438f-8fd0-80e44fcb5f6b",
   "metadata": {},
   "source": [
    "## Does corruption affect Trimming?\n",
    "We'll start by corrupting one value as before"
   ]
  },
  {
   "cell_type": "code",
   "execution_count": 26,
   "id": "e70da32d-acb0-4a62-a2e2-fab678748b7e",
   "metadata": {},
   "outputs": [
    {
     "data": {
      "text/html": [
       "<span style=\"None\">Running query in &#x27;postgresql://localhost:5432/postgres&#x27;</span>"
      ],
      "text/plain": [
       "Running query in 'postgresql://localhost:5432/postgres'"
      ]
     },
     "metadata": {},
     "output_type": "display_data"
    },
    {
     "data": {
      "text/html": [
       "<span style=\"color: green\">1 rows affected.</span>"
      ],
      "text/plain": [
       "1 rows affected."
      ]
     },
     "metadata": {},
     "output_type": "display_data"
    },
    {
     "data": {
      "text/html": [
       "<table>\n",
       "    <thead>\n",
       "        <tr>\n",
       "        </tr>\n",
       "    </thead>\n",
       "    <tbody>\n",
       "    </tbody>\n",
       "</table>"
      ],
      "text/plain": [
       "++\n",
       "||\n",
       "++\n",
       "++"
      ]
     },
     "execution_count": 26,
     "metadata": {},
     "output_type": "execute_result"
    }
   ],
   "source": [
    "# corrupt one value\n",
    "%sql UPDATE observations SET x = x*10 \\\n",
    "      WHERE x = (SELECT MAX(x) FROM observations);"
   ]
  },
  {
   "cell_type": "markdown",
   "id": "6b825db1-ea83-458f-b43d-87633c06b203",
   "metadata": {},
   "source": [
    "Because we are trimming based on the order of the data and not on the distribution statistics (mean/SD), \n",
    "the results are unchanged from before. You can confirm this by recomputing `trimmed_observations` above, but we will just reuse it."
   ]
  },
  {
   "cell_type": "code",
   "execution_count": 28,
   "id": "e5dd84d1-4e93-4ee3-b979-2c06bff18629",
   "metadata": {},
   "outputs": [
    {
     "data": {
      "text/html": [
       "<span style=\"None\">Running query in &#x27;postgresql://localhost:5432/postgres&#x27;</span>"
      ],
      "text/plain": [
       "Running query in 'postgresql://localhost:5432/postgres'"
      ]
     },
     "metadata": {},
     "output_type": "display_data"
    },
    {
     "data": {
      "text/html": [
       "<span style=\"color: green\">1980 rows affected.</span>"
      ],
      "text/plain": [
       "1980 rows affected."
      ]
     },
     "metadata": {},
     "output_type": "display_data"
    },
    {
     "data": {
      "text/plain": [
       "(30.0, 70.0)"
      ]
     },
     "execution_count": 28,
     "metadata": {},
     "output_type": "execute_result"
    },
    {
     "data": {
      "image/png": "[encoded data removed]",
      "text/plain": [
       "<Figure size 780.875x400 with 1 Axes>"
      ]
     },
     "metadata": {},
     "output_type": "display_data"
    }
   ],
   "source": [
    "results = %sql SELECT * from trimmed_observations\n",
    "sns.displot(results.dict(), x=\"x\", kind='hist',\n",
    "            hue='label', kde=True, bins=np.linspace(32, 70, 20),\n",
    "            height=4, aspect=1.5, rug=True)\n",
    "plt.xlim(30, 70)"
   ]
  },
  {
   "cell_type": "markdown",
   "id": "fa319954-03e5-4db4-b965-9eeda6f6d8c5",
   "metadata": {},
   "source": [
    "## Winsorization in SQL"
   ]
  },
  {
   "cell_type": "code",
   "execution_count": 29,
   "id": "7dc21c5b-a7eb-40c4-99f8-c675e3669c92",
   "metadata": {},
   "outputs": [
    {
     "data": {
      "text/html": [
       "<span style=\"None\">Running query in &#x27;postgresql://localhost:5432/postgres&#x27;</span>"
      ],
      "text/plain": [
       "Running query in 'postgresql://localhost:5432/postgres'"
      ]
     },
     "metadata": {},
     "output_type": "display_data"
    },
    {
     "data": {
      "text/html": [
       "<span style=\"color: green\">1 rows affected.</span>"
      ],
      "text/plain": [
       "1 rows affected."
      ]
     },
     "metadata": {},
     "output_type": "display_data"
    },
    {
     "data": {
      "text/html": [
       "<table>\n",
       "    <thead>\n",
       "        <tr>\n",
       "        </tr>\n",
       "    </thead>\n",
       "    <tbody>\n",
       "    </tbody>\n",
       "</table>"
      ],
      "text/plain": [
       "++\n",
       "||\n",
       "++\n",
       "++"
      ]
     },
     "execution_count": 29,
     "metadata": {},
     "output_type": "execute_result"
    }
   ],
   "source": [
    "# reset before moving on\n",
    "%sql UPDATE observations SET x = x*10 \\\n",
    "       WHERE x = (SELECT MAX(x) FROM OBSERVATIONS);"
   ]
  },
  {
   "cell_type": "code",
   "execution_count": 30,
   "id": "e00ffdfa-7685-4e90-92a6-8ed57d5d676e",
   "metadata": {},
   "outputs": [
    {
     "data": {
      "text/html": [
       "<span style=\"None\">Running query in &#x27;postgresql://localhost:5432/postgres&#x27;</span>"
      ],
      "text/plain": [
       "Running query in 'postgresql://localhost:5432/postgres'"
      ]
     },
     "metadata": {},
     "output_type": "display_data"
    },
    {
     "data": {
      "text/html": [
       "<table>\n",
       "    <thead>\n",
       "        <tr>\n",
       "        </tr>\n",
       "    </thead>\n",
       "    <tbody>\n",
       "    </tbody>\n",
       "</table>"
      ],
      "text/plain": [
       "++\n",
       "||\n",
       "++\n",
       "++"
      ]
     },
     "execution_count": 30,
     "metadata": {},
     "output_type": "execute_result"
    }
   ],
   "source": [
    "%%sql\n",
    "CREATE OR REPLACE VIEW winsorized_observations AS\n",
    "SELECT CASE WHEN o.x BETWEEN p.p1 AND p.p99 THEN o.x\n",
    "            WHEN o.x < p.p1 THEN p.p1\n",
    "            WHEN o.x > p.p99 THEN p.p99\n",
    "        END AS x,\n",
    "      'winsorized' AS label\n",
    "  FROM observations o, p1p99 p\n",
    "UNION ALL\n",
    "SELECT o.x, 'original' AS label\n",
    "  FROM observations o;"
   ]
  },
  {
   "cell_type": "code",
   "execution_count": 31,
   "id": "f6561173-9b6c-443f-a183-99859f53c13c",
   "metadata": {},
   "outputs": [
    {
     "data": {
      "text/html": [
       "<span style=\"None\">Running query in &#x27;postgresql://localhost:5432/postgres&#x27;</span>"
      ],
      "text/plain": [
       "Running query in 'postgresql://localhost:5432/postgres'"
      ]
     },
     "metadata": {},
     "output_type": "display_data"
    },
    {
     "data": {
      "text/html": [
       "<span style=\"color: green\">2000 rows affected.</span>"
      ],
      "text/plain": [
       "2000 rows affected."
      ]
     },
     "metadata": {},
     "output_type": "display_data"
    },
    {
     "data": {
      "text/plain": [
       "(30.0, 70.0)"
      ]
     },
     "execution_count": 31,
     "metadata": {},
     "output_type": "execute_result"
    },
    {
     "data": {
      "image/png": "[encoded data removed]",
      "text/plain": [
       "<Figure size 804.375x400 with 1 Axes>"
      ]
     },
     "metadata": {},
     "output_type": "display_data"
    }
   ],
   "source": [
    "results = %sql SELECT * from winsorized_observations\n",
    "sns.displot(results.dict(), x=\"x\", kind='hist',\n",
    "            hue='label', kde=True, bins=np.linspace(32, 70, 20),\n",
    "            height=4, aspect=1.5, rug=True)\n",
    "plt.xlim(30, 70)"
   ]
  },
  {
   "cell_type": "markdown",
   "id": "f959309f-9923-4eb7-a678-e91dba562f13",
   "metadata": {},
   "source": [
    "Now, to compare all three:"
   ]
  },
  {
   "cell_type": "code",
   "execution_count": 32,
   "id": "e096e5c9-7bb1-430d-875a-17da7772e146",
   "metadata": {},
   "outputs": [
    {
     "data": {
      "text/html": [
       "<span style=\"None\">Running query in &#x27;postgresql://localhost:5432/postgres&#x27;</span>"
      ],
      "text/plain": [
       "Running query in 'postgresql://localhost:5432/postgres'"
      ]
     },
     "metadata": {},
     "output_type": "display_data"
    },
    {
     "data": {
      "text/html": [
       "<span style=\"color: green\">3 rows affected.</span>"
      ],
      "text/plain": [
       "3 rows affected."
      ]
     },
     "metadata": {},
     "output_type": "display_data"
    },
    {
     "data": {
      "text/html": [
       "<table>\n",
       "    <thead>\n",
       "        <tr>\n",
       "            <th>distribution</th>\n",
       "            <th>min</th>\n",
       "            <th>p25</th>\n",
       "            <th>median</th>\n",
       "            <th>p75</th>\n",
       "            <th>max</th>\n",
       "            <th>avg</th>\n",
       "            <th>stddev</th>\n",
       "            <th>count</th>\n",
       "        </tr>\n",
       "    </thead>\n",
       "    <tbody>\n",
       "        <tr>\n",
       "            <td>orig</td>\n",
       "            <td>34.08383473064803</td>\n",
       "            <td>46.47800115252697</td>\n",
       "            <td>49.987248988480594</td>\n",
       "            <td>53.47651370034104</td>\n",
       "            <td>69096.00503881296</td>\n",
       "            <td>119.07739168892617</td>\n",
       "            <td>2183.4313368223343</td>\n",
       "            <td>1000</td>\n",
       "        </tr>\n",
       "        <tr>\n",
       "            <td>winsorized</td>\n",
       "            <td>38.473525551352004</td>\n",
       "            <td>46.47800115252697</td>\n",
       "            <td>49.987248988480594</td>\n",
       "            <td>53.47651370034104</td>\n",
       "            <td>62.18869201373432</td>\n",
       "            <td>50.05234593514045</td>\n",
       "            <td>5.033921886057612</td>\n",
       "            <td>1000</td>\n",
       "        </tr>\n",
       "        <tr>\n",
       "            <td>trimmed</td>\n",
       "            <td>38.476749957707256</td>\n",
       "            <td>46.546205889364096</td>\n",
       "            <td>49.987248988480594</td>\n",
       "            <td>53.40902074473377</td>\n",
       "            <td>62.18689511626117</td>\n",
       "            <td>50.04665689743836</td>\n",
       "            <td>4.794169689804586</td>\n",
       "            <td>980</td>\n",
       "        </tr>\n",
       "    </tbody>\n",
       "</table>"
      ],
      "text/plain": [
       "+--------------+--------------------+--------------------+--------------------+-------------------+-------------------+--------------------+--------------------+-------+\n",
       "| distribution |        min         |        p25         |       median       |        p75        |        max        |        avg         |       stddev       | count |\n",
       "+--------------+--------------------+--------------------+--------------------+-------------------+-------------------+--------------------+--------------------+-------+\n",
       "|     orig     | 34.08383473064803  | 46.47800115252697  | 49.987248988480594 | 53.47651370034104 | 69096.00503881296 | 119.07739168892617 | 2183.4313368223343 |  1000 |\n",
       "|  winsorized  | 38.473525551352004 | 46.47800115252697  | 49.987248988480594 | 53.47651370034104 | 62.18869201373432 | 50.05234593514045  | 5.033921886057612  |  1000 |\n",
       "|   trimmed    | 38.476749957707256 | 46.546205889364096 | 49.987248988480594 | 53.40902074473377 | 62.18689511626117 | 50.04665689743836  | 4.794169689804586  |  980  |\n",
       "+--------------+--------------------+--------------------+--------------------+-------------------+-------------------+--------------------+--------------------+-------+"
      ]
     },
     "execution_count": 32,
     "metadata": {},
     "output_type": "execute_result"
    }
   ],
   "source": [
    "%%sql \n",
    "SELECT 'orig' AS distribution, min(x),\n",
    "       percentile_disc(.25) WITHIN GROUP (ORDER BY x) as p25,\n",
    "       percentile_disc(.50) WITHIN GROUP (ORDER BY x) as median,\n",
    "       percentile_disc(.75) WITHIN GROUP (ORDER BY x) as p75,\n",
    "       max(x), avg(x), stddev(x), count(x) \n",
    "       FROM observations\n",
    "UNION ALL\n",
    "SELECT 'winsorized', min(x),\n",
    "       percentile_disc(.25) WITHIN GROUP (ORDER BY x) as p25,\n",
    "       percentile_disc(.50) WITHIN GROUP (ORDER BY x) as median,\n",
    "       percentile_disc(.75) WITHIN GROUP (ORDER BY x) as p75,\n",
    "       max(x), avg(x), stddev(x), count(x) \n",
    "       FROM winsorized_observations WHERE label = 'winsorized'\n",
    "UNION ALL \n",
    "SELECT 'trimmed', min(x),\n",
    "       percentile_disc(.25) WITHIN GROUP (ORDER BY x) as p25,\n",
    "       percentile_disc(.50) WITHIN GROUP (ORDER BY x) as median,\n",
    "       percentile_disc(.75) WITHIN GROUP (ORDER BY x) as p75,\n",
    "       max(x), avg(x), stddev(x), count(x) \n",
    "       FROM trimmed_observations WHERE label = 'trimmed';"
   ]
  },
  {
   "cell_type": "markdown",
   "id": "cba5aafe-7258-4047-bcc5-823d80f171c3",
   "metadata": {},
   "source": [
    "# Hampel X84\n",
    "\n",
    "We'll now go through computing median (center), MAD (dispersion) and then the Hampel X84 approach"
   ]
  },
  {
   "cell_type": "code",
   "execution_count": 33,
   "id": "e3832e34-c107-49fc-a06b-868bf46db373",
   "metadata": {},
   "outputs": [
    {
     "data": {
      "text/html": [
       "<span style=\"None\">Running query in &#x27;postgresql://localhost:5432/postgres&#x27;</span>"
      ],
      "text/plain": [
       "Running query in 'postgresql://localhost:5432/postgres'"
      ]
     },
     "metadata": {},
     "output_type": "display_data"
    },
    {
     "data": {
      "text/html": [
       "<table>\n",
       "    <thead>\n",
       "        <tr>\n",
       "        </tr>\n",
       "    </thead>\n",
       "    <tbody>\n",
       "    </tbody>\n",
       "</table>"
      ],
      "text/plain": [
       "++\n",
       "||\n",
       "++\n",
       "++"
      ]
     },
     "execution_count": 33,
     "metadata": {},
     "output_type": "execute_result"
    }
   ],
   "source": [
    "%%sql\n",
    "-- percentile_disc returns an actual data value near the percentile\n",
    "-- percentile_cont returns an interpolated value at the percentile\n",
    "CREATE OR REPLACE VIEW median AS\n",
    "(SELECT percentile_disc(0.5) WITHIN GROUP (ORDER BY x) as median\n",
    "  FROM observations);"
   ]
  },
  {
   "cell_type": "code",
   "execution_count": 34,
   "id": "b1b6aa5c-9db2-4cbe-aaf0-986987d7ad7f",
   "metadata": {},
   "outputs": [
    {
     "data": {
      "text/html": [
       "<span style=\"None\">Running query in &#x27;postgresql://localhost:5432/postgres&#x27;</span>"
      ],
      "text/plain": [
       "Running query in 'postgresql://localhost:5432/postgres'"
      ]
     },
     "metadata": {},
     "output_type": "display_data"
    },
    {
     "data": {
      "text/html": [
       "<span style=\"color: green\">1 rows affected.</span>"
      ],
      "text/plain": [
       "1 rows affected."
      ]
     },
     "metadata": {},
     "output_type": "display_data"
    },
    {
     "data": {
      "text/html": [
       "<table>\n",
       "    <thead>\n",
       "        <tr>\n",
       "            <th>median</th>\n",
       "            <th>mad</th>\n",
       "        </tr>\n",
       "    </thead>\n",
       "    <tbody>\n",
       "        <tr>\n",
       "            <td>49.987248988480594</td>\n",
       "            <td>3.4949009132056545</td>\n",
       "        </tr>\n",
       "    </tbody>\n",
       "</table>"
      ],
      "text/plain": [
       "+--------------------+--------------------+\n",
       "|       median       |        mad         |\n",
       "+--------------------+--------------------+\n",
       "| 49.987248988480594 | 3.4949009132056545 |\n",
       "+--------------------+--------------------+"
      ]
     },
     "execution_count": 34,
     "metadata": {},
     "output_type": "execute_result"
    }
   ],
   "source": [
    "%%sql\n",
    "CREATE OR REPLACE VIEW mad AS\n",
    "WITH\n",
    "absdevs AS\n",
    "(SELECT abs(x - median) as d\n",
    "   FROM observations, median)\n",
    "SELECT percentile_disc(0.5) WITHIN GROUP (ORDER BY d) as mad\n",
    "  FROM absdevs;\n",
    "    \n",
    "SELECT median, mad\n",
    "  FROM median, mad;"
   ]
  },
  {
   "cell_type": "code",
   "execution_count": 35,
   "id": "0b9452cc-797d-49fb-b972-7b9d210880db",
   "metadata": {},
   "outputs": [
    {
     "data": {
      "text/html": [
       "<span style=\"None\">Running query in &#x27;postgresql://localhost:5432/postgres&#x27;</span>"
      ],
      "text/plain": [
       "Running query in 'postgresql://localhost:5432/postgres'"
      ]
     },
     "metadata": {},
     "output_type": "display_data"
    },
    {
     "data": {
      "text/html": [
       "<table>\n",
       "    <thead>\n",
       "        <tr>\n",
       "        </tr>\n",
       "    </thead>\n",
       "    <tbody>\n",
       "    </tbody>\n",
       "</table>"
      ],
      "text/plain": [
       "++\n",
       "||\n",
       "++\n",
       "++"
      ]
     },
     "execution_count": 35,
     "metadata": {},
     "output_type": "execute_result"
    }
   ],
   "source": [
    "%%sql\n",
    "CREATE OR REPLACE VIEW hampelx84x2_observations AS\n",
    "SELECT o.x,\n",
    "      'hampelx84x2' AS label\n",
    "  FROM observations o, median, mad\n",
    " WHERE o.x BETWEEN (median-2*1.4826*mad) AND (median+2*1.4826*mad)\n",
    "UNION ALL\n",
    "SELECT o.x, 'orig' AS label\n",
    "  FROM observations o;\n",
    "\n",
    "CREATE OR REPLACE VIEW Hampel84x2_outliers AS\n",
    "SELECT x\n",
    "  FROM observations o, median, mad\n",
    " WHERE x NOT BETWEEN (median - 2*1.4826*mad) AND (median + 2*1.4826*mad);"
   ]
  },
  {
   "cell_type": "code",
   "execution_count": 36,
   "id": "bb3fbdce-9eb8-4756-bb39-7ce1122c61b5",
   "metadata": {},
   "outputs": [
    {
     "data": {
      "text/html": [
       "<span style=\"None\">Running query in &#x27;postgresql://localhost:5432/postgres&#x27;</span>"
      ],
      "text/plain": [
       "Running query in 'postgresql://localhost:5432/postgres'"
      ]
     },
     "metadata": {},
     "output_type": "display_data"
    },
    {
     "data": {
      "text/html": [
       "<span style=\"color: green\">1959 rows affected.</span>"
      ],
      "text/plain": [
       "1959 rows affected."
      ]
     },
     "metadata": {},
     "output_type": "display_data"
    },
    {
     "data": {
      "text/plain": [
       "(30.0, 70.0)"
      ]
     },
     "execution_count": 36,
     "metadata": {},
     "output_type": "execute_result"
    },
    {
     "data": {
      "image/png": "[encoded data removed]",
      "text/plain": [
       "<Figure size 839.75x400 with 1 Axes>"
      ]
     },
     "metadata": {},
     "output_type": "display_data"
    }
   ],
   "source": [
    "results = %sql SELECT * FROM hampelx84x2_observations\n",
    "sns.displot(results.dict(), x=\"x\", kind='hist',\n",
    "            hue='label', kde=True, bins=np.linspace(32, 70, 20),\n",
    "            height=4, aspect=1.5, rug=True)\n",
    "plt.xlim(30, 70)"
   ]
  }
 ],
 "metadata": {
  "kernelspec": {
   "display_name": "Python 3 (ipykernel)",
   "language": "python",
   "name": "python3"
  },
  "language_info": {
   "codemirror_mode": {
    "name": "ipython",
    "version": 3
   },
   "file_extension": ".py",
   "mimetype": "text/x-python",
   "name": "python",
   "nbconvert_exporter": "python",
   "pygments_lexer": "ipython3",
   "version": "3.11.13"
  }
 },
 "nbformat": 4,
 "nbformat_minor": 5
}
